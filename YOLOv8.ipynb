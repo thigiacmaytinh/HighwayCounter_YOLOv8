{
  "cells": [
    {
      "cell_type": "markdown",
      "metadata": {
        "id": "7mGmQbAO5pQb"
      },
      "source": [
        "# Setup\n",
        "\n",
        "Pip install `ultralytics` and [dependencies](https://github.com/ultralytics/ultralytics/blob/main/pyproject.toml) and check software and hardware.\n",
        "\n",
        "[![PyPI - Version](https://img.shields.io/pypi/v/ultralytics?logo=pypi&logoColor=white)](https://pypi.org/project/ultralytics/) [![Downloads](https://static.pepy.tech/badge/ultralytics)](https://pepy.tech/project/ultralytics) [![PyPI - Python Version](https://img.shields.io/pypi/pyversions/ultralytics?logo=python&logoColor=gold)](https://pypi.org/project/ultralytics/)"
      ]
    },
    {
      "cell_type": "code",
      "execution_count": 1,
      "metadata": {},
      "outputs": [
        {
          "name": "stdout",
          "output_type": "stream",
          "text": [
            "Ultralytics YOLOv8.2.78  Python-3.8.10 torch-2.4.0+cu121 CUDA:0 (NVIDIA GeForce RTX 3060, 12287MiB)\n",
            "Setup complete  (4 CPUs, 16.0 GB RAM, 16.8/251.8 GB disk)\n"
          ]
        }
      ],
      "source": [
        "%pip install ultralytics\n",
        "import ultralytics\n",
        "ultralytics.checks()"
      ]
    },
    {
      "cell_type": "markdown",
      "metadata": {},
      "source": [
        "# 1. Train"
      ]
    },
    {
      "cell_type": "code",
      "execution_count": 1,
      "metadata": {
        "colab": {
          "base_uri": "https://localhost:8080/"
        },
        "id": "1NcFxRcFdJ_O",
        "outputId": "9f60c6cb-fa9c-4785-cb7a-71d40abeaf38"
      },
      "outputs": [
        {
          "name": "stdout",
          "output_type": "stream",
          "text": [
            "Using device: cuda\n",
            "New https://pypi.org/project/ultralytics/8.2.81 available  Update with 'pip install -U ultralytics'\n",
            "Ultralytics YOLOv8.2.78  Python-3.8.10 torch-2.4.0+cu121 CUDA:0 (NVIDIA GeForce RTX 2060, 6144MiB)\n",
            "\u001b[34m\u001b[1mengine\\trainer: \u001b[0mtask=detect, mode=train, model=yolov8n.pt, data=./datasets/data.yaml, epochs=300, time=None, patience=100, batch=32, imgsz=640, save=True, save_period=-1, cache=False, device=cuda, workers=8, project=None, name=train2, exist_ok=False, pretrained=True, optimizer=auto, verbose=True, seed=0, deterministic=True, single_cls=False, rect=False, cos_lr=False, close_mosaic=10, resume=False, amp=True, fraction=1.0, profile=False, freeze=None, multi_scale=False, overlap_mask=True, mask_ratio=4, dropout=0.0, val=True, split=val, save_json=False, save_hybrid=False, conf=None, iou=0.7, max_det=300, half=False, dnn=False, plots=True, source=None, vid_stride=1, stream_buffer=False, visualize=False, augment=False, agnostic_nms=False, classes=None, retina_masks=False, embed=None, show=False, save_frames=False, save_txt=False, save_conf=False, save_crop=False, show_labels=True, show_conf=True, show_boxes=True, line_width=None, format=torchscript, keras=False, optimize=False, int8=False, dynamic=False, simplify=False, opset=None, workspace=4, nms=False, lr0=0.01, lrf=0.01, momentum=0.937, weight_decay=0.0005, warmup_epochs=3.0, warmup_momentum=0.8, warmup_bias_lr=0.1, box=7.5, cls=0.5, dfl=1.5, pose=12.0, kobj=1.0, label_smoothing=0.0, nbs=64, hsv_h=0.015, hsv_s=0.7, hsv_v=0.4, degrees=0.0, translate=0.1, scale=0.5, shear=0.0, perspective=0.0, flipud=0.0, fliplr=0.5, bgr=0.0, mosaic=1.0, mixup=0.0, copy_paste=0.0, auto_augment=randaugment, erasing=0.4, crop_fraction=1.0, cfg=None, tracker=botsort.yaml, save_dir=runs\\detect\\train2\n",
            "Overriding model.yaml nc=80 with nc=8\n",
            "\n",
            "                   from  n    params  module                                       arguments                     \n",
            "  0                  -1  1       464  ultralytics.nn.modules.conv.Conv             [3, 16, 3, 2]                 \n",
            "  1                  -1  1      4672  ultralytics.nn.modules.conv.Conv             [16, 32, 3, 2]                \n",
            "  2                  -1  1      7360  ultralytics.nn.modules.block.C2f             [32, 32, 1, True]             \n",
            "  3                  -1  1     18560  ultralytics.nn.modules.conv.Conv             [32, 64, 3, 2]                \n",
            "  4                  -1  2     49664  ultralytics.nn.modules.block.C2f             [64, 64, 2, True]             \n",
            "  5                  -1  1     73984  ultralytics.nn.modules.conv.Conv             [64, 128, 3, 2]               \n",
            "  6                  -1  2    197632  ultralytics.nn.modules.block.C2f             [128, 128, 2, True]           \n",
            "  7                  -1  1    295424  ultralytics.nn.modules.conv.Conv             [128, 256, 3, 2]              \n",
            "  8                  -1  1    460288  ultralytics.nn.modules.block.C2f             [256, 256, 1, True]           \n",
            "  9                  -1  1    164608  ultralytics.nn.modules.block.SPPF            [256, 256, 5]                 \n",
            " 10                  -1  1         0  torch.nn.modules.upsampling.Upsample         [None, 2, 'nearest']          \n",
            " 11             [-1, 6]  1         0  ultralytics.nn.modules.conv.Concat           [1]                           \n",
            " 12                  -1  1    148224  ultralytics.nn.modules.block.C2f             [384, 128, 1]                 \n",
            " 13                  -1  1         0  torch.nn.modules.upsampling.Upsample         [None, 2, 'nearest']          \n",
            " 14             [-1, 4]  1         0  ultralytics.nn.modules.conv.Concat           [1]                           \n",
            " 15                  -1  1     37248  ultralytics.nn.modules.block.C2f             [192, 64, 1]                  \n",
            " 16                  -1  1     36992  ultralytics.nn.modules.conv.Conv             [64, 64, 3, 2]                \n",
            " 17            [-1, 12]  1         0  ultralytics.nn.modules.conv.Concat           [1]                           \n",
            " 18                  -1  1    123648  ultralytics.nn.modules.block.C2f             [192, 128, 1]                 \n",
            " 19                  -1  1    147712  ultralytics.nn.modules.conv.Conv             [128, 128, 3, 2]              \n",
            " 20             [-1, 9]  1         0  ultralytics.nn.modules.conv.Concat           [1]                           \n",
            " 21                  -1  1    493056  ultralytics.nn.modules.block.C2f             [384, 256, 1]                 \n",
            " 22        [15, 18, 21]  1    752872  ultralytics.nn.modules.head.Detect           [8, [64, 128, 256]]           \n",
            "Model summary: 225 layers, 3,012,408 parameters, 3,012,392 gradients, 8.2 GFLOPs\n",
            "\n",
            "Transferred 319/355 items from pretrained weights\n",
            "WARNING  Comet installed but not initialized correctly, not logging this run. Comet.ml requires an API key. Please provide as the first argument to Experiment(api_key) or as an environment variable named COMET_API_KEY \n",
            "\u001b[34m\u001b[1mTensorBoard: \u001b[0mStart with 'tensorboard --logdir runs\\detect\\train2', view at http://localhost:6006/\n",
            "Freezing layer 'model.22.dfl.conv.weight'\n",
            "\u001b[34m\u001b[1mAMP: \u001b[0mrunning Automatic Mixed Precision (AMP) checks with YOLOv8n...\n",
            "\u001b[34m\u001b[1mAMP: \u001b[0mchecks passed \n"
          ]
        },
        {
          "name": "stderr",
          "output_type": "stream",
          "text": [
            "c:\\Users\\i5\\AppData\\Local\\Programs\\Python\\Python38\\lib\\site-packages\\ultralytics\\engine\\trainer.py:271: FutureWarning: `torch.cuda.amp.GradScaler(args...)` is deprecated. Please use `torch.amp.GradScaler('cuda', args...)` instead.\n",
            "  self.scaler = torch.cuda.amp.GradScaler(enabled=self.amp)\n",
            "\u001b[34m\u001b[1mtrain: \u001b[0mScanning D:\\HighwayCounter_YOLOv8\\datasets\\labels\\train.cache... 1565 images, 0 backgrounds, 0 corrupt: 100%|██████████| 1565/1565 [00:00<?, ?it/s]\n",
            "\u001b[34m\u001b[1mval: \u001b[0mScanning D:\\HighwayCounter_YOLOv8\\datasets\\labels\\valid.cache... 85 images, 0 backgrounds, 0 corrupt: 100%|██████████| 85/85 [00:00<?, ?it/s]\n"
          ]
        },
        {
          "name": "stdout",
          "output_type": "stream",
          "text": [
            "Plotting labels to runs\\detect\\train2\\labels.jpg... \n",
            "\u001b[34m\u001b[1moptimizer:\u001b[0m 'optimizer=auto' found, ignoring 'lr0=0.01' and 'momentum=0.937' and determining best 'optimizer', 'lr0' and 'momentum' automatically... \n",
            "\u001b[34m\u001b[1moptimizer:\u001b[0m AdamW(lr=0.000833, momentum=0.9) with parameter groups 57 weight(decay=0.0), 64 weight(decay=0.0005), 63 bias(decay=0.0)\n",
            "\u001b[34m\u001b[1mTensorBoard: \u001b[0mmodel graph visualization added \n",
            "Image sizes 640 train, 640 val\n",
            "Using 4 dataloader workers\n",
            "Logging results to \u001b[1mruns\\detect\\train2\u001b[0m\n",
            "Starting training for 300 epochs...\n",
            "\n",
            "      Epoch    GPU_mem   box_loss   cls_loss   dfl_loss  Instances       Size\n"
          ]
        },
        {
          "name": "stderr",
          "output_type": "stream",
          "text": [
            "      1/300      4.11G     0.9254      2.439     0.9133        156        640: 100%|██████████| 49/49 [00:22<00:00,  2.18it/s]\n",
            "                 Class     Images  Instances      Box(P          R      mAP50  mAP50-95): 100%|██████████| 2/2 [00:01<00:00,  1.22it/s]"
          ]
        },
        {
          "name": "stdout",
          "output_type": "stream",
          "text": [
            "                   all         85        308     0.0804      0.762        0.5       0.43\n"
          ]
        },
        {
          "name": "stderr",
          "output_type": "stream",
          "text": [
            "\n"
          ]
        },
        {
          "name": "stdout",
          "output_type": "stream",
          "text": [
            "\n",
            "      Epoch    GPU_mem   box_loss   cls_loss   dfl_loss  Instances       Size\n"
          ]
        },
        {
          "name": "stderr",
          "output_type": "stream",
          "text": [
            "      2/300      4.05G     0.7708       1.05      0.874        194        640: 100%|██████████| 49/49 [00:20<00:00,  2.44it/s]\n",
            "                 Class     Images  Instances      Box(P          R      mAP50  mAP50-95): 100%|██████████| 2/2 [00:00<00:00,  2.04it/s]"
          ]
        },
        {
          "name": "stdout",
          "output_type": "stream",
          "text": [
            "                   all         85        308      0.908      0.536      0.822       0.68\n"
          ]
        },
        {
          "name": "stderr",
          "output_type": "stream",
          "text": [
            "\n"
          ]
        },
        {
          "name": "stdout",
          "output_type": "stream",
          "text": [
            "\n",
            "      Epoch    GPU_mem   box_loss   cls_loss   dfl_loss  Instances       Size\n"
          ]
        },
        {
          "name": "stderr",
          "output_type": "stream",
          "text": [
            "      3/300      4.04G     0.7257     0.8996     0.8734        178        640: 100%|██████████| 49/49 [00:20<00:00,  2.35it/s]\n",
            "                 Class     Images  Instances      Box(P          R      mAP50  mAP50-95): 100%|██████████| 2/2 [00:01<00:00,  1.33it/s]"
          ]
        },
        {
          "name": "stdout",
          "output_type": "stream",
          "text": [
            "                   all         85        308      0.844      0.664      0.793       0.65\n"
          ]
        },
        {
          "name": "stderr",
          "output_type": "stream",
          "text": [
            "\n"
          ]
        },
        {
          "name": "stdout",
          "output_type": "stream",
          "text": [
            "\n",
            "      Epoch    GPU_mem   box_loss   cls_loss   dfl_loss  Instances       Size\n"
          ]
        },
        {
          "name": "stderr",
          "output_type": "stream",
          "text": [
            "      4/300      4.03G     0.7241     0.8234      0.878        127        640: 100%|██████████| 49/49 [00:19<00:00,  2.47it/s]\n",
            "                 Class     Images  Instances      Box(P          R      mAP50  mAP50-95): 100%|██████████| 2/2 [00:00<00:00,  2.31it/s]"
          ]
        },
        {
          "name": "stdout",
          "output_type": "stream",
          "text": [
            "                   all         85        308       0.83      0.628      0.844      0.687\n"
          ]
        },
        {
          "name": "stderr",
          "output_type": "stream",
          "text": [
            "\n"
          ]
        },
        {
          "name": "stdout",
          "output_type": "stream",
          "text": [
            "\n",
            "      Epoch    GPU_mem   box_loss   cls_loss   dfl_loss  Instances       Size\n"
          ]
        },
        {
          "name": "stderr",
          "output_type": "stream",
          "text": [
            "      5/300      4.09G     0.7021     0.7584     0.8733        192        640: 100%|██████████| 49/49 [00:19<00:00,  2.54it/s]\n",
            "                 Class     Images  Instances      Box(P          R      mAP50  mAP50-95): 100%|██████████| 2/2 [00:01<00:00,  1.52it/s]"
          ]
        },
        {
          "name": "stdout",
          "output_type": "stream",
          "text": [
            "                   all         85        308      0.882      0.705      0.787      0.647\n"
          ]
        },
        {
          "name": "stderr",
          "output_type": "stream",
          "text": [
            "\n"
          ]
        },
        {
          "name": "stdout",
          "output_type": "stream",
          "text": [
            "\n",
            "      Epoch    GPU_mem   box_loss   cls_loss   dfl_loss  Instances       Size\n"
          ]
        },
        {
          "name": "stderr",
          "output_type": "stream",
          "text": [
            "      6/300      4.05G      0.688     0.6923      0.868        169        640: 100%|██████████| 49/49 [00:17<00:00,  2.75it/s]\n",
            "                 Class     Images  Instances      Box(P          R      mAP50  mAP50-95): 100%|██████████| 2/2 [00:01<00:00,  1.71it/s]"
          ]
        },
        {
          "name": "stdout",
          "output_type": "stream",
          "text": [
            "                   all         85        308      0.908       0.73      0.831      0.691\n"
          ]
        },
        {
          "name": "stderr",
          "output_type": "stream",
          "text": [
            "\n"
          ]
        },
        {
          "name": "stdout",
          "output_type": "stream",
          "text": [
            "\n",
            "      Epoch    GPU_mem   box_loss   cls_loss   dfl_loss  Instances       Size\n"
          ]
        },
        {
          "name": "stderr",
          "output_type": "stream",
          "text": [
            "      7/300      3.99G     0.6796     0.6427      0.873        210        640: 100%|██████████| 49/49 [00:17<00:00,  2.86it/s]\n",
            "                 Class     Images  Instances      Box(P          R      mAP50  mAP50-95): 100%|██████████| 2/2 [00:01<00:00,  1.60it/s]"
          ]
        },
        {
          "name": "stdout",
          "output_type": "stream",
          "text": [
            "                   all         85        308      0.889      0.766       0.84      0.708\n"
          ]
        },
        {
          "name": "stderr",
          "output_type": "stream",
          "text": [
            "\n"
          ]
        },
        {
          "name": "stdout",
          "output_type": "stream",
          "text": [
            "\n",
            "      Epoch    GPU_mem   box_loss   cls_loss   dfl_loss  Instances       Size\n"
          ]
        },
        {
          "name": "stderr",
          "output_type": "stream",
          "text": [
            "      8/300         4G     0.6598     0.6117     0.8691        176        640: 100%|██████████| 49/49 [00:16<00:00,  2.97it/s]\n",
            "                 Class     Images  Instances      Box(P          R      mAP50  mAP50-95): 100%|██████████| 2/2 [00:01<00:00,  1.51it/s]"
          ]
        },
        {
          "name": "stdout",
          "output_type": "stream",
          "text": [
            "                   all         85        308      0.911      0.713      0.864      0.736\n"
          ]
        },
        {
          "name": "stderr",
          "output_type": "stream",
          "text": [
            "\n"
          ]
        },
        {
          "name": "stdout",
          "output_type": "stream",
          "text": [
            "\n",
            "      Epoch    GPU_mem   box_loss   cls_loss   dfl_loss  Instances       Size\n"
          ]
        },
        {
          "name": "stderr",
          "output_type": "stream",
          "text": [
            "      9/300      4.05G     0.6523     0.5971     0.8663        156        640: 100%|██████████| 49/49 [00:17<00:00,  2.73it/s]\n",
            "                 Class     Images  Instances      Box(P          R      mAP50  mAP50-95): 100%|██████████| 2/2 [00:01<00:00,  1.46it/s]"
          ]
        },
        {
          "name": "stdout",
          "output_type": "stream",
          "text": [
            "                   all         85        308       0.92      0.716      0.853      0.718\n"
          ]
        },
        {
          "name": "stderr",
          "output_type": "stream",
          "text": [
            "\n"
          ]
        },
        {
          "name": "stdout",
          "output_type": "stream",
          "text": [
            "\n",
            "      Epoch    GPU_mem   box_loss   cls_loss   dfl_loss  Instances       Size\n"
          ]
        },
        {
          "name": "stderr",
          "output_type": "stream",
          "text": [
            "     10/300      4.03G     0.6488     0.5666     0.8656        207        640: 100%|██████████| 49/49 [00:17<00:00,  2.78it/s]\n",
            "                 Class     Images  Instances      Box(P          R      mAP50  mAP50-95): 100%|██████████| 2/2 [00:01<00:00,  1.46it/s]"
          ]
        },
        {
          "name": "stdout",
          "output_type": "stream",
          "text": [
            "                   all         85        308       0.79       0.73      0.825      0.689\n"
          ]
        },
        {
          "name": "stderr",
          "output_type": "stream",
          "text": [
            "\n"
          ]
        },
        {
          "name": "stdout",
          "output_type": "stream",
          "text": [
            "\n",
            "      Epoch    GPU_mem   box_loss   cls_loss   dfl_loss  Instances       Size\n"
          ]
        },
        {
          "name": "stderr",
          "output_type": "stream",
          "text": [
            "     11/300      4.08G     0.6343     0.5463     0.8623        188        640: 100%|██████████| 49/49 [00:17<00:00,  2.80it/s]\n",
            "                 Class     Images  Instances      Box(P          R      mAP50  mAP50-95): 100%|██████████| 2/2 [00:01<00:00,  1.45it/s]"
          ]
        },
        {
          "name": "stdout",
          "output_type": "stream",
          "text": [
            "                   all         85        308      0.882      0.768       0.84      0.711\n"
          ]
        },
        {
          "name": "stderr",
          "output_type": "stream",
          "text": [
            "\n"
          ]
        },
        {
          "name": "stdout",
          "output_type": "stream",
          "text": [
            "\n",
            "      Epoch    GPU_mem   box_loss   cls_loss   dfl_loss  Instances       Size\n"
          ]
        },
        {
          "name": "stderr",
          "output_type": "stream",
          "text": [
            "     12/300      4.09G     0.6344     0.5264     0.8614        173        640: 100%|██████████| 49/49 [00:18<00:00,  2.61it/s]\n",
            "                 Class     Images  Instances      Box(P          R      mAP50  mAP50-95): 100%|██████████| 2/2 [00:01<00:00,  1.77it/s]"
          ]
        },
        {
          "name": "stdout",
          "output_type": "stream",
          "text": [
            "                   all         85        308      0.912      0.732      0.827      0.705\n"
          ]
        },
        {
          "name": "stderr",
          "output_type": "stream",
          "text": [
            "\n"
          ]
        },
        {
          "name": "stdout",
          "output_type": "stream",
          "text": [
            "\n",
            "      Epoch    GPU_mem   box_loss   cls_loss   dfl_loss  Instances       Size\n"
          ]
        },
        {
          "name": "stderr",
          "output_type": "stream",
          "text": [
            "     13/300      4.05G     0.6262     0.5128     0.8563        176        640: 100%|██████████| 49/49 [00:18<00:00,  2.61it/s]\n",
            "                 Class     Images  Instances      Box(P          R      mAP50  mAP50-95): 100%|██████████| 2/2 [00:00<00:00,  2.10it/s]"
          ]
        },
        {
          "name": "stdout",
          "output_type": "stream",
          "text": [
            "                   all         85        308      0.887      0.744       0.83       0.71\n"
          ]
        },
        {
          "name": "stderr",
          "output_type": "stream",
          "text": [
            "\n"
          ]
        },
        {
          "name": "stdout",
          "output_type": "stream",
          "text": [
            "\n",
            "      Epoch    GPU_mem   box_loss   cls_loss   dfl_loss  Instances       Size\n"
          ]
        },
        {
          "name": "stderr",
          "output_type": "stream",
          "text": [
            "     14/300      4.09G     0.6292     0.5108     0.8626        180        640: 100%|██████████| 49/49 [00:18<00:00,  2.60it/s]\n",
            "                 Class     Images  Instances      Box(P          R      mAP50  mAP50-95): 100%|██████████| 2/2 [00:00<00:00,  2.36it/s]"
          ]
        },
        {
          "name": "stdout",
          "output_type": "stream",
          "text": [
            "                   all         85        308      0.889      0.743      0.833      0.705\n"
          ]
        },
        {
          "name": "stderr",
          "output_type": "stream",
          "text": [
            "\n"
          ]
        },
        {
          "name": "stdout",
          "output_type": "stream",
          "text": [
            "\n",
            "      Epoch    GPU_mem   box_loss   cls_loss   dfl_loss  Instances       Size\n"
          ]
        },
        {
          "name": "stderr",
          "output_type": "stream",
          "text": [
            "     15/300       4.1G      0.622     0.5059     0.8624        185        640: 100%|██████████| 49/49 [00:18<00:00,  2.61it/s]\n",
            "                 Class     Images  Instances      Box(P          R      mAP50  mAP50-95): 100%|██████████| 2/2 [00:00<00:00,  2.28it/s]"
          ]
        },
        {
          "name": "stdout",
          "output_type": "stream",
          "text": [
            "                   all         85        308      0.904       0.74      0.868      0.749\n"
          ]
        },
        {
          "name": "stderr",
          "output_type": "stream",
          "text": [
            "\n"
          ]
        },
        {
          "name": "stdout",
          "output_type": "stream",
          "text": [
            "\n",
            "      Epoch    GPU_mem   box_loss   cls_loss   dfl_loss  Instances       Size\n"
          ]
        },
        {
          "name": "stderr",
          "output_type": "stream",
          "text": [
            "     16/300      4.05G     0.6074     0.5002     0.8536        171        640: 100%|██████████| 49/49 [00:19<00:00,  2.53it/s]\n",
            "                 Class     Images  Instances      Box(P          R      mAP50  mAP50-95): 100%|██████████| 2/2 [00:01<00:00,  1.91it/s]"
          ]
        },
        {
          "name": "stdout",
          "output_type": "stream",
          "text": [
            "                   all         85        308      0.891      0.706      0.838      0.713\n"
          ]
        },
        {
          "name": "stderr",
          "output_type": "stream",
          "text": [
            "\n"
          ]
        },
        {
          "name": "stdout",
          "output_type": "stream",
          "text": [
            "\n",
            "      Epoch    GPU_mem   box_loss   cls_loss   dfl_loss  Instances       Size\n"
          ]
        },
        {
          "name": "stderr",
          "output_type": "stream",
          "text": [
            "     17/300      4.04G     0.6095     0.4813     0.8533        137        640: 100%|██████████| 49/49 [00:17<00:00,  2.73it/s]\n",
            "                 Class     Images  Instances      Box(P          R      mAP50  mAP50-95): 100%|██████████| 2/2 [00:01<00:00,  1.56it/s]"
          ]
        },
        {
          "name": "stdout",
          "output_type": "stream",
          "text": [
            "                   all         85        308      0.895      0.732      0.843      0.737\n"
          ]
        },
        {
          "name": "stderr",
          "output_type": "stream",
          "text": [
            "\n"
          ]
        },
        {
          "name": "stdout",
          "output_type": "stream",
          "text": [
            "\n",
            "      Epoch    GPU_mem   box_loss   cls_loss   dfl_loss  Instances       Size\n"
          ]
        },
        {
          "name": "stderr",
          "output_type": "stream",
          "text": [
            "     18/300      4.09G     0.5983     0.4745     0.8545        148        640: 100%|██████████| 49/49 [00:17<00:00,  2.75it/s]\n",
            "                 Class     Images  Instances      Box(P          R      mAP50  mAP50-95): 100%|██████████| 2/2 [00:01<00:00,  1.73it/s]"
          ]
        },
        {
          "name": "stdout",
          "output_type": "stream",
          "text": [
            "                   all         85        308      0.805      0.771      0.837       0.71\n"
          ]
        },
        {
          "name": "stderr",
          "output_type": "stream",
          "text": [
            "\n"
          ]
        },
        {
          "name": "stdout",
          "output_type": "stream",
          "text": [
            "\n",
            "      Epoch    GPU_mem   box_loss   cls_loss   dfl_loss  Instances       Size\n"
          ]
        },
        {
          "name": "stderr",
          "output_type": "stream",
          "text": [
            "     19/300      4.09G     0.6021     0.4662      0.854        189        640: 100%|██████████| 49/49 [00:17<00:00,  2.80it/s]\n",
            "                 Class     Images  Instances      Box(P          R      mAP50  mAP50-95): 100%|██████████| 2/2 [00:01<00:00,  1.48it/s]"
          ]
        },
        {
          "name": "stdout",
          "output_type": "stream",
          "text": [
            "                   all         85        308      0.885      0.751      0.839      0.706\n"
          ]
        },
        {
          "name": "stderr",
          "output_type": "stream",
          "text": [
            "\n"
          ]
        },
        {
          "name": "stdout",
          "output_type": "stream",
          "text": [
            "\n",
            "      Epoch    GPU_mem   box_loss   cls_loss   dfl_loss  Instances       Size\n"
          ]
        },
        {
          "name": "stderr",
          "output_type": "stream",
          "text": [
            "     20/300      4.04G     0.5888     0.4618      0.853        191        640: 100%|██████████| 49/49 [00:18<00:00,  2.63it/s]\n",
            "                 Class     Images  Instances      Box(P          R      mAP50  mAP50-95): 100%|██████████| 2/2 [00:01<00:00,  1.44it/s]"
          ]
        },
        {
          "name": "stdout",
          "output_type": "stream",
          "text": [
            "                   all         85        308      0.853      0.738      0.871      0.762\n"
          ]
        },
        {
          "name": "stderr",
          "output_type": "stream",
          "text": [
            "\n"
          ]
        },
        {
          "name": "stdout",
          "output_type": "stream",
          "text": [
            "\n",
            "      Epoch    GPU_mem   box_loss   cls_loss   dfl_loss  Instances       Size\n"
          ]
        },
        {
          "name": "stderr",
          "output_type": "stream",
          "text": [
            "     21/300      4.05G     0.5891     0.4667     0.8573        170        640: 100%|██████████| 49/49 [00:18<00:00,  2.60it/s]\n",
            "                 Class     Images  Instances      Box(P          R      mAP50  mAP50-95): 100%|██████████| 2/2 [00:00<00:00,  2.30it/s]"
          ]
        },
        {
          "name": "stdout",
          "output_type": "stream",
          "text": [
            "                   all         85        308      0.901       0.77      0.874       0.75\n"
          ]
        },
        {
          "name": "stderr",
          "output_type": "stream",
          "text": [
            "\n"
          ]
        },
        {
          "name": "stdout",
          "output_type": "stream",
          "text": [
            "\n",
            "      Epoch    GPU_mem   box_loss   cls_loss   dfl_loss  Instances       Size\n"
          ]
        },
        {
          "name": "stderr",
          "output_type": "stream",
          "text": [
            "     22/300      4.09G     0.5859     0.4577     0.8549        156        640: 100%|██████████| 49/49 [00:18<00:00,  2.60it/s]\n",
            "                 Class     Images  Instances      Box(P          R      mAP50  mAP50-95): 100%|██████████| 2/2 [00:00<00:00,  2.14it/s]"
          ]
        },
        {
          "name": "stdout",
          "output_type": "stream",
          "text": [
            "                   all         85        308      0.893      0.771      0.873       0.75\n"
          ]
        },
        {
          "name": "stderr",
          "output_type": "stream",
          "text": [
            "\n"
          ]
        },
        {
          "name": "stdout",
          "output_type": "stream",
          "text": [
            "\n",
            "      Epoch    GPU_mem   box_loss   cls_loss   dfl_loss  Instances       Size\n"
          ]
        },
        {
          "name": "stderr",
          "output_type": "stream",
          "text": [
            "     23/300      4.02G      0.589     0.4457     0.8526        197        640: 100%|██████████| 49/49 [00:18<00:00,  2.60it/s]\n",
            "                 Class     Images  Instances      Box(P          R      mAP50  mAP50-95): 100%|██████████| 2/2 [00:01<00:00,  1.81it/s]"
          ]
        },
        {
          "name": "stdout",
          "output_type": "stream",
          "text": [
            "                   all         85        308      0.884      0.691      0.851      0.709\n"
          ]
        },
        {
          "name": "stderr",
          "output_type": "stream",
          "text": [
            "\n"
          ]
        },
        {
          "name": "stdout",
          "output_type": "stream",
          "text": [
            "\n",
            "      Epoch    GPU_mem   box_loss   cls_loss   dfl_loss  Instances       Size\n"
          ]
        },
        {
          "name": "stderr",
          "output_type": "stream",
          "text": [
            "     24/300       4.1G     0.5903     0.4516      0.854        159        640: 100%|██████████| 49/49 [00:18<00:00,  2.58it/s]\n",
            "                 Class     Images  Instances      Box(P          R      mAP50  mAP50-95): 100%|██████████| 2/2 [00:00<00:00,  2.08it/s]"
          ]
        },
        {
          "name": "stdout",
          "output_type": "stream",
          "text": [
            "                   all         85        308      0.894      0.791      0.864      0.747\n"
          ]
        },
        {
          "name": "stderr",
          "output_type": "stream",
          "text": [
            "\n"
          ]
        },
        {
          "name": "stdout",
          "output_type": "stream",
          "text": [
            "\n",
            "      Epoch    GPU_mem   box_loss   cls_loss   dfl_loss  Instances       Size\n"
          ]
        },
        {
          "name": "stderr",
          "output_type": "stream",
          "text": [
            "     25/300      4.05G      0.587     0.4393     0.8524        152        640: 100%|██████████| 49/49 [00:18<00:00,  2.60it/s]\n",
            "                 Class     Images  Instances      Box(P          R      mAP50  mAP50-95): 100%|██████████| 2/2 [00:00<00:00,  2.24it/s]"
          ]
        },
        {
          "name": "stdout",
          "output_type": "stream",
          "text": [
            "                   all         85        308      0.906      0.766      0.873      0.749\n"
          ]
        },
        {
          "name": "stderr",
          "output_type": "stream",
          "text": [
            "\n"
          ]
        },
        {
          "name": "stdout",
          "output_type": "stream",
          "text": [
            "\n",
            "      Epoch    GPU_mem   box_loss   cls_loss   dfl_loss  Instances       Size\n"
          ]
        },
        {
          "name": "stderr",
          "output_type": "stream",
          "text": [
            "     26/300      3.99G     0.5754     0.4419     0.8486        178        640: 100%|██████████| 49/49 [00:18<00:00,  2.61it/s]\n",
            "                 Class     Images  Instances      Box(P          R      mAP50  mAP50-95): 100%|██████████| 2/2 [00:00<00:00,  2.14it/s]"
          ]
        },
        {
          "name": "stdout",
          "output_type": "stream",
          "text": [
            "                   all         85        308      0.872       0.78      0.858      0.741\n"
          ]
        },
        {
          "name": "stderr",
          "output_type": "stream",
          "text": [
            "\n"
          ]
        },
        {
          "name": "stdout",
          "output_type": "stream",
          "text": [
            "\n",
            "      Epoch    GPU_mem   box_loss   cls_loss   dfl_loss  Instances       Size\n"
          ]
        },
        {
          "name": "stderr",
          "output_type": "stream",
          "text": [
            "     27/300      4.06G      0.569     0.4361     0.8458        157        640: 100%|██████████| 49/49 [00:23<00:00,  2.11it/s]\n",
            "                 Class     Images  Instances      Box(P          R      mAP50  mAP50-95): 100%|██████████| 2/2 [00:01<00:00,  1.79it/s]"
          ]
        },
        {
          "name": "stdout",
          "output_type": "stream",
          "text": [
            "                   all         85        308      0.704      0.824      0.814        0.7\n"
          ]
        },
        {
          "name": "stderr",
          "output_type": "stream",
          "text": [
            "\n"
          ]
        },
        {
          "name": "stdout",
          "output_type": "stream",
          "text": [
            "\n",
            "      Epoch    GPU_mem   box_loss   cls_loss   dfl_loss  Instances       Size\n"
          ]
        },
        {
          "name": "stderr",
          "output_type": "stream",
          "text": [
            "     28/300      4.05G     0.5766     0.4414     0.8502        174        640: 100%|██████████| 49/49 [00:18<00:00,  2.58it/s]\n",
            "                 Class     Images  Instances      Box(P          R      mAP50  mAP50-95): 100%|██████████| 2/2 [00:01<00:00,  1.64it/s]"
          ]
        },
        {
          "name": "stdout",
          "output_type": "stream",
          "text": [
            "                   all         85        308      0.894        0.8      0.872      0.751\n"
          ]
        },
        {
          "name": "stderr",
          "output_type": "stream",
          "text": [
            "\n"
          ]
        },
        {
          "name": "stdout",
          "output_type": "stream",
          "text": [
            "\n",
            "      Epoch    GPU_mem   box_loss   cls_loss   dfl_loss  Instances       Size\n"
          ]
        },
        {
          "name": "stderr",
          "output_type": "stream",
          "text": [
            "     29/300      4.04G     0.5665     0.4255     0.8454        197        640: 100%|██████████| 49/49 [00:19<00:00,  2.53it/s]\n",
            "                 Class     Images  Instances      Box(P          R      mAP50  mAP50-95): 100%|██████████| 2/2 [00:01<00:00,  1.87it/s]"
          ]
        },
        {
          "name": "stdout",
          "output_type": "stream",
          "text": [
            "                   all         85        308      0.869      0.774      0.857      0.743\n"
          ]
        },
        {
          "name": "stderr",
          "output_type": "stream",
          "text": [
            "\n"
          ]
        },
        {
          "name": "stdout",
          "output_type": "stream",
          "text": [
            "\n",
            "      Epoch    GPU_mem   box_loss   cls_loss   dfl_loss  Instances       Size\n"
          ]
        },
        {
          "name": "stderr",
          "output_type": "stream",
          "text": [
            "     30/300      4.06G     0.5692     0.4302     0.8509        178        640: 100%|██████████| 49/49 [00:19<00:00,  2.56it/s]\n",
            "                 Class     Images  Instances      Box(P          R      mAP50  mAP50-95): 100%|██████████| 2/2 [00:01<00:00,  1.93it/s]"
          ]
        },
        {
          "name": "stdout",
          "output_type": "stream",
          "text": [
            "                   all         85        308      0.857      0.778      0.818      0.708\n"
          ]
        },
        {
          "name": "stderr",
          "output_type": "stream",
          "text": [
            "\n"
          ]
        },
        {
          "name": "stdout",
          "output_type": "stream",
          "text": [
            "\n",
            "      Epoch    GPU_mem   box_loss   cls_loss   dfl_loss  Instances       Size\n"
          ]
        },
        {
          "name": "stderr",
          "output_type": "stream",
          "text": [
            "     31/300      4.05G     0.5712     0.4259     0.8456        166        640: 100%|██████████| 49/49 [00:18<00:00,  2.61it/s]\n",
            "                 Class     Images  Instances      Box(P          R      mAP50  mAP50-95): 100%|██████████| 2/2 [00:01<00:00,  1.94it/s]"
          ]
        },
        {
          "name": "stdout",
          "output_type": "stream",
          "text": [
            "                   all         85        308      0.859      0.783      0.859      0.739\n"
          ]
        },
        {
          "name": "stderr",
          "output_type": "stream",
          "text": [
            "\n"
          ]
        },
        {
          "name": "stdout",
          "output_type": "stream",
          "text": [
            "\n",
            "      Epoch    GPU_mem   box_loss   cls_loss   dfl_loss  Instances       Size\n"
          ]
        },
        {
          "name": "stderr",
          "output_type": "stream",
          "text": [
            "     32/300      4.11G     0.5663     0.4213     0.8471        185        640: 100%|██████████| 49/49 [00:18<00:00,  2.61it/s]\n",
            "                 Class     Images  Instances      Box(P          R      mAP50  mAP50-95): 100%|██████████| 2/2 [00:00<00:00,  2.21it/s]"
          ]
        },
        {
          "name": "stdout",
          "output_type": "stream",
          "text": [
            "                   all         85        308      0.752      0.905      0.861      0.739\n"
          ]
        },
        {
          "name": "stderr",
          "output_type": "stream",
          "text": [
            "\n"
          ]
        },
        {
          "name": "stdout",
          "output_type": "stream",
          "text": [
            "\n",
            "      Epoch    GPU_mem   box_loss   cls_loss   dfl_loss  Instances       Size\n"
          ]
        },
        {
          "name": "stderr",
          "output_type": "stream",
          "text": [
            "     33/300      4.03G     0.5711     0.4202      0.849        131        640: 100%|██████████| 49/49 [00:19<00:00,  2.55it/s]\n",
            "                 Class     Images  Instances      Box(P          R      mAP50  mAP50-95): 100%|██████████| 2/2 [00:01<00:00,  1.93it/s]"
          ]
        },
        {
          "name": "stdout",
          "output_type": "stream",
          "text": [
            "                   all         85        308       0.74      0.849      0.867      0.747\n"
          ]
        },
        {
          "name": "stderr",
          "output_type": "stream",
          "text": [
            "\n"
          ]
        },
        {
          "name": "stdout",
          "output_type": "stream",
          "text": [
            "\n",
            "      Epoch    GPU_mem   box_loss   cls_loss   dfl_loss  Instances       Size\n"
          ]
        },
        {
          "name": "stderr",
          "output_type": "stream",
          "text": [
            "     34/300      4.09G     0.5562     0.4102     0.8438        170        640: 100%|██████████| 49/49 [00:19<00:00,  2.54it/s]\n",
            "                 Class     Images  Instances      Box(P          R      mAP50  mAP50-95): 100%|██████████| 2/2 [00:00<00:00,  2.06it/s]"
          ]
        },
        {
          "name": "stdout",
          "output_type": "stream",
          "text": [
            "                   all         85        308      0.897      0.766      0.848      0.743\n"
          ]
        },
        {
          "name": "stderr",
          "output_type": "stream",
          "text": [
            "\n"
          ]
        },
        {
          "name": "stdout",
          "output_type": "stream",
          "text": [
            "\n",
            "      Epoch    GPU_mem   box_loss   cls_loss   dfl_loss  Instances       Size\n"
          ]
        },
        {
          "name": "stderr",
          "output_type": "stream",
          "text": [
            "     35/300      4.03G     0.5612     0.4144     0.8462        204        640: 100%|██████████| 49/49 [00:19<00:00,  2.52it/s]\n",
            "                 Class     Images  Instances      Box(P          R      mAP50  mAP50-95): 100%|██████████| 2/2 [00:01<00:00,  1.91it/s]"
          ]
        },
        {
          "name": "stdout",
          "output_type": "stream",
          "text": [
            "                   all         85        308      0.832      0.808       0.84      0.729\n"
          ]
        },
        {
          "name": "stderr",
          "output_type": "stream",
          "text": [
            "\n"
          ]
        },
        {
          "name": "stdout",
          "output_type": "stream",
          "text": [
            "\n",
            "      Epoch    GPU_mem   box_loss   cls_loss   dfl_loss  Instances       Size\n"
          ]
        },
        {
          "name": "stderr",
          "output_type": "stream",
          "text": [
            "     36/300      4.05G     0.5639     0.4159     0.8472        181        640: 100%|██████████| 49/49 [00:19<00:00,  2.53it/s]\n",
            "                 Class     Images  Instances      Box(P          R      mAP50  mAP50-95): 100%|██████████| 2/2 [00:01<00:00,  1.92it/s]"
          ]
        },
        {
          "name": "stdout",
          "output_type": "stream",
          "text": [
            "                   all         85        308        0.9      0.752      0.858      0.743\n"
          ]
        },
        {
          "name": "stderr",
          "output_type": "stream",
          "text": [
            "\n"
          ]
        },
        {
          "name": "stdout",
          "output_type": "stream",
          "text": [
            "\n",
            "      Epoch    GPU_mem   box_loss   cls_loss   dfl_loss  Instances       Size\n"
          ]
        },
        {
          "name": "stderr",
          "output_type": "stream",
          "text": [
            "     37/300       4.1G     0.5664     0.4125      0.847        170        640: 100%|██████████| 49/49 [00:18<00:00,  2.59it/s]\n",
            "                 Class     Images  Instances      Box(P          R      mAP50  mAP50-95): 100%|██████████| 2/2 [00:01<00:00,  1.85it/s]"
          ]
        },
        {
          "name": "stdout",
          "output_type": "stream",
          "text": [
            "                   all         85        308      0.827      0.762      0.858      0.745\n"
          ]
        },
        {
          "name": "stderr",
          "output_type": "stream",
          "text": [
            "\n"
          ]
        },
        {
          "name": "stdout",
          "output_type": "stream",
          "text": [
            "\n",
            "      Epoch    GPU_mem   box_loss   cls_loss   dfl_loss  Instances       Size\n"
          ]
        },
        {
          "name": "stderr",
          "output_type": "stream",
          "text": [
            "     38/300      4.04G      0.554     0.4172      0.843        191        640: 100%|██████████| 49/49 [00:19<00:00,  2.56it/s]\n",
            "                 Class     Images  Instances      Box(P          R      mAP50  mAP50-95): 100%|██████████| 2/2 [00:00<00:00,  2.16it/s]"
          ]
        },
        {
          "name": "stdout",
          "output_type": "stream",
          "text": [
            "                   all         85        308      0.861      0.769      0.857      0.735\n"
          ]
        },
        {
          "name": "stderr",
          "output_type": "stream",
          "text": [
            "\n"
          ]
        },
        {
          "name": "stdout",
          "output_type": "stream",
          "text": [
            "\n",
            "      Epoch    GPU_mem   box_loss   cls_loss   dfl_loss  Instances       Size\n"
          ]
        },
        {
          "name": "stderr",
          "output_type": "stream",
          "text": [
            "     39/300      4.02G     0.5535     0.4165     0.8451        158        640: 100%|██████████| 49/49 [00:18<00:00,  2.62it/s]\n",
            "                 Class     Images  Instances      Box(P          R      mAP50  mAP50-95): 100%|██████████| 2/2 [00:01<00:00,  1.95it/s]"
          ]
        },
        {
          "name": "stdout",
          "output_type": "stream",
          "text": [
            "                   all         85        308      0.892      0.742      0.834      0.713\n"
          ]
        },
        {
          "name": "stderr",
          "output_type": "stream",
          "text": [
            "\n"
          ]
        },
        {
          "name": "stdout",
          "output_type": "stream",
          "text": [
            "\n",
            "      Epoch    GPU_mem   box_loss   cls_loss   dfl_loss  Instances       Size\n"
          ]
        },
        {
          "name": "stderr",
          "output_type": "stream",
          "text": [
            "     40/300      4.09G     0.5494     0.4154      0.845        193        640: 100%|██████████| 49/49 [00:18<00:00,  2.60it/s]\n",
            "                 Class     Images  Instances      Box(P          R      mAP50  mAP50-95): 100%|██████████| 2/2 [00:01<00:00,  1.90it/s]"
          ]
        },
        {
          "name": "stdout",
          "output_type": "stream",
          "text": [
            "                   all         85        308      0.893       0.78      0.847      0.745\n"
          ]
        },
        {
          "name": "stderr",
          "output_type": "stream",
          "text": [
            "\n"
          ]
        },
        {
          "name": "stdout",
          "output_type": "stream",
          "text": [
            "\n",
            "      Epoch    GPU_mem   box_loss   cls_loss   dfl_loss  Instances       Size\n"
          ]
        },
        {
          "name": "stderr",
          "output_type": "stream",
          "text": [
            "     41/300      4.09G     0.5412     0.3997     0.8393        201        640: 100%|██████████| 49/49 [00:18<00:00,  2.60it/s]\n",
            "                 Class     Images  Instances      Box(P          R      mAP50  mAP50-95): 100%|██████████| 2/2 [00:01<00:00,  1.84it/s]"
          ]
        },
        {
          "name": "stdout",
          "output_type": "stream",
          "text": [
            "                   all         85        308      0.887      0.767      0.884       0.77\n"
          ]
        },
        {
          "name": "stderr",
          "output_type": "stream",
          "text": [
            "\n"
          ]
        },
        {
          "name": "stdout",
          "output_type": "stream",
          "text": [
            "\n",
            "      Epoch    GPU_mem   box_loss   cls_loss   dfl_loss  Instances       Size\n"
          ]
        },
        {
          "name": "stderr",
          "output_type": "stream",
          "text": [
            "     42/300      4.05G     0.5463     0.4046     0.8416        149        640: 100%|██████████| 49/49 [00:18<00:00,  2.58it/s]\n",
            "                 Class     Images  Instances      Box(P          R      mAP50  mAP50-95): 100%|██████████| 2/2 [00:00<00:00,  2.15it/s]"
          ]
        },
        {
          "name": "stdout",
          "output_type": "stream",
          "text": [
            "                   all         85        308      0.811      0.816      0.868      0.769\n"
          ]
        },
        {
          "name": "stderr",
          "output_type": "stream",
          "text": [
            "\n"
          ]
        },
        {
          "name": "stdout",
          "output_type": "stream",
          "text": [
            "\n",
            "      Epoch    GPU_mem   box_loss   cls_loss   dfl_loss  Instances       Size\n"
          ]
        },
        {
          "name": "stderr",
          "output_type": "stream",
          "text": [
            "     43/300      4.04G     0.5547     0.4086     0.8472        188        640: 100%|██████████| 49/49 [00:18<00:00,  2.59it/s]\n",
            "                 Class     Images  Instances      Box(P          R      mAP50  mAP50-95): 100%|██████████| 2/2 [00:00<00:00,  2.04it/s]"
          ]
        },
        {
          "name": "stdout",
          "output_type": "stream",
          "text": [
            "                   all         85        308      0.896      0.763      0.831      0.731\n"
          ]
        },
        {
          "name": "stderr",
          "output_type": "stream",
          "text": [
            "\n"
          ]
        },
        {
          "name": "stdout",
          "output_type": "stream",
          "text": [
            "\n",
            "      Epoch    GPU_mem   box_loss   cls_loss   dfl_loss  Instances       Size\n"
          ]
        },
        {
          "name": "stderr",
          "output_type": "stream",
          "text": [
            "     44/300      4.08G     0.5495      0.405     0.8421        150        640: 100%|██████████| 49/49 [00:18<00:00,  2.60it/s]\n",
            "                 Class     Images  Instances      Box(P          R      mAP50  mAP50-95): 100%|██████████| 2/2 [00:01<00:00,  1.89it/s]"
          ]
        },
        {
          "name": "stdout",
          "output_type": "stream",
          "text": [
            "                   all         85        308      0.902       0.76      0.863      0.751\n"
          ]
        },
        {
          "name": "stderr",
          "output_type": "stream",
          "text": [
            "\n"
          ]
        },
        {
          "name": "stdout",
          "output_type": "stream",
          "text": [
            "\n",
            "      Epoch    GPU_mem   box_loss   cls_loss   dfl_loss  Instances       Size\n"
          ]
        },
        {
          "name": "stderr",
          "output_type": "stream",
          "text": [
            "     45/300      4.09G     0.5439     0.3892     0.8387        160        640: 100%|██████████| 49/49 [00:18<00:00,  2.61it/s]\n",
            "                 Class     Images  Instances      Box(P          R      mAP50  mAP50-95): 100%|██████████| 2/2 [00:01<00:00,  1.81it/s]"
          ]
        },
        {
          "name": "stdout",
          "output_type": "stream",
          "text": [
            "                   all         85        308      0.712      0.842      0.838      0.719\n"
          ]
        },
        {
          "name": "stderr",
          "output_type": "stream",
          "text": [
            "\n"
          ]
        },
        {
          "name": "stdout",
          "output_type": "stream",
          "text": [
            "\n",
            "      Epoch    GPU_mem   box_loss   cls_loss   dfl_loss  Instances       Size\n"
          ]
        },
        {
          "name": "stderr",
          "output_type": "stream",
          "text": [
            "     46/300      4.05G     0.5412     0.3956     0.8465        172        640: 100%|██████████| 49/49 [00:19<00:00,  2.53it/s]\n",
            "                 Class     Images  Instances      Box(P          R      mAP50  mAP50-95): 100%|██████████| 2/2 [00:01<00:00,  1.78it/s]"
          ]
        },
        {
          "name": "stdout",
          "output_type": "stream",
          "text": [
            "                   all         85        308      0.913      0.763       0.85      0.742\n"
          ]
        },
        {
          "name": "stderr",
          "output_type": "stream",
          "text": [
            "\n"
          ]
        },
        {
          "name": "stdout",
          "output_type": "stream",
          "text": [
            "\n",
            "      Epoch    GPU_mem   box_loss   cls_loss   dfl_loss  Instances       Size\n"
          ]
        },
        {
          "name": "stderr",
          "output_type": "stream",
          "text": [
            "     47/300      4.05G     0.5523      0.397     0.8443        197        640: 100%|██████████| 49/49 [00:19<00:00,  2.51it/s]\n",
            "                 Class     Images  Instances      Box(P          R      mAP50  mAP50-95): 100%|██████████| 2/2 [00:01<00:00,  1.66it/s]"
          ]
        },
        {
          "name": "stdout",
          "output_type": "stream",
          "text": [
            "                   all         85        308      0.885      0.764      0.848      0.732\n"
          ]
        },
        {
          "name": "stderr",
          "output_type": "stream",
          "text": [
            "\n"
          ]
        },
        {
          "name": "stdout",
          "output_type": "stream",
          "text": [
            "\n",
            "      Epoch    GPU_mem   box_loss   cls_loss   dfl_loss  Instances       Size\n"
          ]
        },
        {
          "name": "stderr",
          "output_type": "stream",
          "text": [
            "     48/300      4.05G     0.5327     0.3879     0.8411        225        640: 100%|██████████| 49/49 [00:19<00:00,  2.53it/s]\n",
            "                 Class     Images  Instances      Box(P          R      mAP50  mAP50-95): 100%|██████████| 2/2 [00:01<00:00,  1.71it/s]"
          ]
        },
        {
          "name": "stdout",
          "output_type": "stream",
          "text": [
            "                   all         85        308      0.898      0.772      0.862      0.739\n"
          ]
        },
        {
          "name": "stderr",
          "output_type": "stream",
          "text": [
            "\n"
          ]
        },
        {
          "name": "stdout",
          "output_type": "stream",
          "text": [
            "\n",
            "      Epoch    GPU_mem   box_loss   cls_loss   dfl_loss  Instances       Size\n"
          ]
        },
        {
          "name": "stderr",
          "output_type": "stream",
          "text": [
            "     49/300      4.05G     0.5314     0.3782     0.8385        155        640: 100%|██████████| 49/49 [00:18<00:00,  2.61it/s]\n",
            "                 Class     Images  Instances      Box(P          R      mAP50  mAP50-95): 100%|██████████| 2/2 [00:01<00:00,  1.71it/s]"
          ]
        },
        {
          "name": "stdout",
          "output_type": "stream",
          "text": [
            "                   all         85        308      0.849      0.822      0.843      0.747\n"
          ]
        },
        {
          "name": "stderr",
          "output_type": "stream",
          "text": [
            "\n"
          ]
        },
        {
          "name": "stdout",
          "output_type": "stream",
          "text": [
            "\n",
            "      Epoch    GPU_mem   box_loss   cls_loss   dfl_loss  Instances       Size\n"
          ]
        },
        {
          "name": "stderr",
          "output_type": "stream",
          "text": [
            "     50/300      4.05G      0.549     0.4005     0.8439        180        640: 100%|██████████| 49/49 [00:18<00:00,  2.58it/s]\n",
            "                 Class     Images  Instances      Box(P          R      mAP50  mAP50-95): 100%|██████████| 2/2 [00:01<00:00,  1.92it/s]"
          ]
        },
        {
          "name": "stdout",
          "output_type": "stream",
          "text": [
            "                   all         85        308      0.892      0.763      0.833      0.731\n"
          ]
        },
        {
          "name": "stderr",
          "output_type": "stream",
          "text": [
            "\n"
          ]
        },
        {
          "name": "stdout",
          "output_type": "stream",
          "text": [
            "\n",
            "      Epoch    GPU_mem   box_loss   cls_loss   dfl_loss  Instances       Size\n"
          ]
        },
        {
          "name": "stderr",
          "output_type": "stream",
          "text": [
            "     51/300      4.03G     0.5323     0.3873     0.8437        196        640: 100%|██████████| 49/49 [00:19<00:00,  2.56it/s]\n",
            "                 Class     Images  Instances      Box(P          R      mAP50  mAP50-95): 100%|██████████| 2/2 [00:01<00:00,  1.59it/s]"
          ]
        },
        {
          "name": "stdout",
          "output_type": "stream",
          "text": [
            "                   all         85        308      0.709      0.807        0.8      0.691\n"
          ]
        },
        {
          "name": "stderr",
          "output_type": "stream",
          "text": [
            "\n"
          ]
        },
        {
          "name": "stdout",
          "output_type": "stream",
          "text": [
            "\n",
            "      Epoch    GPU_mem   box_loss   cls_loss   dfl_loss  Instances       Size\n"
          ]
        },
        {
          "name": "stderr",
          "output_type": "stream",
          "text": [
            "     52/300      4.05G     0.5335     0.3895     0.8405        184        640: 100%|██████████| 49/49 [00:18<00:00,  2.58it/s]\n",
            "                 Class     Images  Instances      Box(P          R      mAP50  mAP50-95): 100%|██████████| 2/2 [00:01<00:00,  1.86it/s]"
          ]
        },
        {
          "name": "stdout",
          "output_type": "stream",
          "text": [
            "                   all         85        308      0.879      0.763      0.852      0.739\n"
          ]
        },
        {
          "name": "stderr",
          "output_type": "stream",
          "text": [
            "\n"
          ]
        },
        {
          "name": "stdout",
          "output_type": "stream",
          "text": [
            "\n",
            "      Epoch    GPU_mem   box_loss   cls_loss   dfl_loss  Instances       Size\n"
          ]
        },
        {
          "name": "stderr",
          "output_type": "stream",
          "text": [
            "     53/300      4.03G      0.535     0.3855     0.8366        153        640: 100%|██████████| 49/49 [00:19<00:00,  2.58it/s]\n",
            "                 Class     Images  Instances      Box(P          R      mAP50  mAP50-95): 100%|██████████| 2/2 [00:01<00:00,  1.98it/s]"
          ]
        },
        {
          "name": "stdout",
          "output_type": "stream",
          "text": [
            "                   all         85        308      0.895      0.765      0.855      0.734\n"
          ]
        },
        {
          "name": "stderr",
          "output_type": "stream",
          "text": [
            "\n"
          ]
        },
        {
          "name": "stdout",
          "output_type": "stream",
          "text": [
            "\n",
            "      Epoch    GPU_mem   box_loss   cls_loss   dfl_loss  Instances       Size\n"
          ]
        },
        {
          "name": "stderr",
          "output_type": "stream",
          "text": [
            "     54/300      4.02G     0.5331     0.3852     0.8413        216        640: 100%|██████████| 49/49 [00:19<00:00,  2.50it/s]\n",
            "                 Class     Images  Instances      Box(P          R      mAP50  mAP50-95): 100%|██████████| 2/2 [00:01<00:00,  1.75it/s]"
          ]
        },
        {
          "name": "stdout",
          "output_type": "stream",
          "text": [
            "                   all         85        308      0.867      0.794      0.843      0.748\n"
          ]
        },
        {
          "name": "stderr",
          "output_type": "stream",
          "text": [
            "\n"
          ]
        },
        {
          "name": "stdout",
          "output_type": "stream",
          "text": [
            "\n",
            "      Epoch    GPU_mem   box_loss   cls_loss   dfl_loss  Instances       Size\n"
          ]
        },
        {
          "name": "stderr",
          "output_type": "stream",
          "text": [
            "     55/300      4.04G      0.542     0.3947     0.8433        151        640: 100%|██████████| 49/49 [00:19<00:00,  2.52it/s]\n",
            "                 Class     Images  Instances      Box(P          R      mAP50  mAP50-95): 100%|██████████| 2/2 [00:01<00:00,  1.75it/s]"
          ]
        },
        {
          "name": "stdout",
          "output_type": "stream",
          "text": [
            "                   all         85        308      0.888      0.757      0.818      0.708\n"
          ]
        },
        {
          "name": "stderr",
          "output_type": "stream",
          "text": [
            "\n"
          ]
        },
        {
          "name": "stdout",
          "output_type": "stream",
          "text": [
            "\n",
            "      Epoch    GPU_mem   box_loss   cls_loss   dfl_loss  Instances       Size\n"
          ]
        },
        {
          "name": "stderr",
          "output_type": "stream",
          "text": [
            "     56/300      4.03G     0.5328     0.3872     0.8384        197        640: 100%|██████████| 49/49 [00:19<00:00,  2.51it/s]\n",
            "                 Class     Images  Instances      Box(P          R      mAP50  mAP50-95): 100%|██████████| 2/2 [00:01<00:00,  1.87it/s]"
          ]
        },
        {
          "name": "stdout",
          "output_type": "stream",
          "text": [
            "                   all         85        308      0.876        0.8      0.823      0.709\n"
          ]
        },
        {
          "name": "stderr",
          "output_type": "stream",
          "text": [
            "\n"
          ]
        },
        {
          "name": "stdout",
          "output_type": "stream",
          "text": [
            "\n",
            "      Epoch    GPU_mem   box_loss   cls_loss   dfl_loss  Instances       Size\n"
          ]
        },
        {
          "name": "stderr",
          "output_type": "stream",
          "text": [
            "     57/300      4.05G     0.5221      0.383     0.8393        218        640: 100%|██████████| 49/49 [00:18<00:00,  2.62it/s]\n",
            "                 Class     Images  Instances      Box(P          R      mAP50  mAP50-95): 100%|██████████| 2/2 [00:01<00:00,  1.85it/s]"
          ]
        },
        {
          "name": "stdout",
          "output_type": "stream",
          "text": [
            "                   all         85        308      0.872      0.786       0.83      0.733\n"
          ]
        },
        {
          "name": "stderr",
          "output_type": "stream",
          "text": [
            "\n"
          ]
        },
        {
          "name": "stdout",
          "output_type": "stream",
          "text": [
            "\n",
            "      Epoch    GPU_mem   box_loss   cls_loss   dfl_loss  Instances       Size\n"
          ]
        },
        {
          "name": "stderr",
          "output_type": "stream",
          "text": [
            "     58/300      4.06G     0.5343      0.382      0.838        178        640: 100%|██████████| 49/49 [00:19<00:00,  2.51it/s]\n",
            "                 Class     Images  Instances      Box(P          R      mAP50  mAP50-95): 100%|██████████| 2/2 [00:01<00:00,  1.69it/s]"
          ]
        },
        {
          "name": "stdout",
          "output_type": "stream",
          "text": [
            "                   all         85        308      0.917      0.767      0.845      0.736\n"
          ]
        },
        {
          "name": "stderr",
          "output_type": "stream",
          "text": [
            "\n"
          ]
        },
        {
          "name": "stdout",
          "output_type": "stream",
          "text": [
            "\n",
            "      Epoch    GPU_mem   box_loss   cls_loss   dfl_loss  Instances       Size\n"
          ]
        },
        {
          "name": "stderr",
          "output_type": "stream",
          "text": [
            "     59/300      4.05G     0.5327     0.3839     0.8399        157        640: 100%|██████████| 49/49 [00:19<00:00,  2.51it/s]\n",
            "                 Class     Images  Instances      Box(P          R      mAP50  mAP50-95): 100%|██████████| 2/2 [00:01<00:00,  1.85it/s]"
          ]
        },
        {
          "name": "stdout",
          "output_type": "stream",
          "text": [
            "                   all         85        308       0.87      0.781      0.845      0.731\n"
          ]
        },
        {
          "name": "stderr",
          "output_type": "stream",
          "text": [
            "\n"
          ]
        },
        {
          "name": "stdout",
          "output_type": "stream",
          "text": [
            "\n",
            "      Epoch    GPU_mem   box_loss   cls_loss   dfl_loss  Instances       Size\n"
          ]
        },
        {
          "name": "stderr",
          "output_type": "stream",
          "text": [
            "     60/300      4.04G     0.5273       0.38     0.8377        203        640: 100%|██████████| 49/49 [00:19<00:00,  2.49it/s]\n",
            "                 Class     Images  Instances      Box(P          R      mAP50  mAP50-95): 100%|██████████| 2/2 [00:01<00:00,  1.89it/s]"
          ]
        },
        {
          "name": "stdout",
          "output_type": "stream",
          "text": [
            "                   all         85        308      0.933      0.754      0.878      0.763\n"
          ]
        },
        {
          "name": "stderr",
          "output_type": "stream",
          "text": [
            "\n"
          ]
        },
        {
          "name": "stdout",
          "output_type": "stream",
          "text": [
            "\n",
            "      Epoch    GPU_mem   box_loss   cls_loss   dfl_loss  Instances       Size\n"
          ]
        },
        {
          "name": "stderr",
          "output_type": "stream",
          "text": [
            "     61/300      4.08G     0.5223     0.3796     0.8381        195        640: 100%|██████████| 49/49 [00:19<00:00,  2.51it/s]\n",
            "                 Class     Images  Instances      Box(P          R      mAP50  mAP50-95): 100%|██████████| 2/2 [00:01<00:00,  1.73it/s]"
          ]
        },
        {
          "name": "stdout",
          "output_type": "stream",
          "text": [
            "                   all         85        308       0.88       0.79      0.823      0.725\n"
          ]
        },
        {
          "name": "stderr",
          "output_type": "stream",
          "text": [
            "\n"
          ]
        },
        {
          "name": "stdout",
          "output_type": "stream",
          "text": [
            "\n",
            "      Epoch    GPU_mem   box_loss   cls_loss   dfl_loss  Instances       Size\n"
          ]
        },
        {
          "name": "stderr",
          "output_type": "stream",
          "text": [
            "     62/300      4.05G     0.5292     0.3728      0.837        158        640: 100%|██████████| 49/49 [00:19<00:00,  2.56it/s]\n",
            "                 Class     Images  Instances      Box(P          R      mAP50  mAP50-95): 100%|██████████| 2/2 [00:00<00:00,  2.05it/s]"
          ]
        },
        {
          "name": "stdout",
          "output_type": "stream",
          "text": [
            "                   all         85        308      0.895      0.796      0.827      0.725\n"
          ]
        },
        {
          "name": "stderr",
          "output_type": "stream",
          "text": [
            "\n"
          ]
        },
        {
          "name": "stdout",
          "output_type": "stream",
          "text": [
            "\n",
            "      Epoch    GPU_mem   box_loss   cls_loss   dfl_loss  Instances       Size\n"
          ]
        },
        {
          "name": "stderr",
          "output_type": "stream",
          "text": [
            "     63/300       4.1G     0.5247     0.3761     0.8396        196        640: 100%|██████████| 49/49 [00:19<00:00,  2.52it/s]\n",
            "                 Class     Images  Instances      Box(P          R      mAP50  mAP50-95): 100%|██████████| 2/2 [00:01<00:00,  1.71it/s]"
          ]
        },
        {
          "name": "stdout",
          "output_type": "stream",
          "text": [
            "                   all         85        308      0.914      0.754      0.842       0.73\n"
          ]
        },
        {
          "name": "stderr",
          "output_type": "stream",
          "text": [
            "\n"
          ]
        },
        {
          "name": "stdout",
          "output_type": "stream",
          "text": [
            "\n",
            "      Epoch    GPU_mem   box_loss   cls_loss   dfl_loss  Instances       Size\n"
          ]
        },
        {
          "name": "stderr",
          "output_type": "stream",
          "text": [
            "     64/300      4.09G     0.5207     0.3783     0.8354        220        640: 100%|██████████| 49/49 [00:19<00:00,  2.53it/s]\n",
            "                 Class     Images  Instances      Box(P          R      mAP50  mAP50-95): 100%|██████████| 2/2 [00:01<00:00,  1.71it/s]"
          ]
        },
        {
          "name": "stdout",
          "output_type": "stream",
          "text": [
            "                   all         85        308      0.863      0.765      0.842      0.734\n"
          ]
        },
        {
          "name": "stderr",
          "output_type": "stream",
          "text": [
            "\n"
          ]
        },
        {
          "name": "stdout",
          "output_type": "stream",
          "text": [
            "\n",
            "      Epoch    GPU_mem   box_loss   cls_loss   dfl_loss  Instances       Size\n"
          ]
        },
        {
          "name": "stderr",
          "output_type": "stream",
          "text": [
            "     65/300      4.04G      0.518     0.3729     0.8398        190        640: 100%|██████████| 49/49 [00:18<00:00,  2.60it/s]\n",
            "                 Class     Images  Instances      Box(P          R      mAP50  mAP50-95): 100%|██████████| 2/2 [00:01<00:00,  1.97it/s]"
          ]
        },
        {
          "name": "stdout",
          "output_type": "stream",
          "text": [
            "                   all         85        308       0.85      0.833      0.851      0.748\n"
          ]
        },
        {
          "name": "stderr",
          "output_type": "stream",
          "text": [
            "\n"
          ]
        },
        {
          "name": "stdout",
          "output_type": "stream",
          "text": [
            "\n",
            "      Epoch    GPU_mem   box_loss   cls_loss   dfl_loss  Instances       Size\n"
          ]
        },
        {
          "name": "stderr",
          "output_type": "stream",
          "text": [
            "     66/300      4.05G     0.5153     0.3648     0.8365        196        640: 100%|██████████| 49/49 [00:19<00:00,  2.53it/s]\n",
            "                 Class     Images  Instances      Box(P          R      mAP50  mAP50-95): 100%|██████████| 2/2 [00:01<00:00,  1.67it/s]"
          ]
        },
        {
          "name": "stdout",
          "output_type": "stream",
          "text": [
            "                   all         85        308      0.906      0.773      0.821      0.721\n"
          ]
        },
        {
          "name": "stderr",
          "output_type": "stream",
          "text": [
            "\n"
          ]
        },
        {
          "name": "stdout",
          "output_type": "stream",
          "text": [
            "\n",
            "      Epoch    GPU_mem   box_loss   cls_loss   dfl_loss  Instances       Size\n"
          ]
        },
        {
          "name": "stderr",
          "output_type": "stream",
          "text": [
            "     67/300      4.09G     0.5204     0.3785     0.8377        192        640: 100%|██████████| 49/49 [00:18<00:00,  2.60it/s]\n",
            "                 Class     Images  Instances      Box(P          R      mAP50  mAP50-95): 100%|██████████| 2/2 [00:01<00:00,  1.97it/s]"
          ]
        },
        {
          "name": "stdout",
          "output_type": "stream",
          "text": [
            "                   all         85        308      0.916      0.769       0.87      0.761\n"
          ]
        },
        {
          "name": "stderr",
          "output_type": "stream",
          "text": [
            "\n"
          ]
        },
        {
          "name": "stdout",
          "output_type": "stream",
          "text": [
            "\n",
            "      Epoch    GPU_mem   box_loss   cls_loss   dfl_loss  Instances       Size\n"
          ]
        },
        {
          "name": "stderr",
          "output_type": "stream",
          "text": [
            "     68/300      4.03G      0.512     0.3684     0.8325        185        640: 100%|██████████| 49/49 [00:19<00:00,  2.57it/s]\n",
            "                 Class     Images  Instances      Box(P          R      mAP50  mAP50-95): 100%|██████████| 2/2 [00:00<00:00,  2.26it/s]"
          ]
        },
        {
          "name": "stdout",
          "output_type": "stream",
          "text": [
            "                   all         85        308      0.888      0.788      0.819      0.719\n"
          ]
        },
        {
          "name": "stderr",
          "output_type": "stream",
          "text": [
            "\n"
          ]
        },
        {
          "name": "stdout",
          "output_type": "stream",
          "text": [
            "\n",
            "      Epoch    GPU_mem   box_loss   cls_loss   dfl_loss  Instances       Size\n"
          ]
        },
        {
          "name": "stderr",
          "output_type": "stream",
          "text": [
            "     69/300      4.04G     0.5197     0.3702     0.8335        209        640: 100%|██████████| 49/49 [00:19<00:00,  2.57it/s]\n",
            "                 Class     Images  Instances      Box(P          R      mAP50  mAP50-95): 100%|██████████| 2/2 [00:01<00:00,  1.98it/s]"
          ]
        },
        {
          "name": "stdout",
          "output_type": "stream",
          "text": [
            "                   all         85        308      0.899      0.787      0.837       0.73\n"
          ]
        },
        {
          "name": "stderr",
          "output_type": "stream",
          "text": [
            "\n"
          ]
        },
        {
          "name": "stdout",
          "output_type": "stream",
          "text": [
            "\n",
            "      Epoch    GPU_mem   box_loss   cls_loss   dfl_loss  Instances       Size\n"
          ]
        },
        {
          "name": "stderr",
          "output_type": "stream",
          "text": [
            "     70/300       4.1G     0.5171     0.3665     0.8366        144        640: 100%|██████████| 49/49 [00:19<00:00,  2.54it/s]\n",
            "                 Class     Images  Instances      Box(P          R      mAP50  mAP50-95): 100%|██████████| 2/2 [00:01<00:00,  1.55it/s]"
          ]
        },
        {
          "name": "stdout",
          "output_type": "stream",
          "text": [
            "                   all         85        308      0.909      0.762      0.822       0.71\n"
          ]
        },
        {
          "name": "stderr",
          "output_type": "stream",
          "text": [
            "\n"
          ]
        },
        {
          "name": "stdout",
          "output_type": "stream",
          "text": [
            "\n",
            "      Epoch    GPU_mem   box_loss   cls_loss   dfl_loss  Instances       Size\n"
          ]
        },
        {
          "name": "stderr",
          "output_type": "stream",
          "text": [
            "     71/300      4.02G     0.5161     0.3648     0.8341        159        640: 100%|██████████| 49/49 [00:19<00:00,  2.51it/s]\n",
            "                 Class     Images  Instances      Box(P          R      mAP50  mAP50-95): 100%|██████████| 2/2 [00:01<00:00,  1.65it/s]"
          ]
        },
        {
          "name": "stdout",
          "output_type": "stream",
          "text": [
            "                   all         85        308      0.837      0.795      0.845      0.748\n"
          ]
        },
        {
          "name": "stderr",
          "output_type": "stream",
          "text": [
            "\n"
          ]
        },
        {
          "name": "stdout",
          "output_type": "stream",
          "text": [
            "\n",
            "      Epoch    GPU_mem   box_loss   cls_loss   dfl_loss  Instances       Size\n"
          ]
        },
        {
          "name": "stderr",
          "output_type": "stream",
          "text": [
            "     72/300      4.07G     0.5113     0.3696     0.8361        166        640: 100%|██████████| 49/49 [00:18<00:00,  2.58it/s]\n",
            "                 Class     Images  Instances      Box(P          R      mAP50  mAP50-95): 100%|██████████| 2/2 [00:01<00:00,  1.94it/s]"
          ]
        },
        {
          "name": "stdout",
          "output_type": "stream",
          "text": [
            "                   all         85        308      0.888      0.783      0.836       0.73\n"
          ]
        },
        {
          "name": "stderr",
          "output_type": "stream",
          "text": [
            "\n"
          ]
        },
        {
          "name": "stdout",
          "output_type": "stream",
          "text": [
            "\n",
            "      Epoch    GPU_mem   box_loss   cls_loss   dfl_loss  Instances       Size\n"
          ]
        },
        {
          "name": "stderr",
          "output_type": "stream",
          "text": [
            "     73/300      3.98G     0.5105     0.3654     0.8333        160        640: 100%|██████████| 49/49 [00:18<00:00,  2.62it/s]\n",
            "                 Class     Images  Instances      Box(P          R      mAP50  mAP50-95): 100%|██████████| 2/2 [00:01<00:00,  1.86it/s]"
          ]
        },
        {
          "name": "stdout",
          "output_type": "stream",
          "text": [
            "                   all         85        308      0.843       0.84      0.862      0.766\n"
          ]
        },
        {
          "name": "stderr",
          "output_type": "stream",
          "text": [
            "\n"
          ]
        },
        {
          "name": "stdout",
          "output_type": "stream",
          "text": [
            "\n",
            "      Epoch    GPU_mem   box_loss   cls_loss   dfl_loss  Instances       Size\n"
          ]
        },
        {
          "name": "stderr",
          "output_type": "stream",
          "text": [
            "     74/300      4.05G      0.516     0.3664      0.837        195        640: 100%|██████████| 49/49 [00:19<00:00,  2.47it/s]\n",
            "                 Class     Images  Instances      Box(P          R      mAP50  mAP50-95): 100%|██████████| 2/2 [00:01<00:00,  1.64it/s]"
          ]
        },
        {
          "name": "stdout",
          "output_type": "stream",
          "text": [
            "                   all         85        308      0.903      0.774      0.837      0.735\n"
          ]
        },
        {
          "name": "stderr",
          "output_type": "stream",
          "text": [
            "\n"
          ]
        },
        {
          "name": "stdout",
          "output_type": "stream",
          "text": [
            "\n",
            "      Epoch    GPU_mem   box_loss   cls_loss   dfl_loss  Instances       Size\n"
          ]
        },
        {
          "name": "stderr",
          "output_type": "stream",
          "text": [
            "     75/300      4.05G     0.5119     0.3739     0.8343        169        640: 100%|██████████| 49/49 [00:18<00:00,  2.62it/s]\n",
            "                 Class     Images  Instances      Box(P          R      mAP50  mAP50-95): 100%|██████████| 2/2 [00:01<00:00,  1.80it/s]"
          ]
        },
        {
          "name": "stdout",
          "output_type": "stream",
          "text": [
            "                   all         85        308      0.868      0.675      0.814      0.719\n"
          ]
        },
        {
          "name": "stderr",
          "output_type": "stream",
          "text": [
            "\n"
          ]
        },
        {
          "name": "stdout",
          "output_type": "stream",
          "text": [
            "\n",
            "      Epoch    GPU_mem   box_loss   cls_loss   dfl_loss  Instances       Size\n"
          ]
        },
        {
          "name": "stderr",
          "output_type": "stream",
          "text": [
            "     76/300      4.09G     0.5145     0.3663     0.8352        171        640: 100%|██████████| 49/49 [00:18<00:00,  2.59it/s]\n",
            "                 Class     Images  Instances      Box(P          R      mAP50  mAP50-95): 100%|██████████| 2/2 [00:01<00:00,  1.76it/s]"
          ]
        },
        {
          "name": "stdout",
          "output_type": "stream",
          "text": [
            "                   all         85        308      0.827      0.773      0.823      0.714\n"
          ]
        },
        {
          "name": "stderr",
          "output_type": "stream",
          "text": [
            "\n"
          ]
        },
        {
          "name": "stdout",
          "output_type": "stream",
          "text": [
            "\n",
            "      Epoch    GPU_mem   box_loss   cls_loss   dfl_loss  Instances       Size\n"
          ]
        },
        {
          "name": "stderr",
          "output_type": "stream",
          "text": [
            "     77/300       4.1G     0.5076     0.3653     0.8314        212        640: 100%|██████████| 49/49 [00:19<00:00,  2.54it/s]\n",
            "                 Class     Images  Instances      Box(P          R      mAP50  mAP50-95): 100%|██████████| 2/2 [00:01<00:00,  1.72it/s]"
          ]
        },
        {
          "name": "stdout",
          "output_type": "stream",
          "text": [
            "                   all         85        308      0.834      0.808       0.85      0.745\n"
          ]
        },
        {
          "name": "stderr",
          "output_type": "stream",
          "text": [
            "\n"
          ]
        },
        {
          "name": "stdout",
          "output_type": "stream",
          "text": [
            "\n",
            "      Epoch    GPU_mem   box_loss   cls_loss   dfl_loss  Instances       Size\n"
          ]
        },
        {
          "name": "stderr",
          "output_type": "stream",
          "text": [
            "     78/300      4.09G     0.5041     0.3677     0.8327        182        640: 100%|██████████| 49/49 [00:19<00:00,  2.54it/s]\n",
            "                 Class     Images  Instances      Box(P          R      mAP50  mAP50-95): 100%|██████████| 2/2 [00:01<00:00,  1.53it/s]"
          ]
        },
        {
          "name": "stdout",
          "output_type": "stream",
          "text": [
            "                   all         85        308      0.818      0.789      0.831      0.721\n"
          ]
        },
        {
          "name": "stderr",
          "output_type": "stream",
          "text": [
            "\n"
          ]
        },
        {
          "name": "stdout",
          "output_type": "stream",
          "text": [
            "\n",
            "      Epoch    GPU_mem   box_loss   cls_loss   dfl_loss  Instances       Size\n"
          ]
        },
        {
          "name": "stderr",
          "output_type": "stream",
          "text": [
            "     79/300      4.05G     0.5039      0.361      0.833        168        640: 100%|██████████| 49/49 [00:18<00:00,  2.58it/s]\n",
            "                 Class     Images  Instances      Box(P          R      mAP50  mAP50-95): 100%|██████████| 2/2 [00:00<00:00,  2.06it/s]"
          ]
        },
        {
          "name": "stdout",
          "output_type": "stream",
          "text": [
            "                   all         85        308      0.903      0.823      0.883      0.777\n"
          ]
        },
        {
          "name": "stderr",
          "output_type": "stream",
          "text": [
            "\n"
          ]
        },
        {
          "name": "stdout",
          "output_type": "stream",
          "text": [
            "\n",
            "      Epoch    GPU_mem   box_loss   cls_loss   dfl_loss  Instances       Size\n"
          ]
        },
        {
          "name": "stderr",
          "output_type": "stream",
          "text": [
            "     80/300         4G     0.5081     0.3613     0.8314        154        640: 100%|██████████| 49/49 [00:19<00:00,  2.52it/s]\n",
            "                 Class     Images  Instances      Box(P          R      mAP50  mAP50-95): 100%|██████████| 2/2 [00:01<00:00,  1.62it/s]"
          ]
        },
        {
          "name": "stdout",
          "output_type": "stream",
          "text": [
            "                   all         85        308      0.903      0.787      0.849      0.742\n"
          ]
        },
        {
          "name": "stderr",
          "output_type": "stream",
          "text": [
            "\n"
          ]
        },
        {
          "name": "stdout",
          "output_type": "stream",
          "text": [
            "\n",
            "      Epoch    GPU_mem   box_loss   cls_loss   dfl_loss  Instances       Size\n"
          ]
        },
        {
          "name": "stderr",
          "output_type": "stream",
          "text": [
            "     81/300      4.05G     0.5017     0.3637     0.8306        224        640: 100%|██████████| 49/49 [00:19<00:00,  2.58it/s]\n",
            "                 Class     Images  Instances      Box(P          R      mAP50  mAP50-95): 100%|██████████| 2/2 [00:01<00:00,  1.90it/s]"
          ]
        },
        {
          "name": "stdout",
          "output_type": "stream",
          "text": [
            "                   all         85        308      0.905      0.765       0.85      0.757\n"
          ]
        },
        {
          "name": "stderr",
          "output_type": "stream",
          "text": [
            "\n"
          ]
        },
        {
          "name": "stdout",
          "output_type": "stream",
          "text": [
            "\n",
            "      Epoch    GPU_mem   box_loss   cls_loss   dfl_loss  Instances       Size\n"
          ]
        },
        {
          "name": "stderr",
          "output_type": "stream",
          "text": [
            "     82/300      4.05G     0.5035     0.3659     0.8318        138        640: 100%|██████████| 49/49 [00:18<00:00,  2.60it/s]\n",
            "                 Class     Images  Instances      Box(P          R      mAP50  mAP50-95): 100%|██████████| 2/2 [00:01<00:00,  1.88it/s]"
          ]
        },
        {
          "name": "stdout",
          "output_type": "stream",
          "text": [
            "                   all         85        308      0.922       0.76      0.821      0.713\n"
          ]
        },
        {
          "name": "stderr",
          "output_type": "stream",
          "text": [
            "\n"
          ]
        },
        {
          "name": "stdout",
          "output_type": "stream",
          "text": [
            "\n",
            "      Epoch    GPU_mem   box_loss   cls_loss   dfl_loss  Instances       Size\n"
          ]
        },
        {
          "name": "stderr",
          "output_type": "stream",
          "text": [
            "     83/300      4.04G     0.5054     0.3621     0.8293        200        640: 100%|██████████| 49/49 [00:19<00:00,  2.53it/s]\n",
            "                 Class     Images  Instances      Box(P          R      mAP50  mAP50-95): 100%|██████████| 2/2 [00:01<00:00,  1.68it/s]"
          ]
        },
        {
          "name": "stdout",
          "output_type": "stream",
          "text": [
            "                   all         85        308      0.917      0.736      0.864      0.764\n"
          ]
        },
        {
          "name": "stderr",
          "output_type": "stream",
          "text": [
            "\n"
          ]
        },
        {
          "name": "stdout",
          "output_type": "stream",
          "text": [
            "\n",
            "      Epoch    GPU_mem   box_loss   cls_loss   dfl_loss  Instances       Size\n"
          ]
        },
        {
          "name": "stderr",
          "output_type": "stream",
          "text": [
            "     84/300         4G     0.5008     0.3513     0.8323        198        640: 100%|██████████| 49/49 [00:19<00:00,  2.57it/s]\n",
            "                 Class     Images  Instances      Box(P          R      mAP50  mAP50-95): 100%|██████████| 2/2 [00:00<00:00,  2.05it/s]"
          ]
        },
        {
          "name": "stdout",
          "output_type": "stream",
          "text": [
            "                   all         85        308      0.888       0.76      0.813      0.711\n"
          ]
        },
        {
          "name": "stderr",
          "output_type": "stream",
          "text": [
            "\n"
          ]
        },
        {
          "name": "stdout",
          "output_type": "stream",
          "text": [
            "\n",
            "      Epoch    GPU_mem   box_loss   cls_loss   dfl_loss  Instances       Size\n"
          ]
        },
        {
          "name": "stderr",
          "output_type": "stream",
          "text": [
            "     85/300      4.06G      0.501     0.3589     0.8294        133        640: 100%|██████████| 49/49 [00:18<00:00,  2.61it/s]\n",
            "                 Class     Images  Instances      Box(P          R      mAP50  mAP50-95): 100%|██████████| 2/2 [00:01<00:00,  1.97it/s]"
          ]
        },
        {
          "name": "stdout",
          "output_type": "stream",
          "text": [
            "                   all         85        308      0.901      0.764      0.828      0.726\n"
          ]
        },
        {
          "name": "stderr",
          "output_type": "stream",
          "text": [
            "\n"
          ]
        },
        {
          "name": "stdout",
          "output_type": "stream",
          "text": [
            "\n",
            "      Epoch    GPU_mem   box_loss   cls_loss   dfl_loss  Instances       Size\n"
          ]
        },
        {
          "name": "stderr",
          "output_type": "stream",
          "text": [
            "     86/300         4G     0.4981     0.3556     0.8335        178        640: 100%|██████████| 49/49 [00:18<00:00,  2.59it/s]\n",
            "                 Class     Images  Instances      Box(P          R      mAP50  mAP50-95): 100%|██████████| 2/2 [00:00<00:00,  2.09it/s]"
          ]
        },
        {
          "name": "stdout",
          "output_type": "stream",
          "text": [
            "                   all         85        308      0.889      0.775      0.831      0.726\n"
          ]
        },
        {
          "name": "stderr",
          "output_type": "stream",
          "text": [
            "\n"
          ]
        },
        {
          "name": "stdout",
          "output_type": "stream",
          "text": [
            "\n",
            "      Epoch    GPU_mem   box_loss   cls_loss   dfl_loss  Instances       Size\n"
          ]
        },
        {
          "name": "stderr",
          "output_type": "stream",
          "text": [
            "     87/300      4.05G     0.5023     0.3541     0.8316        155        640: 100%|██████████| 49/49 [00:18<00:00,  2.59it/s]\n",
            "                 Class     Images  Instances      Box(P          R      mAP50  mAP50-95): 100%|██████████| 2/2 [00:01<00:00,  1.91it/s]"
          ]
        },
        {
          "name": "stdout",
          "output_type": "stream",
          "text": [
            "                   all         85        308      0.938      0.751      0.848      0.739\n"
          ]
        },
        {
          "name": "stderr",
          "output_type": "stream",
          "text": [
            "\n"
          ]
        },
        {
          "name": "stdout",
          "output_type": "stream",
          "text": [
            "\n",
            "      Epoch    GPU_mem   box_loss   cls_loss   dfl_loss  Instances       Size\n"
          ]
        },
        {
          "name": "stderr",
          "output_type": "stream",
          "text": [
            "     88/300      4.05G     0.4986     0.3573     0.8349        148        640: 100%|██████████| 49/49 [00:19<00:00,  2.52it/s]\n",
            "                 Class     Images  Instances      Box(P          R      mAP50  mAP50-95): 100%|██████████| 2/2 [00:01<00:00,  1.89it/s]"
          ]
        },
        {
          "name": "stdout",
          "output_type": "stream",
          "text": [
            "                   all         85        308      0.871      0.779       0.81        0.7\n"
          ]
        },
        {
          "name": "stderr",
          "output_type": "stream",
          "text": [
            "\n"
          ]
        },
        {
          "name": "stdout",
          "output_type": "stream",
          "text": [
            "\n",
            "      Epoch    GPU_mem   box_loss   cls_loss   dfl_loss  Instances       Size\n"
          ]
        },
        {
          "name": "stderr",
          "output_type": "stream",
          "text": [
            "     89/300      4.03G     0.4996     0.3536     0.8335        183        640: 100%|██████████| 49/49 [00:18<00:00,  2.59it/s]\n",
            "                 Class     Images  Instances      Box(P          R      mAP50  mAP50-95): 100%|██████████| 2/2 [00:01<00:00,  1.92it/s]"
          ]
        },
        {
          "name": "stdout",
          "output_type": "stream",
          "text": [
            "                   all         85        308      0.838      0.792      0.834      0.729\n"
          ]
        },
        {
          "name": "stderr",
          "output_type": "stream",
          "text": [
            "\n"
          ]
        },
        {
          "name": "stdout",
          "output_type": "stream",
          "text": [
            "\n",
            "      Epoch    GPU_mem   box_loss   cls_loss   dfl_loss  Instances       Size\n"
          ]
        },
        {
          "name": "stderr",
          "output_type": "stream",
          "text": [
            "     90/300      4.04G     0.4946     0.3576     0.8319        181        640: 100%|██████████| 49/49 [00:18<00:00,  2.58it/s]\n",
            "                 Class     Images  Instances      Box(P          R      mAP50  mAP50-95): 100%|██████████| 2/2 [00:01<00:00,  1.95it/s]"
          ]
        },
        {
          "name": "stdout",
          "output_type": "stream",
          "text": [
            "                   all         85        308      0.887      0.792      0.829      0.726\n"
          ]
        },
        {
          "name": "stderr",
          "output_type": "stream",
          "text": [
            "\n"
          ]
        },
        {
          "name": "stdout",
          "output_type": "stream",
          "text": [
            "\n",
            "      Epoch    GPU_mem   box_loss   cls_loss   dfl_loss  Instances       Size\n"
          ]
        },
        {
          "name": "stderr",
          "output_type": "stream",
          "text": [
            "     91/300      4.03G     0.4929     0.3475      0.833        164        640: 100%|██████████| 49/49 [00:18<00:00,  2.60it/s]\n",
            "                 Class     Images  Instances      Box(P          R      mAP50  mAP50-95): 100%|██████████| 2/2 [00:01<00:00,  1.89it/s]"
          ]
        },
        {
          "name": "stdout",
          "output_type": "stream",
          "text": [
            "                   all         85        308      0.903      0.775      0.861      0.756\n"
          ]
        },
        {
          "name": "stderr",
          "output_type": "stream",
          "text": [
            "\n"
          ]
        },
        {
          "name": "stdout",
          "output_type": "stream",
          "text": [
            "\n",
            "      Epoch    GPU_mem   box_loss   cls_loss   dfl_loss  Instances       Size\n"
          ]
        },
        {
          "name": "stderr",
          "output_type": "stream",
          "text": [
            "     92/300      4.04G     0.4903     0.3458     0.8316        138        640: 100%|██████████| 49/49 [00:19<00:00,  2.49it/s]\n",
            "                 Class     Images  Instances      Box(P          R      mAP50  mAP50-95): 100%|██████████| 2/2 [00:01<00:00,  1.80it/s]"
          ]
        },
        {
          "name": "stdout",
          "output_type": "stream",
          "text": [
            "                   all         85        308      0.888      0.788      0.834      0.727\n"
          ]
        },
        {
          "name": "stderr",
          "output_type": "stream",
          "text": [
            "\n"
          ]
        },
        {
          "name": "stdout",
          "output_type": "stream",
          "text": [
            "\n",
            "      Epoch    GPU_mem   box_loss   cls_loss   dfl_loss  Instances       Size\n"
          ]
        },
        {
          "name": "stderr",
          "output_type": "stream",
          "text": [
            "     93/300      4.05G     0.4954     0.3557     0.8325        233        640: 100%|██████████| 49/49 [00:19<00:00,  2.51it/s]\n",
            "                 Class     Images  Instances      Box(P          R      mAP50  mAP50-95): 100%|██████████| 2/2 [00:01<00:00,  1.64it/s]"
          ]
        },
        {
          "name": "stdout",
          "output_type": "stream",
          "text": [
            "                   all         85        308      0.928      0.762       0.85      0.758\n"
          ]
        },
        {
          "name": "stderr",
          "output_type": "stream",
          "text": [
            "\n"
          ]
        },
        {
          "name": "stdout",
          "output_type": "stream",
          "text": [
            "\n",
            "      Epoch    GPU_mem   box_loss   cls_loss   dfl_loss  Instances       Size\n"
          ]
        },
        {
          "name": "stderr",
          "output_type": "stream",
          "text": [
            "     94/300       4.1G     0.4924     0.3548      0.829        157        640: 100%|██████████| 49/49 [00:19<00:00,  2.52it/s]\n",
            "                 Class     Images  Instances      Box(P          R      mAP50  mAP50-95): 100%|██████████| 2/2 [00:01<00:00,  1.73it/s]"
          ]
        },
        {
          "name": "stdout",
          "output_type": "stream",
          "text": [
            "                   all         85        308      0.914      0.782      0.837      0.739\n"
          ]
        },
        {
          "name": "stderr",
          "output_type": "stream",
          "text": [
            "\n"
          ]
        },
        {
          "name": "stdout",
          "output_type": "stream",
          "text": [
            "\n",
            "      Epoch    GPU_mem   box_loss   cls_loss   dfl_loss  Instances       Size\n"
          ]
        },
        {
          "name": "stderr",
          "output_type": "stream",
          "text": [
            "     95/300       4.1G     0.4944     0.3453     0.8339        183        640: 100%|██████████| 49/49 [00:19<00:00,  2.51it/s]\n",
            "                 Class     Images  Instances      Box(P          R      mAP50  mAP50-95): 100%|██████████| 2/2 [00:01<00:00,  1.71it/s]"
          ]
        },
        {
          "name": "stdout",
          "output_type": "stream",
          "text": [
            "                   all         85        308      0.904      0.754      0.843      0.739\n"
          ]
        },
        {
          "name": "stderr",
          "output_type": "stream",
          "text": [
            "\n"
          ]
        },
        {
          "name": "stdout",
          "output_type": "stream",
          "text": [
            "\n",
            "      Epoch    GPU_mem   box_loss   cls_loss   dfl_loss  Instances       Size\n"
          ]
        },
        {
          "name": "stderr",
          "output_type": "stream",
          "text": [
            "     96/300      3.99G     0.4967     0.3562     0.8332        197        640: 100%|██████████| 49/49 [00:19<00:00,  2.48it/s]\n",
            "                 Class     Images  Instances      Box(P          R      mAP50  mAP50-95): 100%|██████████| 2/2 [00:01<00:00,  1.99it/s]"
          ]
        },
        {
          "name": "stdout",
          "output_type": "stream",
          "text": [
            "                   all         85        308      0.915      0.762      0.826      0.717\n"
          ]
        },
        {
          "name": "stderr",
          "output_type": "stream",
          "text": [
            "\n"
          ]
        },
        {
          "name": "stdout",
          "output_type": "stream",
          "text": [
            "\n",
            "      Epoch    GPU_mem   box_loss   cls_loss   dfl_loss  Instances       Size\n"
          ]
        },
        {
          "name": "stderr",
          "output_type": "stream",
          "text": [
            "     97/300      3.98G      0.494     0.3475      0.828        194        640: 100%|██████████| 49/49 [00:18<00:00,  2.58it/s]\n",
            "                 Class     Images  Instances      Box(P          R      mAP50  mAP50-95): 100%|██████████| 2/2 [00:01<00:00,  1.91it/s]"
          ]
        },
        {
          "name": "stdout",
          "output_type": "stream",
          "text": [
            "                   all         85        308      0.901      0.778      0.814      0.713\n"
          ]
        },
        {
          "name": "stderr",
          "output_type": "stream",
          "text": [
            "\n"
          ]
        },
        {
          "name": "stdout",
          "output_type": "stream",
          "text": [
            "\n",
            "      Epoch    GPU_mem   box_loss   cls_loss   dfl_loss  Instances       Size\n"
          ]
        },
        {
          "name": "stderr",
          "output_type": "stream",
          "text": [
            "     98/300      4.09G     0.4933     0.3477     0.8306        141        640: 100%|██████████| 49/49 [00:18<00:00,  2.60it/s]\n",
            "                 Class     Images  Instances      Box(P          R      mAP50  mAP50-95): 100%|██████████| 2/2 [00:01<00:00,  1.79it/s]"
          ]
        },
        {
          "name": "stdout",
          "output_type": "stream",
          "text": [
            "                   all         85        308      0.912      0.765      0.851      0.742\n"
          ]
        },
        {
          "name": "stderr",
          "output_type": "stream",
          "text": [
            "\n"
          ]
        },
        {
          "name": "stdout",
          "output_type": "stream",
          "text": [
            "\n",
            "      Epoch    GPU_mem   box_loss   cls_loss   dfl_loss  Instances       Size\n"
          ]
        },
        {
          "name": "stderr",
          "output_type": "stream",
          "text": [
            "     99/300      4.09G     0.4861     0.3518      0.833        180        640: 100%|██████████| 49/49 [00:19<00:00,  2.53it/s]\n",
            "                 Class     Images  Instances      Box(P          R      mAP50  mAP50-95): 100%|██████████| 2/2 [00:01<00:00,  1.71it/s]"
          ]
        },
        {
          "name": "stdout",
          "output_type": "stream",
          "text": [
            "                   all         85        308      0.876      0.774      0.828      0.729\n"
          ]
        },
        {
          "name": "stderr",
          "output_type": "stream",
          "text": [
            "\n"
          ]
        },
        {
          "name": "stdout",
          "output_type": "stream",
          "text": [
            "\n",
            "      Epoch    GPU_mem   box_loss   cls_loss   dfl_loss  Instances       Size\n"
          ]
        },
        {
          "name": "stderr",
          "output_type": "stream",
          "text": [
            "    100/300      4.04G     0.4873     0.3412     0.8263        151        640: 100%|██████████| 49/49 [00:19<00:00,  2.53it/s]\n",
            "                 Class     Images  Instances      Box(P          R      mAP50  mAP50-95): 100%|██████████| 2/2 [00:01<00:00,  1.61it/s]"
          ]
        },
        {
          "name": "stdout",
          "output_type": "stream",
          "text": [
            "                   all         85        308      0.837      0.808      0.857      0.742\n"
          ]
        },
        {
          "name": "stderr",
          "output_type": "stream",
          "text": [
            "\n"
          ]
        },
        {
          "name": "stdout",
          "output_type": "stream",
          "text": [
            "\n",
            "      Epoch    GPU_mem   box_loss   cls_loss   dfl_loss  Instances       Size\n"
          ]
        },
        {
          "name": "stderr",
          "output_type": "stream",
          "text": [
            "    101/300      4.05G     0.4868     0.3419     0.8293        166        640: 100%|██████████| 49/49 [00:18<00:00,  2.61it/s]\n",
            "                 Class     Images  Instances      Box(P          R      mAP50  mAP50-95): 100%|██████████| 2/2 [00:01<00:00,  1.55it/s]"
          ]
        },
        {
          "name": "stdout",
          "output_type": "stream",
          "text": [
            "                   all         85        308      0.875      0.733      0.824      0.718\n"
          ]
        },
        {
          "name": "stderr",
          "output_type": "stream",
          "text": [
            "\n"
          ]
        },
        {
          "name": "stdout",
          "output_type": "stream",
          "text": [
            "\n",
            "      Epoch    GPU_mem   box_loss   cls_loss   dfl_loss  Instances       Size\n"
          ]
        },
        {
          "name": "stderr",
          "output_type": "stream",
          "text": [
            "    102/300      4.05G     0.4846     0.3465     0.8301        182        640: 100%|██████████| 49/49 [00:19<00:00,  2.53it/s]\n",
            "                 Class     Images  Instances      Box(P          R      mAP50  mAP50-95): 100%|██████████| 2/2 [00:01<00:00,  1.70it/s]"
          ]
        },
        {
          "name": "stdout",
          "output_type": "stream",
          "text": [
            "                   all         85        308      0.895      0.768      0.837       0.74\n"
          ]
        },
        {
          "name": "stderr",
          "output_type": "stream",
          "text": [
            "\n"
          ]
        },
        {
          "name": "stdout",
          "output_type": "stream",
          "text": [
            "\n",
            "      Epoch    GPU_mem   box_loss   cls_loss   dfl_loss  Instances       Size\n"
          ]
        },
        {
          "name": "stderr",
          "output_type": "stream",
          "text": [
            "    103/300      3.98G     0.4896     0.3494     0.8295        170        640: 100%|██████████| 49/49 [00:19<00:00,  2.52it/s]\n",
            "                 Class     Images  Instances      Box(P          R      mAP50  mAP50-95): 100%|██████████| 2/2 [00:01<00:00,  1.63it/s]"
          ]
        },
        {
          "name": "stdout",
          "output_type": "stream",
          "text": [
            "                   all         85        308      0.838      0.763      0.823      0.717\n"
          ]
        },
        {
          "name": "stderr",
          "output_type": "stream",
          "text": [
            "\n"
          ]
        },
        {
          "name": "stdout",
          "output_type": "stream",
          "text": [
            "\n",
            "      Epoch    GPU_mem   box_loss   cls_loss   dfl_loss  Instances       Size\n"
          ]
        },
        {
          "name": "stderr",
          "output_type": "stream",
          "text": [
            "    104/300      4.05G     0.4871      0.345     0.8308        163        640: 100%|██████████| 49/49 [00:19<00:00,  2.51it/s]\n",
            "                 Class     Images  Instances      Box(P          R      mAP50  mAP50-95): 100%|██████████| 2/2 [00:01<00:00,  1.63it/s]"
          ]
        },
        {
          "name": "stdout",
          "output_type": "stream",
          "text": [
            "                   all         85        308       0.89      0.747      0.833      0.728\n"
          ]
        },
        {
          "name": "stderr",
          "output_type": "stream",
          "text": [
            "\n"
          ]
        },
        {
          "name": "stdout",
          "output_type": "stream",
          "text": [
            "\n",
            "      Epoch    GPU_mem   box_loss   cls_loss   dfl_loss  Instances       Size\n"
          ]
        },
        {
          "name": "stderr",
          "output_type": "stream",
          "text": [
            "    105/300      4.06G     0.4832     0.3485     0.8295        146        640: 100%|██████████| 49/49 [00:18<00:00,  2.60it/s]\n",
            "                 Class     Images  Instances      Box(P          R      mAP50  mAP50-95): 100%|██████████| 2/2 [00:01<00:00,  1.84it/s]"
          ]
        },
        {
          "name": "stdout",
          "output_type": "stream",
          "text": [
            "                   all         85        308      0.794      0.743      0.776      0.674\n"
          ]
        },
        {
          "name": "stderr",
          "output_type": "stream",
          "text": [
            "\n"
          ]
        },
        {
          "name": "stdout",
          "output_type": "stream",
          "text": [
            "\n",
            "      Epoch    GPU_mem   box_loss   cls_loss   dfl_loss  Instances       Size\n"
          ]
        },
        {
          "name": "stderr",
          "output_type": "stream",
          "text": [
            "    106/300      4.06G     0.4895     0.3397     0.8321        164        640: 100%|██████████| 49/49 [00:18<00:00,  2.59it/s]\n",
            "                 Class     Images  Instances      Box(P          R      mAP50  mAP50-95): 100%|██████████| 2/2 [00:00<00:00,  2.04it/s]"
          ]
        },
        {
          "name": "stdout",
          "output_type": "stream",
          "text": [
            "                   all         85        308      0.867       0.77      0.842      0.749\n"
          ]
        },
        {
          "name": "stderr",
          "output_type": "stream",
          "text": [
            "\n"
          ]
        },
        {
          "name": "stdout",
          "output_type": "stream",
          "text": [
            "\n",
            "      Epoch    GPU_mem   box_loss   cls_loss   dfl_loss  Instances       Size\n"
          ]
        },
        {
          "name": "stderr",
          "output_type": "stream",
          "text": [
            "    107/300      4.05G     0.4775     0.3312     0.8281        173        640: 100%|██████████| 49/49 [00:19<00:00,  2.57it/s]\n",
            "                 Class     Images  Instances      Box(P          R      mAP50  mAP50-95): 100%|██████████| 2/2 [00:00<00:00,  2.20it/s]"
          ]
        },
        {
          "name": "stdout",
          "output_type": "stream",
          "text": [
            "                   all         85        308       0.79      0.763      0.797      0.694\n"
          ]
        },
        {
          "name": "stderr",
          "output_type": "stream",
          "text": [
            "\n"
          ]
        },
        {
          "name": "stdout",
          "output_type": "stream",
          "text": [
            "\n",
            "      Epoch    GPU_mem   box_loss   cls_loss   dfl_loss  Instances       Size\n"
          ]
        },
        {
          "name": "stderr",
          "output_type": "stream",
          "text": [
            "    108/300      4.05G     0.4753     0.3405     0.8267        183        640: 100%|██████████| 49/49 [00:19<00:00,  2.57it/s]\n",
            "                 Class     Images  Instances      Box(P          R      mAP50  mAP50-95): 100%|██████████| 2/2 [00:01<00:00,  1.94it/s]"
          ]
        },
        {
          "name": "stdout",
          "output_type": "stream",
          "text": [
            "                   all         85        308      0.768      0.732      0.802      0.706\n"
          ]
        },
        {
          "name": "stderr",
          "output_type": "stream",
          "text": [
            "\n"
          ]
        },
        {
          "name": "stdout",
          "output_type": "stream",
          "text": [
            "\n",
            "      Epoch    GPU_mem   box_loss   cls_loss   dfl_loss  Instances       Size\n"
          ]
        },
        {
          "name": "stderr",
          "output_type": "stream",
          "text": [
            "    109/300      4.05G     0.4787     0.3434     0.8267        161        640: 100%|██████████| 49/49 [00:18<00:00,  2.59it/s]\n",
            "                 Class     Images  Instances      Box(P          R      mAP50  mAP50-95): 100%|██████████| 2/2 [00:01<00:00,  1.94it/s]"
          ]
        },
        {
          "name": "stdout",
          "output_type": "stream",
          "text": [
            "                   all         85        308      0.806      0.795      0.814      0.721\n"
          ]
        },
        {
          "name": "stderr",
          "output_type": "stream",
          "text": [
            "\n"
          ]
        },
        {
          "name": "stdout",
          "output_type": "stream",
          "text": [
            "\n",
            "      Epoch    GPU_mem   box_loss   cls_loss   dfl_loss  Instances       Size\n"
          ]
        },
        {
          "name": "stderr",
          "output_type": "stream",
          "text": [
            "    110/300      4.05G     0.4813     0.3402     0.8296        163        640: 100%|██████████| 49/49 [00:19<00:00,  2.53it/s]\n",
            "                 Class     Images  Instances      Box(P          R      mAP50  mAP50-95): 100%|██████████| 2/2 [00:01<00:00,  1.70it/s]"
          ]
        },
        {
          "name": "stdout",
          "output_type": "stream",
          "text": [
            "                   all         85        308      0.904       0.75      0.832      0.735\n"
          ]
        },
        {
          "name": "stderr",
          "output_type": "stream",
          "text": [
            "\n"
          ]
        },
        {
          "name": "stdout",
          "output_type": "stream",
          "text": [
            "\n",
            "      Epoch    GPU_mem   box_loss   cls_loss   dfl_loss  Instances       Size\n"
          ]
        },
        {
          "name": "stderr",
          "output_type": "stream",
          "text": [
            "    111/300      4.17G     0.4873     0.3438     0.8281        198        640: 100%|██████████| 49/49 [00:19<00:00,  2.52it/s]\n",
            "                 Class     Images  Instances      Box(P          R      mAP50  mAP50-95): 100%|██████████| 2/2 [00:01<00:00,  1.69it/s]"
          ]
        },
        {
          "name": "stdout",
          "output_type": "stream",
          "text": [
            "                   all         85        308       0.89      0.782      0.838      0.739\n"
          ]
        },
        {
          "name": "stderr",
          "output_type": "stream",
          "text": [
            "\n"
          ]
        },
        {
          "name": "stdout",
          "output_type": "stream",
          "text": [
            "\n",
            "      Epoch    GPU_mem   box_loss   cls_loss   dfl_loss  Instances       Size\n"
          ]
        },
        {
          "name": "stderr",
          "output_type": "stream",
          "text": [
            "    112/300      4.09G     0.4787     0.3327     0.8281        158        640: 100%|██████████| 49/49 [00:19<00:00,  2.51it/s]\n",
            "                 Class     Images  Instances      Box(P          R      mAP50  mAP50-95): 100%|██████████| 2/2 [00:01<00:00,  1.85it/s]"
          ]
        },
        {
          "name": "stdout",
          "output_type": "stream",
          "text": [
            "                   all         85        308      0.862      0.777      0.818      0.721\n"
          ]
        },
        {
          "name": "stderr",
          "output_type": "stream",
          "text": [
            "\n"
          ]
        },
        {
          "name": "stdout",
          "output_type": "stream",
          "text": [
            "\n",
            "      Epoch    GPU_mem   box_loss   cls_loss   dfl_loss  Instances       Size\n"
          ]
        },
        {
          "name": "stderr",
          "output_type": "stream",
          "text": [
            "    113/300      4.05G     0.4849     0.3382     0.8253        187        640: 100%|██████████| 49/49 [00:19<00:00,  2.52it/s]\n",
            "                 Class     Images  Instances      Box(P          R      mAP50  mAP50-95): 100%|██████████| 2/2 [00:01<00:00,  1.71it/s]"
          ]
        },
        {
          "name": "stdout",
          "output_type": "stream",
          "text": [
            "                   all         85        308      0.857      0.634      0.736      0.649\n"
          ]
        },
        {
          "name": "stderr",
          "output_type": "stream",
          "text": [
            "\n"
          ]
        },
        {
          "name": "stdout",
          "output_type": "stream",
          "text": [
            "\n",
            "      Epoch    GPU_mem   box_loss   cls_loss   dfl_loss  Instances       Size\n"
          ]
        },
        {
          "name": "stderr",
          "output_type": "stream",
          "text": [
            "    114/300      4.03G     0.4762     0.3308     0.8249        182        640: 100%|██████████| 49/49 [00:19<00:00,  2.50it/s]\n",
            "                 Class     Images  Instances      Box(P          R      mAP50  mAP50-95): 100%|██████████| 2/2 [00:01<00:00,  1.83it/s]"
          ]
        },
        {
          "name": "stdout",
          "output_type": "stream",
          "text": [
            "                   all         85        308      0.773      0.737      0.813      0.712\n"
          ]
        },
        {
          "name": "stderr",
          "output_type": "stream",
          "text": [
            "\n"
          ]
        },
        {
          "name": "stdout",
          "output_type": "stream",
          "text": [
            "\n",
            "      Epoch    GPU_mem   box_loss   cls_loss   dfl_loss  Instances       Size\n"
          ]
        },
        {
          "name": "stderr",
          "output_type": "stream",
          "text": [
            "    115/300      4.05G     0.4658     0.3381     0.8256        172        640: 100%|██████████| 49/49 [00:19<00:00,  2.57it/s]\n",
            "                 Class     Images  Instances      Box(P          R      mAP50  mAP50-95): 100%|██████████| 2/2 [00:01<00:00,  1.96it/s]"
          ]
        },
        {
          "name": "stdout",
          "output_type": "stream",
          "text": [
            "                   all         85        308      0.871      0.785      0.807      0.716\n"
          ]
        },
        {
          "name": "stderr",
          "output_type": "stream",
          "text": [
            "\n"
          ]
        },
        {
          "name": "stdout",
          "output_type": "stream",
          "text": [
            "\n",
            "      Epoch    GPU_mem   box_loss   cls_loss   dfl_loss  Instances       Size\n"
          ]
        },
        {
          "name": "stderr",
          "output_type": "stream",
          "text": [
            "    116/300      4.05G     0.4789      0.338     0.8272        179        640: 100%|██████████| 49/49 [00:19<00:00,  2.57it/s]\n",
            "                 Class     Images  Instances      Box(P          R      mAP50  mAP50-95): 100%|██████████| 2/2 [00:01<00:00,  1.98it/s]"
          ]
        },
        {
          "name": "stdout",
          "output_type": "stream",
          "text": [
            "                   all         85        308      0.885      0.784      0.837      0.749\n"
          ]
        },
        {
          "name": "stderr",
          "output_type": "stream",
          "text": [
            "\n"
          ]
        },
        {
          "name": "stdout",
          "output_type": "stream",
          "text": [
            "\n",
            "      Epoch    GPU_mem   box_loss   cls_loss   dfl_loss  Instances       Size\n"
          ]
        },
        {
          "name": "stderr",
          "output_type": "stream",
          "text": [
            "    117/300      4.05G     0.4748     0.3369     0.8269        157        640: 100%|██████████| 49/49 [00:18<00:00,  2.58it/s]\n",
            "                 Class     Images  Instances      Box(P          R      mAP50  mAP50-95): 100%|██████████| 2/2 [00:01<00:00,  1.96it/s]"
          ]
        },
        {
          "name": "stdout",
          "output_type": "stream",
          "text": [
            "                   all         85        308      0.832      0.777      0.833      0.733\n"
          ]
        },
        {
          "name": "stderr",
          "output_type": "stream",
          "text": [
            "\n"
          ]
        },
        {
          "name": "stdout",
          "output_type": "stream",
          "text": [
            "\n",
            "      Epoch    GPU_mem   box_loss   cls_loss   dfl_loss  Instances       Size\n"
          ]
        },
        {
          "name": "stderr",
          "output_type": "stream",
          "text": [
            "    118/300      4.09G     0.4707     0.3327     0.8248        186        640: 100%|██████████| 49/49 [00:18<00:00,  2.59it/s]\n",
            "                 Class     Images  Instances      Box(P          R      mAP50  mAP50-95): 100%|██████████| 2/2 [00:00<00:00,  2.17it/s]"
          ]
        },
        {
          "name": "stdout",
          "output_type": "stream",
          "text": [
            "                   all         85        308      0.823      0.801      0.828      0.735\n"
          ]
        },
        {
          "name": "stderr",
          "output_type": "stream",
          "text": [
            "\n"
          ]
        },
        {
          "name": "stdout",
          "output_type": "stream",
          "text": [
            "\n",
            "      Epoch    GPU_mem   box_loss   cls_loss   dfl_loss  Instances       Size\n"
          ]
        },
        {
          "name": "stderr",
          "output_type": "stream",
          "text": [
            "    119/300      3.99G     0.4778     0.3343     0.8272        181        640: 100%|██████████| 49/49 [00:19<00:00,  2.52it/s]\n",
            "                 Class     Images  Instances      Box(P          R      mAP50  mAP50-95): 100%|██████████| 2/2 [00:01<00:00,  1.63it/s]"
          ]
        },
        {
          "name": "stdout",
          "output_type": "stream",
          "text": [
            "                   all         85        308      0.896      0.784      0.835       0.74\n"
          ]
        },
        {
          "name": "stderr",
          "output_type": "stream",
          "text": [
            "\n"
          ]
        },
        {
          "name": "stdout",
          "output_type": "stream",
          "text": [
            "\n",
            "      Epoch    GPU_mem   box_loss   cls_loss   dfl_loss  Instances       Size\n"
          ]
        },
        {
          "name": "stderr",
          "output_type": "stream",
          "text": [
            "    120/300      4.05G     0.4619     0.3346     0.8229        168        640: 100%|██████████| 49/49 [00:18<00:00,  2.60it/s]\n",
            "                 Class     Images  Instances      Box(P          R      mAP50  mAP50-95): 100%|██████████| 2/2 [00:01<00:00,  1.70it/s]"
          ]
        },
        {
          "name": "stdout",
          "output_type": "stream",
          "text": [
            "                   all         85        308      0.767      0.663      0.761      0.665\n"
          ]
        },
        {
          "name": "stderr",
          "output_type": "stream",
          "text": [
            "\n"
          ]
        },
        {
          "name": "stdout",
          "output_type": "stream",
          "text": [
            "\n",
            "      Epoch    GPU_mem   box_loss   cls_loss   dfl_loss  Instances       Size\n"
          ]
        },
        {
          "name": "stderr",
          "output_type": "stream",
          "text": [
            "    121/300      3.99G     0.4692     0.3339     0.8224        200        640: 100%|██████████| 49/49 [00:19<00:00,  2.52it/s]\n",
            "                 Class     Images  Instances      Box(P          R      mAP50  mAP50-95): 100%|██████████| 2/2 [00:01<00:00,  1.59it/s]"
          ]
        },
        {
          "name": "stdout",
          "output_type": "stream",
          "text": [
            "                   all         85        308      0.847      0.706      0.803      0.704\n"
          ]
        },
        {
          "name": "stderr",
          "output_type": "stream",
          "text": [
            "\n"
          ]
        },
        {
          "name": "stdout",
          "output_type": "stream",
          "text": [
            "\n",
            "      Epoch    GPU_mem   box_loss   cls_loss   dfl_loss  Instances       Size\n"
          ]
        },
        {
          "name": "stderr",
          "output_type": "stream",
          "text": [
            "    122/300         4G     0.4669     0.3323     0.8256        169        640: 100%|██████████| 49/49 [00:18<00:00,  2.58it/s]\n",
            "                 Class     Images  Instances      Box(P          R      mAP50  mAP50-95): 100%|██████████| 2/2 [00:01<00:00,  2.00it/s]"
          ]
        },
        {
          "name": "stdout",
          "output_type": "stream",
          "text": [
            "                   all         85        308      0.851      0.795      0.814      0.721\n"
          ]
        },
        {
          "name": "stderr",
          "output_type": "stream",
          "text": [
            "\n"
          ]
        },
        {
          "name": "stdout",
          "output_type": "stream",
          "text": [
            "\n",
            "      Epoch    GPU_mem   box_loss   cls_loss   dfl_loss  Instances       Size\n"
          ]
        },
        {
          "name": "stderr",
          "output_type": "stream",
          "text": [
            "    123/300      4.04G     0.4802     0.3333     0.8275        138        640: 100%|██████████| 49/49 [00:19<00:00,  2.50it/s]\n",
            "                 Class     Images  Instances      Box(P          R      mAP50  mAP50-95): 100%|██████████| 2/2 [00:01<00:00,  1.71it/s]"
          ]
        },
        {
          "name": "stdout",
          "output_type": "stream",
          "text": [
            "                   all         85        308      0.856      0.692      0.807      0.698\n"
          ]
        },
        {
          "name": "stderr",
          "output_type": "stream",
          "text": [
            "\n"
          ]
        },
        {
          "name": "stdout",
          "output_type": "stream",
          "text": [
            "\n",
            "      Epoch    GPU_mem   box_loss   cls_loss   dfl_loss  Instances       Size\n"
          ]
        },
        {
          "name": "stderr",
          "output_type": "stream",
          "text": [
            "    124/300      4.05G     0.4735     0.3406     0.8266        182        640: 100%|██████████| 49/49 [00:19<00:00,  2.53it/s]\n",
            "                 Class     Images  Instances      Box(P          R      mAP50  mAP50-95): 100%|██████████| 2/2 [00:01<00:00,  1.61it/s]"
          ]
        },
        {
          "name": "stdout",
          "output_type": "stream",
          "text": [
            "                   all         85        308      0.827       0.78      0.832      0.749\n"
          ]
        },
        {
          "name": "stderr",
          "output_type": "stream",
          "text": [
            "\n"
          ]
        },
        {
          "name": "stdout",
          "output_type": "stream",
          "text": [
            "\n",
            "      Epoch    GPU_mem   box_loss   cls_loss   dfl_loss  Instances       Size\n"
          ]
        },
        {
          "name": "stderr",
          "output_type": "stream",
          "text": [
            "    125/300      4.09G     0.4682     0.3304     0.8285        167        640: 100%|██████████| 49/49 [00:19<00:00,  2.52it/s]\n",
            "                 Class     Images  Instances      Box(P          R      mAP50  mAP50-95): 100%|██████████| 2/2 [00:01<00:00,  1.69it/s]"
          ]
        },
        {
          "name": "stdout",
          "output_type": "stream",
          "text": [
            "                   all         85        308      0.905      0.763      0.825       0.72\n"
          ]
        },
        {
          "name": "stderr",
          "output_type": "stream",
          "text": [
            "\n"
          ]
        },
        {
          "name": "stdout",
          "output_type": "stream",
          "text": [
            "\n",
            "      Epoch    GPU_mem   box_loss   cls_loss   dfl_loss  Instances       Size\n"
          ]
        },
        {
          "name": "stderr",
          "output_type": "stream",
          "text": [
            "    126/300      3.99G     0.4705     0.3281     0.8258        211        640: 100%|██████████| 49/49 [00:19<00:00,  2.53it/s]\n",
            "                 Class     Images  Instances      Box(P          R      mAP50  mAP50-95): 100%|██████████| 2/2 [00:01<00:00,  1.90it/s]"
          ]
        },
        {
          "name": "stdout",
          "output_type": "stream",
          "text": [
            "                   all         85        308      0.888      0.772      0.818       0.72\n"
          ]
        },
        {
          "name": "stderr",
          "output_type": "stream",
          "text": [
            "\n"
          ]
        },
        {
          "name": "stdout",
          "output_type": "stream",
          "text": [
            "\n",
            "      Epoch    GPU_mem   box_loss   cls_loss   dfl_loss  Instances       Size\n"
          ]
        },
        {
          "name": "stderr",
          "output_type": "stream",
          "text": [
            "    127/300      3.98G     0.4658     0.3313     0.8252        184        640: 100%|██████████| 49/49 [00:18<00:00,  2.61it/s]\n",
            "                 Class     Images  Instances      Box(P          R      mAP50  mAP50-95): 100%|██████████| 2/2 [00:01<00:00,  1.91it/s]"
          ]
        },
        {
          "name": "stdout",
          "output_type": "stream",
          "text": [
            "                   all         85        308      0.811      0.787      0.819      0.727\n"
          ]
        },
        {
          "name": "stderr",
          "output_type": "stream",
          "text": [
            "\n"
          ]
        },
        {
          "name": "stdout",
          "output_type": "stream",
          "text": [
            "\n",
            "      Epoch    GPU_mem   box_loss   cls_loss   dfl_loss  Instances       Size\n"
          ]
        },
        {
          "name": "stderr",
          "output_type": "stream",
          "text": [
            "    128/300      4.09G     0.4708     0.3316     0.8268        148        640: 100%|██████████| 49/49 [00:19<00:00,  2.52it/s]\n",
            "                 Class     Images  Instances      Box(P          R      mAP50  mAP50-95): 100%|██████████| 2/2 [00:01<00:00,  1.95it/s]"
          ]
        },
        {
          "name": "stdout",
          "output_type": "stream",
          "text": [
            "                   all         85        308       0.82       0.75      0.843      0.745\n"
          ]
        },
        {
          "name": "stderr",
          "output_type": "stream",
          "text": [
            "\n"
          ]
        },
        {
          "name": "stdout",
          "output_type": "stream",
          "text": [
            "\n",
            "      Epoch    GPU_mem   box_loss   cls_loss   dfl_loss  Instances       Size\n"
          ]
        },
        {
          "name": "stderr",
          "output_type": "stream",
          "text": [
            "    129/300      4.06G     0.4682     0.3312      0.825        153        640: 100%|██████████| 49/49 [00:18<00:00,  2.61it/s]\n",
            "                 Class     Images  Instances      Box(P          R      mAP50  mAP50-95): 100%|██████████| 2/2 [00:00<00:00,  2.03it/s]"
          ]
        },
        {
          "name": "stdout",
          "output_type": "stream",
          "text": [
            "                   all         85        308      0.864      0.748      0.836      0.743\n"
          ]
        },
        {
          "name": "stderr",
          "output_type": "stream",
          "text": [
            "\n"
          ]
        },
        {
          "name": "stdout",
          "output_type": "stream",
          "text": [
            "\n",
            "      Epoch    GPU_mem   box_loss   cls_loss   dfl_loss  Instances       Size\n"
          ]
        },
        {
          "name": "stderr",
          "output_type": "stream",
          "text": [
            "    130/300      4.05G     0.4632     0.3246     0.8239        171        640: 100%|██████████| 49/49 [00:19<00:00,  2.54it/s]\n",
            "                 Class     Images  Instances      Box(P          R      mAP50  mAP50-95): 100%|██████████| 2/2 [00:01<00:00,  1.85it/s]"
          ]
        },
        {
          "name": "stdout",
          "output_type": "stream",
          "text": [
            "                   all         85        308      0.889      0.787      0.836      0.742\n"
          ]
        },
        {
          "name": "stderr",
          "output_type": "stream",
          "text": [
            "\n"
          ]
        },
        {
          "name": "stdout",
          "output_type": "stream",
          "text": [
            "\n",
            "      Epoch    GPU_mem   box_loss   cls_loss   dfl_loss  Instances       Size\n"
          ]
        },
        {
          "name": "stderr",
          "output_type": "stream",
          "text": [
            "    131/300      4.03G     0.4691     0.3274     0.8259        204        640: 100%|██████████| 49/49 [00:19<00:00,  2.51it/s]\n",
            "                 Class     Images  Instances      Box(P          R      mAP50  mAP50-95): 100%|██████████| 2/2 [00:01<00:00,  1.75it/s]"
          ]
        },
        {
          "name": "stdout",
          "output_type": "stream",
          "text": [
            "                   all         85        308      0.878      0.786      0.826      0.739\n"
          ]
        },
        {
          "name": "stderr",
          "output_type": "stream",
          "text": [
            "\n"
          ]
        },
        {
          "name": "stdout",
          "output_type": "stream",
          "text": [
            "\n",
            "      Epoch    GPU_mem   box_loss   cls_loss   dfl_loss  Instances       Size\n"
          ]
        },
        {
          "name": "stderr",
          "output_type": "stream",
          "text": [
            "    132/300      4.05G     0.4568     0.3222      0.821        155        640: 100%|██████████| 49/49 [00:19<00:00,  2.53it/s]\n",
            "                 Class     Images  Instances      Box(P          R      mAP50  mAP50-95): 100%|██████████| 2/2 [00:01<00:00,  1.79it/s]"
          ]
        },
        {
          "name": "stdout",
          "output_type": "stream",
          "text": [
            "                   all         85        308      0.856       0.81      0.855      0.749\n"
          ]
        },
        {
          "name": "stderr",
          "output_type": "stream",
          "text": [
            "\n"
          ]
        },
        {
          "name": "stdout",
          "output_type": "stream",
          "text": [
            "\n",
            "      Epoch    GPU_mem   box_loss   cls_loss   dfl_loss  Instances       Size\n"
          ]
        },
        {
          "name": "stderr",
          "output_type": "stream",
          "text": [
            "    133/300      4.05G     0.4576     0.3219     0.8243        169        640: 100%|██████████| 49/49 [00:18<00:00,  2.62it/s]\n",
            "                 Class     Images  Instances      Box(P          R      mAP50  mAP50-95): 100%|██████████| 2/2 [00:00<00:00,  2.05it/s]"
          ]
        },
        {
          "name": "stdout",
          "output_type": "stream",
          "text": [
            "                   all         85        308        0.9      0.765      0.832      0.741\n"
          ]
        },
        {
          "name": "stderr",
          "output_type": "stream",
          "text": [
            "\n"
          ]
        },
        {
          "name": "stdout",
          "output_type": "stream",
          "text": [
            "\n",
            "      Epoch    GPU_mem   box_loss   cls_loss   dfl_loss  Instances       Size\n"
          ]
        },
        {
          "name": "stderr",
          "output_type": "stream",
          "text": [
            "    134/300      4.09G     0.4609     0.3243     0.8246        177        640: 100%|██████████| 49/49 [00:19<00:00,  2.51it/s]\n",
            "                 Class     Images  Instances      Box(P          R      mAP50  mAP50-95): 100%|██████████| 2/2 [00:01<00:00,  1.93it/s]"
          ]
        },
        {
          "name": "stdout",
          "output_type": "stream",
          "text": [
            "                   all         85        308      0.886      0.789      0.835      0.738\n"
          ]
        },
        {
          "name": "stderr",
          "output_type": "stream",
          "text": [
            "\n"
          ]
        },
        {
          "name": "stdout",
          "output_type": "stream",
          "text": [
            "\n",
            "      Epoch    GPU_mem   box_loss   cls_loss   dfl_loss  Instances       Size\n"
          ]
        },
        {
          "name": "stderr",
          "output_type": "stream",
          "text": [
            "    135/300      3.99G     0.4581     0.3223     0.8236        186        640: 100%|██████████| 49/49 [00:19<00:00,  2.49it/s]\n",
            "                 Class     Images  Instances      Box(P          R      mAP50  mAP50-95): 100%|██████████| 2/2 [00:01<00:00,  1.93it/s]"
          ]
        },
        {
          "name": "stdout",
          "output_type": "stream",
          "text": [
            "                   all         85        308      0.867      0.777      0.821      0.729\n"
          ]
        },
        {
          "name": "stderr",
          "output_type": "stream",
          "text": [
            "\n"
          ]
        },
        {
          "name": "stdout",
          "output_type": "stream",
          "text": [
            "\n",
            "      Epoch    GPU_mem   box_loss   cls_loss   dfl_loss  Instances       Size\n"
          ]
        },
        {
          "name": "stderr",
          "output_type": "stream",
          "text": [
            "    136/300      4.05G     0.4664     0.3239     0.8244        167        640: 100%|██████████| 49/49 [00:19<00:00,  2.49it/s]\n",
            "                 Class     Images  Instances      Box(P          R      mAP50  mAP50-95): 100%|██████████| 2/2 [00:00<00:00,  2.26it/s]"
          ]
        },
        {
          "name": "stdout",
          "output_type": "stream",
          "text": [
            "                   all         85        308      0.863      0.791      0.821      0.725\n"
          ]
        },
        {
          "name": "stderr",
          "output_type": "stream",
          "text": [
            "\n"
          ]
        },
        {
          "name": "stdout",
          "output_type": "stream",
          "text": [
            "\n",
            "      Epoch    GPU_mem   box_loss   cls_loss   dfl_loss  Instances       Size\n"
          ]
        },
        {
          "name": "stderr",
          "output_type": "stream",
          "text": [
            "    137/300      4.08G     0.4608     0.3242     0.8224        209        640: 100%|██████████| 49/49 [00:19<00:00,  2.51it/s]\n",
            "                 Class     Images  Instances      Box(P          R      mAP50  mAP50-95): 100%|██████████| 2/2 [00:00<00:00,  2.25it/s]"
          ]
        },
        {
          "name": "stdout",
          "output_type": "stream",
          "text": [
            "                   all         85        308      0.861      0.774      0.816      0.719\n"
          ]
        },
        {
          "name": "stderr",
          "output_type": "stream",
          "text": [
            "\n"
          ]
        },
        {
          "name": "stdout",
          "output_type": "stream",
          "text": [
            "\n",
            "      Epoch    GPU_mem   box_loss   cls_loss   dfl_loss  Instances       Size\n"
          ]
        },
        {
          "name": "stderr",
          "output_type": "stream",
          "text": [
            "    138/300      4.05G     0.4574     0.3157      0.825        159        640: 100%|██████████| 49/49 [00:19<00:00,  2.50it/s]\n",
            "                 Class     Images  Instances      Box(P          R      mAP50  mAP50-95): 100%|██████████| 2/2 [00:01<00:00,  1.81it/s]"
          ]
        },
        {
          "name": "stdout",
          "output_type": "stream",
          "text": [
            "                   all         85        308      0.844      0.785      0.814      0.721\n"
          ]
        },
        {
          "name": "stderr",
          "output_type": "stream",
          "text": [
            "\n"
          ]
        },
        {
          "name": "stdout",
          "output_type": "stream",
          "text": [
            "\n",
            "      Epoch    GPU_mem   box_loss   cls_loss   dfl_loss  Instances       Size\n"
          ]
        },
        {
          "name": "stderr",
          "output_type": "stream",
          "text": [
            "    139/300      4.05G     0.4607     0.3252     0.8243        171        640: 100%|██████████| 49/49 [00:19<00:00,  2.50it/s]\n",
            "                 Class     Images  Instances      Box(P          R      mAP50  mAP50-95): 100%|██████████| 2/2 [00:00<00:00,  2.02it/s]"
          ]
        },
        {
          "name": "stdout",
          "output_type": "stream",
          "text": [
            "                   all         85        308      0.866      0.821      0.844      0.747\n"
          ]
        },
        {
          "name": "stderr",
          "output_type": "stream",
          "text": [
            "\n"
          ]
        },
        {
          "name": "stdout",
          "output_type": "stream",
          "text": [
            "\n",
            "      Epoch    GPU_mem   box_loss   cls_loss   dfl_loss  Instances       Size\n"
          ]
        },
        {
          "name": "stderr",
          "output_type": "stream",
          "text": [
            "    140/300       4.1G     0.4578     0.3226     0.8248        160        640: 100%|██████████| 49/49 [00:18<00:00,  2.60it/s]\n",
            "                 Class     Images  Instances      Box(P          R      mAP50  mAP50-95): 100%|██████████| 2/2 [00:00<00:00,  2.05it/s]"
          ]
        },
        {
          "name": "stdout",
          "output_type": "stream",
          "text": [
            "                   all         85        308      0.873      0.736      0.818      0.734\n"
          ]
        },
        {
          "name": "stderr",
          "output_type": "stream",
          "text": [
            "\n"
          ]
        },
        {
          "name": "stdout",
          "output_type": "stream",
          "text": [
            "\n",
            "      Epoch    GPU_mem   box_loss   cls_loss   dfl_loss  Instances       Size\n"
          ]
        },
        {
          "name": "stderr",
          "output_type": "stream",
          "text": [
            "    141/300      4.04G     0.4589      0.313     0.8241        177        640: 100%|██████████| 49/49 [00:19<00:00,  2.52it/s]\n",
            "                 Class     Images  Instances      Box(P          R      mAP50  mAP50-95): 100%|██████████| 2/2 [00:01<00:00,  1.75it/s]"
          ]
        },
        {
          "name": "stdout",
          "output_type": "stream",
          "text": [
            "                   all         85        308      0.895      0.786      0.835      0.738\n"
          ]
        },
        {
          "name": "stderr",
          "output_type": "stream",
          "text": [
            "\n"
          ]
        },
        {
          "name": "stdout",
          "output_type": "stream",
          "text": [
            "\n",
            "      Epoch    GPU_mem   box_loss   cls_loss   dfl_loss  Instances       Size\n"
          ]
        },
        {
          "name": "stderr",
          "output_type": "stream",
          "text": [
            "    142/300      3.99G     0.4576     0.3248      0.823        170        640: 100%|██████████| 49/49 [00:18<00:00,  2.58it/s]\n",
            "                 Class     Images  Instances      Box(P          R      mAP50  mAP50-95): 100%|██████████| 2/2 [00:00<00:00,  2.05it/s]"
          ]
        },
        {
          "name": "stdout",
          "output_type": "stream",
          "text": [
            "                   all         85        308      0.895      0.813      0.838      0.742\n"
          ]
        },
        {
          "name": "stderr",
          "output_type": "stream",
          "text": [
            "\n"
          ]
        },
        {
          "name": "stdout",
          "output_type": "stream",
          "text": [
            "\n",
            "      Epoch    GPU_mem   box_loss   cls_loss   dfl_loss  Instances       Size\n"
          ]
        },
        {
          "name": "stderr",
          "output_type": "stream",
          "text": [
            "    143/300      4.05G     0.4545     0.3193     0.8244        179        640: 100%|██████████| 49/49 [00:18<00:00,  2.61it/s]\n",
            "                 Class     Images  Instances      Box(P          R      mAP50  mAP50-95): 100%|██████████| 2/2 [00:00<00:00,  2.15it/s]"
          ]
        },
        {
          "name": "stdout",
          "output_type": "stream",
          "text": [
            "                   all         85        308      0.872      0.788      0.799      0.715\n"
          ]
        },
        {
          "name": "stderr",
          "output_type": "stream",
          "text": [
            "\n"
          ]
        },
        {
          "name": "stdout",
          "output_type": "stream",
          "text": [
            "\n",
            "      Epoch    GPU_mem   box_loss   cls_loss   dfl_loss  Instances       Size\n"
          ]
        },
        {
          "name": "stderr",
          "output_type": "stream",
          "text": [
            "    144/300      3.99G     0.4564     0.3194      0.817        201        640: 100%|██████████| 49/49 [00:19<00:00,  2.51it/s]\n",
            "                 Class     Images  Instances      Box(P          R      mAP50  mAP50-95): 100%|██████████| 2/2 [00:01<00:00,  1.97it/s]"
          ]
        },
        {
          "name": "stdout",
          "output_type": "stream",
          "text": [
            "                   all         85        308      0.852      0.801      0.812      0.718\n"
          ]
        },
        {
          "name": "stderr",
          "output_type": "stream",
          "text": [
            "\n"
          ]
        },
        {
          "name": "stdout",
          "output_type": "stream",
          "text": [
            "\n",
            "      Epoch    GPU_mem   box_loss   cls_loss   dfl_loss  Instances       Size\n"
          ]
        },
        {
          "name": "stderr",
          "output_type": "stream",
          "text": [
            "    145/300      4.05G     0.4625     0.3172     0.8249        198        640: 100%|██████████| 49/49 [00:19<00:00,  2.56it/s]\n",
            "                 Class     Images  Instances      Box(P          R      mAP50  mAP50-95): 100%|██████████| 2/2 [00:01<00:00,  1.64it/s]"
          ]
        },
        {
          "name": "stdout",
          "output_type": "stream",
          "text": [
            "                   all         85        308        0.9      0.801      0.815       0.73\n"
          ]
        },
        {
          "name": "stderr",
          "output_type": "stream",
          "text": [
            "\n"
          ]
        },
        {
          "name": "stdout",
          "output_type": "stream",
          "text": [
            "\n",
            "      Epoch    GPU_mem   box_loss   cls_loss   dfl_loss  Instances       Size\n"
          ]
        },
        {
          "name": "stderr",
          "output_type": "stream",
          "text": [
            "    146/300      4.06G     0.4577     0.3203     0.8226        167        640: 100%|██████████| 49/49 [00:19<00:00,  2.52it/s]\n",
            "                 Class     Images  Instances      Box(P          R      mAP50  mAP50-95): 100%|██████████| 2/2 [00:01<00:00,  1.81it/s]"
          ]
        },
        {
          "name": "stdout",
          "output_type": "stream",
          "text": [
            "                   all         85        308       0.88      0.772      0.812      0.732\n"
          ]
        },
        {
          "name": "stderr",
          "output_type": "stream",
          "text": [
            "\n"
          ]
        },
        {
          "name": "stdout",
          "output_type": "stream",
          "text": [
            "\n",
            "      Epoch    GPU_mem   box_loss   cls_loss   dfl_loss  Instances       Size\n"
          ]
        },
        {
          "name": "stderr",
          "output_type": "stream",
          "text": [
            "    147/300      4.08G     0.4501     0.3166     0.8197        188        640: 100%|██████████| 49/49 [00:19<00:00,  2.52it/s]\n",
            "                 Class     Images  Instances      Box(P          R      mAP50  mAP50-95): 100%|██████████| 2/2 [00:01<00:00,  1.88it/s]"
          ]
        },
        {
          "name": "stdout",
          "output_type": "stream",
          "text": [
            "                   all         85        308      0.891      0.782      0.829      0.739\n"
          ]
        },
        {
          "name": "stderr",
          "output_type": "stream",
          "text": [
            "\n"
          ]
        },
        {
          "name": "stdout",
          "output_type": "stream",
          "text": [
            "\n",
            "      Epoch    GPU_mem   box_loss   cls_loss   dfl_loss  Instances       Size\n"
          ]
        },
        {
          "name": "stderr",
          "output_type": "stream",
          "text": [
            "    148/300      4.05G     0.4542     0.3214     0.8227        159        640: 100%|██████████| 49/49 [00:19<00:00,  2.51it/s]\n",
            "                 Class     Images  Instances      Box(P          R      mAP50  mAP50-95): 100%|██████████| 2/2 [00:01<00:00,  1.83it/s]"
          ]
        },
        {
          "name": "stdout",
          "output_type": "stream",
          "text": [
            "                   all         85        308      0.894      0.783      0.828      0.741\n"
          ]
        },
        {
          "name": "stderr",
          "output_type": "stream",
          "text": [
            "\n"
          ]
        },
        {
          "name": "stdout",
          "output_type": "stream",
          "text": [
            "\n",
            "      Epoch    GPU_mem   box_loss   cls_loss   dfl_loss  Instances       Size\n"
          ]
        },
        {
          "name": "stderr",
          "output_type": "stream",
          "text": [
            "    149/300      3.98G     0.4572     0.3245      0.825        154        640: 100%|██████████| 49/49 [00:18<00:00,  2.64it/s]\n",
            "                 Class     Images  Instances      Box(P          R      mAP50  mAP50-95): 100%|██████████| 2/2 [00:01<00:00,  1.81it/s]"
          ]
        },
        {
          "name": "stdout",
          "output_type": "stream",
          "text": [
            "                   all         85        308      0.879      0.765      0.817       0.73\n"
          ]
        },
        {
          "name": "stderr",
          "output_type": "stream",
          "text": [
            "\n"
          ]
        },
        {
          "name": "stdout",
          "output_type": "stream",
          "text": [
            "\n",
            "      Epoch    GPU_mem   box_loss   cls_loss   dfl_loss  Instances       Size\n"
          ]
        },
        {
          "name": "stderr",
          "output_type": "stream",
          "text": [
            "    150/300      4.05G     0.4531     0.3191     0.8205        234        640: 100%|██████████| 49/49 [00:19<00:00,  2.51it/s]\n",
            "                 Class     Images  Instances      Box(P          R      mAP50  mAP50-95): 100%|██████████| 2/2 [00:01<00:00,  1.89it/s]"
          ]
        },
        {
          "name": "stdout",
          "output_type": "stream",
          "text": [
            "                   all         85        308      0.899      0.777      0.805      0.716\n"
          ]
        },
        {
          "name": "stderr",
          "output_type": "stream",
          "text": [
            "\n"
          ]
        },
        {
          "name": "stdout",
          "output_type": "stream",
          "text": [
            "\n",
            "      Epoch    GPU_mem   box_loss   cls_loss   dfl_loss  Instances       Size\n"
          ]
        },
        {
          "name": "stderr",
          "output_type": "stream",
          "text": [
            "    151/300      4.03G     0.4565     0.3181     0.8252        207        640: 100%|██████████| 49/49 [00:19<00:00,  2.55it/s]\n",
            "                 Class     Images  Instances      Box(P          R      mAP50  mAP50-95): 100%|██████████| 2/2 [00:01<00:00,  1.64it/s]"
          ]
        },
        {
          "name": "stdout",
          "output_type": "stream",
          "text": [
            "                   all         85        308      0.898      0.787      0.828      0.743\n"
          ]
        },
        {
          "name": "stderr",
          "output_type": "stream",
          "text": [
            "\n"
          ]
        },
        {
          "name": "stdout",
          "output_type": "stream",
          "text": [
            "\n",
            "      Epoch    GPU_mem   box_loss   cls_loss   dfl_loss  Instances       Size\n"
          ]
        },
        {
          "name": "stderr",
          "output_type": "stream",
          "text": [
            "    152/300      4.09G     0.4524     0.3228     0.8237        213        640: 100%|██████████| 49/49 [00:19<00:00,  2.50it/s]\n",
            "                 Class     Images  Instances      Box(P          R      mAP50  mAP50-95): 100%|██████████| 2/2 [00:01<00:00,  2.00it/s]"
          ]
        },
        {
          "name": "stdout",
          "output_type": "stream",
          "text": [
            "                   all         85        308      0.919      0.767      0.813      0.731\n"
          ]
        },
        {
          "name": "stderr",
          "output_type": "stream",
          "text": [
            "\n"
          ]
        },
        {
          "name": "stdout",
          "output_type": "stream",
          "text": [
            "\n",
            "      Epoch    GPU_mem   box_loss   cls_loss   dfl_loss  Instances       Size\n"
          ]
        },
        {
          "name": "stderr",
          "output_type": "stream",
          "text": [
            "    153/300      4.06G     0.4543     0.3139      0.824        192        640: 100%|██████████| 49/49 [00:18<00:00,  2.59it/s]\n",
            "                 Class     Images  Instances      Box(P          R      mAP50  mAP50-95): 100%|██████████| 2/2 [00:00<00:00,  2.25it/s]"
          ]
        },
        {
          "name": "stdout",
          "output_type": "stream",
          "text": [
            "                   all         85        308      0.908       0.78      0.833      0.749\n"
          ]
        },
        {
          "name": "stderr",
          "output_type": "stream",
          "text": [
            "\n"
          ]
        },
        {
          "name": "stdout",
          "output_type": "stream",
          "text": [
            "\n",
            "      Epoch    GPU_mem   box_loss   cls_loss   dfl_loss  Instances       Size\n"
          ]
        },
        {
          "name": "stderr",
          "output_type": "stream",
          "text": [
            "    154/300         4G     0.4507     0.3158      0.821        189        640: 100%|██████████| 49/49 [00:19<00:00,  2.52it/s]\n",
            "                 Class     Images  Instances      Box(P          R      mAP50  mAP50-95): 100%|██████████| 2/2 [00:01<00:00,  1.75it/s]"
          ]
        },
        {
          "name": "stdout",
          "output_type": "stream",
          "text": [
            "                   all         85        308      0.885      0.784      0.811      0.725\n"
          ]
        },
        {
          "name": "stderr",
          "output_type": "stream",
          "text": [
            "\n"
          ]
        },
        {
          "name": "stdout",
          "output_type": "stream",
          "text": [
            "\n",
            "      Epoch    GPU_mem   box_loss   cls_loss   dfl_loss  Instances       Size\n"
          ]
        },
        {
          "name": "stderr",
          "output_type": "stream",
          "text": [
            "    155/300       4.1G     0.4555     0.3144     0.8218        177        640: 100%|██████████| 49/49 [00:18<00:00,  2.62it/s]\n",
            "                 Class     Images  Instances      Box(P          R      mAP50  mAP50-95): 100%|██████████| 2/2 [00:00<00:00,  2.03it/s]"
          ]
        },
        {
          "name": "stdout",
          "output_type": "stream",
          "text": [
            "                   all         85        308      0.887      0.781      0.818      0.733\n"
          ]
        },
        {
          "name": "stderr",
          "output_type": "stream",
          "text": [
            "\n"
          ]
        },
        {
          "name": "stdout",
          "output_type": "stream",
          "text": [
            "\n",
            "      Epoch    GPU_mem   box_loss   cls_loss   dfl_loss  Instances       Size\n"
          ]
        },
        {
          "name": "stderr",
          "output_type": "stream",
          "text": [
            "    156/300      4.05G      0.454     0.3089      0.822        178        640: 100%|██████████| 49/49 [00:19<00:00,  2.53it/s]\n",
            "                 Class     Images  Instances      Box(P          R      mAP50  mAP50-95): 100%|██████████| 2/2 [00:00<00:00,  2.05it/s]"
          ]
        },
        {
          "name": "stdout",
          "output_type": "stream",
          "text": [
            "                   all         85        308      0.889      0.777       0.82       0.73\n"
          ]
        },
        {
          "name": "stderr",
          "output_type": "stream",
          "text": [
            "\n"
          ]
        },
        {
          "name": "stdout",
          "output_type": "stream",
          "text": [
            "\n",
            "      Epoch    GPU_mem   box_loss   cls_loss   dfl_loss  Instances       Size\n"
          ]
        },
        {
          "name": "stderr",
          "output_type": "stream",
          "text": [
            "    157/300      4.05G     0.4581     0.3153     0.8225        220        640: 100%|██████████| 49/49 [00:19<00:00,  2.54it/s]\n",
            "                 Class     Images  Instances      Box(P          R      mAP50  mAP50-95): 100%|██████████| 2/2 [00:01<00:00,  1.68it/s]"
          ]
        },
        {
          "name": "stdout",
          "output_type": "stream",
          "text": [
            "                   all         85        308       0.92       0.78       0.82       0.72\n"
          ]
        },
        {
          "name": "stderr",
          "output_type": "stream",
          "text": [
            "\n"
          ]
        },
        {
          "name": "stdout",
          "output_type": "stream",
          "text": [
            "\n",
            "      Epoch    GPU_mem   box_loss   cls_loss   dfl_loss  Instances       Size\n"
          ]
        },
        {
          "name": "stderr",
          "output_type": "stream",
          "text": [
            "    158/300      4.05G     0.4424     0.3117     0.8216        147        640: 100%|██████████| 49/49 [00:19<00:00,  2.50it/s]\n",
            "                 Class     Images  Instances      Box(P          R      mAP50  mAP50-95): 100%|██████████| 2/2 [00:01<00:00,  1.88it/s]"
          ]
        },
        {
          "name": "stdout",
          "output_type": "stream",
          "text": [
            "                   all         85        308      0.905      0.783       0.82      0.739\n"
          ]
        },
        {
          "name": "stderr",
          "output_type": "stream",
          "text": [
            "\n"
          ]
        },
        {
          "name": "stdout",
          "output_type": "stream",
          "text": [
            "\n",
            "      Epoch    GPU_mem   box_loss   cls_loss   dfl_loss  Instances       Size\n"
          ]
        },
        {
          "name": "stderr",
          "output_type": "stream",
          "text": [
            "    159/300      4.05G     0.4462     0.3183     0.8208        174        640: 100%|██████████| 49/49 [00:19<00:00,  2.52it/s]\n",
            "                 Class     Images  Instances      Box(P          R      mAP50  mAP50-95): 100%|██████████| 2/2 [00:01<00:00,  1.73it/s]"
          ]
        },
        {
          "name": "stdout",
          "output_type": "stream",
          "text": [
            "                   all         85        308      0.885       0.79      0.815      0.728\n"
          ]
        },
        {
          "name": "stderr",
          "output_type": "stream",
          "text": [
            "\n"
          ]
        },
        {
          "name": "stdout",
          "output_type": "stream",
          "text": [
            "\n",
            "      Epoch    GPU_mem   box_loss   cls_loss   dfl_loss  Instances       Size\n"
          ]
        },
        {
          "name": "stderr",
          "output_type": "stream",
          "text": [
            "    160/300      4.07G     0.4468     0.3104     0.8219        137        640: 100%|██████████| 49/49 [00:19<00:00,  2.58it/s]\n",
            "                 Class     Images  Instances      Box(P          R      mAP50  mAP50-95): 100%|██████████| 2/2 [00:00<00:00,  2.36it/s]"
          ]
        },
        {
          "name": "stdout",
          "output_type": "stream",
          "text": [
            "                   all         85        308      0.909      0.785      0.813      0.725\n"
          ]
        },
        {
          "name": "stderr",
          "output_type": "stream",
          "text": [
            "\n"
          ]
        },
        {
          "name": "stdout",
          "output_type": "stream",
          "text": [
            "\n",
            "      Epoch    GPU_mem   box_loss   cls_loss   dfl_loss  Instances       Size\n"
          ]
        },
        {
          "name": "stderr",
          "output_type": "stream",
          "text": [
            "    161/300      4.05G     0.4496      0.307      0.821        140        640: 100%|██████████| 49/49 [00:18<00:00,  2.60it/s]\n",
            "                 Class     Images  Instances      Box(P          R      mAP50  mAP50-95): 100%|██████████| 2/2 [00:00<00:00,  2.08it/s]"
          ]
        },
        {
          "name": "stdout",
          "output_type": "stream",
          "text": [
            "                   all         85        308      0.872      0.797        0.8      0.707\n"
          ]
        },
        {
          "name": "stderr",
          "output_type": "stream",
          "text": [
            "\n"
          ]
        },
        {
          "name": "stdout",
          "output_type": "stream",
          "text": [
            "\n",
            "      Epoch    GPU_mem   box_loss   cls_loss   dfl_loss  Instances       Size\n"
          ]
        },
        {
          "name": "stderr",
          "output_type": "stream",
          "text": [
            "    162/300      4.04G     0.4442     0.3171     0.8185        174        640: 100%|██████████| 49/49 [00:19<00:00,  2.52it/s]\n",
            "                 Class     Images  Instances      Box(P          R      mAP50  mAP50-95): 100%|██████████| 2/2 [00:01<00:00,  1.87it/s]"
          ]
        },
        {
          "name": "stdout",
          "output_type": "stream",
          "text": [
            "                   all         85        308      0.887      0.782       0.82      0.724\n"
          ]
        },
        {
          "name": "stderr",
          "output_type": "stream",
          "text": [
            "\n"
          ]
        },
        {
          "name": "stdout",
          "output_type": "stream",
          "text": [
            "\n",
            "      Epoch    GPU_mem   box_loss   cls_loss   dfl_loss  Instances       Size\n"
          ]
        },
        {
          "name": "stderr",
          "output_type": "stream",
          "text": [
            "    163/300      4.05G     0.4553     0.3174     0.8221        192        640: 100%|██████████| 49/49 [00:18<00:00,  2.60it/s]\n",
            "                 Class     Images  Instances      Box(P          R      mAP50  mAP50-95): 100%|██████████| 2/2 [00:01<00:00,  1.96it/s]"
          ]
        },
        {
          "name": "stdout",
          "output_type": "stream",
          "text": [
            "                   all         85        308      0.908      0.768      0.808      0.717\n"
          ]
        },
        {
          "name": "stderr",
          "output_type": "stream",
          "text": [
            "\n"
          ]
        },
        {
          "name": "stdout",
          "output_type": "stream",
          "text": [
            "\n",
            "      Epoch    GPU_mem   box_loss   cls_loss   dfl_loss  Instances       Size\n"
          ]
        },
        {
          "name": "stderr",
          "output_type": "stream",
          "text": [
            "    164/300      4.09G     0.4416     0.3167     0.8206        183        640: 100%|██████████| 49/49 [00:18<00:00,  2.59it/s]\n",
            "                 Class     Images  Instances      Box(P          R      mAP50  mAP50-95): 100%|██████████| 2/2 [00:00<00:00,  2.13it/s]"
          ]
        },
        {
          "name": "stdout",
          "output_type": "stream",
          "text": [
            "                   all         85        308      0.913      0.787      0.826      0.739\n"
          ]
        },
        {
          "name": "stderr",
          "output_type": "stream",
          "text": [
            "\n"
          ]
        },
        {
          "name": "stdout",
          "output_type": "stream",
          "text": [
            "\n",
            "      Epoch    GPU_mem   box_loss   cls_loss   dfl_loss  Instances       Size\n"
          ]
        },
        {
          "name": "stderr",
          "output_type": "stream",
          "text": [
            "    165/300      4.04G     0.4441     0.3088     0.8227        156        640: 100%|██████████| 49/49 [00:18<00:00,  2.64it/s]\n",
            "                 Class     Images  Instances      Box(P          R      mAP50  mAP50-95): 100%|██████████| 2/2 [00:01<00:00,  1.85it/s]"
          ]
        },
        {
          "name": "stdout",
          "output_type": "stream",
          "text": [
            "                   all         85        308       0.89      0.787      0.812      0.721\n"
          ]
        },
        {
          "name": "stderr",
          "output_type": "stream",
          "text": [
            "\n"
          ]
        },
        {
          "name": "stdout",
          "output_type": "stream",
          "text": [
            "\n",
            "      Epoch    GPU_mem   box_loss   cls_loss   dfl_loss  Instances       Size\n"
          ]
        },
        {
          "name": "stderr",
          "output_type": "stream",
          "text": [
            "    166/300      4.04G     0.4478     0.3153     0.8194        200        640: 100%|██████████| 49/49 [00:18<00:00,  2.61it/s]\n",
            "                 Class     Images  Instances      Box(P          R      mAP50  mAP50-95): 100%|██████████| 2/2 [00:00<00:00,  2.15it/s]"
          ]
        },
        {
          "name": "stdout",
          "output_type": "stream",
          "text": [
            "                   all         85        308      0.876      0.788      0.819      0.721\n"
          ]
        },
        {
          "name": "stderr",
          "output_type": "stream",
          "text": [
            "\n"
          ]
        },
        {
          "name": "stdout",
          "output_type": "stream",
          "text": [
            "\n",
            "      Epoch    GPU_mem   box_loss   cls_loss   dfl_loss  Instances       Size\n"
          ]
        },
        {
          "name": "stderr",
          "output_type": "stream",
          "text": [
            "    167/300      4.05G     0.4462     0.3022     0.8207        158        640: 100%|██████████| 49/49 [00:19<00:00,  2.51it/s]\n",
            "                 Class     Images  Instances      Box(P          R      mAP50  mAP50-95): 100%|██████████| 2/2 [00:01<00:00,  1.77it/s]"
          ]
        },
        {
          "name": "stdout",
          "output_type": "stream",
          "text": [
            "                   all         85        308      0.899      0.779      0.809      0.716\n"
          ]
        },
        {
          "name": "stderr",
          "output_type": "stream",
          "text": [
            "\n"
          ]
        },
        {
          "name": "stdout",
          "output_type": "stream",
          "text": [
            "\n",
            "      Epoch    GPU_mem   box_loss   cls_loss   dfl_loss  Instances       Size\n"
          ]
        },
        {
          "name": "stderr",
          "output_type": "stream",
          "text": [
            "    168/300      4.06G     0.4457     0.3044     0.8222        178        640: 100%|██████████| 49/49 [00:19<00:00,  2.49it/s]\n",
            "                 Class     Images  Instances      Box(P          R      mAP50  mAP50-95): 100%|██████████| 2/2 [00:00<00:00,  2.02it/s]"
          ]
        },
        {
          "name": "stdout",
          "output_type": "stream",
          "text": [
            "                   all         85        308       0.88      0.762      0.808      0.718\n"
          ]
        },
        {
          "name": "stderr",
          "output_type": "stream",
          "text": [
            "\n"
          ]
        },
        {
          "name": "stdout",
          "output_type": "stream",
          "text": [
            "\n",
            "      Epoch    GPU_mem   box_loss   cls_loss   dfl_loss  Instances       Size\n"
          ]
        },
        {
          "name": "stderr",
          "output_type": "stream",
          "text": [
            "    169/300      4.04G     0.4378     0.3129     0.8193        212        640: 100%|██████████| 49/49 [00:19<00:00,  2.55it/s]\n",
            "                 Class     Images  Instances      Box(P          R      mAP50  mAP50-95): 100%|██████████| 2/2 [00:01<00:00,  1.64it/s]"
          ]
        },
        {
          "name": "stdout",
          "output_type": "stream",
          "text": [
            "                   all         85        308      0.893      0.787      0.819      0.731\n"
          ]
        },
        {
          "name": "stderr",
          "output_type": "stream",
          "text": [
            "\n"
          ]
        },
        {
          "name": "stdout",
          "output_type": "stream",
          "text": [
            "\n",
            "      Epoch    GPU_mem   box_loss   cls_loss   dfl_loss  Instances       Size\n"
          ]
        },
        {
          "name": "stderr",
          "output_type": "stream",
          "text": [
            "    170/300      3.99G     0.4444     0.3133     0.8221        189        640: 100%|██████████| 49/49 [00:19<00:00,  2.51it/s]\n",
            "                 Class     Images  Instances      Box(P          R      mAP50  mAP50-95): 100%|██████████| 2/2 [00:01<00:00,  1.84it/s]"
          ]
        },
        {
          "name": "stdout",
          "output_type": "stream",
          "text": [
            "                   all         85        308      0.874      0.753      0.806      0.718\n"
          ]
        },
        {
          "name": "stderr",
          "output_type": "stream",
          "text": [
            "\n"
          ]
        },
        {
          "name": "stdout",
          "output_type": "stream",
          "text": [
            "\n",
            "      Epoch    GPU_mem   box_loss   cls_loss   dfl_loss  Instances       Size\n"
          ]
        },
        {
          "name": "stderr",
          "output_type": "stream",
          "text": [
            "    171/300      4.05G      0.452       0.31     0.8194        210        640: 100%|██████████| 49/49 [00:19<00:00,  2.52it/s]\n",
            "                 Class     Images  Instances      Box(P          R      mAP50  mAP50-95): 100%|██████████| 2/2 [00:01<00:00,  1.90it/s]"
          ]
        },
        {
          "name": "stdout",
          "output_type": "stream",
          "text": [
            "                   all         85        308      0.898      0.775      0.819      0.733\n"
          ]
        },
        {
          "name": "stderr",
          "output_type": "stream",
          "text": [
            "\n"
          ]
        },
        {
          "name": "stdout",
          "output_type": "stream",
          "text": [
            "\n",
            "      Epoch    GPU_mem   box_loss   cls_loss   dfl_loss  Instances       Size\n"
          ]
        },
        {
          "name": "stderr",
          "output_type": "stream",
          "text": [
            "    172/300      4.09G     0.4333     0.3027     0.8181        198        640: 100%|██████████| 49/49 [00:19<00:00,  2.54it/s]\n",
            "                 Class     Images  Instances      Box(P          R      mAP50  mAP50-95): 100%|██████████| 2/2 [00:01<00:00,  1.75it/s]"
          ]
        },
        {
          "name": "stdout",
          "output_type": "stream",
          "text": [
            "                   all         85        308      0.893      0.794      0.817      0.728\n"
          ]
        },
        {
          "name": "stderr",
          "output_type": "stream",
          "text": [
            "\n"
          ]
        },
        {
          "name": "stdout",
          "output_type": "stream",
          "text": [
            "\n",
            "      Epoch    GPU_mem   box_loss   cls_loss   dfl_loss  Instances       Size\n"
          ]
        },
        {
          "name": "stderr",
          "output_type": "stream",
          "text": [
            "    173/300      4.08G     0.4398     0.3024     0.8203        189        640: 100%|██████████| 49/49 [00:19<00:00,  2.52it/s]\n",
            "                 Class     Images  Instances      Box(P          R      mAP50  mAP50-95): 100%|██████████| 2/2 [00:01<00:00,  1.72it/s]"
          ]
        },
        {
          "name": "stdout",
          "output_type": "stream",
          "text": [
            "                   all         85        308      0.904      0.782      0.832      0.749\n"
          ]
        },
        {
          "name": "stderr",
          "output_type": "stream",
          "text": [
            "\n"
          ]
        },
        {
          "name": "stdout",
          "output_type": "stream",
          "text": [
            "\n",
            "      Epoch    GPU_mem   box_loss   cls_loss   dfl_loss  Instances       Size\n"
          ]
        },
        {
          "name": "stderr",
          "output_type": "stream",
          "text": [
            "    174/300      4.05G     0.4444     0.3128     0.8204        170        640: 100%|██████████| 49/49 [00:19<00:00,  2.52it/s]\n",
            "                 Class     Images  Instances      Box(P          R      mAP50  mAP50-95): 100%|██████████| 2/2 [00:00<00:00,  2.03it/s]"
          ]
        },
        {
          "name": "stdout",
          "output_type": "stream",
          "text": [
            "                   all         85        308      0.901      0.781      0.825      0.733\n"
          ]
        },
        {
          "name": "stderr",
          "output_type": "stream",
          "text": [
            "\n"
          ]
        },
        {
          "name": "stdout",
          "output_type": "stream",
          "text": [
            "\n",
            "      Epoch    GPU_mem   box_loss   cls_loss   dfl_loss  Instances       Size\n"
          ]
        },
        {
          "name": "stderr",
          "output_type": "stream",
          "text": [
            "    175/300      3.99G     0.4368      0.306     0.8155        203        640: 100%|██████████| 49/49 [00:18<00:00,  2.62it/s]\n",
            "                 Class     Images  Instances      Box(P          R      mAP50  mAP50-95): 100%|██████████| 2/2 [00:01<00:00,  1.81it/s]"
          ]
        },
        {
          "name": "stdout",
          "output_type": "stream",
          "text": [
            "                   all         85        308      0.904      0.779      0.811      0.718\n"
          ]
        },
        {
          "name": "stderr",
          "output_type": "stream",
          "text": [
            "\n"
          ]
        },
        {
          "name": "stdout",
          "output_type": "stream",
          "text": [
            "\n",
            "      Epoch    GPU_mem   box_loss   cls_loss   dfl_loss  Instances       Size\n"
          ]
        },
        {
          "name": "stderr",
          "output_type": "stream",
          "text": [
            "    176/300      4.04G     0.4384     0.3055     0.8162        212        640: 100%|██████████| 49/49 [00:19<00:00,  2.53it/s]\n",
            "                 Class     Images  Instances      Box(P          R      mAP50  mAP50-95): 100%|██████████| 2/2 [00:01<00:00,  1.92it/s]"
          ]
        },
        {
          "name": "stdout",
          "output_type": "stream",
          "text": [
            "                   all         85        308      0.888      0.786      0.825      0.729\n"
          ]
        },
        {
          "name": "stderr",
          "output_type": "stream",
          "text": [
            "\n"
          ]
        },
        {
          "name": "stdout",
          "output_type": "stream",
          "text": [
            "\n",
            "      Epoch    GPU_mem   box_loss   cls_loss   dfl_loss  Instances       Size\n"
          ]
        },
        {
          "name": "stderr",
          "output_type": "stream",
          "text": [
            "    177/300      4.04G     0.4391     0.3028     0.8215        160        640: 100%|██████████| 49/49 [00:18<00:00,  2.62it/s]\n",
            "                 Class     Images  Instances      Box(P          R      mAP50  mAP50-95): 100%|██████████| 2/2 [00:01<00:00,  1.90it/s]"
          ]
        },
        {
          "name": "stdout",
          "output_type": "stream",
          "text": [
            "                   all         85        308      0.906      0.787      0.827      0.734\n"
          ]
        },
        {
          "name": "stderr",
          "output_type": "stream",
          "text": [
            "\n"
          ]
        },
        {
          "name": "stdout",
          "output_type": "stream",
          "text": [
            "\n",
            "      Epoch    GPU_mem   box_loss   cls_loss   dfl_loss  Instances       Size\n"
          ]
        },
        {
          "name": "stderr",
          "output_type": "stream",
          "text": [
            "    178/300      3.99G     0.4379      0.302      0.819        203        640: 100%|██████████| 49/49 [00:19<00:00,  2.50it/s]\n",
            "                 Class     Images  Instances      Box(P          R      mAP50  mAP50-95): 100%|██████████| 2/2 [00:01<00:00,  1.92it/s]"
          ]
        },
        {
          "name": "stdout",
          "output_type": "stream",
          "text": [
            "                   all         85        308      0.887      0.799      0.838      0.749\n"
          ]
        },
        {
          "name": "stderr",
          "output_type": "stream",
          "text": [
            "\n"
          ]
        },
        {
          "name": "stdout",
          "output_type": "stream",
          "text": [
            "\n",
            "      Epoch    GPU_mem   box_loss   cls_loss   dfl_loss  Instances       Size\n"
          ]
        },
        {
          "name": "stderr",
          "output_type": "stream",
          "text": [
            "    179/300      4.04G     0.4417     0.3044     0.8214        143        640: 100%|██████████| 49/49 [00:19<00:00,  2.54it/s]\n",
            "                 Class     Images  Instances      Box(P          R      mAP50  mAP50-95): 100%|██████████| 2/2 [00:01<00:00,  1.72it/s]"
          ]
        },
        {
          "name": "stdout",
          "output_type": "stream",
          "text": [
            "                   all         85        308       0.92      0.751      0.817      0.734\n",
            "\u001b[34m\u001b[1mEarlyStopping: \u001b[0mTraining stopped early as no improvement observed in last 100 epochs. Best results observed at epoch 79, best model saved as best.pt.\n",
            "To update EarlyStopping(patience=100) pass a new patience value, i.e. `patience=300` or use `patience=0` to disable EarlyStopping.\n"
          ]
        },
        {
          "name": "stderr",
          "output_type": "stream",
          "text": [
            "\n"
          ]
        },
        {
          "name": "stdout",
          "output_type": "stream",
          "text": [
            "\n",
            "179 epochs completed in 1.052 hours.\n",
            "Optimizer stripped from runs\\detect\\train2\\weights\\last.pt, 6.2MB\n",
            "Optimizer stripped from runs\\detect\\train2\\weights\\best.pt, 6.2MB\n",
            "\n",
            "Validating runs\\detect\\train2\\weights\\best.pt...\n",
            "Ultralytics YOLOv8.2.78  Python-3.8.10 torch-2.4.0+cu121 CUDA:0 (NVIDIA GeForce RTX 2060, 6144MiB)\n",
            "Model summary (fused): 168 layers, 3,007,208 parameters, 0 gradients, 8.1 GFLOPs\n"
          ]
        },
        {
          "name": "stderr",
          "output_type": "stream",
          "text": [
            "                 Class     Images  Instances      Box(P          R      mAP50  mAP50-95): 100%|██████████| 2/2 [00:02<00:00,  1.00s/it]\n"
          ]
        },
        {
          "name": "stdout",
          "output_type": "stream",
          "text": [
            "                   all         85        308      0.901      0.823      0.883      0.778\n",
            "                   car         80        215      0.811      0.912      0.916      0.703\n",
            "                   bus         15         15      0.998        0.8      0.858      0.811\n",
            "                 truck         49         78      0.895      0.756      0.877       0.82\n",
            "Speed: 0.3ms preprocess, 2.9ms inference, 0.0ms loss, 4.0ms postprocess per image\n",
            "Results saved to \u001b[1mruns\\detect\\train2\u001b[0m\n"
          ]
        }
      ],
      "source": [
        "# Train YOLOv8n \n",
        "# !yolo train model=yolov8n.pt data='./datasets/data.yaml' batch=32 epochs=300 imgsz=640 device=0\n",
        "\n",
        "import torch\n",
        "from ultralytics import YOLO\n",
        "\n",
        "def train(dataset_path=None, model = None, epochs=1, batch_size=16, imgsz=640):\n",
        "    training_device = 'cuda' if torch.cuda.is_available() else 'cpu'\n",
        "    print(\"Using device:\", training_device)\n",
        "\n",
        "    batch_size = batch_size\n",
        "    epochs = epochs\n",
        "    imgsz = imgsz\n",
        "\n",
        "    dataset_path = dataset_path\n",
        "    model = YOLO(model)\n",
        "    model.train(task='detect',\n",
        "                data=dataset_path,\n",
        "                epochs=epochs,\n",
        "                batch=batch_size,\n",
        "                imgsz=imgsz,\n",
        "                device=training_device)\n",
        "\n",
        "if __name__ == '__main__':\n",
        "    train(dataset_path='./datasets/data.yaml', model = 'yolov8n.pt', epochs=300, batch_size=32, imgsz=640)"
      ]
    },
    {
      "cell_type": "markdown",
      "metadata": {
        "id": "0eq1SMWl6Sfn"
      },
      "source": [
        "# 2. Val"
      ]
    },
    {
      "cell_type": "code",
      "execution_count": 2,
      "metadata": {
        "colab": {
          "base_uri": "https://localhost:8080/"
        },
        "id": "X58w8JLpMnjH",
        "outputId": "bed10d45-ceb6-4b6f-86b7-9428208b142a"
      },
      "outputs": [
        {
          "name": "stdout",
          "output_type": "stream",
          "text": [
            "Using device: cuda\n",
            "Ultralytics YOLOv8.2.78  Python-3.8.10 torch-2.4.0+cu121 CUDA:0 (NVIDIA GeForce RTX 2060, 6144MiB)\n",
            "Model summary (fused): 168 layers, 3,007,208 parameters, 0 gradients, 8.1 GFLOPs\n"
          ]
        },
        {
          "name": "stderr",
          "output_type": "stream",
          "text": [
            "\u001b[34m\u001b[1mval: \u001b[0mScanning D:\\HighwayCounter_YOLOv8\\datasets\\labels\\valid.cache... 85 images, 0 backgrounds, 0 corrupt: 100%|██████████| 85/85 [00:00<?, ?it/s]\n",
            "                 Class     Images  Instances      Box(P          R      mAP50  mAP50-95): 100%|██████████| 6/6 [00:01<00:00,  3.43it/s]\n"
          ]
        },
        {
          "name": "stdout",
          "output_type": "stream",
          "text": [
            "                   all         85        308      0.903      0.823      0.883      0.778\n",
            "                   car         80        215      0.812      0.912      0.916      0.705\n",
            "                   bus         15         15      0.998        0.8      0.858      0.811\n",
            "                 truck         49         78      0.898      0.756      0.877      0.818\n",
            "Speed: 1.6ms preprocess, 6.8ms inference, 0.0ms loss, 3.1ms postprocess per image\n",
            "Results saved to \u001b[1mruns\\detect\\val3\u001b[0m\n"
          ]
        }
      ],
      "source": [
        "# !yolo val model='./runs/detect/train/weights/best.pt' data='datasets/data.yaml'\n",
        "\n",
        "import torch\n",
        "from ultralytics import YOLO\n",
        "\n",
        "def validate(dataset_path=None, model_path=None):\n",
        "    validation_device = 'cuda' if torch.cuda.is_available() else 'cpu'\n",
        "    print(\"Using device:\", validation_device)\n",
        "\n",
        "    dataset_path = dataset_path\n",
        "    model = YOLO(model_path)\n",
        "    model.val(data=dataset_path, device=validation_device)\n",
        "\n",
        "if __name__ == '__main__':\n",
        "    validate(dataset_path='datasets/data.yaml', model_path='./runs/detect/train/weights/best.pt')"
      ]
    },
    {
      "cell_type": "markdown",
      "metadata": {},
      "source": [
        "# 3. Predict\n"
      ]
    },
    {
      "cell_type": "code",
      "execution_count": 2,
      "metadata": {
        "colab": {
          "base_uri": "https://localhost:8080/"
        },
        "id": "zR9ZbuQCH7FX",
        "outputId": "84f32db2-80b0-4f35-9a2a-a56d11f7863f"
      },
      "outputs": [
        {
          "name": "stdout",
          "output_type": "stream",
          "text": [
            "Ultralytics YOLOv8.2.78 🚀 Python-3.8.10 torch-2.4.0+cu121 CUDA:0 (NVIDIA GeForce RTX 2060, 6144MiB)\n",
            "Model summary (fused): 168 layers, 3,007,208 parameters, 0 gradients, 8.1 GFLOPs\n",
            "\n",
            "video 1/1 (frame 1/618) d:\\HighwayCounter_YOLOv8\\bike_car.mp4: 384x640 3 cars, 2 motorcycles, 98.8ms\n",
            "video 1/1 (frame 2/618) d:\\HighwayCounter_YOLOv8\\bike_car.mp4: 384x640 2 cars, 2 motorcycles, 16.8ms\n",
            "video 1/1 (frame 3/618) d:\\HighwayCounter_YOLOv8\\bike_car.mp4: 384x640 2 cars, 2 motorcycles, 35.9ms\n",
            "video 1/1 (frame 4/618) d:\\HighwayCounter_YOLOv8\\bike_car.mp4: 384x640 1 car, 2 motorcycles, 15.2ms\n",
            "video 1/1 (frame 5/618) d:\\HighwayCounter_YOLOv8\\bike_car.mp4: 384x640 1 car, 2 motorcycles, 16.8ms\n",
            "video 1/1 (frame 6/618) d:\\HighwayCounter_YOLOv8\\bike_car.mp4: 384x640 1 car, 2 motorcycles, 16.7ms\n",
            "video 1/1 (frame 7/618) d:\\HighwayCounter_YOLOv8\\bike_car.mp4: 384x640 1 car, 4 motorcycles, 16.8ms\n",
            "video 1/1 (frame 8/618) d:\\HighwayCounter_YOLOv8\\bike_car.mp4: 384x640 1 car, 4 motorcycles, 27.9ms\n",
            "video 1/1 (frame 9/618) d:\\HighwayCounter_YOLOv8\\bike_car.mp4: 384x640 1 car, 4 motorcycles, 33.1ms\n",
            "video 1/1 (frame 10/618) d:\\HighwayCounter_YOLOv8\\bike_car.mp4: 384x640 1 car, 3 motorcycles, 33.3ms\n",
            "video 1/1 (frame 11/618) d:\\HighwayCounter_YOLOv8\\bike_car.mp4: 384x640 1 car, 4 motorcycles, 17.3ms\n",
            "video 1/1 (frame 12/618) d:\\HighwayCounter_YOLOv8\\bike_car.mp4: 384x640 1 car, 4 motorcycles, 47.8ms\n",
            "video 1/1 (frame 13/618) d:\\HighwayCounter_YOLOv8\\bike_car.mp4: 384x640 1 car, 3 motorcycles, 23.3ms\n",
            "video 1/1 (frame 14/618) d:\\HighwayCounter_YOLOv8\\bike_car.mp4: 384x640 1 car, 4 motorcycles, 25.4ms\n",
            "video 1/1 (frame 15/618) d:\\HighwayCounter_YOLOv8\\bike_car.mp4: 384x640 1 car, 4 motorcycles, 28.0ms\n",
            "video 1/1 (frame 16/618) d:\\HighwayCounter_YOLOv8\\bike_car.mp4: 384x640 1 car, 4 motorcycles, 26.3ms\n",
            "video 1/1 (frame 17/618) d:\\HighwayCounter_YOLOv8\\bike_car.mp4: 384x640 1 car, 3 motorcycles, 27.4ms\n",
            "video 1/1 (frame 18/618) d:\\HighwayCounter_YOLOv8\\bike_car.mp4: 384x640 1 car, 4 motorcycles, 34.3ms\n",
            "video 1/1 (frame 19/618) d:\\HighwayCounter_YOLOv8\\bike_car.mp4: 384x640 1 car, 3 motorcycles, 16.3ms\n",
            "video 1/1 (frame 20/618) d:\\HighwayCounter_YOLOv8\\bike_car.mp4: 384x640 1 car, 3 motorcycles, 32.9ms\n",
            "video 1/1 (frame 21/618) d:\\HighwayCounter_YOLOv8\\bike_car.mp4: 384x640 1 car, 3 motorcycles, 17.1ms\n",
            "video 1/1 (frame 22/618) d:\\HighwayCounter_YOLOv8\\bike_car.mp4: 384x640 1 car, 3 motorcycles, 23.9ms\n",
            "video 1/1 (frame 23/618) d:\\HighwayCounter_YOLOv8\\bike_car.mp4: 384x640 1 car, 4 motorcycles, 1 bus, 33.0ms\n",
            "video 1/1 (frame 24/618) d:\\HighwayCounter_YOLOv8\\bike_car.mp4: 384x640 1 car, 4 motorcycles, 28.2ms\n",
            "video 1/1 (frame 25/618) d:\\HighwayCounter_YOLOv8\\bike_car.mp4: 384x640 1 car, 1 motorcycle, 28.1ms\n",
            "video 1/1 (frame 26/618) d:\\HighwayCounter_YOLOv8\\bike_car.mp4: 384x640 1 car, 2 motorcycles, 33.1ms\n",
            "video 1/1 (frame 27/618) d:\\HighwayCounter_YOLOv8\\bike_car.mp4: 384x640 2 cars, 1 motorcycle, 46.5ms\n",
            "video 1/1 (frame 28/618) d:\\HighwayCounter_YOLOv8\\bike_car.mp4: 384x640 2 cars, 2 motorcycles, 47.8ms\n",
            "video 1/1 (frame 29/618) d:\\HighwayCounter_YOLOv8\\bike_car.mp4: 384x640 2 cars, 2 motorcycles, 47.6ms\n",
            "video 1/1 (frame 30/618) d:\\HighwayCounter_YOLOv8\\bike_car.mp4: 384x640 2 cars, 2 motorcycles, 28.0ms\n",
            "video 1/1 (frame 31/618) d:\\HighwayCounter_YOLOv8\\bike_car.mp4: 384x640 2 cars, 2 motorcycles, 57.0ms\n",
            "video 1/1 (frame 32/618) d:\\HighwayCounter_YOLOv8\\bike_car.mp4: 384x640 2 cars, 2 motorcycles, 20.5ms\n",
            "video 1/1 (frame 33/618) d:\\HighwayCounter_YOLOv8\\bike_car.mp4: 384x640 2 cars, 2 motorcycles, 31.2ms\n",
            "video 1/1 (frame 34/618) d:\\HighwayCounter_YOLOv8\\bike_car.mp4: 384x640 1 car, 2 motorcycles, 1 bus, 31.3ms\n",
            "video 1/1 (frame 35/618) d:\\HighwayCounter_YOLOv8\\bike_car.mp4: 384x640 1 car, 1 motorcycle, 21.3ms\n",
            "video 1/1 (frame 36/618) d:\\HighwayCounter_YOLOv8\\bike_car.mp4: 384x640 1 car, 2 motorcycles, 31.3ms\n",
            "video 1/1 (frame 37/618) d:\\HighwayCounter_YOLOv8\\bike_car.mp4: 384x640 1 car, 2 motorcycles, 15.6ms\n",
            "video 1/1 (frame 38/618) d:\\HighwayCounter_YOLOv8\\bike_car.mp4: 384x640 1 car, 2 motorcycles, 31.2ms\n",
            "video 1/1 (frame 39/618) d:\\HighwayCounter_YOLOv8\\bike_car.mp4: 384x640 1 car, 1 motorcycle, 15.6ms\n",
            "video 1/1 (frame 40/618) d:\\HighwayCounter_YOLOv8\\bike_car.mp4: 384x640 1 car, 2 motorcycles, 15.6ms\n",
            "video 1/1 (frame 41/618) d:\\HighwayCounter_YOLOv8\\bike_car.mp4: 384x640 1 car, 2 motorcycles, 31.2ms\n",
            "video 1/1 (frame 42/618) d:\\HighwayCounter_YOLOv8\\bike_car.mp4: 384x640 1 car, 1 motorcycle, 37.6ms\n",
            "video 1/1 (frame 43/618) d:\\HighwayCounter_YOLOv8\\bike_car.mp4: 384x640 2 cars, 1 motorcycle, 17.5ms\n",
            "video 1/1 (frame 44/618) d:\\HighwayCounter_YOLOv8\\bike_car.mp4: 384x640 1 car, 2 motorcycles, 15.6ms\n",
            "video 1/1 (frame 45/618) d:\\HighwayCounter_YOLOv8\\bike_car.mp4: 384x640 1 car, 1 motorcycle, 15.6ms\n",
            "video 1/1 (frame 46/618) d:\\HighwayCounter_YOLOv8\\bike_car.mp4: 384x640 1 car, 1 motorcycle, 15.6ms\n",
            "video 1/1 (frame 47/618) d:\\HighwayCounter_YOLOv8\\bike_car.mp4: 384x640 2 cars, 1 motorcycle, 15.6ms\n",
            "video 1/1 (frame 48/618) d:\\HighwayCounter_YOLOv8\\bike_car.mp4: 384x640 1 car, 1 motorcycle, 15.6ms\n",
            "video 1/1 (frame 49/618) d:\\HighwayCounter_YOLOv8\\bike_car.mp4: 384x640 1 car, 1 motorcycle, 36.5ms\n",
            "video 1/1 (frame 50/618) d:\\HighwayCounter_YOLOv8\\bike_car.mp4: 384x640 1 car, 1 motorcycle, 31.3ms\n",
            "video 1/1 (frame 51/618) d:\\HighwayCounter_YOLOv8\\bike_car.mp4: 384x640 2 cars, 1 motorcycle, 15.6ms\n",
            "video 1/1 (frame 52/618) d:\\HighwayCounter_YOLOv8\\bike_car.mp4: 384x640 1 car, 1 motorcycle, 27.5ms\n",
            "video 1/1 (frame 53/618) d:\\HighwayCounter_YOLOv8\\bike_car.mp4: 384x640 2 cars, 31.2ms\n",
            "video 1/1 (frame 54/618) d:\\HighwayCounter_YOLOv8\\bike_car.mp4: 384x640 2 cars, 15.6ms\n",
            "video 1/1 (frame 55/618) d:\\HighwayCounter_YOLOv8\\bike_car.mp4: 384x640 2 cars, 15.6ms\n",
            "video 1/1 (frame 56/618) d:\\HighwayCounter_YOLOv8\\bike_car.mp4: 384x640 1 car, 1 motorcycle, 22.4ms\n",
            "video 1/1 (frame 57/618) d:\\HighwayCounter_YOLOv8\\bike_car.mp4: 384x640 1 car, 1 motorcycle, 11.0ms\n",
            "video 1/1 (frame 58/618) d:\\HighwayCounter_YOLOv8\\bike_car.mp4: 384x640 2 cars, 20.7ms\n",
            "video 1/1 (frame 59/618) d:\\HighwayCounter_YOLOv8\\bike_car.mp4: 384x640 1 car, 31.3ms\n",
            "video 1/1 (frame 60/618) d:\\HighwayCounter_YOLOv8\\bike_car.mp4: 384x640 1 car, 31.3ms\n",
            "video 1/1 (frame 61/618) d:\\HighwayCounter_YOLOv8\\bike_car.mp4: 384x640 1 car, 29.8ms\n",
            "video 1/1 (frame 62/618) d:\\HighwayCounter_YOLOv8\\bike_car.mp4: 384x640 1 car, 35.6ms\n",
            "video 1/1 (frame 63/618) d:\\HighwayCounter_YOLOv8\\bike_car.mp4: 384x640 1 car, 15.6ms\n",
            "video 1/1 (frame 64/618) d:\\HighwayCounter_YOLOv8\\bike_car.mp4: 384x640 1 car, 21.8ms\n",
            "video 1/1 (frame 65/618) d:\\HighwayCounter_YOLOv8\\bike_car.mp4: 384x640 1 car, 21.9ms\n",
            "video 1/1 (frame 66/618) d:\\HighwayCounter_YOLOv8\\bike_car.mp4: 384x640 2 cars, 34.3ms\n",
            "video 1/1 (frame 67/618) d:\\HighwayCounter_YOLOv8\\bike_car.mp4: 384x640 1 car, 38.0ms\n",
            "video 1/1 (frame 68/618) d:\\HighwayCounter_YOLOv8\\bike_car.mp4: 384x640 1 car, 38.1ms\n",
            "video 1/1 (frame 69/618) d:\\HighwayCounter_YOLOv8\\bike_car.mp4: 384x640 1 car, 15.6ms\n",
            "video 1/1 (frame 70/618) d:\\HighwayCounter_YOLOv8\\bike_car.mp4: 384x640 1 car, 1 motorcycle, 31.3ms\n",
            "video 1/1 (frame 71/618) d:\\HighwayCounter_YOLOv8\\bike_car.mp4: 384x640 1 car, 2 motorcycles, 15.6ms\n",
            "video 1/1 (frame 72/618) d:\\HighwayCounter_YOLOv8\\bike_car.mp4: 384x640 1 car, 1 motorcycle, 31.2ms\n",
            "video 1/1 (frame 73/618) d:\\HighwayCounter_YOLOv8\\bike_car.mp4: 384x640 1 car, 1 motorcycle, 31.3ms\n",
            "video 1/1 (frame 74/618) d:\\HighwayCounter_YOLOv8\\bike_car.mp4: 384x640 1 car, 1 motorcycle, 22.6ms\n",
            "video 1/1 (frame 75/618) d:\\HighwayCounter_YOLOv8\\bike_car.mp4: 384x640 1 car, 1 motorcycle, 36.7ms\n",
            "video 1/1 (frame 76/618) d:\\HighwayCounter_YOLOv8\\bike_car.mp4: 384x640 1 car, 1 motorcycle, 31.3ms\n",
            "video 1/1 (frame 77/618) d:\\HighwayCounter_YOLOv8\\bike_car.mp4: 384x640 1 car, 1 motorcycle, 31.3ms\n",
            "video 1/1 (frame 78/618) d:\\HighwayCounter_YOLOv8\\bike_car.mp4: 384x640 1 car, 1 motorcycle, 31.3ms\n",
            "video 1/1 (frame 79/618) d:\\HighwayCounter_YOLOv8\\bike_car.mp4: 384x640 1 car, 2 motorcycles, 31.2ms\n",
            "video 1/1 (frame 80/618) d:\\HighwayCounter_YOLOv8\\bike_car.mp4: 384x640 1 car, 2 motorcycles, 46.9ms\n",
            "video 1/1 (frame 81/618) d:\\HighwayCounter_YOLOv8\\bike_car.mp4: 384x640 1 car, 1 motorcycle, 15.6ms\n",
            "video 1/1 (frame 82/618) d:\\HighwayCounter_YOLOv8\\bike_car.mp4: 384x640 1 car, 3 motorcycles, 31.2ms\n",
            "video 1/1 (frame 83/618) d:\\HighwayCounter_YOLOv8\\bike_car.mp4: 384x640 1 car, 2 motorcycles, 21.9ms\n",
            "video 1/1 (frame 84/618) d:\\HighwayCounter_YOLOv8\\bike_car.mp4: 384x640 1 car, 3 motorcycles, 38.6ms\n",
            "video 1/1 (frame 85/618) d:\\HighwayCounter_YOLOv8\\bike_car.mp4: 384x640 1 car, 2 motorcycles, 29.1ms\n",
            "video 1/1 (frame 86/618) d:\\HighwayCounter_YOLOv8\\bike_car.mp4: 384x640 1 car, 2 motorcycles, 1 bus, 15.6ms\n",
            "video 1/1 (frame 87/618) d:\\HighwayCounter_YOLOv8\\bike_car.mp4: 384x640 1 car, 1 motorcycle, 1 bus, 22.7ms\n",
            "video 1/1 (frame 88/618) d:\\HighwayCounter_YOLOv8\\bike_car.mp4: 384x640 1 car, 3 motorcycles, 15.6ms\n",
            "video 1/1 (frame 89/618) d:\\HighwayCounter_YOLOv8\\bike_car.mp4: 384x640 1 car, 3 motorcycles, 46.9ms\n",
            "video 1/1 (frame 90/618) d:\\HighwayCounter_YOLOv8\\bike_car.mp4: 384x640 1 car, 3 motorcycles, 31.2ms\n",
            "video 1/1 (frame 91/618) d:\\HighwayCounter_YOLOv8\\bike_car.mp4: 384x640 1 car, 2 motorcycles, 15.6ms\n",
            "video 1/1 (frame 92/618) d:\\HighwayCounter_YOLOv8\\bike_car.mp4: 384x640 1 car, 2 motorcycles, 31.3ms\n",
            "video 1/1 (frame 93/618) d:\\HighwayCounter_YOLOv8\\bike_car.mp4: 384x640 1 car, 3 motorcycles, 37.6ms\n",
            "video 1/1 (frame 94/618) d:\\HighwayCounter_YOLOv8\\bike_car.mp4: 384x640 1 car, 3 motorcycles, 1 bus, 31.3ms\n",
            "video 1/1 (frame 95/618) d:\\HighwayCounter_YOLOv8\\bike_car.mp4: 384x640 1 car, 2 motorcycles, 31.3ms\n",
            "video 1/1 (frame 96/618) d:\\HighwayCounter_YOLOv8\\bike_car.mp4: 384x640 1 car, 2 motorcycles, 15.6ms\n",
            "video 1/1 (frame 97/618) d:\\HighwayCounter_YOLOv8\\bike_car.mp4: 384x640 1 car, 3 motorcycles, 34.0ms\n",
            "video 1/1 (frame 98/618) d:\\HighwayCounter_YOLOv8\\bike_car.mp4: 384x640 1 car, 3 motorcycles, 15.6ms\n",
            "video 1/1 (frame 99/618) d:\\HighwayCounter_YOLOv8\\bike_car.mp4: 384x640 1 car, 3 motorcycles, 46.4ms\n",
            "video 1/1 (frame 100/618) d:\\HighwayCounter_YOLOv8\\bike_car.mp4: 384x640 1 car, 3 motorcycles, 31.3ms\n",
            "video 1/1 (frame 101/618) d:\\HighwayCounter_YOLOv8\\bike_car.mp4: 384x640 1 car, 2 motorcycles, 38.6ms\n",
            "video 1/1 (frame 102/618) d:\\HighwayCounter_YOLOv8\\bike_car.mp4: 384x640 1 car, 2 motorcycles, 21.7ms\n",
            "video 1/1 (frame 103/618) d:\\HighwayCounter_YOLOv8\\bike_car.mp4: 384x640 1 car, 2 motorcycles, 15.6ms\n",
            "video 1/1 (frame 104/618) d:\\HighwayCounter_YOLOv8\\bike_car.mp4: 384x640 1 car, 3 motorcycles, 31.2ms\n",
            "video 1/1 (frame 105/618) d:\\HighwayCounter_YOLOv8\\bike_car.mp4: 384x640 1 car, 3 motorcycles, 15.6ms\n",
            "video 1/1 (frame 106/618) d:\\HighwayCounter_YOLOv8\\bike_car.mp4: 384x640 1 car, 2 motorcycles, 15.6ms\n",
            "video 1/1 (frame 107/618) d:\\HighwayCounter_YOLOv8\\bike_car.mp4: 384x640 1 car, 2 motorcycles, 21.9ms\n",
            "video 1/1 (frame 108/618) d:\\HighwayCounter_YOLOv8\\bike_car.mp4: 384x640 1 car, 4 motorcycles, 23.0ms\n",
            "video 1/1 (frame 109/618) d:\\HighwayCounter_YOLOv8\\bike_car.mp4: 384x640 1 car, 3 motorcycles, 31.2ms\n",
            "video 1/1 (frame 110/618) d:\\HighwayCounter_YOLOv8\\bike_car.mp4: 384x640 1 car, 3 motorcycles, 31.3ms\n",
            "video 1/1 (frame 111/618) d:\\HighwayCounter_YOLOv8\\bike_car.mp4: 384x640 1 car, 3 motorcycles, 38.7ms\n",
            "video 1/1 (frame 112/618) d:\\HighwayCounter_YOLOv8\\bike_car.mp4: 384x640 1 car, 3 motorcycles, 31.3ms\n",
            "video 1/1 (frame 113/618) d:\\HighwayCounter_YOLOv8\\bike_car.mp4: 384x640 1 car, 3 motorcycles, 15.6ms\n",
            "video 1/1 (frame 114/618) d:\\HighwayCounter_YOLOv8\\bike_car.mp4: 384x640 1 car, 3 motorcycles, 46.9ms\n",
            "video 1/1 (frame 115/618) d:\\HighwayCounter_YOLOv8\\bike_car.mp4: 384x640 3 motorcycles, 52.9ms\n",
            "video 1/1 (frame 116/618) d:\\HighwayCounter_YOLOv8\\bike_car.mp4: 384x640 4 motorcycles, 15.6ms\n",
            "video 1/1 (frame 117/618) d:\\HighwayCounter_YOLOv8\\bike_car.mp4: 384x640 6 motorcycles, 31.2ms\n",
            "video 1/1 (frame 118/618) d:\\HighwayCounter_YOLOv8\\bike_car.mp4: 384x640 3 motorcycles, 15.6ms\n",
            "video 1/1 (frame 119/618) d:\\HighwayCounter_YOLOv8\\bike_car.mp4: 384x640 1 car, 4 motorcycles, 31.3ms\n",
            "video 1/1 (frame 120/618) d:\\HighwayCounter_YOLOv8\\bike_car.mp4: 384x640 3 motorcycles, 37.8ms\n",
            "video 1/1 (frame 121/618) d:\\HighwayCounter_YOLOv8\\bike_car.mp4: 384x640 1 car, 4 motorcycles, 53.6ms\n",
            "video 1/1 (frame 122/618) d:\\HighwayCounter_YOLOv8\\bike_car.mp4: 384x640 1 car, 2 motorcycles, 15.6ms\n",
            "video 1/1 (frame 123/618) d:\\HighwayCounter_YOLOv8\\bike_car.mp4: 384x640 3 motorcycles, 31.2ms\n",
            "video 1/1 (frame 124/618) d:\\HighwayCounter_YOLOv8\\bike_car.mp4: 384x640 4 motorcycles, 31.3ms\n",
            "video 1/1 (frame 125/618) d:\\HighwayCounter_YOLOv8\\bike_car.mp4: 384x640 3 motorcycles, 20.2ms\n",
            "video 1/1 (frame 126/618) d:\\HighwayCounter_YOLOv8\\bike_car.mp4: 384x640 3 motorcycles, 15.6ms\n",
            "video 1/1 (frame 127/618) d:\\HighwayCounter_YOLOv8\\bike_car.mp4: 384x640 3 motorcycles, 18.1ms\n",
            "video 1/1 (frame 128/618) d:\\HighwayCounter_YOLOv8\\bike_car.mp4: 384x640 3 motorcycles, 31.3ms\n",
            "video 1/1 (frame 129/618) d:\\HighwayCounter_YOLOv8\\bike_car.mp4: 384x640 3 motorcycles, 15.6ms\n",
            "video 1/1 (frame 130/618) d:\\HighwayCounter_YOLOv8\\bike_car.mp4: 384x640 1 car, 3 motorcycles, 31.2ms\n",
            "video 1/1 (frame 131/618) d:\\HighwayCounter_YOLOv8\\bike_car.mp4: 384x640 3 motorcycles, 31.2ms\n",
            "video 1/1 (frame 132/618) d:\\HighwayCounter_YOLOv8\\bike_car.mp4: 384x640 1 car, 3 motorcycles, 15.6ms\n",
            "video 1/1 (frame 133/618) d:\\HighwayCounter_YOLOv8\\bike_car.mp4: 384x640 1 car, 3 motorcycles, 38.4ms\n",
            "video 1/1 (frame 134/618) d:\\HighwayCounter_YOLOv8\\bike_car.mp4: 384x640 2 motorcycles, 46.9ms\n",
            "video 1/1 (frame 135/618) d:\\HighwayCounter_YOLOv8\\bike_car.mp4: 384x640 3 motorcycles, 31.2ms\n",
            "video 1/1 (frame 136/618) d:\\HighwayCounter_YOLOv8\\bike_car.mp4: 384x640 3 motorcycles, 15.6ms\n",
            "video 1/1 (frame 137/618) d:\\HighwayCounter_YOLOv8\\bike_car.mp4: 384x640 3 motorcycles, 22.0ms\n",
            "video 1/1 (frame 138/618) d:\\HighwayCounter_YOLOv8\\bike_car.mp4: 384x640 2 motorcycles, 28.0ms\n",
            "video 1/1 (frame 139/618) d:\\HighwayCounter_YOLOv8\\bike_car.mp4: 384x640 3 motorcycles, 31.3ms\n",
            "video 1/1 (frame 140/618) d:\\HighwayCounter_YOLOv8\\bike_car.mp4: 384x640 3 motorcycles, 21.8ms\n",
            "video 1/1 (frame 141/618) d:\\HighwayCounter_YOLOv8\\bike_car.mp4: 384x640 3 motorcycles, 23.6ms\n",
            "video 1/1 (frame 142/618) d:\\HighwayCounter_YOLOv8\\bike_car.mp4: 384x640 2 motorcycles, 16.3ms\n",
            "video 1/1 (frame 143/618) d:\\HighwayCounter_YOLOv8\\bike_car.mp4: 384x640 2 motorcycles, 16.3ms\n",
            "video 1/1 (frame 144/618) d:\\HighwayCounter_YOLOv8\\bike_car.mp4: 384x640 2 motorcycles, 12.5ms\n",
            "video 1/1 (frame 145/618) d:\\HighwayCounter_YOLOv8\\bike_car.mp4: 384x640 2 motorcycles, 15.6ms\n",
            "video 1/1 (frame 146/618) d:\\HighwayCounter_YOLOv8\\bike_car.mp4: 384x640 2 motorcycles, 46.9ms\n",
            "video 1/1 (frame 147/618) d:\\HighwayCounter_YOLOv8\\bike_car.mp4: 384x640 2 motorcycles, 37.1ms\n",
            "video 1/1 (frame 148/618) d:\\HighwayCounter_YOLOv8\\bike_car.mp4: 384x640 2 motorcycles, 31.2ms\n",
            "video 1/1 (frame 149/618) d:\\HighwayCounter_YOLOv8\\bike_car.mp4: 384x640 2 motorcycles, 22.0ms\n",
            "video 1/1 (frame 150/618) d:\\HighwayCounter_YOLOv8\\bike_car.mp4: 384x640 2 motorcycles, 22.5ms\n",
            "video 1/1 (frame 151/618) d:\\HighwayCounter_YOLOv8\\bike_car.mp4: 384x640 2 motorcycles, 22.7ms\n",
            "video 1/1 (frame 152/618) d:\\HighwayCounter_YOLOv8\\bike_car.mp4: 384x640 3 motorcycles, 22.9ms\n",
            "video 1/1 (frame 153/618) d:\\HighwayCounter_YOLOv8\\bike_car.mp4: 384x640 2 motorcycles, 15.6ms\n",
            "video 1/1 (frame 154/618) d:\\HighwayCounter_YOLOv8\\bike_car.mp4: 384x640 1 motorcycle, 39.9ms\n",
            "video 1/1 (frame 155/618) d:\\HighwayCounter_YOLOv8\\bike_car.mp4: 384x640 1 motorcycle, 15.6ms\n",
            "video 1/1 (frame 156/618) d:\\HighwayCounter_YOLOv8\\bike_car.mp4: 384x640 1 motorcycle, 27.7ms\n",
            "video 1/1 (frame 157/618) d:\\HighwayCounter_YOLOv8\\bike_car.mp4: 384x640 1 motorcycle, 16.2ms\n",
            "video 1/1 (frame 158/618) d:\\HighwayCounter_YOLOv8\\bike_car.mp4: 384x640 1 motorcycle, 15.6ms\n",
            "video 1/1 (frame 159/618) d:\\HighwayCounter_YOLOv8\\bike_car.mp4: 384x640 2 motorcycles, 62.5ms\n",
            "video 1/1 (frame 160/618) d:\\HighwayCounter_YOLOv8\\bike_car.mp4: 384x640 1 motorcycle, 15.6ms\n",
            "video 1/1 (frame 161/618) d:\\HighwayCounter_YOLOv8\\bike_car.mp4: 384x640 1 motorcycle, 15.6ms\n",
            "video 1/1 (frame 162/618) d:\\HighwayCounter_YOLOv8\\bike_car.mp4: 384x640 1 motorcycle, 37.1ms\n",
            "video 1/1 (frame 163/618) d:\\HighwayCounter_YOLOv8\\bike_car.mp4: 384x640 1 motorcycle, 39.6ms\n",
            "video 1/1 (frame 164/618) d:\\HighwayCounter_YOLOv8\\bike_car.mp4: 384x640 1 motorcycle, 31.3ms\n",
            "video 1/1 (frame 165/618) d:\\HighwayCounter_YOLOv8\\bike_car.mp4: 384x640 1 motorcycle, 15.6ms\n",
            "video 1/1 (frame 166/618) d:\\HighwayCounter_YOLOv8\\bike_car.mp4: 384x640 2 motorcycles, 31.3ms\n",
            "video 1/1 (frame 167/618) d:\\HighwayCounter_YOLOv8\\bike_car.mp4: 384x640 2 motorcycles, 15.6ms\n",
            "video 1/1 (frame 168/618) d:\\HighwayCounter_YOLOv8\\bike_car.mp4: 384x640 1 motorcycle, 46.9ms\n",
            "video 1/1 (frame 169/618) d:\\HighwayCounter_YOLOv8\\bike_car.mp4: 384x640 1 motorcycle, 31.2ms\n",
            "video 1/1 (frame 170/618) d:\\HighwayCounter_YOLOv8\\bike_car.mp4: 384x640 1 motorcycle, 17.5ms\n",
            "video 1/1 (frame 171/618) d:\\HighwayCounter_YOLOv8\\bike_car.mp4: 384x640 2 motorcycles, 39.4ms\n",
            "video 1/1 (frame 172/618) d:\\HighwayCounter_YOLOv8\\bike_car.mp4: 384x640 2 motorcycles, 15.8ms\n",
            "video 1/1 (frame 173/618) d:\\HighwayCounter_YOLOv8\\bike_car.mp4: 384x640 1 motorcycle, 22.8ms\n",
            "video 1/1 (frame 174/618) d:\\HighwayCounter_YOLOv8\\bike_car.mp4: 384x640 1 motorcycle, 37.6ms\n",
            "video 1/1 (frame 175/618) d:\\HighwayCounter_YOLOv8\\bike_car.mp4: 384x640 1 motorcycle, 38.4ms\n",
            "video 1/1 (frame 176/618) d:\\HighwayCounter_YOLOv8\\bike_car.mp4: 384x640 1 motorcycle, 31.3ms\n",
            "video 1/1 (frame 177/618) d:\\HighwayCounter_YOLOv8\\bike_car.mp4: 384x640 1 motorcycle, 15.6ms\n",
            "video 1/1 (frame 178/618) d:\\HighwayCounter_YOLOv8\\bike_car.mp4: 384x640 1 motorcycle, 31.3ms\n",
            "video 1/1 (frame 179/618) d:\\HighwayCounter_YOLOv8\\bike_car.mp4: 384x640 1 motorcycle, 15.6ms\n",
            "video 1/1 (frame 180/618) d:\\HighwayCounter_YOLOv8\\bike_car.mp4: 384x640 1 motorcycle, 15.6ms\n",
            "video 1/1 (frame 181/618) d:\\HighwayCounter_YOLOv8\\bike_car.mp4: 384x640 1 motorcycle, 31.3ms\n",
            "video 1/1 (frame 182/618) d:\\HighwayCounter_YOLOv8\\bike_car.mp4: 384x640 1 motorcycle, 15.6ms\n",
            "video 1/1 (frame 183/618) d:\\HighwayCounter_YOLOv8\\bike_car.mp4: 384x640 1 motorcycle, 15.6ms\n",
            "video 1/1 (frame 184/618) d:\\HighwayCounter_YOLOv8\\bike_car.mp4: 384x640 1 motorcycle, 15.6ms\n",
            "video 1/1 (frame 185/618) d:\\HighwayCounter_YOLOv8\\bike_car.mp4: 384x640 1 motorcycle, 15.6ms\n",
            "video 1/1 (frame 186/618) d:\\HighwayCounter_YOLOv8\\bike_car.mp4: 384x640 (no detections), 31.3ms\n",
            "video 1/1 (frame 187/618) d:\\HighwayCounter_YOLOv8\\bike_car.mp4: 384x640 (no detections), 31.3ms\n",
            "video 1/1 (frame 188/618) d:\\HighwayCounter_YOLOv8\\bike_car.mp4: 384x640 (no detections), 31.3ms\n",
            "video 1/1 (frame 189/618) d:\\HighwayCounter_YOLOv8\\bike_car.mp4: 384x640 (no detections), 37.4ms\n",
            "video 1/1 (frame 190/618) d:\\HighwayCounter_YOLOv8\\bike_car.mp4: 384x640 (no detections), 31.3ms\n",
            "video 1/1 (frame 191/618) d:\\HighwayCounter_YOLOv8\\bike_car.mp4: 384x640 (no detections), 53.0ms\n",
            "video 1/1 (frame 192/618) d:\\HighwayCounter_YOLOv8\\bike_car.mp4: 384x640 (no detections), 15.6ms\n",
            "video 1/1 (frame 193/618) d:\\HighwayCounter_YOLOv8\\bike_car.mp4: 384x640 (no detections), 17.4ms\n",
            "video 1/1 (frame 194/618) d:\\HighwayCounter_YOLOv8\\bike_car.mp4: 384x640 (no detections), 22.8ms\n",
            "video 1/1 (frame 195/618) d:\\HighwayCounter_YOLOv8\\bike_car.mp4: 384x640 (no detections), 31.3ms\n",
            "video 1/1 (frame 196/618) d:\\HighwayCounter_YOLOv8\\bike_car.mp4: 384x640 1 motorcycle, 15.6ms\n",
            "video 1/1 (frame 197/618) d:\\HighwayCounter_YOLOv8\\bike_car.mp4: 384x640 1 motorcycle, 15.6ms\n",
            "video 1/1 (frame 198/618) d:\\HighwayCounter_YOLOv8\\bike_car.mp4: 384x640 2 motorcycles, 29.9ms\n",
            "video 1/1 (frame 199/618) d:\\HighwayCounter_YOLOv8\\bike_car.mp4: 384x640 2 motorcycles, 15.6ms\n",
            "video 1/1 (frame 200/618) d:\\HighwayCounter_YOLOv8\\bike_car.mp4: 384x640 1 motorcycle, 15.6ms\n",
            "video 1/1 (frame 201/618) d:\\HighwayCounter_YOLOv8\\bike_car.mp4: 384x640 1 motorcycle, 31.2ms\n",
            "video 1/1 (frame 202/618) d:\\HighwayCounter_YOLOv8\\bike_car.mp4: 384x640 2 motorcycles, 36.5ms\n",
            "video 1/1 (frame 203/618) d:\\HighwayCounter_YOLOv8\\bike_car.mp4: 384x640 2 motorcycles, 15.6ms\n",
            "video 1/1 (frame 204/618) d:\\HighwayCounter_YOLOv8\\bike_car.mp4: 384x640 2 motorcycles, 31.3ms\n",
            "video 1/1 (frame 205/618) d:\\HighwayCounter_YOLOv8\\bike_car.mp4: 384x640 2 motorcycles, 31.2ms\n",
            "video 1/1 (frame 206/618) d:\\HighwayCounter_YOLOv8\\bike_car.mp4: 384x640 2 motorcycles, 31.2ms\n",
            "video 1/1 (frame 207/618) d:\\HighwayCounter_YOLOv8\\bike_car.mp4: 384x640 2 motorcycles, 31.2ms\n",
            "video 1/1 (frame 208/618) d:\\HighwayCounter_YOLOv8\\bike_car.mp4: 384x640 2 motorcycles, 15.6ms\n",
            "video 1/1 (frame 209/618) d:\\HighwayCounter_YOLOv8\\bike_car.mp4: 384x640 2 motorcycles, 31.2ms\n",
            "video 1/1 (frame 210/618) d:\\HighwayCounter_YOLOv8\\bike_car.mp4: 384x640 2 motorcycles, 31.3ms\n",
            "video 1/1 (frame 211/618) d:\\HighwayCounter_YOLOv8\\bike_car.mp4: 384x640 2 motorcycles, 31.2ms\n",
            "video 1/1 (frame 212/618) d:\\HighwayCounter_YOLOv8\\bike_car.mp4: 384x640 2 motorcycles, 15.6ms\n",
            "video 1/1 (frame 213/618) d:\\HighwayCounter_YOLOv8\\bike_car.mp4: 384x640 2 motorcycles, 15.6ms\n",
            "video 1/1 (frame 214/618) d:\\HighwayCounter_YOLOv8\\bike_car.mp4: 384x640 2 motorcycles, 15.6ms\n",
            "video 1/1 (frame 215/618) d:\\HighwayCounter_YOLOv8\\bike_car.mp4: 384x640 2 motorcycles, 21.4ms\n",
            "video 1/1 (frame 216/618) d:\\HighwayCounter_YOLOv8\\bike_car.mp4: 384x640 2 motorcycles, 38.4ms\n",
            "video 1/1 (frame 217/618) d:\\HighwayCounter_YOLOv8\\bike_car.mp4: 384x640 2 motorcycles, 31.3ms\n",
            "video 1/1 (frame 218/618) d:\\HighwayCounter_YOLOv8\\bike_car.mp4: 384x640 2 motorcycles, 31.2ms\n",
            "video 1/1 (frame 219/618) d:\\HighwayCounter_YOLOv8\\bike_car.mp4: 384x640 2 motorcycles, 31.3ms\n",
            "video 1/1 (frame 220/618) d:\\HighwayCounter_YOLOv8\\bike_car.mp4: 384x640 2 motorcycles, 31.2ms\n",
            "video 1/1 (frame 221/618) d:\\HighwayCounter_YOLOv8\\bike_car.mp4: 384x640 2 motorcycles, 16.2ms\n",
            "video 1/1 (frame 222/618) d:\\HighwayCounter_YOLOv8\\bike_car.mp4: 384x640 2 motorcycles, 38.3ms\n",
            "video 1/1 (frame 223/618) d:\\HighwayCounter_YOLOv8\\bike_car.mp4: 384x640 2 motorcycles, 16.7ms\n",
            "video 1/1 (frame 224/618) d:\\HighwayCounter_YOLOv8\\bike_car.mp4: 384x640 3 motorcycles, 15.6ms\n",
            "video 1/1 (frame 225/618) d:\\HighwayCounter_YOLOv8\\bike_car.mp4: 384x640 3 motorcycles, 31.2ms\n",
            "video 1/1 (frame 226/618) d:\\HighwayCounter_YOLOv8\\bike_car.mp4: 384x640 4 motorcycles, 15.6ms\n",
            "video 1/1 (frame 227/618) d:\\HighwayCounter_YOLOv8\\bike_car.mp4: 384x640 4 motorcycles, 15.6ms\n",
            "video 1/1 (frame 228/618) d:\\HighwayCounter_YOLOv8\\bike_car.mp4: 384x640 3 motorcycles, 23.2ms\n",
            "video 1/1 (frame 229/618) d:\\HighwayCounter_YOLOv8\\bike_car.mp4: 384x640 3 motorcycles, 52.6ms\n",
            "video 1/1 (frame 230/618) d:\\HighwayCounter_YOLOv8\\bike_car.mp4: 384x640 3 motorcycles, 31.2ms\n",
            "video 1/1 (frame 231/618) d:\\HighwayCounter_YOLOv8\\bike_car.mp4: 384x640 3 motorcycles, 15.6ms\n",
            "video 1/1 (frame 232/618) d:\\HighwayCounter_YOLOv8\\bike_car.mp4: 384x640 3 motorcycles, 22.7ms\n",
            "video 1/1 (frame 233/618) d:\\HighwayCounter_YOLOv8\\bike_car.mp4: 384x640 3 motorcycles, 16.3ms\n",
            "video 1/1 (frame 234/618) d:\\HighwayCounter_YOLOv8\\bike_car.mp4: 384x640 3 motorcycles, 31.3ms\n",
            "video 1/1 (frame 235/618) d:\\HighwayCounter_YOLOv8\\bike_car.mp4: 384x640 2 motorcycles, 31.2ms\n",
            "video 1/1 (frame 236/618) d:\\HighwayCounter_YOLOv8\\bike_car.mp4: 384x640 3 motorcycles, 31.2ms\n",
            "video 1/1 (frame 237/618) d:\\HighwayCounter_YOLOv8\\bike_car.mp4: 384x640 2 motorcycles, 15.6ms\n",
            "video 1/1 (frame 238/618) d:\\HighwayCounter_YOLOv8\\bike_car.mp4: 384x640 2 motorcycles, 15.6ms\n",
            "video 1/1 (frame 239/618) d:\\HighwayCounter_YOLOv8\\bike_car.mp4: 384x640 3 motorcycles, 31.2ms\n",
            "video 1/1 (frame 240/618) d:\\HighwayCounter_YOLOv8\\bike_car.mp4: 384x640 3 motorcycles, 21.9ms\n",
            "video 1/1 (frame 241/618) d:\\HighwayCounter_YOLOv8\\bike_car.mp4: 384x640 3 motorcycles, 15.6ms\n",
            "video 1/1 (frame 242/618) d:\\HighwayCounter_YOLOv8\\bike_car.mp4: 384x640 4 motorcycles, 15.6ms\n",
            "video 1/1 (frame 243/618) d:\\HighwayCounter_YOLOv8\\bike_car.mp4: 384x640 3 motorcycles, 31.2ms\n",
            "video 1/1 (frame 244/618) d:\\HighwayCounter_YOLOv8\\bike_car.mp4: 384x640 3 motorcycles, 21.1ms\n",
            "video 1/1 (frame 245/618) d:\\HighwayCounter_YOLOv8\\bike_car.mp4: 384x640 3 motorcycles, 46.9ms\n",
            "video 1/1 (frame 246/618) d:\\HighwayCounter_YOLOv8\\bike_car.mp4: 384x640 3 motorcycles, 15.6ms\n",
            "video 1/1 (frame 247/618) d:\\HighwayCounter_YOLOv8\\bike_car.mp4: 384x640 3 motorcycles, 46.9ms\n",
            "video 1/1 (frame 248/618) d:\\HighwayCounter_YOLOv8\\bike_car.mp4: 384x640 3 motorcycles, 15.6ms\n",
            "video 1/1 (frame 249/618) d:\\HighwayCounter_YOLOv8\\bike_car.mp4: 384x640 3 motorcycles, 22.2ms\n",
            "video 1/1 (frame 250/618) d:\\HighwayCounter_YOLOv8\\bike_car.mp4: 384x640 3 motorcycles, 38.6ms\n",
            "video 1/1 (frame 251/618) d:\\HighwayCounter_YOLOv8\\bike_car.mp4: 384x640 3 motorcycles, 46.9ms\n",
            "video 1/1 (frame 252/618) d:\\HighwayCounter_YOLOv8\\bike_car.mp4: 384x640 3 motorcycles, 37.3ms\n",
            "video 1/1 (frame 253/618) d:\\HighwayCounter_YOLOv8\\bike_car.mp4: 384x640 3 motorcycles, 31.3ms\n",
            "video 1/1 (frame 254/618) d:\\HighwayCounter_YOLOv8\\bike_car.mp4: 384x640 3 motorcycles, 31.2ms\n",
            "video 1/1 (frame 255/618) d:\\HighwayCounter_YOLOv8\\bike_car.mp4: 384x640 3 motorcycles, 31.2ms\n",
            "video 1/1 (frame 256/618) d:\\HighwayCounter_YOLOv8\\bike_car.mp4: 384x640 4 motorcycles, 15.6ms\n",
            "video 1/1 (frame 257/618) d:\\HighwayCounter_YOLOv8\\bike_car.mp4: 384x640 4 motorcycles, 22.8ms\n",
            "video 1/1 (frame 258/618) d:\\HighwayCounter_YOLOv8\\bike_car.mp4: 384x640 6 motorcycles, 22.3ms\n",
            "video 1/1 (frame 259/618) d:\\HighwayCounter_YOLOv8\\bike_car.mp4: 384x640 5 motorcycles, 31.3ms\n",
            "video 1/1 (frame 260/618) d:\\HighwayCounter_YOLOv8\\bike_car.mp4: 384x640 4 motorcycles, 15.6ms\n",
            "video 1/1 (frame 261/618) d:\\HighwayCounter_YOLOv8\\bike_car.mp4: 384x640 4 motorcycles, 31.2ms\n",
            "video 1/1 (frame 262/618) d:\\HighwayCounter_YOLOv8\\bike_car.mp4: 384x640 4 motorcycles, 46.9ms\n",
            "video 1/1 (frame 263/618) d:\\HighwayCounter_YOLOv8\\bike_car.mp4: 384x640 4 motorcycles, 31.2ms\n",
            "video 1/1 (frame 264/618) d:\\HighwayCounter_YOLOv8\\bike_car.mp4: 384x640 4 motorcycles, 37.6ms\n",
            "video 1/1 (frame 265/618) d:\\HighwayCounter_YOLOv8\\bike_car.mp4: 384x640 4 motorcycles, 31.3ms\n",
            "video 1/1 (frame 266/618) d:\\HighwayCounter_YOLOv8\\bike_car.mp4: 384x640 5 motorcycles, 15.6ms\n",
            "video 1/1 (frame 267/618) d:\\HighwayCounter_YOLOv8\\bike_car.mp4: 384x640 4 motorcycles, 37.3ms\n",
            "video 1/1 (frame 268/618) d:\\HighwayCounter_YOLOv8\\bike_car.mp4: 384x640 5 motorcycles, 39.2ms\n",
            "video 1/1 (frame 269/618) d:\\HighwayCounter_YOLOv8\\bike_car.mp4: 384x640 1 car, 4 motorcycles, 15.6ms\n",
            "video 1/1 (frame 270/618) d:\\HighwayCounter_YOLOv8\\bike_car.mp4: 384x640 1 car, 4 motorcycles, 15.6ms\n",
            "video 1/1 (frame 271/618) d:\\HighwayCounter_YOLOv8\\bike_car.mp4: 384x640 1 car, 4 motorcycles, 15.6ms\n",
            "video 1/1 (frame 272/618) d:\\HighwayCounter_YOLOv8\\bike_car.mp4: 384x640 1 car, 4 motorcycles, 31.2ms\n",
            "video 1/1 (frame 273/618) d:\\HighwayCounter_YOLOv8\\bike_car.mp4: 384x640 4 motorcycles, 22.1ms\n",
            "video 1/1 (frame 274/618) d:\\HighwayCounter_YOLOv8\\bike_car.mp4: 384x640 2 cars, 5 motorcycles, 20.5ms\n",
            "video 1/1 (frame 275/618) d:\\HighwayCounter_YOLOv8\\bike_car.mp4: 384x640 1 car, 4 motorcycles, 15.6ms\n",
            "video 1/1 (frame 276/618) d:\\HighwayCounter_YOLOv8\\bike_car.mp4: 384x640 1 car, 4 motorcycles, 52.9ms\n",
            "video 1/1 (frame 277/618) d:\\HighwayCounter_YOLOv8\\bike_car.mp4: 384x640 2 cars, 5 motorcycles, 31.3ms\n",
            "video 1/1 (frame 278/618) d:\\HighwayCounter_YOLOv8\\bike_car.mp4: 384x640 1 car, 6 motorcycles, 36.9ms\n",
            "video 1/1 (frame 279/618) d:\\HighwayCounter_YOLOv8\\bike_car.mp4: 384x640 6 motorcycles, 31.3ms\n",
            "video 1/1 (frame 280/618) d:\\HighwayCounter_YOLOv8\\bike_car.mp4: 384x640 5 motorcycles, 31.2ms\n",
            "video 1/1 (frame 281/618) d:\\HighwayCounter_YOLOv8\\bike_car.mp4: 384x640 6 motorcycles, 52.9ms\n",
            "video 1/1 (frame 282/618) d:\\HighwayCounter_YOLOv8\\bike_car.mp4: 384x640 1 car, 5 motorcycles, 31.3ms\n",
            "video 1/1 (frame 283/618) d:\\HighwayCounter_YOLOv8\\bike_car.mp4: 384x640 4 motorcycles, 15.6ms\n",
            "video 1/1 (frame 284/618) d:\\HighwayCounter_YOLOv8\\bike_car.mp4: 384x640 5 motorcycles, 31.2ms\n",
            "video 1/1 (frame 285/618) d:\\HighwayCounter_YOLOv8\\bike_car.mp4: 384x640 4 motorcycles, 49.3ms\n",
            "video 1/1 (frame 286/618) d:\\HighwayCounter_YOLOv8\\bike_car.mp4: 384x640 4 motorcycles, 15.6ms\n",
            "video 1/1 (frame 287/618) d:\\HighwayCounter_YOLOv8\\bike_car.mp4: 384x640 5 motorcycles, 31.3ms\n",
            "video 1/1 (frame 288/618) d:\\HighwayCounter_YOLOv8\\bike_car.mp4: 384x640 4 motorcycles, 15.6ms\n",
            "video 1/1 (frame 289/618) d:\\HighwayCounter_YOLOv8\\bike_car.mp4: 384x640 4 motorcycles, 46.9ms\n",
            "video 1/1 (frame 290/618) d:\\HighwayCounter_YOLOv8\\bike_car.mp4: 384x640 4 motorcycles, 15.6ms\n",
            "video 1/1 (frame 291/618) d:\\HighwayCounter_YOLOv8\\bike_car.mp4: 384x640 4 motorcycles, 31.2ms\n",
            "video 1/1 (frame 292/618) d:\\HighwayCounter_YOLOv8\\bike_car.mp4: 384x640 4 motorcycles, 15.6ms\n",
            "video 1/1 (frame 293/618) d:\\HighwayCounter_YOLOv8\\bike_car.mp4: 384x640 4 motorcycles, 31.2ms\n",
            "video 1/1 (frame 294/618) d:\\HighwayCounter_YOLOv8\\bike_car.mp4: 384x640 4 motorcycles, 37.6ms\n",
            "video 1/1 (frame 295/618) d:\\HighwayCounter_YOLOv8\\bike_car.mp4: 384x640 4 motorcycles, 15.6ms\n",
            "video 1/1 (frame 296/618) d:\\HighwayCounter_YOLOv8\\bike_car.mp4: 384x640 4 motorcycles, 31.3ms\n",
            "video 1/1 (frame 297/618) d:\\HighwayCounter_YOLOv8\\bike_car.mp4: 384x640 1 car, 4 motorcycles, 36.5ms\n",
            "video 1/1 (frame 298/618) d:\\HighwayCounter_YOLOv8\\bike_car.mp4: 384x640 1 car, 4 motorcycles, 15.6ms\n",
            "video 1/1 (frame 299/618) d:\\HighwayCounter_YOLOv8\\bike_car.mp4: 384x640 1 car, 4 motorcycles, 15.6ms\n",
            "video 1/1 (frame 300/618) d:\\HighwayCounter_YOLOv8\\bike_car.mp4: 384x640 1 car, 4 motorcycles, 31.2ms\n",
            "video 1/1 (frame 301/618) d:\\HighwayCounter_YOLOv8\\bike_car.mp4: 384x640 1 car, 4 motorcycles, 21.2ms\n",
            "video 1/1 (frame 302/618) d:\\HighwayCounter_YOLOv8\\bike_car.mp4: 384x640 1 car, 4 motorcycles, 15.6ms\n",
            "video 1/1 (frame 303/618) d:\\HighwayCounter_YOLOv8\\bike_car.mp4: 384x640 1 car, 4 motorcycles, 31.2ms\n",
            "video 1/1 (frame 304/618) d:\\HighwayCounter_YOLOv8\\bike_car.mp4: 384x640 1 car, 4 motorcycles, 31.2ms\n",
            "video 1/1 (frame 305/618) d:\\HighwayCounter_YOLOv8\\bike_car.mp4: 384x640 1 car, 4 motorcycles, 15.6ms\n",
            "video 1/1 (frame 306/618) d:\\HighwayCounter_YOLOv8\\bike_car.mp4: 384x640 1 car, 4 motorcycles, 15.6ms\n",
            "video 1/1 (frame 307/618) d:\\HighwayCounter_YOLOv8\\bike_car.mp4: 384x640 1 car, 3 motorcycles, 15.6ms\n",
            "video 1/1 (frame 308/618) d:\\HighwayCounter_YOLOv8\\bike_car.mp4: 384x640 1 car, 4 motorcycles, 31.2ms\n",
            "video 1/1 (frame 309/618) d:\\HighwayCounter_YOLOv8\\bike_car.mp4: 384x640 1 car, 5 motorcycles, 21.5ms\n",
            "video 1/1 (frame 310/618) d:\\HighwayCounter_YOLOv8\\bike_car.mp4: 384x640 1 car, 5 motorcycles, 23.0ms\n",
            "video 1/1 (frame 311/618) d:\\HighwayCounter_YOLOv8\\bike_car.mp4: 384x640 1 car, 5 motorcycles, 15.6ms\n",
            "video 1/1 (frame 312/618) d:\\HighwayCounter_YOLOv8\\bike_car.mp4: 384x640 1 car, 5 motorcycles, 53.2ms\n",
            "video 1/1 (frame 313/618) d:\\HighwayCounter_YOLOv8\\bike_car.mp4: 384x640 1 car, 4 motorcycles, 31.3ms\n",
            "video 1/1 (frame 314/618) d:\\HighwayCounter_YOLOv8\\bike_car.mp4: 384x640 1 car, 4 motorcycles, 15.6ms\n",
            "video 1/1 (frame 315/618) d:\\HighwayCounter_YOLOv8\\bike_car.mp4: 384x640 1 car, 5 motorcycles, 15.6ms\n",
            "video 1/1 (frame 316/618) d:\\HighwayCounter_YOLOv8\\bike_car.mp4: 384x640 1 car, 6 motorcycles, 15.6ms\n",
            "video 1/1 (frame 317/618) d:\\HighwayCounter_YOLOv8\\bike_car.mp4: 384x640 1 car, 6 motorcycles, 15.6ms\n",
            "video 1/1 (frame 318/618) d:\\HighwayCounter_YOLOv8\\bike_car.mp4: 384x640 1 car, 5 motorcycles, 31.3ms\n",
            "video 1/1 (frame 319/618) d:\\HighwayCounter_YOLOv8\\bike_car.mp4: 384x640 1 car, 5 motorcycles, 38.7ms\n",
            "video 1/1 (frame 320/618) d:\\HighwayCounter_YOLOv8\\bike_car.mp4: 384x640 1 car, 7 motorcycles, 15.6ms\n",
            "video 1/1 (frame 321/618) d:\\HighwayCounter_YOLOv8\\bike_car.mp4: 384x640 1 car, 5 motorcycles, 31.2ms\n",
            "video 1/1 (frame 322/618) d:\\HighwayCounter_YOLOv8\\bike_car.mp4: 384x640 1 car, 6 motorcycles, 24.4ms\n",
            "video 1/1 (frame 323/618) d:\\HighwayCounter_YOLOv8\\bike_car.mp4: 384x640 1 car, 6 motorcycles, 31.3ms\n",
            "video 1/1 (frame 324/618) d:\\HighwayCounter_YOLOv8\\bike_car.mp4: 384x640 1 car, 5 motorcycles, 31.2ms\n",
            "video 1/1 (frame 325/618) d:\\HighwayCounter_YOLOv8\\bike_car.mp4: 384x640 1 car, 5 motorcycles, 21.5ms\n",
            "video 1/1 (frame 326/618) d:\\HighwayCounter_YOLOv8\\bike_car.mp4: 384x640 1 car, 5 motorcycles, 15.6ms\n",
            "video 1/1 (frame 327/618) d:\\HighwayCounter_YOLOv8\\bike_car.mp4: 384x640 1 car, 5 motorcycles, 15.6ms\n",
            "video 1/1 (frame 328/618) d:\\HighwayCounter_YOLOv8\\bike_car.mp4: 384x640 1 car, 5 motorcycles, 21.9ms\n",
            "video 1/1 (frame 329/618) d:\\HighwayCounter_YOLOv8\\bike_car.mp4: 384x640 1 car, 5 motorcycles, 18.2ms\n",
            "video 1/1 (frame 330/618) d:\\HighwayCounter_YOLOv8\\bike_car.mp4: 384x640 1 car, 6 motorcycles, 15.6ms\n",
            "video 1/1 (frame 331/618) d:\\HighwayCounter_YOLOv8\\bike_car.mp4: 384x640 1 car, 5 motorcycles, 31.2ms\n",
            "video 1/1 (frame 332/618) d:\\HighwayCounter_YOLOv8\\bike_car.mp4: 384x640 1 car, 5 motorcycles, 36.2ms\n",
            "video 1/1 (frame 333/618) d:\\HighwayCounter_YOLOv8\\bike_car.mp4: 384x640 1 car, 5 motorcycles, 15.6ms\n",
            "video 1/1 (frame 334/618) d:\\HighwayCounter_YOLOv8\\bike_car.mp4: 384x640 1 car, 5 motorcycles, 31.2ms\n",
            "video 1/1 (frame 335/618) d:\\HighwayCounter_YOLOv8\\bike_car.mp4: 384x640 1 car, 5 motorcycles, 21.6ms\n",
            "video 1/1 (frame 336/618) d:\\HighwayCounter_YOLOv8\\bike_car.mp4: 384x640 1 car, 6 motorcycles, 39.9ms\n",
            "video 1/1 (frame 337/618) d:\\HighwayCounter_YOLOv8\\bike_car.mp4: 384x640 1 car, 5 motorcycles, 15.6ms\n",
            "video 1/1 (frame 338/618) d:\\HighwayCounter_YOLOv8\\bike_car.mp4: 384x640 1 car, 6 motorcycles, 38.4ms\n",
            "video 1/1 (frame 339/618) d:\\HighwayCounter_YOLOv8\\bike_car.mp4: 384x640 1 car, 7 motorcycles, 15.6ms\n",
            "video 1/1 (frame 340/618) d:\\HighwayCounter_YOLOv8\\bike_car.mp4: 384x640 1 car, 5 motorcycles, 31.2ms\n",
            "video 1/1 (frame 341/618) d:\\HighwayCounter_YOLOv8\\bike_car.mp4: 384x640 1 car, 4 motorcycles, 31.3ms\n",
            "video 1/1 (frame 342/618) d:\\HighwayCounter_YOLOv8\\bike_car.mp4: 384x640 1 car, 4 motorcycles, 22.1ms\n",
            "video 1/1 (frame 343/618) d:\\HighwayCounter_YOLOv8\\bike_car.mp4: 384x640 1 car, 4 motorcycles, 31.3ms\n",
            "video 1/1 (frame 344/618) d:\\HighwayCounter_YOLOv8\\bike_car.mp4: 384x640 2 cars, 5 motorcycles, 15.6ms\n",
            "video 1/1 (frame 345/618) d:\\HighwayCounter_YOLOv8\\bike_car.mp4: 384x640 2 cars, 4 motorcycles, 31.2ms\n",
            "video 1/1 (frame 346/618) d:\\HighwayCounter_YOLOv8\\bike_car.mp4: 384x640 2 cars, 4 motorcycles, 31.2ms\n",
            "video 1/1 (frame 347/618) d:\\HighwayCounter_YOLOv8\\bike_car.mp4: 384x640 1 car, 4 motorcycles, 37.2ms\n",
            "video 1/1 (frame 348/618) d:\\HighwayCounter_YOLOv8\\bike_car.mp4: 384x640 2 cars, 4 motorcycles, 15.6ms\n",
            "video 1/1 (frame 349/618) d:\\HighwayCounter_YOLOv8\\bike_car.mp4: 384x640 2 cars, 5 motorcycles, 31.3ms\n",
            "video 1/1 (frame 350/618) d:\\HighwayCounter_YOLOv8\\bike_car.mp4: 384x640 2 cars, 5 motorcycles, 31.3ms\n",
            "video 1/1 (frame 351/618) d:\\HighwayCounter_YOLOv8\\bike_car.mp4: 384x640 2 cars, 5 motorcycles, 39.5ms\n",
            "video 1/1 (frame 352/618) d:\\HighwayCounter_YOLOv8\\bike_car.mp4: 384x640 1 car, 6 motorcycles, 31.2ms\n",
            "video 1/1 (frame 353/618) d:\\HighwayCounter_YOLOv8\\bike_car.mp4: 384x640 1 car, 4 motorcycles, 15.6ms\n",
            "video 1/1 (frame 354/618) d:\\HighwayCounter_YOLOv8\\bike_car.mp4: 384x640 1 car, 5 motorcycles, 21.7ms\n",
            "video 1/1 (frame 355/618) d:\\HighwayCounter_YOLOv8\\bike_car.mp4: 384x640 1 car, 5 motorcycles, 15.6ms\n",
            "video 1/1 (frame 356/618) d:\\HighwayCounter_YOLOv8\\bike_car.mp4: 384x640 1 car, 6 motorcycles, 46.9ms\n",
            "video 1/1 (frame 357/618) d:\\HighwayCounter_YOLOv8\\bike_car.mp4: 384x640 1 car, 4 motorcycles, 31.9ms\n",
            "video 1/1 (frame 358/618) d:\\HighwayCounter_YOLOv8\\bike_car.mp4: 384x640 1 car, 5 motorcycles, 37.4ms\n",
            "video 1/1 (frame 359/618) d:\\HighwayCounter_YOLOv8\\bike_car.mp4: 384x640 1 car, 3 motorcycles, 15.6ms\n",
            "video 1/1 (frame 360/618) d:\\HighwayCounter_YOLOv8\\bike_car.mp4: 384x640 1 car, 3 motorcycles, 46.9ms\n",
            "video 1/1 (frame 361/618) d:\\HighwayCounter_YOLOv8\\bike_car.mp4: 384x640 1 car, 4 motorcycles, 15.6ms\n",
            "video 1/1 (frame 362/618) d:\\HighwayCounter_YOLOv8\\bike_car.mp4: 384x640 1 car, 4 motorcycles, 15.6ms\n",
            "video 1/1 (frame 363/618) d:\\HighwayCounter_YOLOv8\\bike_car.mp4: 384x640 1 car, 4 motorcycles, 46.9ms\n",
            "video 1/1 (frame 364/618) d:\\HighwayCounter_YOLOv8\\bike_car.mp4: 384x640 1 car, 4 motorcycles, 31.2ms\n",
            "video 1/1 (frame 365/618) d:\\HighwayCounter_YOLOv8\\bike_car.mp4: 384x640 1 car, 3 motorcycles, 49.9ms\n",
            "video 1/1 (frame 366/618) d:\\HighwayCounter_YOLOv8\\bike_car.mp4: 384x640 1 car, 3 motorcycles, 23.5ms\n",
            "video 1/1 (frame 367/618) d:\\HighwayCounter_YOLOv8\\bike_car.mp4: 384x640 1 car, 3 motorcycles, 15.6ms\n",
            "video 1/1 (frame 368/618) d:\\HighwayCounter_YOLOv8\\bike_car.mp4: 384x640 1 car, 3 motorcycles, 31.3ms\n",
            "video 1/1 (frame 369/618) d:\\HighwayCounter_YOLOv8\\bike_car.mp4: 384x640 1 car, 4 motorcycles, 15.6ms\n",
            "video 1/1 (frame 370/618) d:\\HighwayCounter_YOLOv8\\bike_car.mp4: 384x640 1 car, 4 motorcycles, 62.5ms\n",
            "video 1/1 (frame 371/618) d:\\HighwayCounter_YOLOv8\\bike_car.mp4: 384x640 1 car, 3 motorcycles, 15.6ms\n",
            "video 1/1 (frame 372/618) d:\\HighwayCounter_YOLOv8\\bike_car.mp4: 384x640 1 car, 3 motorcycles, 62.5ms\n",
            "video 1/1 (frame 373/618) d:\\HighwayCounter_YOLOv8\\bike_car.mp4: 384x640 1 car, 3 motorcycles, 21.2ms\n",
            "video 1/1 (frame 374/618) d:\\HighwayCounter_YOLOv8\\bike_car.mp4: 384x640 1 car, 3 motorcycles, 62.5ms\n",
            "video 1/1 (frame 375/618) d:\\HighwayCounter_YOLOv8\\bike_car.mp4: 384x640 1 car, 2 motorcycles, 31.2ms\n",
            "video 1/1 (frame 376/618) d:\\HighwayCounter_YOLOv8\\bike_car.mp4: 384x640 1 car, 2 motorcycles, 21.5ms\n",
            "video 1/1 (frame 377/618) d:\\HighwayCounter_YOLOv8\\bike_car.mp4: 384x640 1 car, 2 motorcycles, 15.6ms\n",
            "video 1/1 (frame 378/618) d:\\HighwayCounter_YOLOv8\\bike_car.mp4: 384x640 1 car, 2 motorcycles, 31.3ms\n",
            "video 1/1 (frame 379/618) d:\\HighwayCounter_YOLOv8\\bike_car.mp4: 384x640 1 car, 2 motorcycles, 15.6ms\n",
            "video 1/1 (frame 380/618) d:\\HighwayCounter_YOLOv8\\bike_car.mp4: 384x640 1 car, 2 motorcycles, 15.6ms\n",
            "video 1/1 (frame 381/618) d:\\HighwayCounter_YOLOv8\\bike_car.mp4: 384x640 1 car, 2 motorcycles, 31.2ms\n",
            "video 1/1 (frame 382/618) d:\\HighwayCounter_YOLOv8\\bike_car.mp4: 384x640 1 car, 2 motorcycles, 31.3ms\n",
            "video 1/1 (frame 383/618) d:\\HighwayCounter_YOLOv8\\bike_car.mp4: 384x640 1 car, 3 motorcycles, 37.4ms\n",
            "video 1/1 (frame 384/618) d:\\HighwayCounter_YOLOv8\\bike_car.mp4: 384x640 1 car, 3 motorcycles, 34.8ms\n",
            "video 1/1 (frame 385/618) d:\\HighwayCounter_YOLOv8\\bike_car.mp4: 384x640 1 car, 3 motorcycles, 31.3ms\n",
            "video 1/1 (frame 386/618) d:\\HighwayCounter_YOLOv8\\bike_car.mp4: 384x640 1 car, 3 motorcycles, 31.3ms\n",
            "video 1/1 (frame 387/618) d:\\HighwayCounter_YOLOv8\\bike_car.mp4: 384x640 1 car, 2 motorcycles, 38.9ms\n",
            "video 1/1 (frame 388/618) d:\\HighwayCounter_YOLOv8\\bike_car.mp4: 384x640 1 car, 1 motorcycle, 21.7ms\n",
            "video 1/1 (frame 389/618) d:\\HighwayCounter_YOLOv8\\bike_car.mp4: 384x640 1 car, 2 motorcycles, 19.3ms\n",
            "video 1/1 (frame 390/618) d:\\HighwayCounter_YOLOv8\\bike_car.mp4: 384x640 1 car, 1 motorcycle, 37.9ms\n",
            "video 1/1 (frame 391/618) d:\\HighwayCounter_YOLOv8\\bike_car.mp4: 384x640 1 car, 1 motorcycle, 31.3ms\n",
            "video 1/1 (frame 392/618) d:\\HighwayCounter_YOLOv8\\bike_car.mp4: 384x640 1 car, 1 motorcycle, 15.6ms\n",
            "video 1/1 (frame 393/618) d:\\HighwayCounter_YOLOv8\\bike_car.mp4: 384x640 1 car, 1 motorcycle, 15.6ms\n",
            "video 1/1 (frame 394/618) d:\\HighwayCounter_YOLOv8\\bike_car.mp4: 384x640 1 car, 1 motorcycle, 15.6ms\n",
            "video 1/1 (frame 395/618) d:\\HighwayCounter_YOLOv8\\bike_car.mp4: 384x640 1 car, 1 motorcycle, 15.6ms\n",
            "video 1/1 (frame 396/618) d:\\HighwayCounter_YOLOv8\\bike_car.mp4: 384x640 1 car, 1 motorcycle, 15.6ms\n",
            "video 1/1 (frame 397/618) d:\\HighwayCounter_YOLOv8\\bike_car.mp4: 384x640 2 motorcycles, 21.8ms\n",
            "video 1/1 (frame 398/618) d:\\HighwayCounter_YOLOv8\\bike_car.mp4: 384x640 2 cars, 46.9ms\n",
            "video 1/1 (frame 399/618) d:\\HighwayCounter_YOLOv8\\bike_car.mp4: 384x640 2 cars, 22.0ms\n",
            "video 1/1 (frame 400/618) d:\\HighwayCounter_YOLOv8\\bike_car.mp4: 384x640 2 cars, 22.7ms\n",
            "video 1/1 (frame 401/618) d:\\HighwayCounter_YOLOv8\\bike_car.mp4: 384x640 2 cars, 1 motorcycle, 21.2ms\n",
            "video 1/1 (frame 402/618) d:\\HighwayCounter_YOLOv8\\bike_car.mp4: 384x640 1 car, 1 motorcycle, 15.6ms\n",
            "video 1/1 (frame 403/618) d:\\HighwayCounter_YOLOv8\\bike_car.mp4: 384x640 1 car, 1 motorcycle, 31.3ms\n",
            "video 1/1 (frame 404/618) d:\\HighwayCounter_YOLOv8\\bike_car.mp4: 384x640 1 car, 3 motorcycles, 31.2ms\n",
            "video 1/1 (frame 405/618) d:\\HighwayCounter_YOLOv8\\bike_car.mp4: 384x640 1 car, 2 motorcycles, 31.2ms\n",
            "video 1/1 (frame 406/618) d:\\HighwayCounter_YOLOv8\\bike_car.mp4: 384x640 2 cars, 1 motorcycle, 31.2ms\n",
            "video 1/1 (frame 407/618) d:\\HighwayCounter_YOLOv8\\bike_car.mp4: 384x640 1 car, 2 motorcycles, 15.6ms\n",
            "video 1/1 (frame 408/618) d:\\HighwayCounter_YOLOv8\\bike_car.mp4: 384x640 1 motorcycle, 53.5ms\n",
            "video 1/1 (frame 409/618) d:\\HighwayCounter_YOLOv8\\bike_car.mp4: 384x640 1 motorcycle, 22.4ms\n",
            "video 1/1 (frame 410/618) d:\\HighwayCounter_YOLOv8\\bike_car.mp4: 384x640 1 motorcycle, 31.2ms\n",
            "video 1/1 (frame 411/618) d:\\HighwayCounter_YOLOv8\\bike_car.mp4: 384x640 1 car, 1 motorcycle, 15.6ms\n",
            "video 1/1 (frame 412/618) d:\\HighwayCounter_YOLOv8\\bike_car.mp4: 384x640 1 car, 1 motorcycle, 15.6ms\n",
            "video 1/1 (frame 413/618) d:\\HighwayCounter_YOLOv8\\bike_car.mp4: 384x640 1 car, 1 motorcycle, 15.6ms\n",
            "video 1/1 (frame 414/618) d:\\HighwayCounter_YOLOv8\\bike_car.mp4: 384x640 1 car, 2 motorcycles, 37.4ms\n",
            "video 1/1 (frame 415/618) d:\\HighwayCounter_YOLOv8\\bike_car.mp4: 384x640 1 motorcycle, 23.8ms\n",
            "video 1/1 (frame 416/618) d:\\HighwayCounter_YOLOv8\\bike_car.mp4: 384x640 1 motorcycle, 17.9ms\n",
            "video 1/1 (frame 417/618) d:\\HighwayCounter_YOLOv8\\bike_car.mp4: 384x640 1 motorcycle, 31.3ms\n",
            "video 1/1 (frame 418/618) d:\\HighwayCounter_YOLOv8\\bike_car.mp4: 384x640 1 motorcycle, 31.3ms\n",
            "video 1/1 (frame 419/618) d:\\HighwayCounter_YOLOv8\\bike_car.mp4: 384x640 1 motorcycle, 31.2ms\n",
            "video 1/1 (frame 420/618) d:\\HighwayCounter_YOLOv8\\bike_car.mp4: 384x640 1 motorcycle, 31.2ms\n",
            "video 1/1 (frame 421/618) d:\\HighwayCounter_YOLOv8\\bike_car.mp4: 384x640 (no detections), 15.6ms\n",
            "video 1/1 (frame 422/618) d:\\HighwayCounter_YOLOv8\\bike_car.mp4: 384x640 1 car, 37.7ms\n",
            "video 1/1 (frame 423/618) d:\\HighwayCounter_YOLOv8\\bike_car.mp4: 384x640 (no detections), 22.8ms\n",
            "video 1/1 (frame 424/618) d:\\HighwayCounter_YOLOv8\\bike_car.mp4: 384x640 1 motorcycle, 21.7ms\n",
            "video 1/1 (frame 425/618) d:\\HighwayCounter_YOLOv8\\bike_car.mp4: 384x640 (no detections), 23.2ms\n",
            "video 1/1 (frame 426/618) d:\\HighwayCounter_YOLOv8\\bike_car.mp4: 384x640 (no detections), 22.4ms\n",
            "video 1/1 (frame 427/618) d:\\HighwayCounter_YOLOv8\\bike_car.mp4: 384x640 (no detections), 36.8ms\n",
            "video 1/1 (frame 428/618) d:\\HighwayCounter_YOLOv8\\bike_car.mp4: 384x640 (no detections), 38.6ms\n",
            "video 1/1 (frame 429/618) d:\\HighwayCounter_YOLOv8\\bike_car.mp4: 384x640 (no detections), 31.3ms\n",
            "video 1/1 (frame 430/618) d:\\HighwayCounter_YOLOv8\\bike_car.mp4: 384x640 (no detections), 31.3ms\n",
            "video 1/1 (frame 431/618) d:\\HighwayCounter_YOLOv8\\bike_car.mp4: 384x640 (no detections), 46.9ms\n",
            "video 1/1 (frame 432/618) d:\\HighwayCounter_YOLOv8\\bike_car.mp4: 384x640 (no detections), 46.9ms\n",
            "video 1/1 (frame 433/618) d:\\HighwayCounter_YOLOv8\\bike_car.mp4: 384x640 (no detections), 31.2ms\n",
            "video 1/1 (frame 434/618) d:\\HighwayCounter_YOLOv8\\bike_car.mp4: 384x640 (no detections), 31.3ms\n",
            "video 1/1 (frame 435/618) d:\\HighwayCounter_YOLOv8\\bike_car.mp4: 384x640 (no detections), 22.4ms\n",
            "video 1/1 (frame 436/618) d:\\HighwayCounter_YOLOv8\\bike_car.mp4: 384x640 (no detections), 15.6ms\n",
            "video 1/1 (frame 437/618) d:\\HighwayCounter_YOLOv8\\bike_car.mp4: 384x640 (no detections), 37.5ms\n",
            "video 1/1 (frame 438/618) d:\\HighwayCounter_YOLOv8\\bike_car.mp4: 384x640 (no detections), 25.6ms\n",
            "video 1/1 (frame 439/618) d:\\HighwayCounter_YOLOv8\\bike_car.mp4: 384x640 (no detections), 15.6ms\n",
            "video 1/1 (frame 440/618) d:\\HighwayCounter_YOLOv8\\bike_car.mp4: 384x640 (no detections), 23.3ms\n",
            "video 1/1 (frame 441/618) d:\\HighwayCounter_YOLOv8\\bike_car.mp4: 384x640 (no detections), 21.1ms\n",
            "video 1/1 (frame 442/618) d:\\HighwayCounter_YOLOv8\\bike_car.mp4: 384x640 (no detections), 15.6ms\n",
            "video 1/1 (frame 443/618) d:\\HighwayCounter_YOLOv8\\bike_car.mp4: 384x640 (no detections), 15.6ms\n",
            "video 1/1 (frame 444/618) d:\\HighwayCounter_YOLOv8\\bike_car.mp4: 384x640 1 motorcycle, 1 bus, 15.6ms\n",
            "video 1/1 (frame 445/618) d:\\HighwayCounter_YOLOv8\\bike_car.mp4: 384x640 1 motorcycle, 1 bus, 31.2ms\n",
            "video 1/1 (frame 446/618) d:\\HighwayCounter_YOLOv8\\bike_car.mp4: 384x640 1 car, 1 motorcycle, 1 truck, 31.3ms\n",
            "video 1/1 (frame 447/618) d:\\HighwayCounter_YOLOv8\\bike_car.mp4: 384x640 1 motorcycle, 1 truck, 15.6ms\n",
            "video 1/1 (frame 448/618) d:\\HighwayCounter_YOLOv8\\bike_car.mp4: 384x640 1 motorcycle, 1 bus, 1 truck, 15.6ms\n",
            "video 1/1 (frame 449/618) d:\\HighwayCounter_YOLOv8\\bike_car.mp4: 384x640 1 motorcycle, 1 truck, 29.8ms\n",
            "video 1/1 (frame 450/618) d:\\HighwayCounter_YOLOv8\\bike_car.mp4: 384x640 1 motorcycle, 1 bus, 31.3ms\n",
            "video 1/1 (frame 451/618) d:\\HighwayCounter_YOLOv8\\bike_car.mp4: 384x640 2 motorcycles, 1 truck, 38.5ms\n",
            "video 1/1 (frame 452/618) d:\\HighwayCounter_YOLOv8\\bike_car.mp4: 384x640 2 motorcycles, 1 truck, 21.9ms\n",
            "video 1/1 (frame 453/618) d:\\HighwayCounter_YOLOv8\\bike_car.mp4: 384x640 1 motorcycle, 1 bus, 1 truck, 15.6ms\n",
            "video 1/1 (frame 454/618) d:\\HighwayCounter_YOLOv8\\bike_car.mp4: 384x640 1 motorcycle, 1 truck, 15.6ms\n",
            "video 1/1 (frame 455/618) d:\\HighwayCounter_YOLOv8\\bike_car.mp4: 384x640 1 motorcycle, 1 bus, 1 truck, 31.2ms\n",
            "video 1/1 (frame 456/618) d:\\HighwayCounter_YOLOv8\\bike_car.mp4: 384x640 1 motorcycle, 1 truck, 37.0ms\n",
            "video 1/1 (frame 457/618) d:\\HighwayCounter_YOLOv8\\bike_car.mp4: 384x640 1 motorcycle, 1 truck, 23.0ms\n",
            "video 1/1 (frame 458/618) d:\\HighwayCounter_YOLOv8\\bike_car.mp4: 384x640 1 motorcycle, 1 truck, 46.9ms\n",
            "video 1/1 (frame 459/618) d:\\HighwayCounter_YOLOv8\\bike_car.mp4: 384x640 1 motorcycle, 1 truck, 54.6ms\n",
            "video 1/1 (frame 460/618) d:\\HighwayCounter_YOLOv8\\bike_car.mp4: 384x640 1 motorcycle, 1 truck, 16.2ms\n",
            "video 1/1 (frame 461/618) d:\\HighwayCounter_YOLOv8\\bike_car.mp4: 384x640 1 motorcycle, 1 truck, 15.6ms\n",
            "video 1/1 (frame 462/618) d:\\HighwayCounter_YOLOv8\\bike_car.mp4: 384x640 1 motorcycle, 1 truck, 31.2ms\n",
            "video 1/1 (frame 463/618) d:\\HighwayCounter_YOLOv8\\bike_car.mp4: 384x640 2 motorcycles, 1 truck, 15.6ms\n",
            "video 1/1 (frame 464/618) d:\\HighwayCounter_YOLOv8\\bike_car.mp4: 384x640 1 car, 1 motorcycle, 1 truck, 47.4ms\n",
            "video 1/1 (frame 465/618) d:\\HighwayCounter_YOLOv8\\bike_car.mp4: 384x640 1 motorcycle, 1 truck, 17.6ms\n",
            "video 1/1 (frame 466/618) d:\\HighwayCounter_YOLOv8\\bike_car.mp4: 384x640 2 motorcycles, 1 truck, 31.3ms\n",
            "video 1/1 (frame 467/618) d:\\HighwayCounter_YOLOv8\\bike_car.mp4: 384x640 3 motorcycles, 1 truck, 46.9ms\n",
            "video 1/1 (frame 468/618) d:\\HighwayCounter_YOLOv8\\bike_car.mp4: 384x640 1 motorcycle, 1 truck, 36.0ms\n",
            "video 1/1 (frame 469/618) d:\\HighwayCounter_YOLOv8\\bike_car.mp4: 384x640 2 motorcycles, 1 truck, 26.0ms\n",
            "video 1/1 (frame 470/618) d:\\HighwayCounter_YOLOv8\\bike_car.mp4: 384x640 1 motorcycle, 1 truck, 15.6ms\n",
            "video 1/1 (frame 471/618) d:\\HighwayCounter_YOLOv8\\bike_car.mp4: 384x640 1 motorcycle, 1 truck, 31.2ms\n",
            "video 1/1 (frame 472/618) d:\\HighwayCounter_YOLOv8\\bike_car.mp4: 384x640 1 motorcycle, 1 truck, 31.3ms\n",
            "video 1/1 (frame 473/618) d:\\HighwayCounter_YOLOv8\\bike_car.mp4: 384x640 1 motorcycle, 1 truck, 36.5ms\n",
            "video 1/1 (frame 474/618) d:\\HighwayCounter_YOLOv8\\bike_car.mp4: 384x640 1 motorcycle, 1 truck, 15.6ms\n",
            "video 1/1 (frame 475/618) d:\\HighwayCounter_YOLOv8\\bike_car.mp4: 384x640 1 motorcycle, 1 truck, 31.2ms\n",
            "video 1/1 (frame 476/618) d:\\HighwayCounter_YOLOv8\\bike_car.mp4: 384x640 2 motorcycles, 1 truck, 31.2ms\n",
            "video 1/1 (frame 477/618) d:\\HighwayCounter_YOLOv8\\bike_car.mp4: 384x640 1 motorcycle, 1 truck, 31.2ms\n",
            "video 1/1 (frame 478/618) d:\\HighwayCounter_YOLOv8\\bike_car.mp4: 384x640 2 motorcycles, 1 truck, 37.4ms\n",
            "video 1/1 (frame 479/618) d:\\HighwayCounter_YOLOv8\\bike_car.mp4: 384x640 1 motorcycle, 1 truck, 85.8ms\n",
            "video 1/1 (frame 480/618) d:\\HighwayCounter_YOLOv8\\bike_car.mp4: 384x640 1 motorcycle, 1 truck, 15.6ms\n",
            "video 1/1 (frame 481/618) d:\\HighwayCounter_YOLOv8\\bike_car.mp4: 384x640 2 motorcycles, 1 truck, 35.1ms\n",
            "video 1/1 (frame 482/618) d:\\HighwayCounter_YOLOv8\\bike_car.mp4: 384x640 1 motorcycle, 1 truck, 16.3ms\n",
            "video 1/1 (frame 483/618) d:\\HighwayCounter_YOLOv8\\bike_car.mp4: 384x640 2 motorcycles, 1 truck, 31.3ms\n",
            "video 1/1 (frame 484/618) d:\\HighwayCounter_YOLOv8\\bike_car.mp4: 384x640 1 motorcycle, 1 truck, 15.6ms\n",
            "video 1/1 (frame 485/618) d:\\HighwayCounter_YOLOv8\\bike_car.mp4: 384x640 1 motorcycle, 1 truck, 15.6ms\n",
            "video 1/1 (frame 486/618) d:\\HighwayCounter_YOLOv8\\bike_car.mp4: 384x640 2 motorcycles, 1 truck, 15.6ms\n",
            "video 1/1 (frame 487/618) d:\\HighwayCounter_YOLOv8\\bike_car.mp4: 384x640 2 motorcycles, 1 truck, 15.6ms\n",
            "video 1/1 (frame 488/618) d:\\HighwayCounter_YOLOv8\\bike_car.mp4: 384x640 2 motorcycles, 1 truck, 46.9ms\n",
            "video 1/1 (frame 489/618) d:\\HighwayCounter_YOLOv8\\bike_car.mp4: 384x640 1 motorcycle, 1 truck, 31.2ms\n",
            "video 1/1 (frame 490/618) d:\\HighwayCounter_YOLOv8\\bike_car.mp4: 384x640 1 motorcycle, 1 truck, 15.6ms\n",
            "video 1/1 (frame 491/618) d:\\HighwayCounter_YOLOv8\\bike_car.mp4: 384x640 2 motorcycles, 1 truck, 15.6ms\n",
            "video 1/1 (frame 492/618) d:\\HighwayCounter_YOLOv8\\bike_car.mp4: 384x640 2 motorcycles, 1 truck, 37.3ms\n",
            "video 1/1 (frame 493/618) d:\\HighwayCounter_YOLOv8\\bike_car.mp4: 384x640 2 motorcycles, 1 truck, 15.6ms\n",
            "video 1/1 (frame 494/618) d:\\HighwayCounter_YOLOv8\\bike_car.mp4: 384x640 2 motorcycles, 1 truck, 31.2ms\n",
            "video 1/1 (frame 495/618) d:\\HighwayCounter_YOLOv8\\bike_car.mp4: 384x640 1 motorcycle, 1 truck, 31.2ms\n",
            "video 1/1 (frame 496/618) d:\\HighwayCounter_YOLOv8\\bike_car.mp4: 384x640 2 motorcycles, 1 truck, 15.5ms\n",
            "video 1/1 (frame 497/618) d:\\HighwayCounter_YOLOv8\\bike_car.mp4: 384x640 2 motorcycles, 1 truck, 31.3ms\n",
            "video 1/1 (frame 498/618) d:\\HighwayCounter_YOLOv8\\bike_car.mp4: 384x640 1 motorcycle, 1 truck, 37.0ms\n",
            "video 1/1 (frame 499/618) d:\\HighwayCounter_YOLOv8\\bike_car.mp4: 384x640 2 motorcycles, 1 truck, 15.6ms\n",
            "video 1/1 (frame 500/618) d:\\HighwayCounter_YOLOv8\\bike_car.mp4: 384x640 2 motorcycles, 1 truck, 15.6ms\n",
            "video 1/1 (frame 501/618) d:\\HighwayCounter_YOLOv8\\bike_car.mp4: 384x640 2 motorcycles, 1 truck, 31.2ms\n",
            "video 1/1 (frame 502/618) d:\\HighwayCounter_YOLOv8\\bike_car.mp4: 384x640 1 motorcycle, 1 truck, 37.5ms\n",
            "video 1/1 (frame 503/618) d:\\HighwayCounter_YOLOv8\\bike_car.mp4: 384x640 1 motorcycle, 1 truck, 15.6ms\n",
            "video 1/1 (frame 504/618) d:\\HighwayCounter_YOLOv8\\bike_car.mp4: 384x640 3 motorcycles, 1 truck, 31.2ms\n",
            "video 1/1 (frame 505/618) d:\\HighwayCounter_YOLOv8\\bike_car.mp4: 384x640 3 motorcycles, 1 truck, 31.2ms\n",
            "video 1/1 (frame 506/618) d:\\HighwayCounter_YOLOv8\\bike_car.mp4: 384x640 3 motorcycles, 1 truck, 15.6ms\n",
            "video 1/1 (frame 507/618) d:\\HighwayCounter_YOLOv8\\bike_car.mp4: 384x640 3 motorcycles, 1 truck, 31.3ms\n",
            "video 1/1 (frame 508/618) d:\\HighwayCounter_YOLOv8\\bike_car.mp4: 384x640 2 motorcycles, 1 truck, 31.3ms\n",
            "video 1/1 (frame 509/618) d:\\HighwayCounter_YOLOv8\\bike_car.mp4: 384x640 2 motorcycles, 1 truck, 15.6ms\n",
            "video 1/1 (frame 510/618) d:\\HighwayCounter_YOLOv8\\bike_car.mp4: 384x640 2 motorcycles, 1 truck, 37.2ms\n",
            "video 1/1 (frame 511/618) d:\\HighwayCounter_YOLOv8\\bike_car.mp4: 384x640 1 motorcycle, 1 truck, 23.4ms\n",
            "video 1/1 (frame 512/618) d:\\HighwayCounter_YOLOv8\\bike_car.mp4: 384x640 2 motorcycles, 1 truck, 20.6ms\n",
            "video 1/1 (frame 513/618) d:\\HighwayCounter_YOLOv8\\bike_car.mp4: 384x640 2 motorcycles, 1 truck, 31.2ms\n",
            "video 1/1 (frame 514/618) d:\\HighwayCounter_YOLOv8\\bike_car.mp4: 384x640 1 motorcycle, 1 truck, 31.2ms\n",
            "video 1/1 (frame 515/618) d:\\HighwayCounter_YOLOv8\\bike_car.mp4: 384x640 2 motorcycles, 1 truck, 46.9ms\n",
            "video 1/1 (frame 516/618) d:\\HighwayCounter_YOLOv8\\bike_car.mp4: 384x640 2 motorcycles, 1 truck, 37.2ms\n",
            "video 1/1 (frame 517/618) d:\\HighwayCounter_YOLOv8\\bike_car.mp4: 384x640 3 motorcycles, 1 truck, 31.3ms\n",
            "video 1/1 (frame 518/618) d:\\HighwayCounter_YOLOv8\\bike_car.mp4: 384x640 3 motorcycles, 1 truck, 15.6ms\n",
            "video 1/1 (frame 519/618) d:\\HighwayCounter_YOLOv8\\bike_car.mp4: 384x640 2 motorcycles, 1 truck, 69.7ms\n",
            "video 1/1 (frame 520/618) d:\\HighwayCounter_YOLOv8\\bike_car.mp4: 384x640 2 motorcycles, 1 truck, 15.6ms\n",
            "video 1/1 (frame 521/618) d:\\HighwayCounter_YOLOv8\\bike_car.mp4: 384x640 3 motorcycles, 1 truck, 31.3ms\n",
            "video 1/1 (frame 522/618) d:\\HighwayCounter_YOLOv8\\bike_car.mp4: 384x640 2 motorcycles, 1 truck, 31.2ms\n",
            "video 1/1 (frame 523/618) d:\\HighwayCounter_YOLOv8\\bike_car.mp4: 384x640 2 motorcycles, 1 truck, 15.6ms\n",
            "video 1/1 (frame 524/618) d:\\HighwayCounter_YOLOv8\\bike_car.mp4: 384x640 2 motorcycles, 1 truck, 52.2ms\n",
            "video 1/1 (frame 525/618) d:\\HighwayCounter_YOLOv8\\bike_car.mp4: 384x640 3 motorcycles, 1 truck, 15.6ms\n",
            "video 1/1 (frame 526/618) d:\\HighwayCounter_YOLOv8\\bike_car.mp4: 384x640 3 motorcycles, 1 truck, 31.2ms\n",
            "video 1/1 (frame 527/618) d:\\HighwayCounter_YOLOv8\\bike_car.mp4: 384x640 1 car, 3 motorcycles, 1 truck, 31.2ms\n",
            "video 1/1 (frame 528/618) d:\\HighwayCounter_YOLOv8\\bike_car.mp4: 384x640 1 car, 3 motorcycles, 21.7ms\n",
            "video 1/1 (frame 529/618) d:\\HighwayCounter_YOLOv8\\bike_car.mp4: 384x640 1 car, 3 motorcycles, 31.3ms\n",
            "video 1/1 (frame 530/618) d:\\HighwayCounter_YOLOv8\\bike_car.mp4: 384x640 1 car, 4 motorcycles, 1 truck, 31.2ms\n",
            "video 1/1 (frame 531/618) d:\\HighwayCounter_YOLOv8\\bike_car.mp4: 384x640 1 car, 4 motorcycles, 1 truck, 35.1ms\n",
            "video 1/1 (frame 532/618) d:\\HighwayCounter_YOLOv8\\bike_car.mp4: 384x640 1 car, 4 motorcycles, 15.6ms\n",
            "video 1/1 (frame 533/618) d:\\HighwayCounter_YOLOv8\\bike_car.mp4: 384x640 1 car, 4 motorcycles, 15.6ms\n",
            "video 1/1 (frame 534/618) d:\\HighwayCounter_YOLOv8\\bike_car.mp4: 384x640 1 car, 4 motorcycles, 31.2ms\n",
            "video 1/1 (frame 535/618) d:\\HighwayCounter_YOLOv8\\bike_car.mp4: 384x640 1 car, 3 motorcycles, 38.4ms\n",
            "video 1/1 (frame 536/618) d:\\HighwayCounter_YOLOv8\\bike_car.mp4: 384x640 1 car, 2 motorcycles, 31.3ms\n",
            "video 1/1 (frame 537/618) d:\\HighwayCounter_YOLOv8\\bike_car.mp4: 384x640 1 car, 2 motorcycles, 31.2ms\n",
            "video 1/1 (frame 538/618) d:\\HighwayCounter_YOLOv8\\bike_car.mp4: 384x640 1 car, 2 motorcycles, 31.3ms\n",
            "video 1/1 (frame 539/618) d:\\HighwayCounter_YOLOv8\\bike_car.mp4: 384x640 1 car, 3 motorcycles, 23.5ms\n",
            "video 1/1 (frame 540/618) d:\\HighwayCounter_YOLOv8\\bike_car.mp4: 384x640 1 car, 2 motorcycles, 31.3ms\n",
            "video 1/1 (frame 541/618) d:\\HighwayCounter_YOLOv8\\bike_car.mp4: 384x640 1 car, 2 motorcycles, 31.3ms\n",
            "video 1/1 (frame 542/618) d:\\HighwayCounter_YOLOv8\\bike_car.mp4: 384x640 1 car, 3 motorcycles, 15.6ms\n",
            "video 1/1 (frame 543/618) d:\\HighwayCounter_YOLOv8\\bike_car.mp4: 384x640 1 car, 3 motorcycles, 39.0ms\n",
            "video 1/1 (frame 544/618) d:\\HighwayCounter_YOLOv8\\bike_car.mp4: 384x640 1 car, 3 motorcycles, 37.2ms\n",
            "video 1/1 (frame 545/618) d:\\HighwayCounter_YOLOv8\\bike_car.mp4: 384x640 1 car, 3 motorcycles, 15.6ms\n",
            "video 1/1 (frame 546/618) d:\\HighwayCounter_YOLOv8\\bike_car.mp4: 384x640 4 motorcycles, 46.9ms\n",
            "video 1/1 (frame 547/618) d:\\HighwayCounter_YOLOv8\\bike_car.mp4: 384x640 1 car, 3 motorcycles, 46.9ms\n",
            "video 1/1 (frame 548/618) d:\\HighwayCounter_YOLOv8\\bike_car.mp4: 384x640 1 car, 3 motorcycles, 36.8ms\n",
            "video 1/1 (frame 549/618) d:\\HighwayCounter_YOLOv8\\bike_car.mp4: 384x640 2 motorcycles, 31.2ms\n",
            "video 1/1 (frame 550/618) d:\\HighwayCounter_YOLOv8\\bike_car.mp4: 384x640 1 car, 2 motorcycles, 31.2ms\n",
            "video 1/1 (frame 551/618) d:\\HighwayCounter_YOLOv8\\bike_car.mp4: 384x640 1 car, 2 motorcycles, 31.2ms\n",
            "video 1/1 (frame 552/618) d:\\HighwayCounter_YOLOv8\\bike_car.mp4: 384x640 1 car, 2 motorcycles, 31.3ms\n",
            "video 1/1 (frame 553/618) d:\\HighwayCounter_YOLOv8\\bike_car.mp4: 384x640 1 car, 2 motorcycles, 34.5ms\n",
            "video 1/1 (frame 554/618) d:\\HighwayCounter_YOLOv8\\bike_car.mp4: 384x640 1 car, 2 motorcycles, 15.6ms\n",
            "video 1/1 (frame 555/618) d:\\HighwayCounter_YOLOv8\\bike_car.mp4: 384x640 1 car, 4 motorcycles, 31.2ms\n",
            "video 1/1 (frame 556/618) d:\\HighwayCounter_YOLOv8\\bike_car.mp4: 384x640 1 car, 2 motorcycles, 38.3ms\n",
            "video 1/1 (frame 557/618) d:\\HighwayCounter_YOLOv8\\bike_car.mp4: 384x640 1 car, 3 motorcycles, 15.6ms\n",
            "video 1/1 (frame 558/618) d:\\HighwayCounter_YOLOv8\\bike_car.mp4: 384x640 1 car, 3 motorcycles, 31.2ms\n",
            "video 1/1 (frame 559/618) d:\\HighwayCounter_YOLOv8\\bike_car.mp4: 384x640 1 car, 3 motorcycles, 31.2ms\n",
            "video 1/1 (frame 560/618) d:\\HighwayCounter_YOLOv8\\bike_car.mp4: 384x640 2 cars, 3 motorcycles, 15.6ms\n",
            "video 1/1 (frame 561/618) d:\\HighwayCounter_YOLOv8\\bike_car.mp4: 384x640 1 car, 4 motorcycles, 15.6ms\n",
            "video 1/1 (frame 562/618) d:\\HighwayCounter_YOLOv8\\bike_car.mp4: 384x640 1 car, 3 motorcycles, 31.2ms\n",
            "video 1/1 (frame 563/618) d:\\HighwayCounter_YOLOv8\\bike_car.mp4: 384x640 1 car, 3 motorcycles, 15.6ms\n",
            "video 1/1 (frame 564/618) d:\\HighwayCounter_YOLOv8\\bike_car.mp4: 384x640 1 car, 3 motorcycles, 31.3ms\n",
            "video 1/1 (frame 565/618) d:\\HighwayCounter_YOLOv8\\bike_car.mp4: 384x640 1 car, 3 motorcycles, 23.0ms\n",
            "video 1/1 (frame 566/618) d:\\HighwayCounter_YOLOv8\\bike_car.mp4: 384x640 1 car, 2 motorcycles, 31.2ms\n",
            "video 1/1 (frame 567/618) d:\\HighwayCounter_YOLOv8\\bike_car.mp4: 384x640 1 car, 3 motorcycles, 37.4ms\n",
            "video 1/1 (frame 568/618) d:\\HighwayCounter_YOLOv8\\bike_car.mp4: 384x640 1 car, 3 motorcycles, 16.2ms\n",
            "video 1/1 (frame 569/618) d:\\HighwayCounter_YOLOv8\\bike_car.mp4: 384x640 1 car, 4 motorcycles, 31.2ms\n",
            "video 1/1 (frame 570/618) d:\\HighwayCounter_YOLOv8\\bike_car.mp4: 384x640 1 car, 3 motorcycles, 15.6ms\n",
            "video 1/1 (frame 571/618) d:\\HighwayCounter_YOLOv8\\bike_car.mp4: 384x640 1 car, 2 motorcycles, 31.3ms\n",
            "video 1/1 (frame 572/618) d:\\HighwayCounter_YOLOv8\\bike_car.mp4: 384x640 1 car, 3 motorcycles, 20.0ms\n",
            "video 1/1 (frame 573/618) d:\\HighwayCounter_YOLOv8\\bike_car.mp4: 384x640 1 car, 2 motorcycles, 31.3ms\n",
            "video 1/1 (frame 574/618) d:\\HighwayCounter_YOLOv8\\bike_car.mp4: 384x640 1 car, 2 motorcycles, 31.2ms\n",
            "video 1/1 (frame 575/618) d:\\HighwayCounter_YOLOv8\\bike_car.mp4: 384x640 4 motorcycles, 54.2ms\n",
            "video 1/1 (frame 576/618) d:\\HighwayCounter_YOLOv8\\bike_car.mp4: 384x640 1 car, 5 motorcycles, 15.6ms\n",
            "video 1/1 (frame 577/618) d:\\HighwayCounter_YOLOv8\\bike_car.mp4: 384x640 1 car, 4 motorcycles, 31.3ms\n",
            "video 1/1 (frame 578/618) d:\\HighwayCounter_YOLOv8\\bike_car.mp4: 384x640 1 car, 3 motorcycles, 1 bus, 15.6ms\n",
            "video 1/1 (frame 579/618) d:\\HighwayCounter_YOLOv8\\bike_car.mp4: 384x640 1 car, 2 motorcycles, 22.8ms\n",
            "video 1/1 (frame 580/618) d:\\HighwayCounter_YOLOv8\\bike_car.mp4: 384x640 1 car, 2 motorcycles, 15.6ms\n",
            "video 1/1 (frame 581/618) d:\\HighwayCounter_YOLOv8\\bike_car.mp4: 384x640 1 car, 3 motorcycles, 15.6ms\n",
            "video 1/1 (frame 582/618) d:\\HighwayCounter_YOLOv8\\bike_car.mp4: 384x640 1 car, 2 motorcycles, 31.3ms\n",
            "video 1/1 (frame 583/618) d:\\HighwayCounter_YOLOv8\\bike_car.mp4: 384x640 1 car, 2 motorcycles, 20.8ms\n",
            "video 1/1 (frame 584/618) d:\\HighwayCounter_YOLOv8\\bike_car.mp4: 384x640 1 car, 2 motorcycles, 31.2ms\n",
            "video 1/1 (frame 585/618) d:\\HighwayCounter_YOLOv8\\bike_car.mp4: 384x640 1 car, 2 motorcycles, 15.1ms\n",
            "video 1/1 (frame 586/618) d:\\HighwayCounter_YOLOv8\\bike_car.mp4: 384x640 1 car, 2 motorcycles, 15.6ms\n",
            "video 1/1 (frame 587/618) d:\\HighwayCounter_YOLOv8\\bike_car.mp4: 384x640 1 car, 2 motorcycles, 36.8ms\n",
            "video 1/1 (frame 588/618) d:\\HighwayCounter_YOLOv8\\bike_car.mp4: 384x640 1 car, 2 motorcycles, 15.6ms\n",
            "video 1/1 (frame 589/618) d:\\HighwayCounter_YOLOv8\\bike_car.mp4: 384x640 1 car, 2 motorcycles, 31.3ms\n",
            "video 1/1 (frame 590/618) d:\\HighwayCounter_YOLOv8\\bike_car.mp4: 384x640 1 car, 2 motorcycles, 20.2ms\n",
            "video 1/1 (frame 591/618) d:\\HighwayCounter_YOLOv8\\bike_car.mp4: 384x640 1 car, 2 motorcycles, 15.6ms\n",
            "video 1/1 (frame 592/618) d:\\HighwayCounter_YOLOv8\\bike_car.mp4: 384x640 1 car, 3 motorcycles, 15.6ms\n",
            "video 1/1 (frame 593/618) d:\\HighwayCounter_YOLOv8\\bike_car.mp4: 384x640 1 car, 2 motorcycles, 15.6ms\n",
            "video 1/1 (frame 594/618) d:\\HighwayCounter_YOLOv8\\bike_car.mp4: 384x640 1 car, 3 motorcycles, 31.3ms\n",
            "video 1/1 (frame 595/618) d:\\HighwayCounter_YOLOv8\\bike_car.mp4: 384x640 1 car, 3 motorcycles, 20.6ms\n",
            "video 1/1 (frame 596/618) d:\\HighwayCounter_YOLOv8\\bike_car.mp4: 384x640 1 car, 2 motorcycles, 15.6ms\n",
            "video 1/1 (frame 597/618) d:\\HighwayCounter_YOLOv8\\bike_car.mp4: 384x640 1 car, 2 motorcycles, 15.6ms\n",
            "video 1/1 (frame 598/618) d:\\HighwayCounter_YOLOv8\\bike_car.mp4: 384x640 1 car, 3 motorcycles, 31.2ms\n",
            "video 1/1 (frame 599/618) d:\\HighwayCounter_YOLOv8\\bike_car.mp4: 384x640 1 car, 2 motorcycles, 15.6ms\n",
            "video 1/1 (frame 600/618) d:\\HighwayCounter_YOLOv8\\bike_car.mp4: 384x640 1 car, 2 motorcycles, 22.0ms\n",
            "video 1/1 (frame 601/618) d:\\HighwayCounter_YOLOv8\\bike_car.mp4: 384x640 1 car, 2 motorcycles, 31.3ms\n",
            "video 1/1 (frame 602/618) d:\\HighwayCounter_YOLOv8\\bike_car.mp4: 384x640 1 car, 4 motorcycles, 46.9ms\n",
            "video 1/1 (frame 603/618) d:\\HighwayCounter_YOLOv8\\bike_car.mp4: 384x640 1 car, 2 motorcycles, 37.4ms\n",
            "video 1/1 (frame 604/618) d:\\HighwayCounter_YOLOv8\\bike_car.mp4: 384x640 1 car, 2 motorcycles, 31.3ms\n",
            "video 1/1 (frame 605/618) d:\\HighwayCounter_YOLOv8\\bike_car.mp4: 384x640 1 car, 2 motorcycles, 15.6ms\n",
            "video 1/1 (frame 606/618) d:\\HighwayCounter_YOLOv8\\bike_car.mp4: 384x640 1 car, 2 motorcycles, 31.2ms\n",
            "video 1/1 (frame 607/618) d:\\HighwayCounter_YOLOv8\\bike_car.mp4: 384x640 1 car, 2 motorcycles, 37.3ms\n",
            "video 1/1 (frame 608/618) d:\\HighwayCounter_YOLOv8\\bike_car.mp4: 384x640 1 car, 2 motorcycles, 39.0ms\n",
            "video 1/1 (frame 609/618) d:\\HighwayCounter_YOLOv8\\bike_car.mp4: 384x640 1 car, 2 motorcycles, 15.6ms\n",
            "video 1/1 (frame 610/618) d:\\HighwayCounter_YOLOv8\\bike_car.mp4: 384x640 1 car, 2 motorcycles, 15.6ms\n",
            "video 1/1 (frame 611/618) d:\\HighwayCounter_YOLOv8\\bike_car.mp4: 384x640 1 car, 2 motorcycles, 46.9ms\n",
            "video 1/1 (frame 612/618) d:\\HighwayCounter_YOLOv8\\bike_car.mp4: 384x640 1 car, 2 motorcycles, 31.3ms\n",
            "video 1/1 (frame 613/618) d:\\HighwayCounter_YOLOv8\\bike_car.mp4: 384x640 1 car, 2 motorcycles, 35.3ms\n",
            "video 1/1 (frame 614/618) d:\\HighwayCounter_YOLOv8\\bike_car.mp4: 384x640 1 car, 2 motorcycles, 15.6ms\n",
            "video 1/1 (frame 615/618) d:\\HighwayCounter_YOLOv8\\bike_car.mp4: 384x640 1 car, 2 motorcycles, 31.2ms\n",
            "video 1/1 (frame 616/618) d:\\HighwayCounter_YOLOv8\\bike_car.mp4: 384x640 1 car, 2 motorcycles, 32.9ms\n",
            "video 1/1 (frame 617/618) d:\\HighwayCounter_YOLOv8\\bike_car.mp4: 384x640 1 car, 2 motorcycles, 37.8ms\n",
            "video 1/1 (frame 618/618) d:\\HighwayCounter_YOLOv8\\bike_car.mp4: 384x640 1 car, 2 motorcycles, 31.2ms\n",
            "Speed: 7.3ms preprocess, 27.4ms inference, 9.6ms postprocess per image at shape (1, 3, 384, 640)\n",
            "Results saved to \u001b[1mruns\\detect\\predict2\u001b[0m\n",
            "💡 Learn more at https://docs.ultralytics.com/modes/predict\n"
          ]
        }
      ],
      "source": [
        "!yolo predict model='./runs/detect/train/weights/best.pt' source='bike_car.mp4' device=0"
      ]
    },
    {
      "cell_type": "markdown",
      "metadata": {
        "id": "nPZZeNrLCQG6"
      },
      "source": [
        "# 4. Export\n",
        "\n",
        "Export a YOLOv8 model to any supported format below with the `format` argument, i.e. `format=onnx`. See [YOLOv8 Export Docs](https://docs.ultralytics.com/modes/export/) for more information.\n",
        "\n",
        "- 💡 ProTip: Export to [ONNX](https://docs.ultralytics.com/integrations/onnx/) or [OpenVINO](https://docs.ultralytics.com/integrations/openvino/) for up to 3x CPU speedup.  \n",
        "- 💡 ProTip: Export to [TensorRT](https://docs.ultralytics.com/integrations/tensorrt/) for up to 5x GPU speedup.\n",
        "\n",
        "| Format                                                                   | `format` Argument | Model                     | Metadata | Arguments                                                            |\n",
        "|--------------------------------------------------------------------------|-------------------|---------------------------|----------|----------------------------------------------------------------------|\n",
        "| [PyTorch](https://pytorch.org/)                                          | -                 | `yolov8n.pt`              | ✅        | -                                                                    |\n",
        "| [TorchScript](https://docs.ultralytics.com/integrations/torchscript)     | `torchscript`     | `yolov8n.torchscript`     | ✅        | `imgsz`, `optimize`, `batch`                                         |\n",
        "| [ONNX](https://docs.ultralytics.com/integrations/onnx)                   | `onnx`            | `yolov8n.onnx`            | ✅        | `imgsz`, `half`, `dynamic`, `simplify`, `opset`, `batch`             |\n",
        "| [OpenVINO](https://docs.ultralytics.com/integrations/openvino)           | `openvino`        | `yolov8n_openvino_model/` | ✅        | `imgsz`, `half`, `int8`, `batch`                                     |\n",
        "| [TensorRT](https://docs.ultralytics.com/integrations/tensorrt)           | `engine`          | `yolov8n.engine`          | ✅        | `imgsz`, `half`, `dynamic`, `simplify`, `workspace`, `int8`, `batch` |\n",
        "| [CoreML](https://docs.ultralytics.com/integrations/coreml)               | `coreml`          | `yolov8n.mlpackage`       | ✅        | `imgsz`, `half`, `int8`, `nms`, `batch`                              |\n",
        "| [TF SavedModel](https://docs.ultralytics.com/integrations/tf-savedmodel) | `saved_model`     | `yolov8n_saved_model/`    | ✅        | `imgsz`, `keras`, `int8`, `batch`                                    |\n",
        "| [TF GraphDef](https://docs.ultralytics.com/integrations/tf-graphdef)     | `pb`              | `yolov8n.pb`              | ❌        | `imgsz`, `batch`                                                     |\n",
        "| [TF Lite](https://docs.ultralytics.com/integrations/tflite)              | `tflite`          | `yolov8n.tflite`          | ✅        | `imgsz`, `half`, `int8`, `batch`                                     |\n",
        "| [TF Edge TPU](https://docs.ultralytics.com/integrations/edge-tpu)        | `edgetpu`         | `yolov8n_edgetpu.tflite`  | ✅        | `imgsz`, `batch`                                                     |\n",
        "| [TF.js](https://docs.ultralytics.com/integrations/tfjs)                  | `tfjs`            | `yolov8n_web_model/`      | ✅        | `imgsz`, `half`, `int8`, `batch`                                     |\n",
        "| [PaddlePaddle](https://docs.ultralytics.com/integrations/paddlepaddle)   | `paddle`          | `yolov8n_paddle_model/`   | ✅        | `imgsz`, `batch`                                                     |\n",
        "| [NCNN](https://docs.ultralytics.com/integrations/ncnn)                   | `ncnn`            | `yolov8n_ncnn_model/`     | ✅        | `imgsz`, `half`, `batch`                                             |"
      ]
    },
    {
      "cell_type": "code",
      "execution_count": 6,
      "metadata": {
        "colab": {
          "base_uri": "https://localhost:8080/"
        },
        "id": "CYIjW4igCjqD",
        "outputId": "947e65cc-79c8-4713-bfd4-3139903ac05a"
      },
      "outputs": [
        {
          "name": "stdout",
          "output_type": "stream",
          "text": [
            "Ultralytics YOLOv8.2.78 🚀 Python-3.8.10 torch-2.4.0+cu121 CPU (Intel Core(TM) i5-2500 3.30GHz)\n",
            "Model summary (fused): 168 layers, 3,007,208 parameters, 0 gradients, 8.1 GFLOPs\n",
            "\n",
            "\u001b[34m\u001b[1mPyTorch:\u001b[0m starting from 'runs\\detect\\train2\\weights\\best.pt' with input shape (1, 3, 640, 640) BCHW and output shape(s) (1, 12, 8400) (5.9 MB)\n",
            "\n",
            "\u001b[34m\u001b[1mONNX:\u001b[0m starting export with onnx 1.16.2 opset 12...\n",
            "\u001b[34m\u001b[1mONNX:\u001b[0m slimming with onnxslim 0.1.32...\n",
            "\u001b[34m\u001b[1mONNX:\u001b[0m export success ✅ 3.4s, saved as 'runs\\detect\\train2\\weights\\best.onnx' (11.7 MB)\n",
            "\n",
            "Export complete (7.6s)\n",
            "Results saved to \u001b[1mD:\\HighwayCounter_YOLOv8\\runs\\detect\\train2\\weights\u001b[0m\n",
            "Predict:         yolo predict task=detect model=runs\\detect\\train2\\weights\\best.onnx imgsz=640  \n",
            "Validate:        yolo val task=detect model=runs\\detect\\train2\\weights\\best.onnx imgsz=640 data=./datasets/data.yaml  \n",
            "Visualize:       https://netron.app\n",
            "💡 Learn more at https://docs.ultralytics.com/modes/export\n"
          ]
        }
      ],
      "source": [
        "!yolo export model='./runs/detect/train/weights/best.pt' imgsz=640,640 format=onnx opset=12 simplify=True dynamic=False"
      ]
    }
  ],
  "metadata": {
    "accelerator": "GPU",
    "colab": {
      "name": "YOLOv8 Tutorial",
      "provenance": [],
      "toc_visible": true
    },
    "kernelspec": {
      "display_name": "Python 3",
      "name": "python3"
    },
    "language_info": {
      "codemirror_mode": {
        "name": "ipython",
        "version": 3
      },
      "file_extension": ".py",
      "mimetype": "text/x-python",
      "name": "python",
      "nbconvert_exporter": "python",
      "pygments_lexer": "ipython3",
      "version": "3.8.10"
    }
  },
  "nbformat": 4,
  "nbformat_minor": 0
}
