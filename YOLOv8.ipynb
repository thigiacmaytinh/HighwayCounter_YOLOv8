{
  "cells": [
    {
      "cell_type": "markdown",
      "metadata": {
        "id": "7mGmQbAO5pQb"
      },
      "source": [
        "# Setup\n",
        "\n",
        "Pip install `ultralytics` and [dependencies](https://github.com/ultralytics/ultralytics/blob/main/pyproject.toml) and check software and hardware.\n",
        "\n",
        "[![PyPI - Version](https://img.shields.io/pypi/v/ultralytics?logo=pypi&logoColor=white)](https://pypi.org/project/ultralytics/) [![Downloads](https://static.pepy.tech/badge/ultralytics)](https://pepy.tech/project/ultralytics) [![PyPI - Python Version](https://img.shields.io/pypi/pyversions/ultralytics?logo=python&logoColor=gold)](https://pypi.org/project/ultralytics/)"
      ]
    },
    {
      "cell_type": "code",
      "execution_count": 1,
      "metadata": {},
      "outputs": [
        {
          "name": "stdout",
          "output_type": "stream",
          "text": [
            "Ultralytics YOLOv8.2.78  Python-3.8.10 torch-2.4.0+cu121 CUDA:0 (NVIDIA GeForce RTX 3060, 12287MiB)\n",
            "Setup complete  (4 CPUs, 16.0 GB RAM, 16.8/251.8 GB disk)\n"
          ]
        }
      ],
      "source": [
        "%pip install ultralytics\n",
        "import ultralytics\n",
        "ultralytics.checks()"
      ]
    },
    {
      "cell_type": "markdown",
      "metadata": {},
      "source": [
        "# 1. Train"
      ]
    },
    {
      "cell_type": "code",
      "execution_count": 1,
      "metadata": {
        "colab": {
          "base_uri": "https://localhost:8080/"
        },
        "id": "1NcFxRcFdJ_O",
        "outputId": "9f60c6cb-fa9c-4785-cb7a-71d40abeaf38"
      },
      "outputs": [
        {
          "name": "stdout",
          "output_type": "stream",
          "text": [
            "Using device: cuda\n",
            "New https://pypi.org/project/ultralytics/8.2.81 available  Update with 'pip install -U ultralytics'\n",
            "Ultralytics YOLOv8.2.78  Python-3.8.10 torch-2.4.0+cu121 CUDA:0 (NVIDIA GeForce RTX 2060, 6144MiB)\n",
            "\u001b[34m\u001b[1mengine\\trainer: \u001b[0mtask=detect, mode=train, model=yolov8n.pt, data=./datasets/data.yaml, epochs=300, time=None, patience=100, batch=32, imgsz=640, save=True, save_period=-1, cache=False, device=cuda, workers=8, project=None, name=train2, exist_ok=False, pretrained=True, optimizer=auto, verbose=True, seed=0, deterministic=True, single_cls=False, rect=False, cos_lr=False, close_mosaic=10, resume=False, amp=True, fraction=1.0, profile=False, freeze=None, multi_scale=False, overlap_mask=True, mask_ratio=4, dropout=0.0, val=True, split=val, save_json=False, save_hybrid=False, conf=None, iou=0.7, max_det=300, half=False, dnn=False, plots=True, source=None, vid_stride=1, stream_buffer=False, visualize=False, augment=False, agnostic_nms=False, classes=None, retina_masks=False, embed=None, show=False, save_frames=False, save_txt=False, save_conf=False, save_crop=False, show_labels=True, show_conf=True, show_boxes=True, line_width=None, format=torchscript, keras=False, optimize=False, int8=False, dynamic=False, simplify=False, opset=None, workspace=4, nms=False, lr0=0.01, lrf=0.01, momentum=0.937, weight_decay=0.0005, warmup_epochs=3.0, warmup_momentum=0.8, warmup_bias_lr=0.1, box=7.5, cls=0.5, dfl=1.5, pose=12.0, kobj=1.0, label_smoothing=0.0, nbs=64, hsv_h=0.015, hsv_s=0.7, hsv_v=0.4, degrees=0.0, translate=0.1, scale=0.5, shear=0.0, perspective=0.0, flipud=0.0, fliplr=0.5, bgr=0.0, mosaic=1.0, mixup=0.0, copy_paste=0.0, auto_augment=randaugment, erasing=0.4, crop_fraction=1.0, cfg=None, tracker=botsort.yaml, save_dir=runs\\detect\\train2\n",
            "Overriding model.yaml nc=80 with nc=8\n",
            "\n",
            "                   from  n    params  module                                       arguments                     \n",
            "  0                  -1  1       464  ultralytics.nn.modules.conv.Conv             [3, 16, 3, 2]                 \n",
            "  1                  -1  1      4672  ultralytics.nn.modules.conv.Conv             [16, 32, 3, 2]                \n",
            "  2                  -1  1      7360  ultralytics.nn.modules.block.C2f             [32, 32, 1, True]             \n",
            "  3                  -1  1     18560  ultralytics.nn.modules.conv.Conv             [32, 64, 3, 2]                \n",
            "  4                  -1  2     49664  ultralytics.nn.modules.block.C2f             [64, 64, 2, True]             \n",
            "  5                  -1  1     73984  ultralytics.nn.modules.conv.Conv             [64, 128, 3, 2]               \n",
            "  6                  -1  2    197632  ultralytics.nn.modules.block.C2f             [128, 128, 2, True]           \n",
            "  7                  -1  1    295424  ultralytics.nn.modules.conv.Conv             [128, 256, 3, 2]              \n",
            "  8                  -1  1    460288  ultralytics.nn.modules.block.C2f             [256, 256, 1, True]           \n",
            "  9                  -1  1    164608  ultralytics.nn.modules.block.SPPF            [256, 256, 5]                 \n",
            " 10                  -1  1         0  torch.nn.modules.upsampling.Upsample         [None, 2, 'nearest']          \n",
            " 11             [-1, 6]  1         0  ultralytics.nn.modules.conv.Concat           [1]                           \n",
            " 12                  -1  1    148224  ultralytics.nn.modules.block.C2f             [384, 128, 1]                 \n",
            " 13                  -1  1         0  torch.nn.modules.upsampling.Upsample         [None, 2, 'nearest']          \n",
            " 14             [-1, 4]  1         0  ultralytics.nn.modules.conv.Concat           [1]                           \n",
            " 15                  -1  1     37248  ultralytics.nn.modules.block.C2f             [192, 64, 1]                  \n",
            " 16                  -1  1     36992  ultralytics.nn.modules.conv.Conv             [64, 64, 3, 2]                \n",
            " 17            [-1, 12]  1         0  ultralytics.nn.modules.conv.Concat           [1]                           \n",
            " 18                  -1  1    123648  ultralytics.nn.modules.block.C2f             [192, 128, 1]                 \n",
            " 19                  -1  1    147712  ultralytics.nn.modules.conv.Conv             [128, 128, 3, 2]              \n",
            " 20             [-1, 9]  1         0  ultralytics.nn.modules.conv.Concat           [1]                           \n",
            " 21                  -1  1    493056  ultralytics.nn.modules.block.C2f             [384, 256, 1]                 \n",
            " 22        [15, 18, 21]  1    752872  ultralytics.nn.modules.head.Detect           [8, [64, 128, 256]]           \n",
            "Model summary: 225 layers, 3,012,408 parameters, 3,012,392 gradients, 8.2 GFLOPs\n",
            "\n",
            "Transferred 319/355 items from pretrained weights\n",
            "WARNING  Comet installed but not initialized correctly, not logging this run. Comet.ml requires an API key. Please provide as the first argument to Experiment(api_key) or as an environment variable named COMET_API_KEY \n",
            "\u001b[34m\u001b[1mTensorBoard: \u001b[0mStart with 'tensorboard --logdir runs\\detect\\train2', view at http://localhost:6006/\n",
            "Freezing layer 'model.22.dfl.conv.weight'\n",
            "\u001b[34m\u001b[1mAMP: \u001b[0mrunning Automatic Mixed Precision (AMP) checks with YOLOv8n...\n",
            "\u001b[34m\u001b[1mAMP: \u001b[0mchecks passed \n"
          ]
        },
        {
          "name": "stderr",
          "output_type": "stream",
          "text": [
            "c:\\Users\\i5\\AppData\\Local\\Programs\\Python\\Python38\\lib\\site-packages\\ultralytics\\engine\\trainer.py:271: FutureWarning: `torch.cuda.amp.GradScaler(args...)` is deprecated. Please use `torch.amp.GradScaler('cuda', args...)` instead.\n",
            "  self.scaler = torch.cuda.amp.GradScaler(enabled=self.amp)\n",
            "\u001b[34m\u001b[1mtrain: \u001b[0mScanning D:\\HighwayCounter_YOLOv8\\datasets\\labels\\train.cache... 1565 images, 0 backgrounds, 0 corrupt: 100%|██████████| 1565/1565 [00:00<?, ?it/s]\n",
            "\u001b[34m\u001b[1mval: \u001b[0mScanning D:\\HighwayCounter_YOLOv8\\datasets\\labels\\valid.cache... 85 images, 0 backgrounds, 0 corrupt: 100%|██████████| 85/85 [00:00<?, ?it/s]\n"
          ]
        },
        {
          "name": "stdout",
          "output_type": "stream",
          "text": [
            "Plotting labels to runs\\detect\\train2\\labels.jpg... \n",
            "\u001b[34m\u001b[1moptimizer:\u001b[0m 'optimizer=auto' found, ignoring 'lr0=0.01' and 'momentum=0.937' and determining best 'optimizer', 'lr0' and 'momentum' automatically... \n",
            "\u001b[34m\u001b[1moptimizer:\u001b[0m AdamW(lr=0.000833, momentum=0.9) with parameter groups 57 weight(decay=0.0), 64 weight(decay=0.0005), 63 bias(decay=0.0)\n",
            "\u001b[34m\u001b[1mTensorBoard: \u001b[0mmodel graph visualization added \n",
            "Image sizes 640 train, 640 val\n",
            "Using 4 dataloader workers\n",
            "Logging results to \u001b[1mruns\\detect\\train2\u001b[0m\n",
            "Starting training for 300 epochs...\n",
            "\n",
            "      Epoch    GPU_mem   box_loss   cls_loss   dfl_loss  Instances       Size\n"
          ]
        },
        {
          "name": "stderr",
          "output_type": "stream",
          "text": [
            "      1/300      4.11G     0.9254      2.439     0.9133        156        640: 100%|██████████| 49/49 [00:22<00:00,  2.18it/s]\n",
            "                 Class     Images  Instances      Box(P          R      mAP50  mAP50-95): 100%|██████████| 2/2 [00:01<00:00,  1.22it/s]"
          ]
        },
        {
          "name": "stdout",
          "output_type": "stream",
          "text": [
            "                   all         85        308     0.0804      0.762        0.5       0.43\n"
          ]
        },
        {
          "name": "stderr",
          "output_type": "stream",
          "text": [
            "\n"
          ]
        },
        {
          "name": "stdout",
          "output_type": "stream",
          "text": [
            "\n",
            "      Epoch    GPU_mem   box_loss   cls_loss   dfl_loss  Instances       Size\n"
          ]
        },
        {
          "name": "stderr",
          "output_type": "stream",
          "text": [
            "      2/300      4.05G     0.7708       1.05      0.874        194        640: 100%|██████████| 49/49 [00:20<00:00,  2.44it/s]\n",
            "                 Class     Images  Instances      Box(P          R      mAP50  mAP50-95): 100%|██████████| 2/2 [00:00<00:00,  2.04it/s]"
          ]
        },
        {
          "name": "stdout",
          "output_type": "stream",
          "text": [
            "                   all         85        308      0.908      0.536      0.822       0.68\n"
          ]
        },
        {
          "name": "stderr",
          "output_type": "stream",
          "text": [
            "\n"
          ]
        },
        {
          "name": "stdout",
          "output_type": "stream",
          "text": [
            "\n",
            "      Epoch    GPU_mem   box_loss   cls_loss   dfl_loss  Instances       Size\n"
          ]
        },
        {
          "name": "stderr",
          "output_type": "stream",
          "text": [
            "      3/300      4.04G     0.7257     0.8996     0.8734        178        640: 100%|██████████| 49/49 [00:20<00:00,  2.35it/s]\n",
            "                 Class     Images  Instances      Box(P          R      mAP50  mAP50-95): 100%|██████████| 2/2 [00:01<00:00,  1.33it/s]"
          ]
        },
        {
          "name": "stdout",
          "output_type": "stream",
          "text": [
            "                   all         85        308      0.844      0.664      0.793       0.65\n"
          ]
        },
        {
          "name": "stderr",
          "output_type": "stream",
          "text": [
            "\n"
          ]
        },
        {
          "name": "stdout",
          "output_type": "stream",
          "text": [
            "\n",
            "      Epoch    GPU_mem   box_loss   cls_loss   dfl_loss  Instances       Size\n"
          ]
        },
        {
          "name": "stderr",
          "output_type": "stream",
          "text": [
            "      4/300      4.03G     0.7241     0.8234      0.878        127        640: 100%|██████████| 49/49 [00:19<00:00,  2.47it/s]\n",
            "                 Class     Images  Instances      Box(P          R      mAP50  mAP50-95): 100%|██████████| 2/2 [00:00<00:00,  2.31it/s]"
          ]
        },
        {
          "name": "stdout",
          "output_type": "stream",
          "text": [
            "                   all         85        308       0.83      0.628      0.844      0.687\n"
          ]
        },
        {
          "name": "stderr",
          "output_type": "stream",
          "text": [
            "\n"
          ]
        },
        {
          "name": "stdout",
          "output_type": "stream",
          "text": [
            "\n",
            "      Epoch    GPU_mem   box_loss   cls_loss   dfl_loss  Instances       Size\n"
          ]
        },
        {
          "name": "stderr",
          "output_type": "stream",
          "text": [
            "      5/300      4.09G     0.7021     0.7584     0.8733        192        640: 100%|██████████| 49/49 [00:19<00:00,  2.54it/s]\n",
            "                 Class     Images  Instances      Box(P          R      mAP50  mAP50-95): 100%|██████████| 2/2 [00:01<00:00,  1.52it/s]"
          ]
        },
        {
          "name": "stdout",
          "output_type": "stream",
          "text": [
            "                   all         85        308      0.882      0.705      0.787      0.647\n"
          ]
        },
        {
          "name": "stderr",
          "output_type": "stream",
          "text": [
            "\n"
          ]
        },
        {
          "name": "stdout",
          "output_type": "stream",
          "text": [
            "\n",
            "      Epoch    GPU_mem   box_loss   cls_loss   dfl_loss  Instances       Size\n"
          ]
        },
        {
          "name": "stderr",
          "output_type": "stream",
          "text": [
            "      6/300      4.05G      0.688     0.6923      0.868        169        640: 100%|██████████| 49/49 [00:17<00:00,  2.75it/s]\n",
            "                 Class     Images  Instances      Box(P          R      mAP50  mAP50-95): 100%|██████████| 2/2 [00:01<00:00,  1.71it/s]"
          ]
        },
        {
          "name": "stdout",
          "output_type": "stream",
          "text": [
            "                   all         85        308      0.908       0.73      0.831      0.691\n"
          ]
        },
        {
          "name": "stderr",
          "output_type": "stream",
          "text": [
            "\n"
          ]
        },
        {
          "name": "stdout",
          "output_type": "stream",
          "text": [
            "\n",
            "      Epoch    GPU_mem   box_loss   cls_loss   dfl_loss  Instances       Size\n"
          ]
        },
        {
          "name": "stderr",
          "output_type": "stream",
          "text": [
            "      7/300      3.99G     0.6796     0.6427      0.873        210        640: 100%|██████████| 49/49 [00:17<00:00,  2.86it/s]\n",
            "                 Class     Images  Instances      Box(P          R      mAP50  mAP50-95): 100%|██████████| 2/2 [00:01<00:00,  1.60it/s]"
          ]
        },
        {
          "name": "stdout",
          "output_type": "stream",
          "text": [
            "                   all         85        308      0.889      0.766       0.84      0.708\n"
          ]
        },
        {
          "name": "stderr",
          "output_type": "stream",
          "text": [
            "\n"
          ]
        },
        {
          "name": "stdout",
          "output_type": "stream",
          "text": [
            "\n",
            "      Epoch    GPU_mem   box_loss   cls_loss   dfl_loss  Instances       Size\n"
          ]
        },
        {
          "name": "stderr",
          "output_type": "stream",
          "text": [
            "      8/300         4G     0.6598     0.6117     0.8691        176        640: 100%|██████████| 49/49 [00:16<00:00,  2.97it/s]\n",
            "                 Class     Images  Instances      Box(P          R      mAP50  mAP50-95): 100%|██████████| 2/2 [00:01<00:00,  1.51it/s]"
          ]
        },
        {
          "name": "stdout",
          "output_type": "stream",
          "text": [
            "                   all         85        308      0.911      0.713      0.864      0.736\n"
          ]
        },
        {
          "name": "stderr",
          "output_type": "stream",
          "text": [
            "\n"
          ]
        },
        {
          "name": "stdout",
          "output_type": "stream",
          "text": [
            "\n",
            "      Epoch    GPU_mem   box_loss   cls_loss   dfl_loss  Instances       Size\n"
          ]
        },
        {
          "name": "stderr",
          "output_type": "stream",
          "text": [
            "      9/300      4.05G     0.6523     0.5971     0.8663        156        640: 100%|██████████| 49/49 [00:17<00:00,  2.73it/s]\n",
            "                 Class     Images  Instances      Box(P          R      mAP50  mAP50-95): 100%|██████████| 2/2 [00:01<00:00,  1.46it/s]"
          ]
        },
        {
          "name": "stdout",
          "output_type": "stream",
          "text": [
            "                   all         85        308       0.92      0.716      0.853      0.718\n"
          ]
        },
        {
          "name": "stderr",
          "output_type": "stream",
          "text": [
            "\n"
          ]
        },
        {
          "name": "stdout",
          "output_type": "stream",
          "text": [
            "\n",
            "      Epoch    GPU_mem   box_loss   cls_loss   dfl_loss  Instances       Size\n"
          ]
        },
        {
          "name": "stderr",
          "output_type": "stream",
          "text": [
            "     10/300      4.03G     0.6488     0.5666     0.8656        207        640: 100%|██████████| 49/49 [00:17<00:00,  2.78it/s]\n",
            "                 Class     Images  Instances      Box(P          R      mAP50  mAP50-95): 100%|██████████| 2/2 [00:01<00:00,  1.46it/s]"
          ]
        },
        {
          "name": "stdout",
          "output_type": "stream",
          "text": [
            "                   all         85        308       0.79       0.73      0.825      0.689\n"
          ]
        },
        {
          "name": "stderr",
          "output_type": "stream",
          "text": [
            "\n"
          ]
        },
        {
          "name": "stdout",
          "output_type": "stream",
          "text": [
            "\n",
            "      Epoch    GPU_mem   box_loss   cls_loss   dfl_loss  Instances       Size\n"
          ]
        },
        {
          "name": "stderr",
          "output_type": "stream",
          "text": [
            "     11/300      4.08G     0.6343     0.5463     0.8623        188        640: 100%|██████████| 49/49 [00:17<00:00,  2.80it/s]\n",
            "                 Class     Images  Instances      Box(P          R      mAP50  mAP50-95): 100%|██████████| 2/2 [00:01<00:00,  1.45it/s]"
          ]
        },
        {
          "name": "stdout",
          "output_type": "stream",
          "text": [
            "                   all         85        308      0.882      0.768       0.84      0.711\n"
          ]
        },
        {
          "name": "stderr",
          "output_type": "stream",
          "text": [
            "\n"
          ]
        },
        {
          "name": "stdout",
          "output_type": "stream",
          "text": [
            "\n",
            "      Epoch    GPU_mem   box_loss   cls_loss   dfl_loss  Instances       Size\n"
          ]
        },
        {
          "name": "stderr",
          "output_type": "stream",
          "text": [
            "     12/300      4.09G     0.6344     0.5264     0.8614        173        640: 100%|██████████| 49/49 [00:18<00:00,  2.61it/s]\n",
            "                 Class     Images  Instances      Box(P          R      mAP50  mAP50-95): 100%|██████████| 2/2 [00:01<00:00,  1.77it/s]"
          ]
        },
        {
          "name": "stdout",
          "output_type": "stream",
          "text": [
            "                   all         85        308      0.912      0.732      0.827      0.705\n"
          ]
        },
        {
          "name": "stderr",
          "output_type": "stream",
          "text": [
            "\n"
          ]
        },
        {
          "name": "stdout",
          "output_type": "stream",
          "text": [
            "\n",
            "      Epoch    GPU_mem   box_loss   cls_loss   dfl_loss  Instances       Size\n"
          ]
        },
        {
          "name": "stderr",
          "output_type": "stream",
          "text": [
            "     13/300      4.05G     0.6262     0.5128     0.8563        176        640: 100%|██████████| 49/49 [00:18<00:00,  2.61it/s]\n",
            "                 Class     Images  Instances      Box(P          R      mAP50  mAP50-95): 100%|██████████| 2/2 [00:00<00:00,  2.10it/s]"
          ]
        },
        {
          "name": "stdout",
          "output_type": "stream",
          "text": [
            "                   all         85        308      0.887      0.744       0.83       0.71\n"
          ]
        },
        {
          "name": "stderr",
          "output_type": "stream",
          "text": [
            "\n"
          ]
        },
        {
          "name": "stdout",
          "output_type": "stream",
          "text": [
            "\n",
            "      Epoch    GPU_mem   box_loss   cls_loss   dfl_loss  Instances       Size\n"
          ]
        },
        {
          "name": "stderr",
          "output_type": "stream",
          "text": [
            "     14/300      4.09G     0.6292     0.5108     0.8626        180        640: 100%|██████████| 49/49 [00:18<00:00,  2.60it/s]\n",
            "                 Class     Images  Instances      Box(P          R      mAP50  mAP50-95): 100%|██████████| 2/2 [00:00<00:00,  2.36it/s]"
          ]
        },
        {
          "name": "stdout",
          "output_type": "stream",
          "text": [
            "                   all         85        308      0.889      0.743      0.833      0.705\n"
          ]
        },
        {
          "name": "stderr",
          "output_type": "stream",
          "text": [
            "\n"
          ]
        },
        {
          "name": "stdout",
          "output_type": "stream",
          "text": [
            "\n",
            "      Epoch    GPU_mem   box_loss   cls_loss   dfl_loss  Instances       Size\n"
          ]
        },
        {
          "name": "stderr",
          "output_type": "stream",
          "text": [
            "     15/300       4.1G      0.622     0.5059     0.8624        185        640: 100%|██████████| 49/49 [00:18<00:00,  2.61it/s]\n",
            "                 Class     Images  Instances      Box(P          R      mAP50  mAP50-95): 100%|██████████| 2/2 [00:00<00:00,  2.28it/s]"
          ]
        },
        {
          "name": "stdout",
          "output_type": "stream",
          "text": [
            "                   all         85        308      0.904       0.74      0.868      0.749\n"
          ]
        },
        {
          "name": "stderr",
          "output_type": "stream",
          "text": [
            "\n"
          ]
        },
        {
          "name": "stdout",
          "output_type": "stream",
          "text": [
            "\n",
            "      Epoch    GPU_mem   box_loss   cls_loss   dfl_loss  Instances       Size\n"
          ]
        },
        {
          "name": "stderr",
          "output_type": "stream",
          "text": [
            "     16/300      4.05G     0.6074     0.5002     0.8536        171        640: 100%|██████████| 49/49 [00:19<00:00,  2.53it/s]\n",
            "                 Class     Images  Instances      Box(P          R      mAP50  mAP50-95): 100%|██████████| 2/2 [00:01<00:00,  1.91it/s]"
          ]
        },
        {
          "name": "stdout",
          "output_type": "stream",
          "text": [
            "                   all         85        308      0.891      0.706      0.838      0.713\n"
          ]
        },
        {
          "name": "stderr",
          "output_type": "stream",
          "text": [
            "\n"
          ]
        },
        {
          "name": "stdout",
          "output_type": "stream",
          "text": [
            "\n",
            "      Epoch    GPU_mem   box_loss   cls_loss   dfl_loss  Instances       Size\n"
          ]
        },
        {
          "name": "stderr",
          "output_type": "stream",
          "text": [
            "     17/300      4.04G     0.6095     0.4813     0.8533        137        640: 100%|██████████| 49/49 [00:17<00:00,  2.73it/s]\n",
            "                 Class     Images  Instances      Box(P          R      mAP50  mAP50-95): 100%|██████████| 2/2 [00:01<00:00,  1.56it/s]"
          ]
        },
        {
          "name": "stdout",
          "output_type": "stream",
          "text": [
            "                   all         85        308      0.895      0.732      0.843      0.737\n"
          ]
        },
        {
          "name": "stderr",
          "output_type": "stream",
          "text": [
            "\n"
          ]
        },
        {
          "name": "stdout",
          "output_type": "stream",
          "text": [
            "\n",
            "      Epoch    GPU_mem   box_loss   cls_loss   dfl_loss  Instances       Size\n"
          ]
        },
        {
          "name": "stderr",
          "output_type": "stream",
          "text": [
            "     18/300      4.09G     0.5983     0.4745     0.8545        148        640: 100%|██████████| 49/49 [00:17<00:00,  2.75it/s]\n",
            "                 Class     Images  Instances      Box(P          R      mAP50  mAP50-95): 100%|██████████| 2/2 [00:01<00:00,  1.73it/s]"
          ]
        },
        {
          "name": "stdout",
          "output_type": "stream",
          "text": [
            "                   all         85        308      0.805      0.771      0.837       0.71\n"
          ]
        },
        {
          "name": "stderr",
          "output_type": "stream",
          "text": [
            "\n"
          ]
        },
        {
          "name": "stdout",
          "output_type": "stream",
          "text": [
            "\n",
            "      Epoch    GPU_mem   box_loss   cls_loss   dfl_loss  Instances       Size\n"
          ]
        },
        {
          "name": "stderr",
          "output_type": "stream",
          "text": [
            "     19/300      4.09G     0.6021     0.4662      0.854        189        640: 100%|██████████| 49/49 [00:17<00:00,  2.80it/s]\n",
            "                 Class     Images  Instances      Box(P          R      mAP50  mAP50-95): 100%|██████████| 2/2 [00:01<00:00,  1.48it/s]"
          ]
        },
        {
          "name": "stdout",
          "output_type": "stream",
          "text": [
            "                   all         85        308      0.885      0.751      0.839      0.706\n"
          ]
        },
        {
          "name": "stderr",
          "output_type": "stream",
          "text": [
            "\n"
          ]
        },
        {
          "name": "stdout",
          "output_type": "stream",
          "text": [
            "\n",
            "      Epoch    GPU_mem   box_loss   cls_loss   dfl_loss  Instances       Size\n"
          ]
        },
        {
          "name": "stderr",
          "output_type": "stream",
          "text": [
            "     20/300      4.04G     0.5888     0.4618      0.853        191        640: 100%|██████████| 49/49 [00:18<00:00,  2.63it/s]\n",
            "                 Class     Images  Instances      Box(P          R      mAP50  mAP50-95): 100%|██████████| 2/2 [00:01<00:00,  1.44it/s]"
          ]
        },
        {
          "name": "stdout",
          "output_type": "stream",
          "text": [
            "                   all         85        308      0.853      0.738      0.871      0.762\n"
          ]
        },
        {
          "name": "stderr",
          "output_type": "stream",
          "text": [
            "\n"
          ]
        },
        {
          "name": "stdout",
          "output_type": "stream",
          "text": [
            "\n",
            "      Epoch    GPU_mem   box_loss   cls_loss   dfl_loss  Instances       Size\n"
          ]
        },
        {
          "name": "stderr",
          "output_type": "stream",
          "text": [
            "     21/300      4.05G     0.5891     0.4667     0.8573        170        640: 100%|██████████| 49/49 [00:18<00:00,  2.60it/s]\n",
            "                 Class     Images  Instances      Box(P          R      mAP50  mAP50-95): 100%|██████████| 2/2 [00:00<00:00,  2.30it/s]"
          ]
        },
        {
          "name": "stdout",
          "output_type": "stream",
          "text": [
            "                   all         85        308      0.901       0.77      0.874       0.75\n"
          ]
        },
        {
          "name": "stderr",
          "output_type": "stream",
          "text": [
            "\n"
          ]
        },
        {
          "name": "stdout",
          "output_type": "stream",
          "text": [
            "\n",
            "      Epoch    GPU_mem   box_loss   cls_loss   dfl_loss  Instances       Size\n"
          ]
        },
        {
          "name": "stderr",
          "output_type": "stream",
          "text": [
            "     22/300      4.09G     0.5859     0.4577     0.8549        156        640: 100%|██████████| 49/49 [00:18<00:00,  2.60it/s]\n",
            "                 Class     Images  Instances      Box(P          R      mAP50  mAP50-95): 100%|██████████| 2/2 [00:00<00:00,  2.14it/s]"
          ]
        },
        {
          "name": "stdout",
          "output_type": "stream",
          "text": [
            "                   all         85        308      0.893      0.771      0.873       0.75\n"
          ]
        },
        {
          "name": "stderr",
          "output_type": "stream",
          "text": [
            "\n"
          ]
        },
        {
          "name": "stdout",
          "output_type": "stream",
          "text": [
            "\n",
            "      Epoch    GPU_mem   box_loss   cls_loss   dfl_loss  Instances       Size\n"
          ]
        },
        {
          "name": "stderr",
          "output_type": "stream",
          "text": [
            "     23/300      4.02G      0.589     0.4457     0.8526        197        640: 100%|██████████| 49/49 [00:18<00:00,  2.60it/s]\n",
            "                 Class     Images  Instances      Box(P          R      mAP50  mAP50-95): 100%|██████████| 2/2 [00:01<00:00,  1.81it/s]"
          ]
        },
        {
          "name": "stdout",
          "output_type": "stream",
          "text": [
            "                   all         85        308      0.884      0.691      0.851      0.709\n"
          ]
        },
        {
          "name": "stderr",
          "output_type": "stream",
          "text": [
            "\n"
          ]
        },
        {
          "name": "stdout",
          "output_type": "stream",
          "text": [
            "\n",
            "      Epoch    GPU_mem   box_loss   cls_loss   dfl_loss  Instances       Size\n"
          ]
        },
        {
          "name": "stderr",
          "output_type": "stream",
          "text": [
            "     24/300       4.1G     0.5903     0.4516      0.854        159        640: 100%|██████████| 49/49 [00:18<00:00,  2.58it/s]\n",
            "                 Class     Images  Instances      Box(P          R      mAP50  mAP50-95): 100%|██████████| 2/2 [00:00<00:00,  2.08it/s]"
          ]
        },
        {
          "name": "stdout",
          "output_type": "stream",
          "text": [
            "                   all         85        308      0.894      0.791      0.864      0.747\n"
          ]
        },
        {
          "name": "stderr",
          "output_type": "stream",
          "text": [
            "\n"
          ]
        },
        {
          "name": "stdout",
          "output_type": "stream",
          "text": [
            "\n",
            "      Epoch    GPU_mem   box_loss   cls_loss   dfl_loss  Instances       Size\n"
          ]
        },
        {
          "name": "stderr",
          "output_type": "stream",
          "text": [
            "     25/300      4.05G      0.587     0.4393     0.8524        152        640: 100%|██████████| 49/49 [00:18<00:00,  2.60it/s]\n",
            "                 Class     Images  Instances      Box(P          R      mAP50  mAP50-95): 100%|██████████| 2/2 [00:00<00:00,  2.24it/s]"
          ]
        },
        {
          "name": "stdout",
          "output_type": "stream",
          "text": [
            "                   all         85        308      0.906      0.766      0.873      0.749\n"
          ]
        },
        {
          "name": "stderr",
          "output_type": "stream",
          "text": [
            "\n"
          ]
        },
        {
          "name": "stdout",
          "output_type": "stream",
          "text": [
            "\n",
            "      Epoch    GPU_mem   box_loss   cls_loss   dfl_loss  Instances       Size\n"
          ]
        },
        {
          "name": "stderr",
          "output_type": "stream",
          "text": [
            "     26/300      3.99G     0.5754     0.4419     0.8486        178        640: 100%|██████████| 49/49 [00:18<00:00,  2.61it/s]\n",
            "                 Class     Images  Instances      Box(P          R      mAP50  mAP50-95): 100%|██████████| 2/2 [00:00<00:00,  2.14it/s]"
          ]
        },
        {
          "name": "stdout",
          "output_type": "stream",
          "text": [
            "                   all         85        308      0.872       0.78      0.858      0.741\n"
          ]
        },
        {
          "name": "stderr",
          "output_type": "stream",
          "text": [
            "\n"
          ]
        },
        {
          "name": "stdout",
          "output_type": "stream",
          "text": [
            "\n",
            "      Epoch    GPU_mem   box_loss   cls_loss   dfl_loss  Instances       Size\n"
          ]
        },
        {
          "name": "stderr",
          "output_type": "stream",
          "text": [
            "     27/300      4.06G      0.569     0.4361     0.8458        157        640: 100%|██████████| 49/49 [00:23<00:00,  2.11it/s]\n",
            "                 Class     Images  Instances      Box(P          R      mAP50  mAP50-95): 100%|██████████| 2/2 [00:01<00:00,  1.79it/s]"
          ]
        },
        {
          "name": "stdout",
          "output_type": "stream",
          "text": [
            "                   all         85        308      0.704      0.824      0.814        0.7\n"
          ]
        },
        {
          "name": "stderr",
          "output_type": "stream",
          "text": [
            "\n"
          ]
        },
        {
          "name": "stdout",
          "output_type": "stream",
          "text": [
            "\n",
            "      Epoch    GPU_mem   box_loss   cls_loss   dfl_loss  Instances       Size\n"
          ]
        },
        {
          "name": "stderr",
          "output_type": "stream",
          "text": [
            "     28/300      4.05G     0.5766     0.4414     0.8502        174        640: 100%|██████████| 49/49 [00:18<00:00,  2.58it/s]\n",
            "                 Class     Images  Instances      Box(P          R      mAP50  mAP50-95): 100%|██████████| 2/2 [00:01<00:00,  1.64it/s]"
          ]
        },
        {
          "name": "stdout",
          "output_type": "stream",
          "text": [
            "                   all         85        308      0.894        0.8      0.872      0.751\n"
          ]
        },
        {
          "name": "stderr",
          "output_type": "stream",
          "text": [
            "\n"
          ]
        },
        {
          "name": "stdout",
          "output_type": "stream",
          "text": [
            "\n",
            "      Epoch    GPU_mem   box_loss   cls_loss   dfl_loss  Instances       Size\n"
          ]
        },
        {
          "name": "stderr",
          "output_type": "stream",
          "text": [
            "     29/300      4.04G     0.5665     0.4255     0.8454        197        640: 100%|██████████| 49/49 [00:19<00:00,  2.53it/s]\n",
            "                 Class     Images  Instances      Box(P          R      mAP50  mAP50-95): 100%|██████████| 2/2 [00:01<00:00,  1.87it/s]"
          ]
        },
        {
          "name": "stdout",
          "output_type": "stream",
          "text": [
            "                   all         85        308      0.869      0.774      0.857      0.743\n"
          ]
        },
        {
          "name": "stderr",
          "output_type": "stream",
          "text": [
            "\n"
          ]
        },
        {
          "name": "stdout",
          "output_type": "stream",
          "text": [
            "\n",
            "      Epoch    GPU_mem   box_loss   cls_loss   dfl_loss  Instances       Size\n"
          ]
        },
        {
          "name": "stderr",
          "output_type": "stream",
          "text": [
            "     30/300      4.06G     0.5692     0.4302     0.8509        178        640: 100%|██████████| 49/49 [00:19<00:00,  2.56it/s]\n",
            "                 Class     Images  Instances      Box(P          R      mAP50  mAP50-95): 100%|██████████| 2/2 [00:01<00:00,  1.93it/s]"
          ]
        },
        {
          "name": "stdout",
          "output_type": "stream",
          "text": [
            "                   all         85        308      0.857      0.778      0.818      0.708\n"
          ]
        },
        {
          "name": "stderr",
          "output_type": "stream",
          "text": [
            "\n"
          ]
        },
        {
          "name": "stdout",
          "output_type": "stream",
          "text": [
            "\n",
            "      Epoch    GPU_mem   box_loss   cls_loss   dfl_loss  Instances       Size\n"
          ]
        },
        {
          "name": "stderr",
          "output_type": "stream",
          "text": [
            "     31/300      4.05G     0.5712     0.4259     0.8456        166        640: 100%|██████████| 49/49 [00:18<00:00,  2.61it/s]\n",
            "                 Class     Images  Instances      Box(P          R      mAP50  mAP50-95): 100%|██████████| 2/2 [00:01<00:00,  1.94it/s]"
          ]
        },
        {
          "name": "stdout",
          "output_type": "stream",
          "text": [
            "                   all         85        308      0.859      0.783      0.859      0.739\n"
          ]
        },
        {
          "name": "stderr",
          "output_type": "stream",
          "text": [
            "\n"
          ]
        },
        {
          "name": "stdout",
          "output_type": "stream",
          "text": [
            "\n",
            "      Epoch    GPU_mem   box_loss   cls_loss   dfl_loss  Instances       Size\n"
          ]
        },
        {
          "name": "stderr",
          "output_type": "stream",
          "text": [
            "     32/300      4.11G     0.5663     0.4213     0.8471        185        640: 100%|██████████| 49/49 [00:18<00:00,  2.61it/s]\n",
            "                 Class     Images  Instances      Box(P          R      mAP50  mAP50-95): 100%|██████████| 2/2 [00:00<00:00,  2.21it/s]"
          ]
        },
        {
          "name": "stdout",
          "output_type": "stream",
          "text": [
            "                   all         85        308      0.752      0.905      0.861      0.739\n"
          ]
        },
        {
          "name": "stderr",
          "output_type": "stream",
          "text": [
            "\n"
          ]
        },
        {
          "name": "stdout",
          "output_type": "stream",
          "text": [
            "\n",
            "      Epoch    GPU_mem   box_loss   cls_loss   dfl_loss  Instances       Size\n"
          ]
        },
        {
          "name": "stderr",
          "output_type": "stream",
          "text": [
            "     33/300      4.03G     0.5711     0.4202      0.849        131        640: 100%|██████████| 49/49 [00:19<00:00,  2.55it/s]\n",
            "                 Class     Images  Instances      Box(P          R      mAP50  mAP50-95): 100%|██████████| 2/2 [00:01<00:00,  1.93it/s]"
          ]
        },
        {
          "name": "stdout",
          "output_type": "stream",
          "text": [
            "                   all         85        308       0.74      0.849      0.867      0.747\n"
          ]
        },
        {
          "name": "stderr",
          "output_type": "stream",
          "text": [
            "\n"
          ]
        },
        {
          "name": "stdout",
          "output_type": "stream",
          "text": [
            "\n",
            "      Epoch    GPU_mem   box_loss   cls_loss   dfl_loss  Instances       Size\n"
          ]
        },
        {
          "name": "stderr",
          "output_type": "stream",
          "text": [
            "     34/300      4.09G     0.5562     0.4102     0.8438        170        640: 100%|██████████| 49/49 [00:19<00:00,  2.54it/s]\n",
            "                 Class     Images  Instances      Box(P          R      mAP50  mAP50-95): 100%|██████████| 2/2 [00:00<00:00,  2.06it/s]"
          ]
        },
        {
          "name": "stdout",
          "output_type": "stream",
          "text": [
            "                   all         85        308      0.897      0.766      0.848      0.743\n"
          ]
        },
        {
          "name": "stderr",
          "output_type": "stream",
          "text": [
            "\n"
          ]
        },
        {
          "name": "stdout",
          "output_type": "stream",
          "text": [
            "\n",
            "      Epoch    GPU_mem   box_loss   cls_loss   dfl_loss  Instances       Size\n"
          ]
        },
        {
          "name": "stderr",
          "output_type": "stream",
          "text": [
            "     35/300      4.03G     0.5612     0.4144     0.8462        204        640: 100%|██████████| 49/49 [00:19<00:00,  2.52it/s]\n",
            "                 Class     Images  Instances      Box(P          R      mAP50  mAP50-95): 100%|██████████| 2/2 [00:01<00:00,  1.91it/s]"
          ]
        },
        {
          "name": "stdout",
          "output_type": "stream",
          "text": [
            "                   all         85        308      0.832      0.808       0.84      0.729\n"
          ]
        },
        {
          "name": "stderr",
          "output_type": "stream",
          "text": [
            "\n"
          ]
        },
        {
          "name": "stdout",
          "output_type": "stream",
          "text": [
            "\n",
            "      Epoch    GPU_mem   box_loss   cls_loss   dfl_loss  Instances       Size\n"
          ]
        },
        {
          "name": "stderr",
          "output_type": "stream",
          "text": [
            "     36/300      4.05G     0.5639     0.4159     0.8472        181        640: 100%|██████████| 49/49 [00:19<00:00,  2.53it/s]\n",
            "                 Class     Images  Instances      Box(P          R      mAP50  mAP50-95): 100%|██████████| 2/2 [00:01<00:00,  1.92it/s]"
          ]
        },
        {
          "name": "stdout",
          "output_type": "stream",
          "text": [
            "                   all         85        308        0.9      0.752      0.858      0.743\n"
          ]
        },
        {
          "name": "stderr",
          "output_type": "stream",
          "text": [
            "\n"
          ]
        },
        {
          "name": "stdout",
          "output_type": "stream",
          "text": [
            "\n",
            "      Epoch    GPU_mem   box_loss   cls_loss   dfl_loss  Instances       Size\n"
          ]
        },
        {
          "name": "stderr",
          "output_type": "stream",
          "text": [
            "     37/300       4.1G     0.5664     0.4125      0.847        170        640: 100%|██████████| 49/49 [00:18<00:00,  2.59it/s]\n",
            "                 Class     Images  Instances      Box(P          R      mAP50  mAP50-95): 100%|██████████| 2/2 [00:01<00:00,  1.85it/s]"
          ]
        },
        {
          "name": "stdout",
          "output_type": "stream",
          "text": [
            "                   all         85        308      0.827      0.762      0.858      0.745\n"
          ]
        },
        {
          "name": "stderr",
          "output_type": "stream",
          "text": [
            "\n"
          ]
        },
        {
          "name": "stdout",
          "output_type": "stream",
          "text": [
            "\n",
            "      Epoch    GPU_mem   box_loss   cls_loss   dfl_loss  Instances       Size\n"
          ]
        },
        {
          "name": "stderr",
          "output_type": "stream",
          "text": [
            "     38/300      4.04G      0.554     0.4172      0.843        191        640: 100%|██████████| 49/49 [00:19<00:00,  2.56it/s]\n",
            "                 Class     Images  Instances      Box(P          R      mAP50  mAP50-95): 100%|██████████| 2/2 [00:00<00:00,  2.16it/s]"
          ]
        },
        {
          "name": "stdout",
          "output_type": "stream",
          "text": [
            "                   all         85        308      0.861      0.769      0.857      0.735\n"
          ]
        },
        {
          "name": "stderr",
          "output_type": "stream",
          "text": [
            "\n"
          ]
        },
        {
          "name": "stdout",
          "output_type": "stream",
          "text": [
            "\n",
            "      Epoch    GPU_mem   box_loss   cls_loss   dfl_loss  Instances       Size\n"
          ]
        },
        {
          "name": "stderr",
          "output_type": "stream",
          "text": [
            "     39/300      4.02G     0.5535     0.4165     0.8451        158        640: 100%|██████████| 49/49 [00:18<00:00,  2.62it/s]\n",
            "                 Class     Images  Instances      Box(P          R      mAP50  mAP50-95): 100%|██████████| 2/2 [00:01<00:00,  1.95it/s]"
          ]
        },
        {
          "name": "stdout",
          "output_type": "stream",
          "text": [
            "                   all         85        308      0.892      0.742      0.834      0.713\n"
          ]
        },
        {
          "name": "stderr",
          "output_type": "stream",
          "text": [
            "\n"
          ]
        },
        {
          "name": "stdout",
          "output_type": "stream",
          "text": [
            "\n",
            "      Epoch    GPU_mem   box_loss   cls_loss   dfl_loss  Instances       Size\n"
          ]
        },
        {
          "name": "stderr",
          "output_type": "stream",
          "text": [
            "     40/300      4.09G     0.5494     0.4154      0.845        193        640: 100%|██████████| 49/49 [00:18<00:00,  2.60it/s]\n",
            "                 Class     Images  Instances      Box(P          R      mAP50  mAP50-95): 100%|██████████| 2/2 [00:01<00:00,  1.90it/s]"
          ]
        },
        {
          "name": "stdout",
          "output_type": "stream",
          "text": [
            "                   all         85        308      0.893       0.78      0.847      0.745\n"
          ]
        },
        {
          "name": "stderr",
          "output_type": "stream",
          "text": [
            "\n"
          ]
        },
        {
          "name": "stdout",
          "output_type": "stream",
          "text": [
            "\n",
            "      Epoch    GPU_mem   box_loss   cls_loss   dfl_loss  Instances       Size\n"
          ]
        },
        {
          "name": "stderr",
          "output_type": "stream",
          "text": [
            "     41/300      4.09G     0.5412     0.3997     0.8393        201        640: 100%|██████████| 49/49 [00:18<00:00,  2.60it/s]\n",
            "                 Class     Images  Instances      Box(P          R      mAP50  mAP50-95): 100%|██████████| 2/2 [00:01<00:00,  1.84it/s]"
          ]
        },
        {
          "name": "stdout",
          "output_type": "stream",
          "text": [
            "                   all         85        308      0.887      0.767      0.884       0.77\n"
          ]
        },
        {
          "name": "stderr",
          "output_type": "stream",
          "text": [
            "\n"
          ]
        },
        {
          "name": "stdout",
          "output_type": "stream",
          "text": [
            "\n",
            "      Epoch    GPU_mem   box_loss   cls_loss   dfl_loss  Instances       Size\n"
          ]
        },
        {
          "name": "stderr",
          "output_type": "stream",
          "text": [
            "     42/300      4.05G     0.5463     0.4046     0.8416        149        640: 100%|██████████| 49/49 [00:18<00:00,  2.58it/s]\n",
            "                 Class     Images  Instances      Box(P          R      mAP50  mAP50-95): 100%|██████████| 2/2 [00:00<00:00,  2.15it/s]"
          ]
        },
        {
          "name": "stdout",
          "output_type": "stream",
          "text": [
            "                   all         85        308      0.811      0.816      0.868      0.769\n"
          ]
        },
        {
          "name": "stderr",
          "output_type": "stream",
          "text": [
            "\n"
          ]
        },
        {
          "name": "stdout",
          "output_type": "stream",
          "text": [
            "\n",
            "      Epoch    GPU_mem   box_loss   cls_loss   dfl_loss  Instances       Size\n"
          ]
        },
        {
          "name": "stderr",
          "output_type": "stream",
          "text": [
            "     43/300      4.04G     0.5547     0.4086     0.8472        188        640: 100%|██████████| 49/49 [00:18<00:00,  2.59it/s]\n",
            "                 Class     Images  Instances      Box(P          R      mAP50  mAP50-95): 100%|██████████| 2/2 [00:00<00:00,  2.04it/s]"
          ]
        },
        {
          "name": "stdout",
          "output_type": "stream",
          "text": [
            "                   all         85        308      0.896      0.763      0.831      0.731\n"
          ]
        },
        {
          "name": "stderr",
          "output_type": "stream",
          "text": [
            "\n"
          ]
        },
        {
          "name": "stdout",
          "output_type": "stream",
          "text": [
            "\n",
            "      Epoch    GPU_mem   box_loss   cls_loss   dfl_loss  Instances       Size\n"
          ]
        },
        {
          "name": "stderr",
          "output_type": "stream",
          "text": [
            "     44/300      4.08G     0.5495      0.405     0.8421        150        640: 100%|██████████| 49/49 [00:18<00:00,  2.60it/s]\n",
            "                 Class     Images  Instances      Box(P          R      mAP50  mAP50-95): 100%|██████████| 2/2 [00:01<00:00,  1.89it/s]"
          ]
        },
        {
          "name": "stdout",
          "output_type": "stream",
          "text": [
            "                   all         85        308      0.902       0.76      0.863      0.751\n"
          ]
        },
        {
          "name": "stderr",
          "output_type": "stream",
          "text": [
            "\n"
          ]
        },
        {
          "name": "stdout",
          "output_type": "stream",
          "text": [
            "\n",
            "      Epoch    GPU_mem   box_loss   cls_loss   dfl_loss  Instances       Size\n"
          ]
        },
        {
          "name": "stderr",
          "output_type": "stream",
          "text": [
            "     45/300      4.09G     0.5439     0.3892     0.8387        160        640: 100%|██████████| 49/49 [00:18<00:00,  2.61it/s]\n",
            "                 Class     Images  Instances      Box(P          R      mAP50  mAP50-95): 100%|██████████| 2/2 [00:01<00:00,  1.81it/s]"
          ]
        },
        {
          "name": "stdout",
          "output_type": "stream",
          "text": [
            "                   all         85        308      0.712      0.842      0.838      0.719\n"
          ]
        },
        {
          "name": "stderr",
          "output_type": "stream",
          "text": [
            "\n"
          ]
        },
        {
          "name": "stdout",
          "output_type": "stream",
          "text": [
            "\n",
            "      Epoch    GPU_mem   box_loss   cls_loss   dfl_loss  Instances       Size\n"
          ]
        },
        {
          "name": "stderr",
          "output_type": "stream",
          "text": [
            "     46/300      4.05G     0.5412     0.3956     0.8465        172        640: 100%|██████████| 49/49 [00:19<00:00,  2.53it/s]\n",
            "                 Class     Images  Instances      Box(P          R      mAP50  mAP50-95): 100%|██████████| 2/2 [00:01<00:00,  1.78it/s]"
          ]
        },
        {
          "name": "stdout",
          "output_type": "stream",
          "text": [
            "                   all         85        308      0.913      0.763       0.85      0.742\n"
          ]
        },
        {
          "name": "stderr",
          "output_type": "stream",
          "text": [
            "\n"
          ]
        },
        {
          "name": "stdout",
          "output_type": "stream",
          "text": [
            "\n",
            "      Epoch    GPU_mem   box_loss   cls_loss   dfl_loss  Instances       Size\n"
          ]
        },
        {
          "name": "stderr",
          "output_type": "stream",
          "text": [
            "     47/300      4.05G     0.5523      0.397     0.8443        197        640: 100%|██████████| 49/49 [00:19<00:00,  2.51it/s]\n",
            "                 Class     Images  Instances      Box(P          R      mAP50  mAP50-95): 100%|██████████| 2/2 [00:01<00:00,  1.66it/s]"
          ]
        },
        {
          "name": "stdout",
          "output_type": "stream",
          "text": [
            "                   all         85        308      0.885      0.764      0.848      0.732\n"
          ]
        },
        {
          "name": "stderr",
          "output_type": "stream",
          "text": [
            "\n"
          ]
        },
        {
          "name": "stdout",
          "output_type": "stream",
          "text": [
            "\n",
            "      Epoch    GPU_mem   box_loss   cls_loss   dfl_loss  Instances       Size\n"
          ]
        },
        {
          "name": "stderr",
          "output_type": "stream",
          "text": [
            "     48/300      4.05G     0.5327     0.3879     0.8411        225        640: 100%|██████████| 49/49 [00:19<00:00,  2.53it/s]\n",
            "                 Class     Images  Instances      Box(P          R      mAP50  mAP50-95): 100%|██████████| 2/2 [00:01<00:00,  1.71it/s]"
          ]
        },
        {
          "name": "stdout",
          "output_type": "stream",
          "text": [
            "                   all         85        308      0.898      0.772      0.862      0.739\n"
          ]
        },
        {
          "name": "stderr",
          "output_type": "stream",
          "text": [
            "\n"
          ]
        },
        {
          "name": "stdout",
          "output_type": "stream",
          "text": [
            "\n",
            "      Epoch    GPU_mem   box_loss   cls_loss   dfl_loss  Instances       Size\n"
          ]
        },
        {
          "name": "stderr",
          "output_type": "stream",
          "text": [
            "     49/300      4.05G     0.5314     0.3782     0.8385        155        640: 100%|██████████| 49/49 [00:18<00:00,  2.61it/s]\n",
            "                 Class     Images  Instances      Box(P          R      mAP50  mAP50-95): 100%|██████████| 2/2 [00:01<00:00,  1.71it/s]"
          ]
        },
        {
          "name": "stdout",
          "output_type": "stream",
          "text": [
            "                   all         85        308      0.849      0.822      0.843      0.747\n"
          ]
        },
        {
          "name": "stderr",
          "output_type": "stream",
          "text": [
            "\n"
          ]
        },
        {
          "name": "stdout",
          "output_type": "stream",
          "text": [
            "\n",
            "      Epoch    GPU_mem   box_loss   cls_loss   dfl_loss  Instances       Size\n"
          ]
        },
        {
          "name": "stderr",
          "output_type": "stream",
          "text": [
            "     50/300      4.05G      0.549     0.4005     0.8439        180        640: 100%|██████████| 49/49 [00:18<00:00,  2.58it/s]\n",
            "                 Class     Images  Instances      Box(P          R      mAP50  mAP50-95): 100%|██████████| 2/2 [00:01<00:00,  1.92it/s]"
          ]
        },
        {
          "name": "stdout",
          "output_type": "stream",
          "text": [
            "                   all         85        308      0.892      0.763      0.833      0.731\n"
          ]
        },
        {
          "name": "stderr",
          "output_type": "stream",
          "text": [
            "\n"
          ]
        },
        {
          "name": "stdout",
          "output_type": "stream",
          "text": [
            "\n",
            "      Epoch    GPU_mem   box_loss   cls_loss   dfl_loss  Instances       Size\n"
          ]
        },
        {
          "name": "stderr",
          "output_type": "stream",
          "text": [
            "     51/300      4.03G     0.5323     0.3873     0.8437        196        640: 100%|██████████| 49/49 [00:19<00:00,  2.56it/s]\n",
            "                 Class     Images  Instances      Box(P          R      mAP50  mAP50-95): 100%|██████████| 2/2 [00:01<00:00,  1.59it/s]"
          ]
        },
        {
          "name": "stdout",
          "output_type": "stream",
          "text": [
            "                   all         85        308      0.709      0.807        0.8      0.691\n"
          ]
        },
        {
          "name": "stderr",
          "output_type": "stream",
          "text": [
            "\n"
          ]
        },
        {
          "name": "stdout",
          "output_type": "stream",
          "text": [
            "\n",
            "      Epoch    GPU_mem   box_loss   cls_loss   dfl_loss  Instances       Size\n"
          ]
        },
        {
          "name": "stderr",
          "output_type": "stream",
          "text": [
            "     52/300      4.05G     0.5335     0.3895     0.8405        184        640: 100%|██████████| 49/49 [00:18<00:00,  2.58it/s]\n",
            "                 Class     Images  Instances      Box(P          R      mAP50  mAP50-95): 100%|██████████| 2/2 [00:01<00:00,  1.86it/s]"
          ]
        },
        {
          "name": "stdout",
          "output_type": "stream",
          "text": [
            "                   all         85        308      0.879      0.763      0.852      0.739\n"
          ]
        },
        {
          "name": "stderr",
          "output_type": "stream",
          "text": [
            "\n"
          ]
        },
        {
          "name": "stdout",
          "output_type": "stream",
          "text": [
            "\n",
            "      Epoch    GPU_mem   box_loss   cls_loss   dfl_loss  Instances       Size\n"
          ]
        },
        {
          "name": "stderr",
          "output_type": "stream",
          "text": [
            "     53/300      4.03G      0.535     0.3855     0.8366        153        640: 100%|██████████| 49/49 [00:19<00:00,  2.58it/s]\n",
            "                 Class     Images  Instances      Box(P          R      mAP50  mAP50-95): 100%|██████████| 2/2 [00:01<00:00,  1.98it/s]"
          ]
        },
        {
          "name": "stdout",
          "output_type": "stream",
          "text": [
            "                   all         85        308      0.895      0.765      0.855      0.734\n"
          ]
        },
        {
          "name": "stderr",
          "output_type": "stream",
          "text": [
            "\n"
          ]
        },
        {
          "name": "stdout",
          "output_type": "stream",
          "text": [
            "\n",
            "      Epoch    GPU_mem   box_loss   cls_loss   dfl_loss  Instances       Size\n"
          ]
        },
        {
          "name": "stderr",
          "output_type": "stream",
          "text": [
            "     54/300      4.02G     0.5331     0.3852     0.8413        216        640: 100%|██████████| 49/49 [00:19<00:00,  2.50it/s]\n",
            "                 Class     Images  Instances      Box(P          R      mAP50  mAP50-95): 100%|██████████| 2/2 [00:01<00:00,  1.75it/s]"
          ]
        },
        {
          "name": "stdout",
          "output_type": "stream",
          "text": [
            "                   all         85        308      0.867      0.794      0.843      0.748\n"
          ]
        },
        {
          "name": "stderr",
          "output_type": "stream",
          "text": [
            "\n"
          ]
        },
        {
          "name": "stdout",
          "output_type": "stream",
          "text": [
            "\n",
            "      Epoch    GPU_mem   box_loss   cls_loss   dfl_loss  Instances       Size\n"
          ]
        },
        {
          "name": "stderr",
          "output_type": "stream",
          "text": [
            "     55/300      4.04G      0.542     0.3947     0.8433        151        640: 100%|██████████| 49/49 [00:19<00:00,  2.52it/s]\n",
            "                 Class     Images  Instances      Box(P          R      mAP50  mAP50-95): 100%|██████████| 2/2 [00:01<00:00,  1.75it/s]"
          ]
        },
        {
          "name": "stdout",
          "output_type": "stream",
          "text": [
            "                   all         85        308      0.888      0.757      0.818      0.708\n"
          ]
        },
        {
          "name": "stderr",
          "output_type": "stream",
          "text": [
            "\n"
          ]
        },
        {
          "name": "stdout",
          "output_type": "stream",
          "text": [
            "\n",
            "      Epoch    GPU_mem   box_loss   cls_loss   dfl_loss  Instances       Size\n"
          ]
        },
        {
          "name": "stderr",
          "output_type": "stream",
          "text": [
            "     56/300      4.03G     0.5328     0.3872     0.8384        197        640: 100%|██████████| 49/49 [00:19<00:00,  2.51it/s]\n",
            "                 Class     Images  Instances      Box(P          R      mAP50  mAP50-95): 100%|██████████| 2/2 [00:01<00:00,  1.87it/s]"
          ]
        },
        {
          "name": "stdout",
          "output_type": "stream",
          "text": [
            "                   all         85        308      0.876        0.8      0.823      0.709\n"
          ]
        },
        {
          "name": "stderr",
          "output_type": "stream",
          "text": [
            "\n"
          ]
        },
        {
          "name": "stdout",
          "output_type": "stream",
          "text": [
            "\n",
            "      Epoch    GPU_mem   box_loss   cls_loss   dfl_loss  Instances       Size\n"
          ]
        },
        {
          "name": "stderr",
          "output_type": "stream",
          "text": [
            "     57/300      4.05G     0.5221      0.383     0.8393        218        640: 100%|██████████| 49/49 [00:18<00:00,  2.62it/s]\n",
            "                 Class     Images  Instances      Box(P          R      mAP50  mAP50-95): 100%|██████████| 2/2 [00:01<00:00,  1.85it/s]"
          ]
        },
        {
          "name": "stdout",
          "output_type": "stream",
          "text": [
            "                   all         85        308      0.872      0.786       0.83      0.733\n"
          ]
        },
        {
          "name": "stderr",
          "output_type": "stream",
          "text": [
            "\n"
          ]
        },
        {
          "name": "stdout",
          "output_type": "stream",
          "text": [
            "\n",
            "      Epoch    GPU_mem   box_loss   cls_loss   dfl_loss  Instances       Size\n"
          ]
        },
        {
          "name": "stderr",
          "output_type": "stream",
          "text": [
            "     58/300      4.06G     0.5343      0.382      0.838        178        640: 100%|██████████| 49/49 [00:19<00:00,  2.51it/s]\n",
            "                 Class     Images  Instances      Box(P          R      mAP50  mAP50-95): 100%|██████████| 2/2 [00:01<00:00,  1.69it/s]"
          ]
        },
        {
          "name": "stdout",
          "output_type": "stream",
          "text": [
            "                   all         85        308      0.917      0.767      0.845      0.736\n"
          ]
        },
        {
          "name": "stderr",
          "output_type": "stream",
          "text": [
            "\n"
          ]
        },
        {
          "name": "stdout",
          "output_type": "stream",
          "text": [
            "\n",
            "      Epoch    GPU_mem   box_loss   cls_loss   dfl_loss  Instances       Size\n"
          ]
        },
        {
          "name": "stderr",
          "output_type": "stream",
          "text": [
            "     59/300      4.05G     0.5327     0.3839     0.8399        157        640: 100%|██████████| 49/49 [00:19<00:00,  2.51it/s]\n",
            "                 Class     Images  Instances      Box(P          R      mAP50  mAP50-95): 100%|██████████| 2/2 [00:01<00:00,  1.85it/s]"
          ]
        },
        {
          "name": "stdout",
          "output_type": "stream",
          "text": [
            "                   all         85        308       0.87      0.781      0.845      0.731\n"
          ]
        },
        {
          "name": "stderr",
          "output_type": "stream",
          "text": [
            "\n"
          ]
        },
        {
          "name": "stdout",
          "output_type": "stream",
          "text": [
            "\n",
            "      Epoch    GPU_mem   box_loss   cls_loss   dfl_loss  Instances       Size\n"
          ]
        },
        {
          "name": "stderr",
          "output_type": "stream",
          "text": [
            "     60/300      4.04G     0.5273       0.38     0.8377        203        640: 100%|██████████| 49/49 [00:19<00:00,  2.49it/s]\n",
            "                 Class     Images  Instances      Box(P          R      mAP50  mAP50-95): 100%|██████████| 2/2 [00:01<00:00,  1.89it/s]"
          ]
        },
        {
          "name": "stdout",
          "output_type": "stream",
          "text": [
            "                   all         85        308      0.933      0.754      0.878      0.763\n"
          ]
        },
        {
          "name": "stderr",
          "output_type": "stream",
          "text": [
            "\n"
          ]
        },
        {
          "name": "stdout",
          "output_type": "stream",
          "text": [
            "\n",
            "      Epoch    GPU_mem   box_loss   cls_loss   dfl_loss  Instances       Size\n"
          ]
        },
        {
          "name": "stderr",
          "output_type": "stream",
          "text": [
            "     61/300      4.08G     0.5223     0.3796     0.8381        195        640: 100%|██████████| 49/49 [00:19<00:00,  2.51it/s]\n",
            "                 Class     Images  Instances      Box(P          R      mAP50  mAP50-95): 100%|██████████| 2/2 [00:01<00:00,  1.73it/s]"
          ]
        },
        {
          "name": "stdout",
          "output_type": "stream",
          "text": [
            "                   all         85        308       0.88       0.79      0.823      0.725\n"
          ]
        },
        {
          "name": "stderr",
          "output_type": "stream",
          "text": [
            "\n"
          ]
        },
        {
          "name": "stdout",
          "output_type": "stream",
          "text": [
            "\n",
            "      Epoch    GPU_mem   box_loss   cls_loss   dfl_loss  Instances       Size\n"
          ]
        },
        {
          "name": "stderr",
          "output_type": "stream",
          "text": [
            "     62/300      4.05G     0.5292     0.3728      0.837        158        640: 100%|██████████| 49/49 [00:19<00:00,  2.56it/s]\n",
            "                 Class     Images  Instances      Box(P          R      mAP50  mAP50-95): 100%|██████████| 2/2 [00:00<00:00,  2.05it/s]"
          ]
        },
        {
          "name": "stdout",
          "output_type": "stream",
          "text": [
            "                   all         85        308      0.895      0.796      0.827      0.725\n"
          ]
        },
        {
          "name": "stderr",
          "output_type": "stream",
          "text": [
            "\n"
          ]
        },
        {
          "name": "stdout",
          "output_type": "stream",
          "text": [
            "\n",
            "      Epoch    GPU_mem   box_loss   cls_loss   dfl_loss  Instances       Size\n"
          ]
        },
        {
          "name": "stderr",
          "output_type": "stream",
          "text": [
            "     63/300       4.1G     0.5247     0.3761     0.8396        196        640: 100%|██████████| 49/49 [00:19<00:00,  2.52it/s]\n",
            "                 Class     Images  Instances      Box(P          R      mAP50  mAP50-95): 100%|██████████| 2/2 [00:01<00:00,  1.71it/s]"
          ]
        },
        {
          "name": "stdout",
          "output_type": "stream",
          "text": [
            "                   all         85        308      0.914      0.754      0.842       0.73\n"
          ]
        },
        {
          "name": "stderr",
          "output_type": "stream",
          "text": [
            "\n"
          ]
        },
        {
          "name": "stdout",
          "output_type": "stream",
          "text": [
            "\n",
            "      Epoch    GPU_mem   box_loss   cls_loss   dfl_loss  Instances       Size\n"
          ]
        },
        {
          "name": "stderr",
          "output_type": "stream",
          "text": [
            "     64/300      4.09G     0.5207     0.3783     0.8354        220        640: 100%|██████████| 49/49 [00:19<00:00,  2.53it/s]\n",
            "                 Class     Images  Instances      Box(P          R      mAP50  mAP50-95): 100%|██████████| 2/2 [00:01<00:00,  1.71it/s]"
          ]
        },
        {
          "name": "stdout",
          "output_type": "stream",
          "text": [
            "                   all         85        308      0.863      0.765      0.842      0.734\n"
          ]
        },
        {
          "name": "stderr",
          "output_type": "stream",
          "text": [
            "\n"
          ]
        },
        {
          "name": "stdout",
          "output_type": "stream",
          "text": [
            "\n",
            "      Epoch    GPU_mem   box_loss   cls_loss   dfl_loss  Instances       Size\n"
          ]
        },
        {
          "name": "stderr",
          "output_type": "stream",
          "text": [
            "     65/300      4.04G      0.518     0.3729     0.8398        190        640: 100%|██████████| 49/49 [00:18<00:00,  2.60it/s]\n",
            "                 Class     Images  Instances      Box(P          R      mAP50  mAP50-95): 100%|██████████| 2/2 [00:01<00:00,  1.97it/s]"
          ]
        },
        {
          "name": "stdout",
          "output_type": "stream",
          "text": [
            "                   all         85        308       0.85      0.833      0.851      0.748\n"
          ]
        },
        {
          "name": "stderr",
          "output_type": "stream",
          "text": [
            "\n"
          ]
        },
        {
          "name": "stdout",
          "output_type": "stream",
          "text": [
            "\n",
            "      Epoch    GPU_mem   box_loss   cls_loss   dfl_loss  Instances       Size\n"
          ]
        },
        {
          "name": "stderr",
          "output_type": "stream",
          "text": [
            "     66/300      4.05G     0.5153     0.3648     0.8365        196        640: 100%|██████████| 49/49 [00:19<00:00,  2.53it/s]\n",
            "                 Class     Images  Instances      Box(P          R      mAP50  mAP50-95): 100%|██████████| 2/2 [00:01<00:00,  1.67it/s]"
          ]
        },
        {
          "name": "stdout",
          "output_type": "stream",
          "text": [
            "                   all         85        308      0.906      0.773      0.821      0.721\n"
          ]
        },
        {
          "name": "stderr",
          "output_type": "stream",
          "text": [
            "\n"
          ]
        },
        {
          "name": "stdout",
          "output_type": "stream",
          "text": [
            "\n",
            "      Epoch    GPU_mem   box_loss   cls_loss   dfl_loss  Instances       Size\n"
          ]
        },
        {
          "name": "stderr",
          "output_type": "stream",
          "text": [
            "     67/300      4.09G     0.5204     0.3785     0.8377        192        640: 100%|██████████| 49/49 [00:18<00:00,  2.60it/s]\n",
            "                 Class     Images  Instances      Box(P          R      mAP50  mAP50-95): 100%|██████████| 2/2 [00:01<00:00,  1.97it/s]"
          ]
        },
        {
          "name": "stdout",
          "output_type": "stream",
          "text": [
            "                   all         85        308      0.916      0.769       0.87      0.761\n"
          ]
        },
        {
          "name": "stderr",
          "output_type": "stream",
          "text": [
            "\n"
          ]
        },
        {
          "name": "stdout",
          "output_type": "stream",
          "text": [
            "\n",
            "      Epoch    GPU_mem   box_loss   cls_loss   dfl_loss  Instances       Size\n"
          ]
        },
        {
          "name": "stderr",
          "output_type": "stream",
          "text": [
            "     68/300      4.03G      0.512     0.3684     0.8325        185        640: 100%|██████████| 49/49 [00:19<00:00,  2.57it/s]\n",
            "                 Class     Images  Instances      Box(P          R      mAP50  mAP50-95): 100%|██████████| 2/2 [00:00<00:00,  2.26it/s]"
          ]
        },
        {
          "name": "stdout",
          "output_type": "stream",
          "text": [
            "                   all         85        308      0.888      0.788      0.819      0.719\n"
          ]
        },
        {
          "name": "stderr",
          "output_type": "stream",
          "text": [
            "\n"
          ]
        },
        {
          "name": "stdout",
          "output_type": "stream",
          "text": [
            "\n",
            "      Epoch    GPU_mem   box_loss   cls_loss   dfl_loss  Instances       Size\n"
          ]
        },
        {
          "name": "stderr",
          "output_type": "stream",
          "text": [
            "     69/300      4.04G     0.5197     0.3702     0.8335        209        640: 100%|██████████| 49/49 [00:19<00:00,  2.57it/s]\n",
            "                 Class     Images  Instances      Box(P          R      mAP50  mAP50-95): 100%|██████████| 2/2 [00:01<00:00,  1.98it/s]"
          ]
        },
        {
          "name": "stdout",
          "output_type": "stream",
          "text": [
            "                   all         85        308      0.899      0.787      0.837       0.73\n"
          ]
        },
        {
          "name": "stderr",
          "output_type": "stream",
          "text": [
            "\n"
          ]
        },
        {
          "name": "stdout",
          "output_type": "stream",
          "text": [
            "\n",
            "      Epoch    GPU_mem   box_loss   cls_loss   dfl_loss  Instances       Size\n"
          ]
        },
        {
          "name": "stderr",
          "output_type": "stream",
          "text": [
            "     70/300       4.1G     0.5171     0.3665     0.8366        144        640: 100%|██████████| 49/49 [00:19<00:00,  2.54it/s]\n",
            "                 Class     Images  Instances      Box(P          R      mAP50  mAP50-95): 100%|██████████| 2/2 [00:01<00:00,  1.55it/s]"
          ]
        },
        {
          "name": "stdout",
          "output_type": "stream",
          "text": [
            "                   all         85        308      0.909      0.762      0.822       0.71\n"
          ]
        },
        {
          "name": "stderr",
          "output_type": "stream",
          "text": [
            "\n"
          ]
        },
        {
          "name": "stdout",
          "output_type": "stream",
          "text": [
            "\n",
            "      Epoch    GPU_mem   box_loss   cls_loss   dfl_loss  Instances       Size\n"
          ]
        },
        {
          "name": "stderr",
          "output_type": "stream",
          "text": [
            "     71/300      4.02G     0.5161     0.3648     0.8341        159        640: 100%|██████████| 49/49 [00:19<00:00,  2.51it/s]\n",
            "                 Class     Images  Instances      Box(P          R      mAP50  mAP50-95): 100%|██████████| 2/2 [00:01<00:00,  1.65it/s]"
          ]
        },
        {
          "name": "stdout",
          "output_type": "stream",
          "text": [
            "                   all         85        308      0.837      0.795      0.845      0.748\n"
          ]
        },
        {
          "name": "stderr",
          "output_type": "stream",
          "text": [
            "\n"
          ]
        },
        {
          "name": "stdout",
          "output_type": "stream",
          "text": [
            "\n",
            "      Epoch    GPU_mem   box_loss   cls_loss   dfl_loss  Instances       Size\n"
          ]
        },
        {
          "name": "stderr",
          "output_type": "stream",
          "text": [
            "     72/300      4.07G     0.5113     0.3696     0.8361        166        640: 100%|██████████| 49/49 [00:18<00:00,  2.58it/s]\n",
            "                 Class     Images  Instances      Box(P          R      mAP50  mAP50-95): 100%|██████████| 2/2 [00:01<00:00,  1.94it/s]"
          ]
        },
        {
          "name": "stdout",
          "output_type": "stream",
          "text": [
            "                   all         85        308      0.888      0.783      0.836       0.73\n"
          ]
        },
        {
          "name": "stderr",
          "output_type": "stream",
          "text": [
            "\n"
          ]
        },
        {
          "name": "stdout",
          "output_type": "stream",
          "text": [
            "\n",
            "      Epoch    GPU_mem   box_loss   cls_loss   dfl_loss  Instances       Size\n"
          ]
        },
        {
          "name": "stderr",
          "output_type": "stream",
          "text": [
            "     73/300      3.98G     0.5105     0.3654     0.8333        160        640: 100%|██████████| 49/49 [00:18<00:00,  2.62it/s]\n",
            "                 Class     Images  Instances      Box(P          R      mAP50  mAP50-95): 100%|██████████| 2/2 [00:01<00:00,  1.86it/s]"
          ]
        },
        {
          "name": "stdout",
          "output_type": "stream",
          "text": [
            "                   all         85        308      0.843       0.84      0.862      0.766\n"
          ]
        },
        {
          "name": "stderr",
          "output_type": "stream",
          "text": [
            "\n"
          ]
        },
        {
          "name": "stdout",
          "output_type": "stream",
          "text": [
            "\n",
            "      Epoch    GPU_mem   box_loss   cls_loss   dfl_loss  Instances       Size\n"
          ]
        },
        {
          "name": "stderr",
          "output_type": "stream",
          "text": [
            "     74/300      4.05G      0.516     0.3664      0.837        195        640: 100%|██████████| 49/49 [00:19<00:00,  2.47it/s]\n",
            "                 Class     Images  Instances      Box(P          R      mAP50  mAP50-95): 100%|██████████| 2/2 [00:01<00:00,  1.64it/s]"
          ]
        },
        {
          "name": "stdout",
          "output_type": "stream",
          "text": [
            "                   all         85        308      0.903      0.774      0.837      0.735\n"
          ]
        },
        {
          "name": "stderr",
          "output_type": "stream",
          "text": [
            "\n"
          ]
        },
        {
          "name": "stdout",
          "output_type": "stream",
          "text": [
            "\n",
            "      Epoch    GPU_mem   box_loss   cls_loss   dfl_loss  Instances       Size\n"
          ]
        },
        {
          "name": "stderr",
          "output_type": "stream",
          "text": [
            "     75/300      4.05G     0.5119     0.3739     0.8343        169        640: 100%|██████████| 49/49 [00:18<00:00,  2.62it/s]\n",
            "                 Class     Images  Instances      Box(P          R      mAP50  mAP50-95): 100%|██████████| 2/2 [00:01<00:00,  1.80it/s]"
          ]
        },
        {
          "name": "stdout",
          "output_type": "stream",
          "text": [
            "                   all         85        308      0.868      0.675      0.814      0.719\n"
          ]
        },
        {
          "name": "stderr",
          "output_type": "stream",
          "text": [
            "\n"
          ]
        },
        {
          "name": "stdout",
          "output_type": "stream",
          "text": [
            "\n",
            "      Epoch    GPU_mem   box_loss   cls_loss   dfl_loss  Instances       Size\n"
          ]
        },
        {
          "name": "stderr",
          "output_type": "stream",
          "text": [
            "     76/300      4.09G     0.5145     0.3663     0.8352        171        640: 100%|██████████| 49/49 [00:18<00:00,  2.59it/s]\n",
            "                 Class     Images  Instances      Box(P          R      mAP50  mAP50-95): 100%|██████████| 2/2 [00:01<00:00,  1.76it/s]"
          ]
        },
        {
          "name": "stdout",
          "output_type": "stream",
          "text": [
            "                   all         85        308      0.827      0.773      0.823      0.714\n"
          ]
        },
        {
          "name": "stderr",
          "output_type": "stream",
          "text": [
            "\n"
          ]
        },
        {
          "name": "stdout",
          "output_type": "stream",
          "text": [
            "\n",
            "      Epoch    GPU_mem   box_loss   cls_loss   dfl_loss  Instances       Size\n"
          ]
        },
        {
          "name": "stderr",
          "output_type": "stream",
          "text": [
            "     77/300       4.1G     0.5076     0.3653     0.8314        212        640: 100%|██████████| 49/49 [00:19<00:00,  2.54it/s]\n",
            "                 Class     Images  Instances      Box(P          R      mAP50  mAP50-95): 100%|██████████| 2/2 [00:01<00:00,  1.72it/s]"
          ]
        },
        {
          "name": "stdout",
          "output_type": "stream",
          "text": [
            "                   all         85        308      0.834      0.808       0.85      0.745\n"
          ]
        },
        {
          "name": "stderr",
          "output_type": "stream",
          "text": [
            "\n"
          ]
        },
        {
          "name": "stdout",
          "output_type": "stream",
          "text": [
            "\n",
            "      Epoch    GPU_mem   box_loss   cls_loss   dfl_loss  Instances       Size\n"
          ]
        },
        {
          "name": "stderr",
          "output_type": "stream",
          "text": [
            "     78/300      4.09G     0.5041     0.3677     0.8327        182        640: 100%|██████████| 49/49 [00:19<00:00,  2.54it/s]\n",
            "                 Class     Images  Instances      Box(P          R      mAP50  mAP50-95): 100%|██████████| 2/2 [00:01<00:00,  1.53it/s]"
          ]
        },
        {
          "name": "stdout",
          "output_type": "stream",
          "text": [
            "                   all         85        308      0.818      0.789      0.831      0.721\n"
          ]
        },
        {
          "name": "stderr",
          "output_type": "stream",
          "text": [
            "\n"
          ]
        },
        {
          "name": "stdout",
          "output_type": "stream",
          "text": [
            "\n",
            "      Epoch    GPU_mem   box_loss   cls_loss   dfl_loss  Instances       Size\n"
          ]
        },
        {
          "name": "stderr",
          "output_type": "stream",
          "text": [
            "     79/300      4.05G     0.5039      0.361      0.833        168        640: 100%|██████████| 49/49 [00:18<00:00,  2.58it/s]\n",
            "                 Class     Images  Instances      Box(P          R      mAP50  mAP50-95): 100%|██████████| 2/2 [00:00<00:00,  2.06it/s]"
          ]
        },
        {
          "name": "stdout",
          "output_type": "stream",
          "text": [
            "                   all         85        308      0.903      0.823      0.883      0.777\n"
          ]
        },
        {
          "name": "stderr",
          "output_type": "stream",
          "text": [
            "\n"
          ]
        },
        {
          "name": "stdout",
          "output_type": "stream",
          "text": [
            "\n",
            "      Epoch    GPU_mem   box_loss   cls_loss   dfl_loss  Instances       Size\n"
          ]
        },
        {
          "name": "stderr",
          "output_type": "stream",
          "text": [
            "     80/300         4G     0.5081     0.3613     0.8314        154        640: 100%|██████████| 49/49 [00:19<00:00,  2.52it/s]\n",
            "                 Class     Images  Instances      Box(P          R      mAP50  mAP50-95): 100%|██████████| 2/2 [00:01<00:00,  1.62it/s]"
          ]
        },
        {
          "name": "stdout",
          "output_type": "stream",
          "text": [
            "                   all         85        308      0.903      0.787      0.849      0.742\n"
          ]
        },
        {
          "name": "stderr",
          "output_type": "stream",
          "text": [
            "\n"
          ]
        },
        {
          "name": "stdout",
          "output_type": "stream",
          "text": [
            "\n",
            "      Epoch    GPU_mem   box_loss   cls_loss   dfl_loss  Instances       Size\n"
          ]
        },
        {
          "name": "stderr",
          "output_type": "stream",
          "text": [
            "     81/300      4.05G     0.5017     0.3637     0.8306        224        640: 100%|██████████| 49/49 [00:19<00:00,  2.58it/s]\n",
            "                 Class     Images  Instances      Box(P          R      mAP50  mAP50-95): 100%|██████████| 2/2 [00:01<00:00,  1.90it/s]"
          ]
        },
        {
          "name": "stdout",
          "output_type": "stream",
          "text": [
            "                   all         85        308      0.905      0.765       0.85      0.757\n"
          ]
        },
        {
          "name": "stderr",
          "output_type": "stream",
          "text": [
            "\n"
          ]
        },
        {
          "name": "stdout",
          "output_type": "stream",
          "text": [
            "\n",
            "      Epoch    GPU_mem   box_loss   cls_loss   dfl_loss  Instances       Size\n"
          ]
        },
        {
          "name": "stderr",
          "output_type": "stream",
          "text": [
            "     82/300      4.05G     0.5035     0.3659     0.8318        138        640: 100%|██████████| 49/49 [00:18<00:00,  2.60it/s]\n",
            "                 Class     Images  Instances      Box(P          R      mAP50  mAP50-95): 100%|██████████| 2/2 [00:01<00:00,  1.88it/s]"
          ]
        },
        {
          "name": "stdout",
          "output_type": "stream",
          "text": [
            "                   all         85        308      0.922       0.76      0.821      0.713\n"
          ]
        },
        {
          "name": "stderr",
          "output_type": "stream",
          "text": [
            "\n"
          ]
        },
        {
          "name": "stdout",
          "output_type": "stream",
          "text": [
            "\n",
            "      Epoch    GPU_mem   box_loss   cls_loss   dfl_loss  Instances       Size\n"
          ]
        },
        {
          "name": "stderr",
          "output_type": "stream",
          "text": [
            "     83/300      4.04G     0.5054     0.3621     0.8293        200        640: 100%|██████████| 49/49 [00:19<00:00,  2.53it/s]\n",
            "                 Class     Images  Instances      Box(P          R      mAP50  mAP50-95): 100%|██████████| 2/2 [00:01<00:00,  1.68it/s]"
          ]
        },
        {
          "name": "stdout",
          "output_type": "stream",
          "text": [
            "                   all         85        308      0.917      0.736      0.864      0.764\n"
          ]
        },
        {
          "name": "stderr",
          "output_type": "stream",
          "text": [
            "\n"
          ]
        },
        {
          "name": "stdout",
          "output_type": "stream",
          "text": [
            "\n",
            "      Epoch    GPU_mem   box_loss   cls_loss   dfl_loss  Instances       Size\n"
          ]
        },
        {
          "name": "stderr",
          "output_type": "stream",
          "text": [
            "     84/300         4G     0.5008     0.3513     0.8323        198        640: 100%|██████████| 49/49 [00:19<00:00,  2.57it/s]\n",
            "                 Class     Images  Instances      Box(P          R      mAP50  mAP50-95): 100%|██████████| 2/2 [00:00<00:00,  2.05it/s]"
          ]
        },
        {
          "name": "stdout",
          "output_type": "stream",
          "text": [
            "                   all         85        308      0.888       0.76      0.813      0.711\n"
          ]
        },
        {
          "name": "stderr",
          "output_type": "stream",
          "text": [
            "\n"
          ]
        },
        {
          "name": "stdout",
          "output_type": "stream",
          "text": [
            "\n",
            "      Epoch    GPU_mem   box_loss   cls_loss   dfl_loss  Instances       Size\n"
          ]
        },
        {
          "name": "stderr",
          "output_type": "stream",
          "text": [
            "     85/300      4.06G      0.501     0.3589     0.8294        133        640: 100%|██████████| 49/49 [00:18<00:00,  2.61it/s]\n",
            "                 Class     Images  Instances      Box(P          R      mAP50  mAP50-95): 100%|██████████| 2/2 [00:01<00:00,  1.97it/s]"
          ]
        },
        {
          "name": "stdout",
          "output_type": "stream",
          "text": [
            "                   all         85        308      0.901      0.764      0.828      0.726\n"
          ]
        },
        {
          "name": "stderr",
          "output_type": "stream",
          "text": [
            "\n"
          ]
        },
        {
          "name": "stdout",
          "output_type": "stream",
          "text": [
            "\n",
            "      Epoch    GPU_mem   box_loss   cls_loss   dfl_loss  Instances       Size\n"
          ]
        },
        {
          "name": "stderr",
          "output_type": "stream",
          "text": [
            "     86/300         4G     0.4981     0.3556     0.8335        178        640: 100%|██████████| 49/49 [00:18<00:00,  2.59it/s]\n",
            "                 Class     Images  Instances      Box(P          R      mAP50  mAP50-95): 100%|██████████| 2/2 [00:00<00:00,  2.09it/s]"
          ]
        },
        {
          "name": "stdout",
          "output_type": "stream",
          "text": [
            "                   all         85        308      0.889      0.775      0.831      0.726\n"
          ]
        },
        {
          "name": "stderr",
          "output_type": "stream",
          "text": [
            "\n"
          ]
        },
        {
          "name": "stdout",
          "output_type": "stream",
          "text": [
            "\n",
            "      Epoch    GPU_mem   box_loss   cls_loss   dfl_loss  Instances       Size\n"
          ]
        },
        {
          "name": "stderr",
          "output_type": "stream",
          "text": [
            "     87/300      4.05G     0.5023     0.3541     0.8316        155        640: 100%|██████████| 49/49 [00:18<00:00,  2.59it/s]\n",
            "                 Class     Images  Instances      Box(P          R      mAP50  mAP50-95): 100%|██████████| 2/2 [00:01<00:00,  1.91it/s]"
          ]
        },
        {
          "name": "stdout",
          "output_type": "stream",
          "text": [
            "                   all         85        308      0.938      0.751      0.848      0.739\n"
          ]
        },
        {
          "name": "stderr",
          "output_type": "stream",
          "text": [
            "\n"
          ]
        },
        {
          "name": "stdout",
          "output_type": "stream",
          "text": [
            "\n",
            "      Epoch    GPU_mem   box_loss   cls_loss   dfl_loss  Instances       Size\n"
          ]
        },
        {
          "name": "stderr",
          "output_type": "stream",
          "text": [
            "     88/300      4.05G     0.4986     0.3573     0.8349        148        640: 100%|██████████| 49/49 [00:19<00:00,  2.52it/s]\n",
            "                 Class     Images  Instances      Box(P          R      mAP50  mAP50-95): 100%|██████████| 2/2 [00:01<00:00,  1.89it/s]"
          ]
        },
        {
          "name": "stdout",
          "output_type": "stream",
          "text": [
            "                   all         85        308      0.871      0.779       0.81        0.7\n"
          ]
        },
        {
          "name": "stderr",
          "output_type": "stream",
          "text": [
            "\n"
          ]
        },
        {
          "name": "stdout",
          "output_type": "stream",
          "text": [
            "\n",
            "      Epoch    GPU_mem   box_loss   cls_loss   dfl_loss  Instances       Size\n"
          ]
        },
        {
          "name": "stderr",
          "output_type": "stream",
          "text": [
            "     89/300      4.03G     0.4996     0.3536     0.8335        183        640: 100%|██████████| 49/49 [00:18<00:00,  2.59it/s]\n",
            "                 Class     Images  Instances      Box(P          R      mAP50  mAP50-95): 100%|██████████| 2/2 [00:01<00:00,  1.92it/s]"
          ]
        },
        {
          "name": "stdout",
          "output_type": "stream",
          "text": [
            "                   all         85        308      0.838      0.792      0.834      0.729\n"
          ]
        },
        {
          "name": "stderr",
          "output_type": "stream",
          "text": [
            "\n"
          ]
        },
        {
          "name": "stdout",
          "output_type": "stream",
          "text": [
            "\n",
            "      Epoch    GPU_mem   box_loss   cls_loss   dfl_loss  Instances       Size\n"
          ]
        },
        {
          "name": "stderr",
          "output_type": "stream",
          "text": [
            "     90/300      4.04G     0.4946     0.3576     0.8319        181        640: 100%|██████████| 49/49 [00:18<00:00,  2.58it/s]\n",
            "                 Class     Images  Instances      Box(P          R      mAP50  mAP50-95): 100%|██████████| 2/2 [00:01<00:00,  1.95it/s]"
          ]
        },
        {
          "name": "stdout",
          "output_type": "stream",
          "text": [
            "                   all         85        308      0.887      0.792      0.829      0.726\n"
          ]
        },
        {
          "name": "stderr",
          "output_type": "stream",
          "text": [
            "\n"
          ]
        },
        {
          "name": "stdout",
          "output_type": "stream",
          "text": [
            "\n",
            "      Epoch    GPU_mem   box_loss   cls_loss   dfl_loss  Instances       Size\n"
          ]
        },
        {
          "name": "stderr",
          "output_type": "stream",
          "text": [
            "     91/300      4.03G     0.4929     0.3475      0.833        164        640: 100%|██████████| 49/49 [00:18<00:00,  2.60it/s]\n",
            "                 Class     Images  Instances      Box(P          R      mAP50  mAP50-95): 100%|██████████| 2/2 [00:01<00:00,  1.89it/s]"
          ]
        },
        {
          "name": "stdout",
          "output_type": "stream",
          "text": [
            "                   all         85        308      0.903      0.775      0.861      0.756\n"
          ]
        },
        {
          "name": "stderr",
          "output_type": "stream",
          "text": [
            "\n"
          ]
        },
        {
          "name": "stdout",
          "output_type": "stream",
          "text": [
            "\n",
            "      Epoch    GPU_mem   box_loss   cls_loss   dfl_loss  Instances       Size\n"
          ]
        },
        {
          "name": "stderr",
          "output_type": "stream",
          "text": [
            "     92/300      4.04G     0.4903     0.3458     0.8316        138        640: 100%|██████████| 49/49 [00:19<00:00,  2.49it/s]\n",
            "                 Class     Images  Instances      Box(P          R      mAP50  mAP50-95): 100%|██████████| 2/2 [00:01<00:00,  1.80it/s]"
          ]
        },
        {
          "name": "stdout",
          "output_type": "stream",
          "text": [
            "                   all         85        308      0.888      0.788      0.834      0.727\n"
          ]
        },
        {
          "name": "stderr",
          "output_type": "stream",
          "text": [
            "\n"
          ]
        },
        {
          "name": "stdout",
          "output_type": "stream",
          "text": [
            "\n",
            "      Epoch    GPU_mem   box_loss   cls_loss   dfl_loss  Instances       Size\n"
          ]
        },
        {
          "name": "stderr",
          "output_type": "stream",
          "text": [
            "     93/300      4.05G     0.4954     0.3557     0.8325        233        640: 100%|██████████| 49/49 [00:19<00:00,  2.51it/s]\n",
            "                 Class     Images  Instances      Box(P          R      mAP50  mAP50-95): 100%|██████████| 2/2 [00:01<00:00,  1.64it/s]"
          ]
        },
        {
          "name": "stdout",
          "output_type": "stream",
          "text": [
            "                   all         85        308      0.928      0.762       0.85      0.758\n"
          ]
        },
        {
          "name": "stderr",
          "output_type": "stream",
          "text": [
            "\n"
          ]
        },
        {
          "name": "stdout",
          "output_type": "stream",
          "text": [
            "\n",
            "      Epoch    GPU_mem   box_loss   cls_loss   dfl_loss  Instances       Size\n"
          ]
        },
        {
          "name": "stderr",
          "output_type": "stream",
          "text": [
            "     94/300       4.1G     0.4924     0.3548      0.829        157        640: 100%|██████████| 49/49 [00:19<00:00,  2.52it/s]\n",
            "                 Class     Images  Instances      Box(P          R      mAP50  mAP50-95): 100%|██████████| 2/2 [00:01<00:00,  1.73it/s]"
          ]
        },
        {
          "name": "stdout",
          "output_type": "stream",
          "text": [
            "                   all         85        308      0.914      0.782      0.837      0.739\n"
          ]
        },
        {
          "name": "stderr",
          "output_type": "stream",
          "text": [
            "\n"
          ]
        },
        {
          "name": "stdout",
          "output_type": "stream",
          "text": [
            "\n",
            "      Epoch    GPU_mem   box_loss   cls_loss   dfl_loss  Instances       Size\n"
          ]
        },
        {
          "name": "stderr",
          "output_type": "stream",
          "text": [
            "     95/300       4.1G     0.4944     0.3453     0.8339        183        640: 100%|██████████| 49/49 [00:19<00:00,  2.51it/s]\n",
            "                 Class     Images  Instances      Box(P          R      mAP50  mAP50-95): 100%|██████████| 2/2 [00:01<00:00,  1.71it/s]"
          ]
        },
        {
          "name": "stdout",
          "output_type": "stream",
          "text": [
            "                   all         85        308      0.904      0.754      0.843      0.739\n"
          ]
        },
        {
          "name": "stderr",
          "output_type": "stream",
          "text": [
            "\n"
          ]
        },
        {
          "name": "stdout",
          "output_type": "stream",
          "text": [
            "\n",
            "      Epoch    GPU_mem   box_loss   cls_loss   dfl_loss  Instances       Size\n"
          ]
        },
        {
          "name": "stderr",
          "output_type": "stream",
          "text": [
            "     96/300      3.99G     0.4967     0.3562     0.8332        197        640: 100%|██████████| 49/49 [00:19<00:00,  2.48it/s]\n",
            "                 Class     Images  Instances      Box(P          R      mAP50  mAP50-95): 100%|██████████| 2/2 [00:01<00:00,  1.99it/s]"
          ]
        },
        {
          "name": "stdout",
          "output_type": "stream",
          "text": [
            "                   all         85        308      0.915      0.762      0.826      0.717\n"
          ]
        },
        {
          "name": "stderr",
          "output_type": "stream",
          "text": [
            "\n"
          ]
        },
        {
          "name": "stdout",
          "output_type": "stream",
          "text": [
            "\n",
            "      Epoch    GPU_mem   box_loss   cls_loss   dfl_loss  Instances       Size\n"
          ]
        },
        {
          "name": "stderr",
          "output_type": "stream",
          "text": [
            "     97/300      3.98G      0.494     0.3475      0.828        194        640: 100%|██████████| 49/49 [00:18<00:00,  2.58it/s]\n",
            "                 Class     Images  Instances      Box(P          R      mAP50  mAP50-95): 100%|██████████| 2/2 [00:01<00:00,  1.91it/s]"
          ]
        },
        {
          "name": "stdout",
          "output_type": "stream",
          "text": [
            "                   all         85        308      0.901      0.778      0.814      0.713\n"
          ]
        },
        {
          "name": "stderr",
          "output_type": "stream",
          "text": [
            "\n"
          ]
        },
        {
          "name": "stdout",
          "output_type": "stream",
          "text": [
            "\n",
            "      Epoch    GPU_mem   box_loss   cls_loss   dfl_loss  Instances       Size\n"
          ]
        },
        {
          "name": "stderr",
          "output_type": "stream",
          "text": [
            "     98/300      4.09G     0.4933     0.3477     0.8306        141        640: 100%|██████████| 49/49 [00:18<00:00,  2.60it/s]\n",
            "                 Class     Images  Instances      Box(P          R      mAP50  mAP50-95): 100%|██████████| 2/2 [00:01<00:00,  1.79it/s]"
          ]
        },
        {
          "name": "stdout",
          "output_type": "stream",
          "text": [
            "                   all         85        308      0.912      0.765      0.851      0.742\n"
          ]
        },
        {
          "name": "stderr",
          "output_type": "stream",
          "text": [
            "\n"
          ]
        },
        {
          "name": "stdout",
          "output_type": "stream",
          "text": [
            "\n",
            "      Epoch    GPU_mem   box_loss   cls_loss   dfl_loss  Instances       Size\n"
          ]
        },
        {
          "name": "stderr",
          "output_type": "stream",
          "text": [
            "     99/300      4.09G     0.4861     0.3518      0.833        180        640: 100%|██████████| 49/49 [00:19<00:00,  2.53it/s]\n",
            "                 Class     Images  Instances      Box(P          R      mAP50  mAP50-95): 100%|██████████| 2/2 [00:01<00:00,  1.71it/s]"
          ]
        },
        {
          "name": "stdout",
          "output_type": "stream",
          "text": [
            "                   all         85        308      0.876      0.774      0.828      0.729\n"
          ]
        },
        {
          "name": "stderr",
          "output_type": "stream",
          "text": [
            "\n"
          ]
        },
        {
          "name": "stdout",
          "output_type": "stream",
          "text": [
            "\n",
            "      Epoch    GPU_mem   box_loss   cls_loss   dfl_loss  Instances       Size\n"
          ]
        },
        {
          "name": "stderr",
          "output_type": "stream",
          "text": [
            "    100/300      4.04G     0.4873     0.3412     0.8263        151        640: 100%|██████████| 49/49 [00:19<00:00,  2.53it/s]\n",
            "                 Class     Images  Instances      Box(P          R      mAP50  mAP50-95): 100%|██████████| 2/2 [00:01<00:00,  1.61it/s]"
          ]
        },
        {
          "name": "stdout",
          "output_type": "stream",
          "text": [
            "                   all         85        308      0.837      0.808      0.857      0.742\n"
          ]
        },
        {
          "name": "stderr",
          "output_type": "stream",
          "text": [
            "\n"
          ]
        },
        {
          "name": "stdout",
          "output_type": "stream",
          "text": [
            "\n",
            "      Epoch    GPU_mem   box_loss   cls_loss   dfl_loss  Instances       Size\n"
          ]
        },
        {
          "name": "stderr",
          "output_type": "stream",
          "text": [
            "    101/300      4.05G     0.4868     0.3419     0.8293        166        640: 100%|██████████| 49/49 [00:18<00:00,  2.61it/s]\n",
            "                 Class     Images  Instances      Box(P          R      mAP50  mAP50-95): 100%|██████████| 2/2 [00:01<00:00,  1.55it/s]"
          ]
        },
        {
          "name": "stdout",
          "output_type": "stream",
          "text": [
            "                   all         85        308      0.875      0.733      0.824      0.718\n"
          ]
        },
        {
          "name": "stderr",
          "output_type": "stream",
          "text": [
            "\n"
          ]
        },
        {
          "name": "stdout",
          "output_type": "stream",
          "text": [
            "\n",
            "      Epoch    GPU_mem   box_loss   cls_loss   dfl_loss  Instances       Size\n"
          ]
        },
        {
          "name": "stderr",
          "output_type": "stream",
          "text": [
            "    102/300      4.05G     0.4846     0.3465     0.8301        182        640: 100%|██████████| 49/49 [00:19<00:00,  2.53it/s]\n",
            "                 Class     Images  Instances      Box(P          R      mAP50  mAP50-95): 100%|██████████| 2/2 [00:01<00:00,  1.70it/s]"
          ]
        },
        {
          "name": "stdout",
          "output_type": "stream",
          "text": [
            "                   all         85        308      0.895      0.768      0.837       0.74\n"
          ]
        },
        {
          "name": "stderr",
          "output_type": "stream",
          "text": [
            "\n"
          ]
        },
        {
          "name": "stdout",
          "output_type": "stream",
          "text": [
            "\n",
            "      Epoch    GPU_mem   box_loss   cls_loss   dfl_loss  Instances       Size\n"
          ]
        },
        {
          "name": "stderr",
          "output_type": "stream",
          "text": [
            "    103/300      3.98G     0.4896     0.3494     0.8295        170        640: 100%|██████████| 49/49 [00:19<00:00,  2.52it/s]\n",
            "                 Class     Images  Instances      Box(P          R      mAP50  mAP50-95): 100%|██████████| 2/2 [00:01<00:00,  1.63it/s]"
          ]
        },
        {
          "name": "stdout",
          "output_type": "stream",
          "text": [
            "                   all         85        308      0.838      0.763      0.823      0.717\n"
          ]
        },
        {
          "name": "stderr",
          "output_type": "stream",
          "text": [
            "\n"
          ]
        },
        {
          "name": "stdout",
          "output_type": "stream",
          "text": [
            "\n",
            "      Epoch    GPU_mem   box_loss   cls_loss   dfl_loss  Instances       Size\n"
          ]
        },
        {
          "name": "stderr",
          "output_type": "stream",
          "text": [
            "    104/300      4.05G     0.4871      0.345     0.8308        163        640: 100%|██████████| 49/49 [00:19<00:00,  2.51it/s]\n",
            "                 Class     Images  Instances      Box(P          R      mAP50  mAP50-95): 100%|██████████| 2/2 [00:01<00:00,  1.63it/s]"
          ]
        },
        {
          "name": "stdout",
          "output_type": "stream",
          "text": [
            "                   all         85        308       0.89      0.747      0.833      0.728\n"
          ]
        },
        {
          "name": "stderr",
          "output_type": "stream",
          "text": [
            "\n"
          ]
        },
        {
          "name": "stdout",
          "output_type": "stream",
          "text": [
            "\n",
            "      Epoch    GPU_mem   box_loss   cls_loss   dfl_loss  Instances       Size\n"
          ]
        },
        {
          "name": "stderr",
          "output_type": "stream",
          "text": [
            "    105/300      4.06G     0.4832     0.3485     0.8295        146        640: 100%|██████████| 49/49 [00:18<00:00,  2.60it/s]\n",
            "                 Class     Images  Instances      Box(P          R      mAP50  mAP50-95): 100%|██████████| 2/2 [00:01<00:00,  1.84it/s]"
          ]
        },
        {
          "name": "stdout",
          "output_type": "stream",
          "text": [
            "                   all         85        308      0.794      0.743      0.776      0.674\n"
          ]
        },
        {
          "name": "stderr",
          "output_type": "stream",
          "text": [
            "\n"
          ]
        },
        {
          "name": "stdout",
          "output_type": "stream",
          "text": [
            "\n",
            "      Epoch    GPU_mem   box_loss   cls_loss   dfl_loss  Instances       Size\n"
          ]
        },
        {
          "name": "stderr",
          "output_type": "stream",
          "text": [
            "    106/300      4.06G     0.4895     0.3397     0.8321        164        640: 100%|██████████| 49/49 [00:18<00:00,  2.59it/s]\n",
            "                 Class     Images  Instances      Box(P          R      mAP50  mAP50-95): 100%|██████████| 2/2 [00:00<00:00,  2.04it/s]"
          ]
        },
        {
          "name": "stdout",
          "output_type": "stream",
          "text": [
            "                   all         85        308      0.867       0.77      0.842      0.749\n"
          ]
        },
        {
          "name": "stderr",
          "output_type": "stream",
          "text": [
            "\n"
          ]
        },
        {
          "name": "stdout",
          "output_type": "stream",
          "text": [
            "\n",
            "      Epoch    GPU_mem   box_loss   cls_loss   dfl_loss  Instances       Size\n"
          ]
        },
        {
          "name": "stderr",
          "output_type": "stream",
          "text": [
            "    107/300      4.05G     0.4775     0.3312     0.8281        173        640: 100%|██████████| 49/49 [00:19<00:00,  2.57it/s]\n",
            "                 Class     Images  Instances      Box(P          R      mAP50  mAP50-95): 100%|██████████| 2/2 [00:00<00:00,  2.20it/s]"
          ]
        },
        {
          "name": "stdout",
          "output_type": "stream",
          "text": [
            "                   all         85        308       0.79      0.763      0.797      0.694\n"
          ]
        },
        {
          "name": "stderr",
          "output_type": "stream",
          "text": [
            "\n"
          ]
        },
        {
          "name": "stdout",
          "output_type": "stream",
          "text": [
            "\n",
            "      Epoch    GPU_mem   box_loss   cls_loss   dfl_loss  Instances       Size\n"
          ]
        },
        {
          "name": "stderr",
          "output_type": "stream",
          "text": [
            "    108/300      4.05G     0.4753     0.3405     0.8267        183        640: 100%|██████████| 49/49 [00:19<00:00,  2.57it/s]\n",
            "                 Class     Images  Instances      Box(P          R      mAP50  mAP50-95): 100%|██████████| 2/2 [00:01<00:00,  1.94it/s]"
          ]
        },
        {
          "name": "stdout",
          "output_type": "stream",
          "text": [
            "                   all         85        308      0.768      0.732      0.802      0.706\n"
          ]
        },
        {
          "name": "stderr",
          "output_type": "stream",
          "text": [
            "\n"
          ]
        },
        {
          "name": "stdout",
          "output_type": "stream",
          "text": [
            "\n",
            "      Epoch    GPU_mem   box_loss   cls_loss   dfl_loss  Instances       Size\n"
          ]
        },
        {
          "name": "stderr",
          "output_type": "stream",
          "text": [
            "    109/300      4.05G     0.4787     0.3434     0.8267        161        640: 100%|██████████| 49/49 [00:18<00:00,  2.59it/s]\n",
            "                 Class     Images  Instances      Box(P          R      mAP50  mAP50-95): 100%|██████████| 2/2 [00:01<00:00,  1.94it/s]"
          ]
        },
        {
          "name": "stdout",
          "output_type": "stream",
          "text": [
            "                   all         85        308      0.806      0.795      0.814      0.721\n"
          ]
        },
        {
          "name": "stderr",
          "output_type": "stream",
          "text": [
            "\n"
          ]
        },
        {
          "name": "stdout",
          "output_type": "stream",
          "text": [
            "\n",
            "      Epoch    GPU_mem   box_loss   cls_loss   dfl_loss  Instances       Size\n"
          ]
        },
        {
          "name": "stderr",
          "output_type": "stream",
          "text": [
            "    110/300      4.05G     0.4813     0.3402     0.8296        163        640: 100%|██████████| 49/49 [00:19<00:00,  2.53it/s]\n",
            "                 Class     Images  Instances      Box(P          R      mAP50  mAP50-95): 100%|██████████| 2/2 [00:01<00:00,  1.70it/s]"
          ]
        },
        {
          "name": "stdout",
          "output_type": "stream",
          "text": [
            "                   all         85        308      0.904       0.75      0.832      0.735\n"
          ]
        },
        {
          "name": "stderr",
          "output_type": "stream",
          "text": [
            "\n"
          ]
        },
        {
          "name": "stdout",
          "output_type": "stream",
          "text": [
            "\n",
            "      Epoch    GPU_mem   box_loss   cls_loss   dfl_loss  Instances       Size\n"
          ]
        },
        {
          "name": "stderr",
          "output_type": "stream",
          "text": [
            "    111/300      4.17G     0.4873     0.3438     0.8281        198        640: 100%|██████████| 49/49 [00:19<00:00,  2.52it/s]\n",
            "                 Class     Images  Instances      Box(P          R      mAP50  mAP50-95): 100%|██████████| 2/2 [00:01<00:00,  1.69it/s]"
          ]
        },
        {
          "name": "stdout",
          "output_type": "stream",
          "text": [
            "                   all         85        308       0.89      0.782      0.838      0.739\n"
          ]
        },
        {
          "name": "stderr",
          "output_type": "stream",
          "text": [
            "\n"
          ]
        },
        {
          "name": "stdout",
          "output_type": "stream",
          "text": [
            "\n",
            "      Epoch    GPU_mem   box_loss   cls_loss   dfl_loss  Instances       Size\n"
          ]
        },
        {
          "name": "stderr",
          "output_type": "stream",
          "text": [
            "    112/300      4.09G     0.4787     0.3327     0.8281        158        640: 100%|██████████| 49/49 [00:19<00:00,  2.51it/s]\n",
            "                 Class     Images  Instances      Box(P          R      mAP50  mAP50-95): 100%|██████████| 2/2 [00:01<00:00,  1.85it/s]"
          ]
        },
        {
          "name": "stdout",
          "output_type": "stream",
          "text": [
            "                   all         85        308      0.862      0.777      0.818      0.721\n"
          ]
        },
        {
          "name": "stderr",
          "output_type": "stream",
          "text": [
            "\n"
          ]
        },
        {
          "name": "stdout",
          "output_type": "stream",
          "text": [
            "\n",
            "      Epoch    GPU_mem   box_loss   cls_loss   dfl_loss  Instances       Size\n"
          ]
        },
        {
          "name": "stderr",
          "output_type": "stream",
          "text": [
            "    113/300      4.05G     0.4849     0.3382     0.8253        187        640: 100%|██████████| 49/49 [00:19<00:00,  2.52it/s]\n",
            "                 Class     Images  Instances      Box(P          R      mAP50  mAP50-95): 100%|██████████| 2/2 [00:01<00:00,  1.71it/s]"
          ]
        },
        {
          "name": "stdout",
          "output_type": "stream",
          "text": [
            "                   all         85        308      0.857      0.634      0.736      0.649\n"
          ]
        },
        {
          "name": "stderr",
          "output_type": "stream",
          "text": [
            "\n"
          ]
        },
        {
          "name": "stdout",
          "output_type": "stream",
          "text": [
            "\n",
            "      Epoch    GPU_mem   box_loss   cls_loss   dfl_loss  Instances       Size\n"
          ]
        },
        {
          "name": "stderr",
          "output_type": "stream",
          "text": [
            "    114/300      4.03G     0.4762     0.3308     0.8249        182        640: 100%|██████████| 49/49 [00:19<00:00,  2.50it/s]\n",
            "                 Class     Images  Instances      Box(P          R      mAP50  mAP50-95): 100%|██████████| 2/2 [00:01<00:00,  1.83it/s]"
          ]
        },
        {
          "name": "stdout",
          "output_type": "stream",
          "text": [
            "                   all         85        308      0.773      0.737      0.813      0.712\n"
          ]
        },
        {
          "name": "stderr",
          "output_type": "stream",
          "text": [
            "\n"
          ]
        },
        {
          "name": "stdout",
          "output_type": "stream",
          "text": [
            "\n",
            "      Epoch    GPU_mem   box_loss   cls_loss   dfl_loss  Instances       Size\n"
          ]
        },
        {
          "name": "stderr",
          "output_type": "stream",
          "text": [
            "    115/300      4.05G     0.4658     0.3381     0.8256        172        640: 100%|██████████| 49/49 [00:19<00:00,  2.57it/s]\n",
            "                 Class     Images  Instances      Box(P          R      mAP50  mAP50-95): 100%|██████████| 2/2 [00:01<00:00,  1.96it/s]"
          ]
        },
        {
          "name": "stdout",
          "output_type": "stream",
          "text": [
            "                   all         85        308      0.871      0.785      0.807      0.716\n"
          ]
        },
        {
          "name": "stderr",
          "output_type": "stream",
          "text": [
            "\n"
          ]
        },
        {
          "name": "stdout",
          "output_type": "stream",
          "text": [
            "\n",
            "      Epoch    GPU_mem   box_loss   cls_loss   dfl_loss  Instances       Size\n"
          ]
        },
        {
          "name": "stderr",
          "output_type": "stream",
          "text": [
            "    116/300      4.05G     0.4789      0.338     0.8272        179        640: 100%|██████████| 49/49 [00:19<00:00,  2.57it/s]\n",
            "                 Class     Images  Instances      Box(P          R      mAP50  mAP50-95): 100%|██████████| 2/2 [00:01<00:00,  1.98it/s]"
          ]
        },
        {
          "name": "stdout",
          "output_type": "stream",
          "text": [
            "                   all         85        308      0.885      0.784      0.837      0.749\n"
          ]
        },
        {
          "name": "stderr",
          "output_type": "stream",
          "text": [
            "\n"
          ]
        },
        {
          "name": "stdout",
          "output_type": "stream",
          "text": [
            "\n",
            "      Epoch    GPU_mem   box_loss   cls_loss   dfl_loss  Instances       Size\n"
          ]
        },
        {
          "name": "stderr",
          "output_type": "stream",
          "text": [
            "    117/300      4.05G     0.4748     0.3369     0.8269        157        640: 100%|██████████| 49/49 [00:18<00:00,  2.58it/s]\n",
            "                 Class     Images  Instances      Box(P          R      mAP50  mAP50-95): 100%|██████████| 2/2 [00:01<00:00,  1.96it/s]"
          ]
        },
        {
          "name": "stdout",
          "output_type": "stream",
          "text": [
            "                   all         85        308      0.832      0.777      0.833      0.733\n"
          ]
        },
        {
          "name": "stderr",
          "output_type": "stream",
          "text": [
            "\n"
          ]
        },
        {
          "name": "stdout",
          "output_type": "stream",
          "text": [
            "\n",
            "      Epoch    GPU_mem   box_loss   cls_loss   dfl_loss  Instances       Size\n"
          ]
        },
        {
          "name": "stderr",
          "output_type": "stream",
          "text": [
            "    118/300      4.09G     0.4707     0.3327     0.8248        186        640: 100%|██████████| 49/49 [00:18<00:00,  2.59it/s]\n",
            "                 Class     Images  Instances      Box(P          R      mAP50  mAP50-95): 100%|██████████| 2/2 [00:00<00:00,  2.17it/s]"
          ]
        },
        {
          "name": "stdout",
          "output_type": "stream",
          "text": [
            "                   all         85        308      0.823      0.801      0.828      0.735\n"
          ]
        },
        {
          "name": "stderr",
          "output_type": "stream",
          "text": [
            "\n"
          ]
        },
        {
          "name": "stdout",
          "output_type": "stream",
          "text": [
            "\n",
            "      Epoch    GPU_mem   box_loss   cls_loss   dfl_loss  Instances       Size\n"
          ]
        },
        {
          "name": "stderr",
          "output_type": "stream",
          "text": [
            "    119/300      3.99G     0.4778     0.3343     0.8272        181        640: 100%|██████████| 49/49 [00:19<00:00,  2.52it/s]\n",
            "                 Class     Images  Instances      Box(P          R      mAP50  mAP50-95): 100%|██████████| 2/2 [00:01<00:00,  1.63it/s]"
          ]
        },
        {
          "name": "stdout",
          "output_type": "stream",
          "text": [
            "                   all         85        308      0.896      0.784      0.835       0.74\n"
          ]
        },
        {
          "name": "stderr",
          "output_type": "stream",
          "text": [
            "\n"
          ]
        },
        {
          "name": "stdout",
          "output_type": "stream",
          "text": [
            "\n",
            "      Epoch    GPU_mem   box_loss   cls_loss   dfl_loss  Instances       Size\n"
          ]
        },
        {
          "name": "stderr",
          "output_type": "stream",
          "text": [
            "    120/300      4.05G     0.4619     0.3346     0.8229        168        640: 100%|██████████| 49/49 [00:18<00:00,  2.60it/s]\n",
            "                 Class     Images  Instances      Box(P          R      mAP50  mAP50-95): 100%|██████████| 2/2 [00:01<00:00,  1.70it/s]"
          ]
        },
        {
          "name": "stdout",
          "output_type": "stream",
          "text": [
            "                   all         85        308      0.767      0.663      0.761      0.665\n"
          ]
        },
        {
          "name": "stderr",
          "output_type": "stream",
          "text": [
            "\n"
          ]
        },
        {
          "name": "stdout",
          "output_type": "stream",
          "text": [
            "\n",
            "      Epoch    GPU_mem   box_loss   cls_loss   dfl_loss  Instances       Size\n"
          ]
        },
        {
          "name": "stderr",
          "output_type": "stream",
          "text": [
            "    121/300      3.99G     0.4692     0.3339     0.8224        200        640: 100%|██████████| 49/49 [00:19<00:00,  2.52it/s]\n",
            "                 Class     Images  Instances      Box(P          R      mAP50  mAP50-95): 100%|██████████| 2/2 [00:01<00:00,  1.59it/s]"
          ]
        },
        {
          "name": "stdout",
          "output_type": "stream",
          "text": [
            "                   all         85        308      0.847      0.706      0.803      0.704\n"
          ]
        },
        {
          "name": "stderr",
          "output_type": "stream",
          "text": [
            "\n"
          ]
        },
        {
          "name": "stdout",
          "output_type": "stream",
          "text": [
            "\n",
            "      Epoch    GPU_mem   box_loss   cls_loss   dfl_loss  Instances       Size\n"
          ]
        },
        {
          "name": "stderr",
          "output_type": "stream",
          "text": [
            "    122/300         4G     0.4669     0.3323     0.8256        169        640: 100%|██████████| 49/49 [00:18<00:00,  2.58it/s]\n",
            "                 Class     Images  Instances      Box(P          R      mAP50  mAP50-95): 100%|██████████| 2/2 [00:01<00:00,  2.00it/s]"
          ]
        },
        {
          "name": "stdout",
          "output_type": "stream",
          "text": [
            "                   all         85        308      0.851      0.795      0.814      0.721\n"
          ]
        },
        {
          "name": "stderr",
          "output_type": "stream",
          "text": [
            "\n"
          ]
        },
        {
          "name": "stdout",
          "output_type": "stream",
          "text": [
            "\n",
            "      Epoch    GPU_mem   box_loss   cls_loss   dfl_loss  Instances       Size\n"
          ]
        },
        {
          "name": "stderr",
          "output_type": "stream",
          "text": [
            "    123/300      4.04G     0.4802     0.3333     0.8275        138        640: 100%|██████████| 49/49 [00:19<00:00,  2.50it/s]\n",
            "                 Class     Images  Instances      Box(P          R      mAP50  mAP50-95): 100%|██████████| 2/2 [00:01<00:00,  1.71it/s]"
          ]
        },
        {
          "name": "stdout",
          "output_type": "stream",
          "text": [
            "                   all         85        308      0.856      0.692      0.807      0.698\n"
          ]
        },
        {
          "name": "stderr",
          "output_type": "stream",
          "text": [
            "\n"
          ]
        },
        {
          "name": "stdout",
          "output_type": "stream",
          "text": [
            "\n",
            "      Epoch    GPU_mem   box_loss   cls_loss   dfl_loss  Instances       Size\n"
          ]
        },
        {
          "name": "stderr",
          "output_type": "stream",
          "text": [
            "    124/300      4.05G     0.4735     0.3406     0.8266        182        640: 100%|██████████| 49/49 [00:19<00:00,  2.53it/s]\n",
            "                 Class     Images  Instances      Box(P          R      mAP50  mAP50-95): 100%|██████████| 2/2 [00:01<00:00,  1.61it/s]"
          ]
        },
        {
          "name": "stdout",
          "output_type": "stream",
          "text": [
            "                   all         85        308      0.827       0.78      0.832      0.749\n"
          ]
        },
        {
          "name": "stderr",
          "output_type": "stream",
          "text": [
            "\n"
          ]
        },
        {
          "name": "stdout",
          "output_type": "stream",
          "text": [
            "\n",
            "      Epoch    GPU_mem   box_loss   cls_loss   dfl_loss  Instances       Size\n"
          ]
        },
        {
          "name": "stderr",
          "output_type": "stream",
          "text": [
            "    125/300      4.09G     0.4682     0.3304     0.8285        167        640: 100%|██████████| 49/49 [00:19<00:00,  2.52it/s]\n",
            "                 Class     Images  Instances      Box(P          R      mAP50  mAP50-95): 100%|██████████| 2/2 [00:01<00:00,  1.69it/s]"
          ]
        },
        {
          "name": "stdout",
          "output_type": "stream",
          "text": [
            "                   all         85        308      0.905      0.763      0.825       0.72\n"
          ]
        },
        {
          "name": "stderr",
          "output_type": "stream",
          "text": [
            "\n"
          ]
        },
        {
          "name": "stdout",
          "output_type": "stream",
          "text": [
            "\n",
            "      Epoch    GPU_mem   box_loss   cls_loss   dfl_loss  Instances       Size\n"
          ]
        },
        {
          "name": "stderr",
          "output_type": "stream",
          "text": [
            "    126/300      3.99G     0.4705     0.3281     0.8258        211        640: 100%|██████████| 49/49 [00:19<00:00,  2.53it/s]\n",
            "                 Class     Images  Instances      Box(P          R      mAP50  mAP50-95): 100%|██████████| 2/2 [00:01<00:00,  1.90it/s]"
          ]
        },
        {
          "name": "stdout",
          "output_type": "stream",
          "text": [
            "                   all         85        308      0.888      0.772      0.818       0.72\n"
          ]
        },
        {
          "name": "stderr",
          "output_type": "stream",
          "text": [
            "\n"
          ]
        },
        {
          "name": "stdout",
          "output_type": "stream",
          "text": [
            "\n",
            "      Epoch    GPU_mem   box_loss   cls_loss   dfl_loss  Instances       Size\n"
          ]
        },
        {
          "name": "stderr",
          "output_type": "stream",
          "text": [
            "    127/300      3.98G     0.4658     0.3313     0.8252        184        640: 100%|██████████| 49/49 [00:18<00:00,  2.61it/s]\n",
            "                 Class     Images  Instances      Box(P          R      mAP50  mAP50-95): 100%|██████████| 2/2 [00:01<00:00,  1.91it/s]"
          ]
        },
        {
          "name": "stdout",
          "output_type": "stream",
          "text": [
            "                   all         85        308      0.811      0.787      0.819      0.727\n"
          ]
        },
        {
          "name": "stderr",
          "output_type": "stream",
          "text": [
            "\n"
          ]
        },
        {
          "name": "stdout",
          "output_type": "stream",
          "text": [
            "\n",
            "      Epoch    GPU_mem   box_loss   cls_loss   dfl_loss  Instances       Size\n"
          ]
        },
        {
          "name": "stderr",
          "output_type": "stream",
          "text": [
            "    128/300      4.09G     0.4708     0.3316     0.8268        148        640: 100%|██████████| 49/49 [00:19<00:00,  2.52it/s]\n",
            "                 Class     Images  Instances      Box(P          R      mAP50  mAP50-95): 100%|██████████| 2/2 [00:01<00:00,  1.95it/s]"
          ]
        },
        {
          "name": "stdout",
          "output_type": "stream",
          "text": [
            "                   all         85        308       0.82       0.75      0.843      0.745\n"
          ]
        },
        {
          "name": "stderr",
          "output_type": "stream",
          "text": [
            "\n"
          ]
        },
        {
          "name": "stdout",
          "output_type": "stream",
          "text": [
            "\n",
            "      Epoch    GPU_mem   box_loss   cls_loss   dfl_loss  Instances       Size\n"
          ]
        },
        {
          "name": "stderr",
          "output_type": "stream",
          "text": [
            "    129/300      4.06G     0.4682     0.3312      0.825        153        640: 100%|██████████| 49/49 [00:18<00:00,  2.61it/s]\n",
            "                 Class     Images  Instances      Box(P          R      mAP50  mAP50-95): 100%|██████████| 2/2 [00:00<00:00,  2.03it/s]"
          ]
        },
        {
          "name": "stdout",
          "output_type": "stream",
          "text": [
            "                   all         85        308      0.864      0.748      0.836      0.743\n"
          ]
        },
        {
          "name": "stderr",
          "output_type": "stream",
          "text": [
            "\n"
          ]
        },
        {
          "name": "stdout",
          "output_type": "stream",
          "text": [
            "\n",
            "      Epoch    GPU_mem   box_loss   cls_loss   dfl_loss  Instances       Size\n"
          ]
        },
        {
          "name": "stderr",
          "output_type": "stream",
          "text": [
            "    130/300      4.05G     0.4632     0.3246     0.8239        171        640: 100%|██████████| 49/49 [00:19<00:00,  2.54it/s]\n",
            "                 Class     Images  Instances      Box(P          R      mAP50  mAP50-95): 100%|██████████| 2/2 [00:01<00:00,  1.85it/s]"
          ]
        },
        {
          "name": "stdout",
          "output_type": "stream",
          "text": [
            "                   all         85        308      0.889      0.787      0.836      0.742\n"
          ]
        },
        {
          "name": "stderr",
          "output_type": "stream",
          "text": [
            "\n"
          ]
        },
        {
          "name": "stdout",
          "output_type": "stream",
          "text": [
            "\n",
            "      Epoch    GPU_mem   box_loss   cls_loss   dfl_loss  Instances       Size\n"
          ]
        },
        {
          "name": "stderr",
          "output_type": "stream",
          "text": [
            "    131/300      4.03G     0.4691     0.3274     0.8259        204        640: 100%|██████████| 49/49 [00:19<00:00,  2.51it/s]\n",
            "                 Class     Images  Instances      Box(P          R      mAP50  mAP50-95): 100%|██████████| 2/2 [00:01<00:00,  1.75it/s]"
          ]
        },
        {
          "name": "stdout",
          "output_type": "stream",
          "text": [
            "                   all         85        308      0.878      0.786      0.826      0.739\n"
          ]
        },
        {
          "name": "stderr",
          "output_type": "stream",
          "text": [
            "\n"
          ]
        },
        {
          "name": "stdout",
          "output_type": "stream",
          "text": [
            "\n",
            "      Epoch    GPU_mem   box_loss   cls_loss   dfl_loss  Instances       Size\n"
          ]
        },
        {
          "name": "stderr",
          "output_type": "stream",
          "text": [
            "    132/300      4.05G     0.4568     0.3222      0.821        155        640: 100%|██████████| 49/49 [00:19<00:00,  2.53it/s]\n",
            "                 Class     Images  Instances      Box(P          R      mAP50  mAP50-95): 100%|██████████| 2/2 [00:01<00:00,  1.79it/s]"
          ]
        },
        {
          "name": "stdout",
          "output_type": "stream",
          "text": [
            "                   all         85        308      0.856       0.81      0.855      0.749\n"
          ]
        },
        {
          "name": "stderr",
          "output_type": "stream",
          "text": [
            "\n"
          ]
        },
        {
          "name": "stdout",
          "output_type": "stream",
          "text": [
            "\n",
            "      Epoch    GPU_mem   box_loss   cls_loss   dfl_loss  Instances       Size\n"
          ]
        },
        {
          "name": "stderr",
          "output_type": "stream",
          "text": [
            "    133/300      4.05G     0.4576     0.3219     0.8243        169        640: 100%|██████████| 49/49 [00:18<00:00,  2.62it/s]\n",
            "                 Class     Images  Instances      Box(P          R      mAP50  mAP50-95): 100%|██████████| 2/2 [00:00<00:00,  2.05it/s]"
          ]
        },
        {
          "name": "stdout",
          "output_type": "stream",
          "text": [
            "                   all         85        308        0.9      0.765      0.832      0.741\n"
          ]
        },
        {
          "name": "stderr",
          "output_type": "stream",
          "text": [
            "\n"
          ]
        },
        {
          "name": "stdout",
          "output_type": "stream",
          "text": [
            "\n",
            "      Epoch    GPU_mem   box_loss   cls_loss   dfl_loss  Instances       Size\n"
          ]
        },
        {
          "name": "stderr",
          "output_type": "stream",
          "text": [
            "    134/300      4.09G     0.4609     0.3243     0.8246        177        640: 100%|██████████| 49/49 [00:19<00:00,  2.51it/s]\n",
            "                 Class     Images  Instances      Box(P          R      mAP50  mAP50-95): 100%|██████████| 2/2 [00:01<00:00,  1.93it/s]"
          ]
        },
        {
          "name": "stdout",
          "output_type": "stream",
          "text": [
            "                   all         85        308      0.886      0.789      0.835      0.738\n"
          ]
        },
        {
          "name": "stderr",
          "output_type": "stream",
          "text": [
            "\n"
          ]
        },
        {
          "name": "stdout",
          "output_type": "stream",
          "text": [
            "\n",
            "      Epoch    GPU_mem   box_loss   cls_loss   dfl_loss  Instances       Size\n"
          ]
        },
        {
          "name": "stderr",
          "output_type": "stream",
          "text": [
            "    135/300      3.99G     0.4581     0.3223     0.8236        186        640: 100%|██████████| 49/49 [00:19<00:00,  2.49it/s]\n",
            "                 Class     Images  Instances      Box(P          R      mAP50  mAP50-95): 100%|██████████| 2/2 [00:01<00:00,  1.93it/s]"
          ]
        },
        {
          "name": "stdout",
          "output_type": "stream",
          "text": [
            "                   all         85        308      0.867      0.777      0.821      0.729\n"
          ]
        },
        {
          "name": "stderr",
          "output_type": "stream",
          "text": [
            "\n"
          ]
        },
        {
          "name": "stdout",
          "output_type": "stream",
          "text": [
            "\n",
            "      Epoch    GPU_mem   box_loss   cls_loss   dfl_loss  Instances       Size\n"
          ]
        },
        {
          "name": "stderr",
          "output_type": "stream",
          "text": [
            "    136/300      4.05G     0.4664     0.3239     0.8244        167        640: 100%|██████████| 49/49 [00:19<00:00,  2.49it/s]\n",
            "                 Class     Images  Instances      Box(P          R      mAP50  mAP50-95): 100%|██████████| 2/2 [00:00<00:00,  2.26it/s]"
          ]
        },
        {
          "name": "stdout",
          "output_type": "stream",
          "text": [
            "                   all         85        308      0.863      0.791      0.821      0.725\n"
          ]
        },
        {
          "name": "stderr",
          "output_type": "stream",
          "text": [
            "\n"
          ]
        },
        {
          "name": "stdout",
          "output_type": "stream",
          "text": [
            "\n",
            "      Epoch    GPU_mem   box_loss   cls_loss   dfl_loss  Instances       Size\n"
          ]
        },
        {
          "name": "stderr",
          "output_type": "stream",
          "text": [
            "    137/300      4.08G     0.4608     0.3242     0.8224        209        640: 100%|██████████| 49/49 [00:19<00:00,  2.51it/s]\n",
            "                 Class     Images  Instances      Box(P          R      mAP50  mAP50-95): 100%|██████████| 2/2 [00:00<00:00,  2.25it/s]"
          ]
        },
        {
          "name": "stdout",
          "output_type": "stream",
          "text": [
            "                   all         85        308      0.861      0.774      0.816      0.719\n"
          ]
        },
        {
          "name": "stderr",
          "output_type": "stream",
          "text": [
            "\n"
          ]
        },
        {
          "name": "stdout",
          "output_type": "stream",
          "text": [
            "\n",
            "      Epoch    GPU_mem   box_loss   cls_loss   dfl_loss  Instances       Size\n"
          ]
        },
        {
          "name": "stderr",
          "output_type": "stream",
          "text": [
            "    138/300      4.05G     0.4574     0.3157      0.825        159        640: 100%|██████████| 49/49 [00:19<00:00,  2.50it/s]\n",
            "                 Class     Images  Instances      Box(P          R      mAP50  mAP50-95): 100%|██████████| 2/2 [00:01<00:00,  1.81it/s]"
          ]
        },
        {
          "name": "stdout",
          "output_type": "stream",
          "text": [
            "                   all         85        308      0.844      0.785      0.814      0.721\n"
          ]
        },
        {
          "name": "stderr",
          "output_type": "stream",
          "text": [
            "\n"
          ]
        },
        {
          "name": "stdout",
          "output_type": "stream",
          "text": [
            "\n",
            "      Epoch    GPU_mem   box_loss   cls_loss   dfl_loss  Instances       Size\n"
          ]
        },
        {
          "name": "stderr",
          "output_type": "stream",
          "text": [
            "    139/300      4.05G     0.4607     0.3252     0.8243        171        640: 100%|██████████| 49/49 [00:19<00:00,  2.50it/s]\n",
            "                 Class     Images  Instances      Box(P          R      mAP50  mAP50-95): 100%|██████████| 2/2 [00:00<00:00,  2.02it/s]"
          ]
        },
        {
          "name": "stdout",
          "output_type": "stream",
          "text": [
            "                   all         85        308      0.866      0.821      0.844      0.747\n"
          ]
        },
        {
          "name": "stderr",
          "output_type": "stream",
          "text": [
            "\n"
          ]
        },
        {
          "name": "stdout",
          "output_type": "stream",
          "text": [
            "\n",
            "      Epoch    GPU_mem   box_loss   cls_loss   dfl_loss  Instances       Size\n"
          ]
        },
        {
          "name": "stderr",
          "output_type": "stream",
          "text": [
            "    140/300       4.1G     0.4578     0.3226     0.8248        160        640: 100%|██████████| 49/49 [00:18<00:00,  2.60it/s]\n",
            "                 Class     Images  Instances      Box(P          R      mAP50  mAP50-95): 100%|██████████| 2/2 [00:00<00:00,  2.05it/s]"
          ]
        },
        {
          "name": "stdout",
          "output_type": "stream",
          "text": [
            "                   all         85        308      0.873      0.736      0.818      0.734\n"
          ]
        },
        {
          "name": "stderr",
          "output_type": "stream",
          "text": [
            "\n"
          ]
        },
        {
          "name": "stdout",
          "output_type": "stream",
          "text": [
            "\n",
            "      Epoch    GPU_mem   box_loss   cls_loss   dfl_loss  Instances       Size\n"
          ]
        },
        {
          "name": "stderr",
          "output_type": "stream",
          "text": [
            "    141/300      4.04G     0.4589      0.313     0.8241        177        640: 100%|██████████| 49/49 [00:19<00:00,  2.52it/s]\n",
            "                 Class     Images  Instances      Box(P          R      mAP50  mAP50-95): 100%|██████████| 2/2 [00:01<00:00,  1.75it/s]"
          ]
        },
        {
          "name": "stdout",
          "output_type": "stream",
          "text": [
            "                   all         85        308      0.895      0.786      0.835      0.738\n"
          ]
        },
        {
          "name": "stderr",
          "output_type": "stream",
          "text": [
            "\n"
          ]
        },
        {
          "name": "stdout",
          "output_type": "stream",
          "text": [
            "\n",
            "      Epoch    GPU_mem   box_loss   cls_loss   dfl_loss  Instances       Size\n"
          ]
        },
        {
          "name": "stderr",
          "output_type": "stream",
          "text": [
            "    142/300      3.99G     0.4576     0.3248      0.823        170        640: 100%|██████████| 49/49 [00:18<00:00,  2.58it/s]\n",
            "                 Class     Images  Instances      Box(P          R      mAP50  mAP50-95): 100%|██████████| 2/2 [00:00<00:00,  2.05it/s]"
          ]
        },
        {
          "name": "stdout",
          "output_type": "stream",
          "text": [
            "                   all         85        308      0.895      0.813      0.838      0.742\n"
          ]
        },
        {
          "name": "stderr",
          "output_type": "stream",
          "text": [
            "\n"
          ]
        },
        {
          "name": "stdout",
          "output_type": "stream",
          "text": [
            "\n",
            "      Epoch    GPU_mem   box_loss   cls_loss   dfl_loss  Instances       Size\n"
          ]
        },
        {
          "name": "stderr",
          "output_type": "stream",
          "text": [
            "    143/300      4.05G     0.4545     0.3193     0.8244        179        640: 100%|██████████| 49/49 [00:18<00:00,  2.61it/s]\n",
            "                 Class     Images  Instances      Box(P          R      mAP50  mAP50-95): 100%|██████████| 2/2 [00:00<00:00,  2.15it/s]"
          ]
        },
        {
          "name": "stdout",
          "output_type": "stream",
          "text": [
            "                   all         85        308      0.872      0.788      0.799      0.715\n"
          ]
        },
        {
          "name": "stderr",
          "output_type": "stream",
          "text": [
            "\n"
          ]
        },
        {
          "name": "stdout",
          "output_type": "stream",
          "text": [
            "\n",
            "      Epoch    GPU_mem   box_loss   cls_loss   dfl_loss  Instances       Size\n"
          ]
        },
        {
          "name": "stderr",
          "output_type": "stream",
          "text": [
            "    144/300      3.99G     0.4564     0.3194      0.817        201        640: 100%|██████████| 49/49 [00:19<00:00,  2.51it/s]\n",
            "                 Class     Images  Instances      Box(P          R      mAP50  mAP50-95): 100%|██████████| 2/2 [00:01<00:00,  1.97it/s]"
          ]
        },
        {
          "name": "stdout",
          "output_type": "stream",
          "text": [
            "                   all         85        308      0.852      0.801      0.812      0.718\n"
          ]
        },
        {
          "name": "stderr",
          "output_type": "stream",
          "text": [
            "\n"
          ]
        },
        {
          "name": "stdout",
          "output_type": "stream",
          "text": [
            "\n",
            "      Epoch    GPU_mem   box_loss   cls_loss   dfl_loss  Instances       Size\n"
          ]
        },
        {
          "name": "stderr",
          "output_type": "stream",
          "text": [
            "    145/300      4.05G     0.4625     0.3172     0.8249        198        640: 100%|██████████| 49/49 [00:19<00:00,  2.56it/s]\n",
            "                 Class     Images  Instances      Box(P          R      mAP50  mAP50-95): 100%|██████████| 2/2 [00:01<00:00,  1.64it/s]"
          ]
        },
        {
          "name": "stdout",
          "output_type": "stream",
          "text": [
            "                   all         85        308        0.9      0.801      0.815       0.73\n"
          ]
        },
        {
          "name": "stderr",
          "output_type": "stream",
          "text": [
            "\n"
          ]
        },
        {
          "name": "stdout",
          "output_type": "stream",
          "text": [
            "\n",
            "      Epoch    GPU_mem   box_loss   cls_loss   dfl_loss  Instances       Size\n"
          ]
        },
        {
          "name": "stderr",
          "output_type": "stream",
          "text": [
            "    146/300      4.06G     0.4577     0.3203     0.8226        167        640: 100%|██████████| 49/49 [00:19<00:00,  2.52it/s]\n",
            "                 Class     Images  Instances      Box(P          R      mAP50  mAP50-95): 100%|██████████| 2/2 [00:01<00:00,  1.81it/s]"
          ]
        },
        {
          "name": "stdout",
          "output_type": "stream",
          "text": [
            "                   all         85        308       0.88      0.772      0.812      0.732\n"
          ]
        },
        {
          "name": "stderr",
          "output_type": "stream",
          "text": [
            "\n"
          ]
        },
        {
          "name": "stdout",
          "output_type": "stream",
          "text": [
            "\n",
            "      Epoch    GPU_mem   box_loss   cls_loss   dfl_loss  Instances       Size\n"
          ]
        },
        {
          "name": "stderr",
          "output_type": "stream",
          "text": [
            "    147/300      4.08G     0.4501     0.3166     0.8197        188        640: 100%|██████████| 49/49 [00:19<00:00,  2.52it/s]\n",
            "                 Class     Images  Instances      Box(P          R      mAP50  mAP50-95): 100%|██████████| 2/2 [00:01<00:00,  1.88it/s]"
          ]
        },
        {
          "name": "stdout",
          "output_type": "stream",
          "text": [
            "                   all         85        308      0.891      0.782      0.829      0.739\n"
          ]
        },
        {
          "name": "stderr",
          "output_type": "stream",
          "text": [
            "\n"
          ]
        },
        {
          "name": "stdout",
          "output_type": "stream",
          "text": [
            "\n",
            "      Epoch    GPU_mem   box_loss   cls_loss   dfl_loss  Instances       Size\n"
          ]
        },
        {
          "name": "stderr",
          "output_type": "stream",
          "text": [
            "    148/300      4.05G     0.4542     0.3214     0.8227        159        640: 100%|██████████| 49/49 [00:19<00:00,  2.51it/s]\n",
            "                 Class     Images  Instances      Box(P          R      mAP50  mAP50-95): 100%|██████████| 2/2 [00:01<00:00,  1.83it/s]"
          ]
        },
        {
          "name": "stdout",
          "output_type": "stream",
          "text": [
            "                   all         85        308      0.894      0.783      0.828      0.741\n"
          ]
        },
        {
          "name": "stderr",
          "output_type": "stream",
          "text": [
            "\n"
          ]
        },
        {
          "name": "stdout",
          "output_type": "stream",
          "text": [
            "\n",
            "      Epoch    GPU_mem   box_loss   cls_loss   dfl_loss  Instances       Size\n"
          ]
        },
        {
          "name": "stderr",
          "output_type": "stream",
          "text": [
            "    149/300      3.98G     0.4572     0.3245      0.825        154        640: 100%|██████████| 49/49 [00:18<00:00,  2.64it/s]\n",
            "                 Class     Images  Instances      Box(P          R      mAP50  mAP50-95): 100%|██████████| 2/2 [00:01<00:00,  1.81it/s]"
          ]
        },
        {
          "name": "stdout",
          "output_type": "stream",
          "text": [
            "                   all         85        308      0.879      0.765      0.817       0.73\n"
          ]
        },
        {
          "name": "stderr",
          "output_type": "stream",
          "text": [
            "\n"
          ]
        },
        {
          "name": "stdout",
          "output_type": "stream",
          "text": [
            "\n",
            "      Epoch    GPU_mem   box_loss   cls_loss   dfl_loss  Instances       Size\n"
          ]
        },
        {
          "name": "stderr",
          "output_type": "stream",
          "text": [
            "    150/300      4.05G     0.4531     0.3191     0.8205        234        640: 100%|██████████| 49/49 [00:19<00:00,  2.51it/s]\n",
            "                 Class     Images  Instances      Box(P          R      mAP50  mAP50-95): 100%|██████████| 2/2 [00:01<00:00,  1.89it/s]"
          ]
        },
        {
          "name": "stdout",
          "output_type": "stream",
          "text": [
            "                   all         85        308      0.899      0.777      0.805      0.716\n"
          ]
        },
        {
          "name": "stderr",
          "output_type": "stream",
          "text": [
            "\n"
          ]
        },
        {
          "name": "stdout",
          "output_type": "stream",
          "text": [
            "\n",
            "      Epoch    GPU_mem   box_loss   cls_loss   dfl_loss  Instances       Size\n"
          ]
        },
        {
          "name": "stderr",
          "output_type": "stream",
          "text": [
            "    151/300      4.03G     0.4565     0.3181     0.8252        207        640: 100%|██████████| 49/49 [00:19<00:00,  2.55it/s]\n",
            "                 Class     Images  Instances      Box(P          R      mAP50  mAP50-95): 100%|██████████| 2/2 [00:01<00:00,  1.64it/s]"
          ]
        },
        {
          "name": "stdout",
          "output_type": "stream",
          "text": [
            "                   all         85        308      0.898      0.787      0.828      0.743\n"
          ]
        },
        {
          "name": "stderr",
          "output_type": "stream",
          "text": [
            "\n"
          ]
        },
        {
          "name": "stdout",
          "output_type": "stream",
          "text": [
            "\n",
            "      Epoch    GPU_mem   box_loss   cls_loss   dfl_loss  Instances       Size\n"
          ]
        },
        {
          "name": "stderr",
          "output_type": "stream",
          "text": [
            "    152/300      4.09G     0.4524     0.3228     0.8237        213        640: 100%|██████████| 49/49 [00:19<00:00,  2.50it/s]\n",
            "                 Class     Images  Instances      Box(P          R      mAP50  mAP50-95): 100%|██████████| 2/2 [00:01<00:00,  2.00it/s]"
          ]
        },
        {
          "name": "stdout",
          "output_type": "stream",
          "text": [
            "                   all         85        308      0.919      0.767      0.813      0.731\n"
          ]
        },
        {
          "name": "stderr",
          "output_type": "stream",
          "text": [
            "\n"
          ]
        },
        {
          "name": "stdout",
          "output_type": "stream",
          "text": [
            "\n",
            "      Epoch    GPU_mem   box_loss   cls_loss   dfl_loss  Instances       Size\n"
          ]
        },
        {
          "name": "stderr",
          "output_type": "stream",
          "text": [
            "    153/300      4.06G     0.4543     0.3139      0.824        192        640: 100%|██████████| 49/49 [00:18<00:00,  2.59it/s]\n",
            "                 Class     Images  Instances      Box(P          R      mAP50  mAP50-95): 100%|██████████| 2/2 [00:00<00:00,  2.25it/s]"
          ]
        },
        {
          "name": "stdout",
          "output_type": "stream",
          "text": [
            "                   all         85        308      0.908       0.78      0.833      0.749\n"
          ]
        },
        {
          "name": "stderr",
          "output_type": "stream",
          "text": [
            "\n"
          ]
        },
        {
          "name": "stdout",
          "output_type": "stream",
          "text": [
            "\n",
            "      Epoch    GPU_mem   box_loss   cls_loss   dfl_loss  Instances       Size\n"
          ]
        },
        {
          "name": "stderr",
          "output_type": "stream",
          "text": [
            "    154/300         4G     0.4507     0.3158      0.821        189        640: 100%|██████████| 49/49 [00:19<00:00,  2.52it/s]\n",
            "                 Class     Images  Instances      Box(P          R      mAP50  mAP50-95): 100%|██████████| 2/2 [00:01<00:00,  1.75it/s]"
          ]
        },
        {
          "name": "stdout",
          "output_type": "stream",
          "text": [
            "                   all         85        308      0.885      0.784      0.811      0.725\n"
          ]
        },
        {
          "name": "stderr",
          "output_type": "stream",
          "text": [
            "\n"
          ]
        },
        {
          "name": "stdout",
          "output_type": "stream",
          "text": [
            "\n",
            "      Epoch    GPU_mem   box_loss   cls_loss   dfl_loss  Instances       Size\n"
          ]
        },
        {
          "name": "stderr",
          "output_type": "stream",
          "text": [
            "    155/300       4.1G     0.4555     0.3144     0.8218        177        640: 100%|██████████| 49/49 [00:18<00:00,  2.62it/s]\n",
            "                 Class     Images  Instances      Box(P          R      mAP50  mAP50-95): 100%|██████████| 2/2 [00:00<00:00,  2.03it/s]"
          ]
        },
        {
          "name": "stdout",
          "output_type": "stream",
          "text": [
            "                   all         85        308      0.887      0.781      0.818      0.733\n"
          ]
        },
        {
          "name": "stderr",
          "output_type": "stream",
          "text": [
            "\n"
          ]
        },
        {
          "name": "stdout",
          "output_type": "stream",
          "text": [
            "\n",
            "      Epoch    GPU_mem   box_loss   cls_loss   dfl_loss  Instances       Size\n"
          ]
        },
        {
          "name": "stderr",
          "output_type": "stream",
          "text": [
            "    156/300      4.05G      0.454     0.3089      0.822        178        640: 100%|██████████| 49/49 [00:19<00:00,  2.53it/s]\n",
            "                 Class     Images  Instances      Box(P          R      mAP50  mAP50-95): 100%|██████████| 2/2 [00:00<00:00,  2.05it/s]"
          ]
        },
        {
          "name": "stdout",
          "output_type": "stream",
          "text": [
            "                   all         85        308      0.889      0.777       0.82       0.73\n"
          ]
        },
        {
          "name": "stderr",
          "output_type": "stream",
          "text": [
            "\n"
          ]
        },
        {
          "name": "stdout",
          "output_type": "stream",
          "text": [
            "\n",
            "      Epoch    GPU_mem   box_loss   cls_loss   dfl_loss  Instances       Size\n"
          ]
        },
        {
          "name": "stderr",
          "output_type": "stream",
          "text": [
            "    157/300      4.05G     0.4581     0.3153     0.8225        220        640: 100%|██████████| 49/49 [00:19<00:00,  2.54it/s]\n",
            "                 Class     Images  Instances      Box(P          R      mAP50  mAP50-95): 100%|██████████| 2/2 [00:01<00:00,  1.68it/s]"
          ]
        },
        {
          "name": "stdout",
          "output_type": "stream",
          "text": [
            "                   all         85        308       0.92       0.78       0.82       0.72\n"
          ]
        },
        {
          "name": "stderr",
          "output_type": "stream",
          "text": [
            "\n"
          ]
        },
        {
          "name": "stdout",
          "output_type": "stream",
          "text": [
            "\n",
            "      Epoch    GPU_mem   box_loss   cls_loss   dfl_loss  Instances       Size\n"
          ]
        },
        {
          "name": "stderr",
          "output_type": "stream",
          "text": [
            "    158/300      4.05G     0.4424     0.3117     0.8216        147        640: 100%|██████████| 49/49 [00:19<00:00,  2.50it/s]\n",
            "                 Class     Images  Instances      Box(P          R      mAP50  mAP50-95): 100%|██████████| 2/2 [00:01<00:00,  1.88it/s]"
          ]
        },
        {
          "name": "stdout",
          "output_type": "stream",
          "text": [
            "                   all         85        308      0.905      0.783       0.82      0.739\n"
          ]
        },
        {
          "name": "stderr",
          "output_type": "stream",
          "text": [
            "\n"
          ]
        },
        {
          "name": "stdout",
          "output_type": "stream",
          "text": [
            "\n",
            "      Epoch    GPU_mem   box_loss   cls_loss   dfl_loss  Instances       Size\n"
          ]
        },
        {
          "name": "stderr",
          "output_type": "stream",
          "text": [
            "    159/300      4.05G     0.4462     0.3183     0.8208        174        640: 100%|██████████| 49/49 [00:19<00:00,  2.52it/s]\n",
            "                 Class     Images  Instances      Box(P          R      mAP50  mAP50-95): 100%|██████████| 2/2 [00:01<00:00,  1.73it/s]"
          ]
        },
        {
          "name": "stdout",
          "output_type": "stream",
          "text": [
            "                   all         85        308      0.885       0.79      0.815      0.728\n"
          ]
        },
        {
          "name": "stderr",
          "output_type": "stream",
          "text": [
            "\n"
          ]
        },
        {
          "name": "stdout",
          "output_type": "stream",
          "text": [
            "\n",
            "      Epoch    GPU_mem   box_loss   cls_loss   dfl_loss  Instances       Size\n"
          ]
        },
        {
          "name": "stderr",
          "output_type": "stream",
          "text": [
            "    160/300      4.07G     0.4468     0.3104     0.8219        137        640: 100%|██████████| 49/49 [00:19<00:00,  2.58it/s]\n",
            "                 Class     Images  Instances      Box(P          R      mAP50  mAP50-95): 100%|██████████| 2/2 [00:00<00:00,  2.36it/s]"
          ]
        },
        {
          "name": "stdout",
          "output_type": "stream",
          "text": [
            "                   all         85        308      0.909      0.785      0.813      0.725\n"
          ]
        },
        {
          "name": "stderr",
          "output_type": "stream",
          "text": [
            "\n"
          ]
        },
        {
          "name": "stdout",
          "output_type": "stream",
          "text": [
            "\n",
            "      Epoch    GPU_mem   box_loss   cls_loss   dfl_loss  Instances       Size\n"
          ]
        },
        {
          "name": "stderr",
          "output_type": "stream",
          "text": [
            "    161/300      4.05G     0.4496      0.307      0.821        140        640: 100%|██████████| 49/49 [00:18<00:00,  2.60it/s]\n",
            "                 Class     Images  Instances      Box(P          R      mAP50  mAP50-95): 100%|██████████| 2/2 [00:00<00:00,  2.08it/s]"
          ]
        },
        {
          "name": "stdout",
          "output_type": "stream",
          "text": [
            "                   all         85        308      0.872      0.797        0.8      0.707\n"
          ]
        },
        {
          "name": "stderr",
          "output_type": "stream",
          "text": [
            "\n"
          ]
        },
        {
          "name": "stdout",
          "output_type": "stream",
          "text": [
            "\n",
            "      Epoch    GPU_mem   box_loss   cls_loss   dfl_loss  Instances       Size\n"
          ]
        },
        {
          "name": "stderr",
          "output_type": "stream",
          "text": [
            "    162/300      4.04G     0.4442     0.3171     0.8185        174        640: 100%|██████████| 49/49 [00:19<00:00,  2.52it/s]\n",
            "                 Class     Images  Instances      Box(P          R      mAP50  mAP50-95): 100%|██████████| 2/2 [00:01<00:00,  1.87it/s]"
          ]
        },
        {
          "name": "stdout",
          "output_type": "stream",
          "text": [
            "                   all         85        308      0.887      0.782       0.82      0.724\n"
          ]
        },
        {
          "name": "stderr",
          "output_type": "stream",
          "text": [
            "\n"
          ]
        },
        {
          "name": "stdout",
          "output_type": "stream",
          "text": [
            "\n",
            "      Epoch    GPU_mem   box_loss   cls_loss   dfl_loss  Instances       Size\n"
          ]
        },
        {
          "name": "stderr",
          "output_type": "stream",
          "text": [
            "    163/300      4.05G     0.4553     0.3174     0.8221        192        640: 100%|██████████| 49/49 [00:18<00:00,  2.60it/s]\n",
            "                 Class     Images  Instances      Box(P          R      mAP50  mAP50-95): 100%|██████████| 2/2 [00:01<00:00,  1.96it/s]"
          ]
        },
        {
          "name": "stdout",
          "output_type": "stream",
          "text": [
            "                   all         85        308      0.908      0.768      0.808      0.717\n"
          ]
        },
        {
          "name": "stderr",
          "output_type": "stream",
          "text": [
            "\n"
          ]
        },
        {
          "name": "stdout",
          "output_type": "stream",
          "text": [
            "\n",
            "      Epoch    GPU_mem   box_loss   cls_loss   dfl_loss  Instances       Size\n"
          ]
        },
        {
          "name": "stderr",
          "output_type": "stream",
          "text": [
            "    164/300      4.09G     0.4416     0.3167     0.8206        183        640: 100%|██████████| 49/49 [00:18<00:00,  2.59it/s]\n",
            "                 Class     Images  Instances      Box(P          R      mAP50  mAP50-95): 100%|██████████| 2/2 [00:00<00:00,  2.13it/s]"
          ]
        },
        {
          "name": "stdout",
          "output_type": "stream",
          "text": [
            "                   all         85        308      0.913      0.787      0.826      0.739\n"
          ]
        },
        {
          "name": "stderr",
          "output_type": "stream",
          "text": [
            "\n"
          ]
        },
        {
          "name": "stdout",
          "output_type": "stream",
          "text": [
            "\n",
            "      Epoch    GPU_mem   box_loss   cls_loss   dfl_loss  Instances       Size\n"
          ]
        },
        {
          "name": "stderr",
          "output_type": "stream",
          "text": [
            "    165/300      4.04G     0.4441     0.3088     0.8227        156        640: 100%|██████████| 49/49 [00:18<00:00,  2.64it/s]\n",
            "                 Class     Images  Instances      Box(P          R      mAP50  mAP50-95): 100%|██████████| 2/2 [00:01<00:00,  1.85it/s]"
          ]
        },
        {
          "name": "stdout",
          "output_type": "stream",
          "text": [
            "                   all         85        308       0.89      0.787      0.812      0.721\n"
          ]
        },
        {
          "name": "stderr",
          "output_type": "stream",
          "text": [
            "\n"
          ]
        },
        {
          "name": "stdout",
          "output_type": "stream",
          "text": [
            "\n",
            "      Epoch    GPU_mem   box_loss   cls_loss   dfl_loss  Instances       Size\n"
          ]
        },
        {
          "name": "stderr",
          "output_type": "stream",
          "text": [
            "    166/300      4.04G     0.4478     0.3153     0.8194        200        640: 100%|██████████| 49/49 [00:18<00:00,  2.61it/s]\n",
            "                 Class     Images  Instances      Box(P          R      mAP50  mAP50-95): 100%|██████████| 2/2 [00:00<00:00,  2.15it/s]"
          ]
        },
        {
          "name": "stdout",
          "output_type": "stream",
          "text": [
            "                   all         85        308      0.876      0.788      0.819      0.721\n"
          ]
        },
        {
          "name": "stderr",
          "output_type": "stream",
          "text": [
            "\n"
          ]
        },
        {
          "name": "stdout",
          "output_type": "stream",
          "text": [
            "\n",
            "      Epoch    GPU_mem   box_loss   cls_loss   dfl_loss  Instances       Size\n"
          ]
        },
        {
          "name": "stderr",
          "output_type": "stream",
          "text": [
            "    167/300      4.05G     0.4462     0.3022     0.8207        158        640: 100%|██████████| 49/49 [00:19<00:00,  2.51it/s]\n",
            "                 Class     Images  Instances      Box(P          R      mAP50  mAP50-95): 100%|██████████| 2/2 [00:01<00:00,  1.77it/s]"
          ]
        },
        {
          "name": "stdout",
          "output_type": "stream",
          "text": [
            "                   all         85        308      0.899      0.779      0.809      0.716\n"
          ]
        },
        {
          "name": "stderr",
          "output_type": "stream",
          "text": [
            "\n"
          ]
        },
        {
          "name": "stdout",
          "output_type": "stream",
          "text": [
            "\n",
            "      Epoch    GPU_mem   box_loss   cls_loss   dfl_loss  Instances       Size\n"
          ]
        },
        {
          "name": "stderr",
          "output_type": "stream",
          "text": [
            "    168/300      4.06G     0.4457     0.3044     0.8222        178        640: 100%|██████████| 49/49 [00:19<00:00,  2.49it/s]\n",
            "                 Class     Images  Instances      Box(P          R      mAP50  mAP50-95): 100%|██████████| 2/2 [00:00<00:00,  2.02it/s]"
          ]
        },
        {
          "name": "stdout",
          "output_type": "stream",
          "text": [
            "                   all         85        308       0.88      0.762      0.808      0.718\n"
          ]
        },
        {
          "name": "stderr",
          "output_type": "stream",
          "text": [
            "\n"
          ]
        },
        {
          "name": "stdout",
          "output_type": "stream",
          "text": [
            "\n",
            "      Epoch    GPU_mem   box_loss   cls_loss   dfl_loss  Instances       Size\n"
          ]
        },
        {
          "name": "stderr",
          "output_type": "stream",
          "text": [
            "    169/300      4.04G     0.4378     0.3129     0.8193        212        640: 100%|██████████| 49/49 [00:19<00:00,  2.55it/s]\n",
            "                 Class     Images  Instances      Box(P          R      mAP50  mAP50-95): 100%|██████████| 2/2 [00:01<00:00,  1.64it/s]"
          ]
        },
        {
          "name": "stdout",
          "output_type": "stream",
          "text": [
            "                   all         85        308      0.893      0.787      0.819      0.731\n"
          ]
        },
        {
          "name": "stderr",
          "output_type": "stream",
          "text": [
            "\n"
          ]
        },
        {
          "name": "stdout",
          "output_type": "stream",
          "text": [
            "\n",
            "      Epoch    GPU_mem   box_loss   cls_loss   dfl_loss  Instances       Size\n"
          ]
        },
        {
          "name": "stderr",
          "output_type": "stream",
          "text": [
            "    170/300      3.99G     0.4444     0.3133     0.8221        189        640: 100%|██████████| 49/49 [00:19<00:00,  2.51it/s]\n",
            "                 Class     Images  Instances      Box(P          R      mAP50  mAP50-95): 100%|██████████| 2/2 [00:01<00:00,  1.84it/s]"
          ]
        },
        {
          "name": "stdout",
          "output_type": "stream",
          "text": [
            "                   all         85        308      0.874      0.753      0.806      0.718\n"
          ]
        },
        {
          "name": "stderr",
          "output_type": "stream",
          "text": [
            "\n"
          ]
        },
        {
          "name": "stdout",
          "output_type": "stream",
          "text": [
            "\n",
            "      Epoch    GPU_mem   box_loss   cls_loss   dfl_loss  Instances       Size\n"
          ]
        },
        {
          "name": "stderr",
          "output_type": "stream",
          "text": [
            "    171/300      4.05G      0.452       0.31     0.8194        210        640: 100%|██████████| 49/49 [00:19<00:00,  2.52it/s]\n",
            "                 Class     Images  Instances      Box(P          R      mAP50  mAP50-95): 100%|██████████| 2/2 [00:01<00:00,  1.90it/s]"
          ]
        },
        {
          "name": "stdout",
          "output_type": "stream",
          "text": [
            "                   all         85        308      0.898      0.775      0.819      0.733\n"
          ]
        },
        {
          "name": "stderr",
          "output_type": "stream",
          "text": [
            "\n"
          ]
        },
        {
          "name": "stdout",
          "output_type": "stream",
          "text": [
            "\n",
            "      Epoch    GPU_mem   box_loss   cls_loss   dfl_loss  Instances       Size\n"
          ]
        },
        {
          "name": "stderr",
          "output_type": "stream",
          "text": [
            "    172/300      4.09G     0.4333     0.3027     0.8181        198        640: 100%|██████████| 49/49 [00:19<00:00,  2.54it/s]\n",
            "                 Class     Images  Instances      Box(P          R      mAP50  mAP50-95): 100%|██████████| 2/2 [00:01<00:00,  1.75it/s]"
          ]
        },
        {
          "name": "stdout",
          "output_type": "stream",
          "text": [
            "                   all         85        308      0.893      0.794      0.817      0.728\n"
          ]
        },
        {
          "name": "stderr",
          "output_type": "stream",
          "text": [
            "\n"
          ]
        },
        {
          "name": "stdout",
          "output_type": "stream",
          "text": [
            "\n",
            "      Epoch    GPU_mem   box_loss   cls_loss   dfl_loss  Instances       Size\n"
          ]
        },
        {
          "name": "stderr",
          "output_type": "stream",
          "text": [
            "    173/300      4.08G     0.4398     0.3024     0.8203        189        640: 100%|██████████| 49/49 [00:19<00:00,  2.52it/s]\n",
            "                 Class     Images  Instances      Box(P          R      mAP50  mAP50-95): 100%|██████████| 2/2 [00:01<00:00,  1.72it/s]"
          ]
        },
        {
          "name": "stdout",
          "output_type": "stream",
          "text": [
            "                   all         85        308      0.904      0.782      0.832      0.749\n"
          ]
        },
        {
          "name": "stderr",
          "output_type": "stream",
          "text": [
            "\n"
          ]
        },
        {
          "name": "stdout",
          "output_type": "stream",
          "text": [
            "\n",
            "      Epoch    GPU_mem   box_loss   cls_loss   dfl_loss  Instances       Size\n"
          ]
        },
        {
          "name": "stderr",
          "output_type": "stream",
          "text": [
            "    174/300      4.05G     0.4444     0.3128     0.8204        170        640: 100%|██████████| 49/49 [00:19<00:00,  2.52it/s]\n",
            "                 Class     Images  Instances      Box(P          R      mAP50  mAP50-95): 100%|██████████| 2/2 [00:00<00:00,  2.03it/s]"
          ]
        },
        {
          "name": "stdout",
          "output_type": "stream",
          "text": [
            "                   all         85        308      0.901      0.781      0.825      0.733\n"
          ]
        },
        {
          "name": "stderr",
          "output_type": "stream",
          "text": [
            "\n"
          ]
        },
        {
          "name": "stdout",
          "output_type": "stream",
          "text": [
            "\n",
            "      Epoch    GPU_mem   box_loss   cls_loss   dfl_loss  Instances       Size\n"
          ]
        },
        {
          "name": "stderr",
          "output_type": "stream",
          "text": [
            "    175/300      3.99G     0.4368      0.306     0.8155        203        640: 100%|██████████| 49/49 [00:18<00:00,  2.62it/s]\n",
            "                 Class     Images  Instances      Box(P          R      mAP50  mAP50-95): 100%|██████████| 2/2 [00:01<00:00,  1.81it/s]"
          ]
        },
        {
          "name": "stdout",
          "output_type": "stream",
          "text": [
            "                   all         85        308      0.904      0.779      0.811      0.718\n"
          ]
        },
        {
          "name": "stderr",
          "output_type": "stream",
          "text": [
            "\n"
          ]
        },
        {
          "name": "stdout",
          "output_type": "stream",
          "text": [
            "\n",
            "      Epoch    GPU_mem   box_loss   cls_loss   dfl_loss  Instances       Size\n"
          ]
        },
        {
          "name": "stderr",
          "output_type": "stream",
          "text": [
            "    176/300      4.04G     0.4384     0.3055     0.8162        212        640: 100%|██████████| 49/49 [00:19<00:00,  2.53it/s]\n",
            "                 Class     Images  Instances      Box(P          R      mAP50  mAP50-95): 100%|██████████| 2/2 [00:01<00:00,  1.92it/s]"
          ]
        },
        {
          "name": "stdout",
          "output_type": "stream",
          "text": [
            "                   all         85        308      0.888      0.786      0.825      0.729\n"
          ]
        },
        {
          "name": "stderr",
          "output_type": "stream",
          "text": [
            "\n"
          ]
        },
        {
          "name": "stdout",
          "output_type": "stream",
          "text": [
            "\n",
            "      Epoch    GPU_mem   box_loss   cls_loss   dfl_loss  Instances       Size\n"
          ]
        },
        {
          "name": "stderr",
          "output_type": "stream",
          "text": [
            "    177/300      4.04G     0.4391     0.3028     0.8215        160        640: 100%|██████████| 49/49 [00:18<00:00,  2.62it/s]\n",
            "                 Class     Images  Instances      Box(P          R      mAP50  mAP50-95): 100%|██████████| 2/2 [00:01<00:00,  1.90it/s]"
          ]
        },
        {
          "name": "stdout",
          "output_type": "stream",
          "text": [
            "                   all         85        308      0.906      0.787      0.827      0.734\n"
          ]
        },
        {
          "name": "stderr",
          "output_type": "stream",
          "text": [
            "\n"
          ]
        },
        {
          "name": "stdout",
          "output_type": "stream",
          "text": [
            "\n",
            "      Epoch    GPU_mem   box_loss   cls_loss   dfl_loss  Instances       Size\n"
          ]
        },
        {
          "name": "stderr",
          "output_type": "stream",
          "text": [
            "    178/300      3.99G     0.4379      0.302      0.819        203        640: 100%|██████████| 49/49 [00:19<00:00,  2.50it/s]\n",
            "                 Class     Images  Instances      Box(P          R      mAP50  mAP50-95): 100%|██████████| 2/2 [00:01<00:00,  1.92it/s]"
          ]
        },
        {
          "name": "stdout",
          "output_type": "stream",
          "text": [
            "                   all         85        308      0.887      0.799      0.838      0.749\n"
          ]
        },
        {
          "name": "stderr",
          "output_type": "stream",
          "text": [
            "\n"
          ]
        },
        {
          "name": "stdout",
          "output_type": "stream",
          "text": [
            "\n",
            "      Epoch    GPU_mem   box_loss   cls_loss   dfl_loss  Instances       Size\n"
          ]
        },
        {
          "name": "stderr",
          "output_type": "stream",
          "text": [
            "    179/300      4.04G     0.4417     0.3044     0.8214        143        640: 100%|██████████| 49/49 [00:19<00:00,  2.54it/s]\n",
            "                 Class     Images  Instances      Box(P          R      mAP50  mAP50-95): 100%|██████████| 2/2 [00:01<00:00,  1.72it/s]"
          ]
        },
        {
          "name": "stdout",
          "output_type": "stream",
          "text": [
            "                   all         85        308       0.92      0.751      0.817      0.734\n",
            "\u001b[34m\u001b[1mEarlyStopping: \u001b[0mTraining stopped early as no improvement observed in last 100 epochs. Best results observed at epoch 79, best model saved as best.pt.\n",
            "To update EarlyStopping(patience=100) pass a new patience value, i.e. `patience=300` or use `patience=0` to disable EarlyStopping.\n"
          ]
        },
        {
          "name": "stderr",
          "output_type": "stream",
          "text": [
            "\n"
          ]
        },
        {
          "name": "stdout",
          "output_type": "stream",
          "text": [
            "\n",
            "179 epochs completed in 1.052 hours.\n",
            "Optimizer stripped from runs\\detect\\train2\\weights\\last.pt, 6.2MB\n",
            "Optimizer stripped from runs\\detect\\train2\\weights\\best.pt, 6.2MB\n",
            "\n",
            "Validating runs\\detect\\train2\\weights\\best.pt...\n",
            "Ultralytics YOLOv8.2.78  Python-3.8.10 torch-2.4.0+cu121 CUDA:0 (NVIDIA GeForce RTX 2060, 6144MiB)\n",
            "Model summary (fused): 168 layers, 3,007,208 parameters, 0 gradients, 8.1 GFLOPs\n"
          ]
        },
        {
          "name": "stderr",
          "output_type": "stream",
          "text": [
            "                 Class     Images  Instances      Box(P          R      mAP50  mAP50-95): 100%|██████████| 2/2 [00:02<00:00,  1.00s/it]\n"
          ]
        },
        {
          "name": "stdout",
          "output_type": "stream",
          "text": [
            "                   all         85        308      0.901      0.823      0.883      0.778\n",
            "                   car         80        215      0.811      0.912      0.916      0.703\n",
            "                   bus         15         15      0.998        0.8      0.858      0.811\n",
            "                 truck         49         78      0.895      0.756      0.877       0.82\n",
            "Speed: 0.3ms preprocess, 2.9ms inference, 0.0ms loss, 4.0ms postprocess per image\n",
            "Results saved to \u001b[1mruns\\detect\\train2\u001b[0m\n"
          ]
        }
      ],
      "source": [
        "# Train YOLOv8n \n",
        "# !yolo train model=yolov8n.pt data='./datasets/data.yaml' batch=32 epochs=300 imgsz=640 device=0\n",
        "\n",
        "import torch\n",
        "from ultralytics import YOLO\n",
        "\n",
        "def train(dataset_path=None, model = None, epochs=1, batch_size=16, imgsz=640):\n",
        "    training_device = 'cuda' if torch.cuda.is_available() else 'cpu'\n",
        "    print(\"Using device:\", training_device)\n",
        "\n",
        "    batch_size = batch_size\n",
        "    epochs = epochs\n",
        "    imgsz = imgsz\n",
        "\n",
        "    dataset_path = dataset_path\n",
        "    model = YOLO(model)\n",
        "    model.train(task='detect',\n",
        "                data=dataset_path,\n",
        "                epochs=epochs,\n",
        "                batch=batch_size,\n",
        "                imgsz=imgsz,\n",
        "                device=training_device)\n",
        "\n",
        "if __name__ == '__main__':\n",
        "    train(dataset_path='./datasets/data.yaml', model = 'yolov8n.pt', epochs=300, batch_size=32, imgsz=640)\n"
      ]
    },
    {
      "cell_type": "markdown",
      "metadata": {
        "id": "0eq1SMWl6Sfn"
      },
      "source": [
        "# 2. Val\n",
        "Validate a model's accuracy on the [COCO](https://docs.ultralytics.com/datasets/detect/coco/) dataset's `val` or `test` splits. The latest YOLOv8 [models](https://github.com/ultralytics/ultralytics#models) are downloaded automatically the first time they are used. See [YOLOv8 Val Docs](https://docs.ultralytics.com/modes/val/) for more information."
      ]
    },
    {
      "cell_type": "code",
      "execution_count": null,
      "metadata": {
        "colab": {
          "base_uri": "https://localhost:8080/"
        },
        "id": "X58w8JLpMnjH",
        "outputId": "bed10d45-ceb6-4b6f-86b7-9428208b142a"
      },
      "outputs": [
        {
          "name": "stdout",
          "output_type": "stream",
          "text": [
            "Ultralytics YOLOv8.2.3 🚀 Python-3.10.12 torch-2.2.1+cu121 CUDA:0 (Tesla T4, 15102MiB)\n",
            "YOLOv8n summary (fused): 168 layers, 3151904 parameters, 0 gradients, 8.7 GFLOPs\n",
            "\n",
            "Dataset 'coco8.yaml' images not found ⚠️, missing path '/content/datasets/coco8/images/val'\n",
            "Downloading https://ultralytics.com/assets/coco8.zip to '/content/datasets/coco8.zip'...\n",
            "100% 433k/433k [00:00<00:00, 14.2MB/s]\n",
            "Unzipping /content/datasets/coco8.zip to /content/datasets/coco8...: 100% 25/25 [00:00<00:00, 1093.93file/s]\n",
            "Dataset download success ✅ (1.3s), saved to \u001b[1m/content/datasets\u001b[0m\n",
            "\n",
            "Downloading https://ultralytics.com/assets/Arial.ttf to '/root/.config/Ultralytics/Arial.ttf'...\n",
            "100% 755k/755k [00:00<00:00, 17.4MB/s]\n",
            "\u001b[34m\u001b[1mval: \u001b[0mScanning /content/datasets/coco8/labels/val... 4 images, 0 backgrounds, 0 corrupt: 100% 4/4 [00:00<00:00, 157.00it/s]\n",
            "\u001b[34m\u001b[1mval: \u001b[0mNew cache created: /content/datasets/coco8/labels/val.cache\n",
            "                 Class     Images  Instances      Box(P          R      mAP50  mAP50-95): 100% 1/1 [00:06<00:00,  6.89s/it]\n",
            "                   all          4         17      0.621      0.833      0.888       0.63\n",
            "                person          4         10      0.721        0.5      0.519      0.269\n",
            "                   dog          4          1       0.37          1      0.995      0.597\n",
            "                 horse          4          2      0.751          1      0.995      0.631\n",
            "              elephant          4          2      0.505        0.5      0.828      0.394\n",
            "              umbrella          4          1      0.564          1      0.995      0.995\n",
            "          potted plant          4          1      0.814          1      0.995      0.895\n",
            "Speed: 0.3ms preprocess, 4.9ms inference, 0.0ms loss, 1.3ms postprocess per image\n",
            "Results saved to \u001b[1mruns/detect/val\u001b[0m\n",
            "💡 Learn more at https://docs.ultralytics.com/modes/val\n"
          ]
        }
      ],
      "source": [
        "# Validate YOLOv8n on COCO8 val\n",
        "!yolo val model='./runs/detect/train/weights/best.pt' data='datasets/data.yaml'"
      ]
    },
    {
      "cell_type": "markdown",
      "metadata": {},
      "source": [
        "# 3. Predict\n"
      ]
    },
    {
      "cell_type": "code",
      "execution_count": 1,
      "metadata": {
        "colab": {
          "base_uri": "https://localhost:8080/"
        },
        "id": "zR9ZbuQCH7FX",
        "outputId": "84f32db2-80b0-4f35-9a2a-a56d11f7863f"
      },
      "outputs": [
        {
          "name": "stdout",
          "output_type": "stream",
          "text": [
            "Ultralytics YOLOv8.2.78 🚀 Python-3.8.10 torch-2.4.0+cu121 CUDA:0 (NVIDIA GeForce RTX 2060, 6144MiB)\n",
            "Model summary (fused): 168 layers, 3,007,208 parameters, 0 gradients, 8.1 GFLOPs\n",
            "\n",
            "video 1/1 (frame 1/1824) d:\\HighwayCounter_YOLOv8\\highway.mp4: 384x640 1 car, 78.1ms\n",
            "video 1/1 (frame 2/1824) d:\\HighwayCounter_YOLOv8\\highway.mp4: 384x640 2 cars, 26.2ms\n",
            "video 1/1 (frame 3/1824) d:\\HighwayCounter_YOLOv8\\highway.mp4: 384x640 2 cars, 32.2ms\n",
            "video 1/1 (frame 4/1824) d:\\HighwayCounter_YOLOv8\\highway.mp4: 384x640 4 cars, 31.2ms\n",
            "video 1/1 (frame 5/1824) d:\\HighwayCounter_YOLOv8\\highway.mp4: 384x640 3 cars, 31.6ms\n",
            "video 1/1 (frame 6/1824) d:\\HighwayCounter_YOLOv8\\highway.mp4: 384x640 3 cars, 1 bus, 37.6ms\n",
            "video 1/1 (frame 7/1824) d:\\HighwayCounter_YOLOv8\\highway.mp4: 384x640 3 cars, 32.7ms\n",
            "video 1/1 (frame 8/1824) d:\\HighwayCounter_YOLOv8\\highway.mp4: 384x640 3 cars, 2 buss, 32.0ms\n",
            "video 1/1 (frame 9/1824) d:\\HighwayCounter_YOLOv8\\highway.mp4: 384x640 3 cars, 1 bus, 31.2ms\n",
            "video 1/1 (frame 10/1824) d:\\HighwayCounter_YOLOv8\\highway.mp4: 384x640 3 cars, 1 bus, 31.3ms\n",
            "video 1/1 (frame 11/1824) d:\\HighwayCounter_YOLOv8\\highway.mp4: 384x640 2 cars, 1 bus, 33.9ms\n",
            "video 1/1 (frame 12/1824) d:\\HighwayCounter_YOLOv8\\highway.mp4: 384x640 2 cars, 1 bus, 32.1ms\n",
            "video 1/1 (frame 13/1824) d:\\HighwayCounter_YOLOv8\\highway.mp4: 384x640 2 cars, 1 bus, 36.0ms\n",
            "video 1/1 (frame 14/1824) d:\\HighwayCounter_YOLOv8\\highway.mp4: 384x640 2 cars, 1 bus, 15.6ms\n",
            "video 1/1 (frame 15/1824) d:\\HighwayCounter_YOLOv8\\highway.mp4: 384x640 3 cars, 1 bus, 1 truck, 28.3ms\n",
            "video 1/1 (frame 16/1824) d:\\HighwayCounter_YOLOv8\\highway.mp4: 384x640 3 cars, 1 bus, 31.2ms\n",
            "video 1/1 (frame 17/1824) d:\\HighwayCounter_YOLOv8\\highway.mp4: 384x640 2 cars, 1 bus, 32.5ms\n",
            "video 1/1 (frame 18/1824) d:\\HighwayCounter_YOLOv8\\highway.mp4: 384x640 2 cars, 1 bus, 32.5ms\n",
            "video 1/1 (frame 19/1824) d:\\HighwayCounter_YOLOv8\\highway.mp4: 384x640 3 cars, 1 bus, 31.2ms\n",
            "video 1/1 (frame 20/1824) d:\\HighwayCounter_YOLOv8\\highway.mp4: 384x640 3 cars, 1 bus, 35.7ms\n",
            "video 1/1 (frame 21/1824) d:\\HighwayCounter_YOLOv8\\highway.mp4: 384x640 4 cars, 1 bus, 15.6ms\n",
            "video 1/1 (frame 22/1824) d:\\HighwayCounter_YOLOv8\\highway.mp4: 384x640 3 cars, 1 bus, 12.8ms\n",
            "video 1/1 (frame 23/1824) d:\\HighwayCounter_YOLOv8\\highway.mp4: 384x640 3 cars, 1 bus, 27.3ms\n",
            "video 1/1 (frame 24/1824) d:\\HighwayCounter_YOLOv8\\highway.mp4: 384x640 3 cars, 1 bus, 15.6ms\n",
            "video 1/1 (frame 25/1824) d:\\HighwayCounter_YOLOv8\\highway.mp4: 384x640 3 cars, 1 bus, 42.4ms\n",
            "video 1/1 (frame 26/1824) d:\\HighwayCounter_YOLOv8\\highway.mp4: 384x640 4 cars, 1 bus, 15.6ms\n",
            "video 1/1 (frame 27/1824) d:\\HighwayCounter_YOLOv8\\highway.mp4: 384x640 3 cars, 1 bus, 15.6ms\n",
            "video 1/1 (frame 28/1824) d:\\HighwayCounter_YOLOv8\\highway.mp4: 384x640 3 cars, 1 bus, 31.9ms\n",
            "video 1/1 (frame 29/1824) d:\\HighwayCounter_YOLOv8\\highway.mp4: 384x640 4 cars, 1 bus, 15.6ms\n",
            "video 1/1 (frame 30/1824) d:\\HighwayCounter_YOLOv8\\highway.mp4: 384x640 4 cars, 1 bus, 15.6ms\n",
            "video 1/1 (frame 31/1824) d:\\HighwayCounter_YOLOv8\\highway.mp4: 384x640 4 cars, 1 bus, 31.2ms\n",
            "video 1/1 (frame 32/1824) d:\\HighwayCounter_YOLOv8\\highway.mp4: 384x640 3 cars, 1 bus, 28.7ms\n",
            "video 1/1 (frame 33/1824) d:\\HighwayCounter_YOLOv8\\highway.mp4: 384x640 3 cars, 1 bus, 25.7ms\n",
            "video 1/1 (frame 34/1824) d:\\HighwayCounter_YOLOv8\\highway.mp4: 384x640 3 cars, 1 bus, 17.3ms\n",
            "video 1/1 (frame 35/1824) d:\\HighwayCounter_YOLOv8\\highway.mp4: 384x640 3 cars, 1 bus, 21.8ms\n",
            "video 1/1 (frame 36/1824) d:\\HighwayCounter_YOLOv8\\highway.mp4: 384x640 4 cars, 1 bus, 15.6ms\n",
            "video 1/1 (frame 37/1824) d:\\HighwayCounter_YOLOv8\\highway.mp4: 384x640 3 cars, 1 bus, 15.6ms\n",
            "video 1/1 (frame 38/1824) d:\\HighwayCounter_YOLOv8\\highway.mp4: 384x640 3 cars, 1 bus, 1 truck, 25.5ms\n",
            "video 1/1 (frame 39/1824) d:\\HighwayCounter_YOLOv8\\highway.mp4: 384x640 3 cars, 1 bus, 1 truck, 18.1ms\n",
            "video 1/1 (frame 40/1824) d:\\HighwayCounter_YOLOv8\\highway.mp4: 384x640 3 cars, 1 bus, 1 truck, 15.6ms\n",
            "video 1/1 (frame 41/1824) d:\\HighwayCounter_YOLOv8\\highway.mp4: 384x640 3 cars, 1 bus, 1 truck, 15.6ms\n",
            "video 1/1 (frame 42/1824) d:\\HighwayCounter_YOLOv8\\highway.mp4: 384x640 3 cars, 1 bus, 1 truck, 15.6ms\n",
            "video 1/1 (frame 43/1824) d:\\HighwayCounter_YOLOv8\\highway.mp4: 384x640 3 cars, 1 bus, 1 truck, 15.6ms\n",
            "video 1/1 (frame 44/1824) d:\\HighwayCounter_YOLOv8\\highway.mp4: 384x640 3 cars, 1 bus, 1 truck, 30.6ms\n",
            "video 1/1 (frame 45/1824) d:\\HighwayCounter_YOLOv8\\highway.mp4: 384x640 3 cars, 1 bus, 1 truck, 15.6ms\n",
            "video 1/1 (frame 46/1824) d:\\HighwayCounter_YOLOv8\\highway.mp4: 384x640 3 cars, 1 bus, 1 truck, 15.6ms\n",
            "video 1/1 (frame 47/1824) d:\\HighwayCounter_YOLOv8\\highway.mp4: 384x640 3 cars, 1 bus, 1 truck, 28.8ms\n",
            "video 1/1 (frame 48/1824) d:\\HighwayCounter_YOLOv8\\highway.mp4: 384x640 4 cars, 1 bus, 1 truck, 31.3ms\n",
            "video 1/1 (frame 49/1824) d:\\HighwayCounter_YOLOv8\\highway.mp4: 384x640 3 cars, 1 bus, 1 truck, 15.6ms\n",
            "video 1/1 (frame 50/1824) d:\\HighwayCounter_YOLOv8\\highway.mp4: 384x640 4 cars, 1 bus, 1 truck, 29.2ms\n",
            "video 1/1 (frame 51/1824) d:\\HighwayCounter_YOLOv8\\highway.mp4: 384x640 4 cars, 1 bus, 1 truck, 15.6ms\n",
            "video 1/1 (frame 52/1824) d:\\HighwayCounter_YOLOv8\\highway.mp4: 384x640 4 cars, 1 bus, 1 truck, 31.6ms\n",
            "video 1/1 (frame 53/1824) d:\\HighwayCounter_YOLOv8\\highway.mp4: 384x640 4 cars, 1 bus, 1 truck, 23.3ms\n",
            "video 1/1 (frame 54/1824) d:\\HighwayCounter_YOLOv8\\highway.mp4: 384x640 4 cars, 1 bus, 1 truck, 15.6ms\n",
            "video 1/1 (frame 55/1824) d:\\HighwayCounter_YOLOv8\\highway.mp4: 384x640 6 cars, 1 bus, 1 truck, 21.8ms\n",
            "video 1/1 (frame 56/1824) d:\\HighwayCounter_YOLOv8\\highway.mp4: 384x640 4 cars, 1 bus, 1 truck, 31.2ms\n",
            "video 1/1 (frame 57/1824) d:\\HighwayCounter_YOLOv8\\highway.mp4: 384x640 4 cars, 1 bus, 1 truck, 19.2ms\n",
            "video 1/1 (frame 58/1824) d:\\HighwayCounter_YOLOv8\\highway.mp4: 384x640 4 cars, 1 bus, 1 truck, 31.2ms\n",
            "video 1/1 (frame 59/1824) d:\\HighwayCounter_YOLOv8\\highway.mp4: 384x640 4 cars, 1 bus, 1 truck, 18.3ms\n",
            "video 1/1 (frame 60/1824) d:\\HighwayCounter_YOLOv8\\highway.mp4: 384x640 4 cars, 1 bus, 1 truck, 26.1ms\n",
            "video 1/1 (frame 61/1824) d:\\HighwayCounter_YOLOv8\\highway.mp4: 384x640 4 cars, 1 bus, 1 truck, 31.8ms\n",
            "video 1/1 (frame 62/1824) d:\\HighwayCounter_YOLOv8\\highway.mp4: 384x640 4 cars, 1 bus, 1 truck, 23.9ms\n",
            "video 1/1 (frame 63/1824) d:\\HighwayCounter_YOLOv8\\highway.mp4: 384x640 4 cars, 1 bus, 1 truck, 31.5ms\n",
            "video 1/1 (frame 64/1824) d:\\HighwayCounter_YOLOv8\\highway.mp4: 384x640 4 cars, 1 bus, 1 truck, 31.1ms\n",
            "video 1/1 (frame 65/1824) d:\\HighwayCounter_YOLOv8\\highway.mp4: 384x640 4 cars, 1 bus, 1 truck, 15.6ms\n",
            "video 1/1 (frame 66/1824) d:\\HighwayCounter_YOLOv8\\highway.mp4: 384x640 4 cars, 1 bus, 1 truck, 31.3ms\n",
            "video 1/1 (frame 67/1824) d:\\HighwayCounter_YOLOv8\\highway.mp4: 384x640 4 cars, 1 bus, 1 truck, 31.2ms\n",
            "video 1/1 (frame 68/1824) d:\\HighwayCounter_YOLOv8\\highway.mp4: 384x640 4 cars, 1 bus, 1 truck, 30.6ms\n",
            "video 1/1 (frame 69/1824) d:\\HighwayCounter_YOLOv8\\highway.mp4: 384x640 4 cars, 1 bus, 1 truck, 15.6ms\n",
            "video 1/1 (frame 70/1824) d:\\HighwayCounter_YOLOv8\\highway.mp4: 384x640 4 cars, 1 bus, 1 truck, 22.2ms\n",
            "video 1/1 (frame 71/1824) d:\\HighwayCounter_YOLOv8\\highway.mp4: 384x640 4 cars, 1 bus, 2 trucks, 29.9ms\n",
            "video 1/1 (frame 72/1824) d:\\HighwayCounter_YOLOv8\\highway.mp4: 384x640 4 cars, 1 bus, 2 trucks, 16.7ms\n",
            "video 1/1 (frame 73/1824) d:\\HighwayCounter_YOLOv8\\highway.mp4: 384x640 4 cars, 1 bus, 2 trucks, 27.0ms\n",
            "video 1/1 (frame 74/1824) d:\\HighwayCounter_YOLOv8\\highway.mp4: 384x640 3 cars, 1 bus, 2 trucks, 31.2ms\n",
            "video 1/1 (frame 75/1824) d:\\HighwayCounter_YOLOv8\\highway.mp4: 384x640 4 cars, 1 bus, 2 trucks, 27.0ms\n",
            "video 1/1 (frame 76/1824) d:\\HighwayCounter_YOLOv8\\highway.mp4: 384x640 3 cars, 2 buss, 2 trucks, 9.7ms\n",
            "video 1/1 (frame 77/1824) d:\\HighwayCounter_YOLOv8\\highway.mp4: 384x640 3 cars, 1 bus, 2 trucks, 31.6ms\n",
            "video 1/1 (frame 78/1824) d:\\HighwayCounter_YOLOv8\\highway.mp4: 384x640 3 cars, 1 bus, 2 trucks, 33.2ms\n",
            "video 1/1 (frame 79/1824) d:\\HighwayCounter_YOLOv8\\highway.mp4: 384x640 3 cars, 1 bus, 2 trucks, 29.3ms\n",
            "video 1/1 (frame 80/1824) d:\\HighwayCounter_YOLOv8\\highway.mp4: 384x640 3 cars, 1 bus, 2 trucks, 26.5ms\n",
            "video 1/1 (frame 81/1824) d:\\HighwayCounter_YOLOv8\\highway.mp4: 384x640 3 cars, 1 bus, 2 trucks, 35.2ms\n",
            "video 1/1 (frame 82/1824) d:\\HighwayCounter_YOLOv8\\highway.mp4: 384x640 3 cars, 1 bus, 2 trucks, 27.1ms\n",
            "video 1/1 (frame 83/1824) d:\\HighwayCounter_YOLOv8\\highway.mp4: 384x640 3 cars, 1 bus, 2 trucks, 33.3ms\n",
            "video 1/1 (frame 84/1824) d:\\HighwayCounter_YOLOv8\\highway.mp4: 384x640 3 cars, 1 bus, 2 trucks, 36.5ms\n",
            "video 1/1 (frame 85/1824) d:\\HighwayCounter_YOLOv8\\highway.mp4: 384x640 3 cars, 1 bus, 2 trucks, 32.9ms\n",
            "video 1/1 (frame 86/1824) d:\\HighwayCounter_YOLOv8\\highway.mp4: 384x640 3 cars, 1 bus, 2 trucks, 16.6ms\n",
            "video 1/1 (frame 87/1824) d:\\HighwayCounter_YOLOv8\\highway.mp4: 384x640 3 cars, 1 bus, 2 trucks, 32.6ms\n",
            "video 1/1 (frame 88/1824) d:\\HighwayCounter_YOLOv8\\highway.mp4: 384x640 3 cars, 1 bus, 2 trucks, 31.3ms\n",
            "video 1/1 (frame 89/1824) d:\\HighwayCounter_YOLOv8\\highway.mp4: 384x640 3 cars, 1 bus, 2 trucks, 15.7ms\n",
            "video 1/1 (frame 90/1824) d:\\HighwayCounter_YOLOv8\\highway.mp4: 384x640 3 cars, 1 bus, 2 trucks, 31.2ms\n",
            "video 1/1 (frame 91/1824) d:\\HighwayCounter_YOLOv8\\highway.mp4: 384x640 3 cars, 1 bus, 2 trucks, 29.7ms\n",
            "video 1/1 (frame 92/1824) d:\\HighwayCounter_YOLOv8\\highway.mp4: 384x640 3 cars, 1 bus, 2 trucks, 66.5ms\n",
            "video 1/1 (frame 93/1824) d:\\HighwayCounter_YOLOv8\\highway.mp4: 384x640 3 cars, 1 bus, 2 trucks, 37.4ms\n",
            "video 1/1 (frame 94/1824) d:\\HighwayCounter_YOLOv8\\highway.mp4: 384x640 2 cars, 1 bus, 2 trucks, 38.3ms\n",
            "video 1/1 (frame 95/1824) d:\\HighwayCounter_YOLOv8\\highway.mp4: 384x640 2 cars, 1 bus, 2 trucks, 24.9ms\n",
            "video 1/1 (frame 96/1824) d:\\HighwayCounter_YOLOv8\\highway.mp4: 384x640 2 cars, 1 bus, 2 trucks, 22.0ms\n",
            "video 1/1 (frame 97/1824) d:\\HighwayCounter_YOLOv8\\highway.mp4: 384x640 2 cars, 1 bus, 2 trucks, 15.6ms\n",
            "video 1/1 (frame 98/1824) d:\\HighwayCounter_YOLOv8\\highway.mp4: 384x640 2 cars, 1 bus, 2 trucks, 28.8ms\n",
            "video 1/1 (frame 99/1824) d:\\HighwayCounter_YOLOv8\\highway.mp4: 384x640 2 cars, 1 bus, 2 trucks, 8.0ms\n",
            "video 1/1 (frame 100/1824) d:\\HighwayCounter_YOLOv8\\highway.mp4: 384x640 2 cars, 1 bus, 2 trucks, 19.2ms\n",
            "video 1/1 (frame 101/1824) d:\\HighwayCounter_YOLOv8\\highway.mp4: 384x640 2 cars, 1 bus, 2 trucks, 15.9ms\n",
            "video 1/1 (frame 102/1824) d:\\HighwayCounter_YOLOv8\\highway.mp4: 384x640 2 cars, 1 bus, 2 trucks, 15.6ms\n",
            "video 1/1 (frame 103/1824) d:\\HighwayCounter_YOLOv8\\highway.mp4: 384x640 2 cars, 1 bus, 2 trucks, 15.6ms\n",
            "video 1/1 (frame 104/1824) d:\\HighwayCounter_YOLOv8\\highway.mp4: 384x640 2 cars, 1 bus, 2 trucks, 15.6ms\n",
            "video 1/1 (frame 105/1824) d:\\HighwayCounter_YOLOv8\\highway.mp4: 384x640 2 cars, 1 bus, 2 trucks, 15.6ms\n",
            "video 1/1 (frame 106/1824) d:\\HighwayCounter_YOLOv8\\highway.mp4: 384x640 2 cars, 1 bus, 2 trucks, 16.6ms\n",
            "video 1/1 (frame 107/1824) d:\\HighwayCounter_YOLOv8\\highway.mp4: 384x640 2 cars, 1 bus, 2 trucks, 29.4ms\n",
            "video 1/1 (frame 108/1824) d:\\HighwayCounter_YOLOv8\\highway.mp4: 384x640 2 cars, 1 bus, 2 trucks, 15.6ms\n",
            "video 1/1 (frame 109/1824) d:\\HighwayCounter_YOLOv8\\highway.mp4: 384x640 2 cars, 1 bus, 2 trucks, 31.2ms\n",
            "video 1/1 (frame 110/1824) d:\\HighwayCounter_YOLOv8\\highway.mp4: 384x640 2 cars, 1 bus, 2 trucks, 31.2ms\n",
            "video 1/1 (frame 111/1824) d:\\HighwayCounter_YOLOv8\\highway.mp4: 384x640 2 cars, 1 bus, 2 trucks, 15.6ms\n",
            "video 1/1 (frame 112/1824) d:\\HighwayCounter_YOLOv8\\highway.mp4: 384x640 2 cars, 1 bus, 2 trucks, 15.6ms\n",
            "video 1/1 (frame 113/1824) d:\\HighwayCounter_YOLOv8\\highway.mp4: 384x640 1 car, 1 bus, 2 trucks, 15.6ms\n",
            "video 1/1 (frame 114/1824) d:\\HighwayCounter_YOLOv8\\highway.mp4: 384x640 1 car, 1 bus, 2 trucks, 15.6ms\n",
            "video 1/1 (frame 115/1824) d:\\HighwayCounter_YOLOv8\\highway.mp4: 384x640 1 car, 1 bus, 2 trucks, 15.6ms\n",
            "video 1/1 (frame 116/1824) d:\\HighwayCounter_YOLOv8\\highway.mp4: 384x640 1 car, 1 bus, 2 trucks, 15.6ms\n",
            "video 1/1 (frame 117/1824) d:\\HighwayCounter_YOLOv8\\highway.mp4: 384x640 1 car, 1 bus, 2 trucks, 15.6ms\n",
            "video 1/1 (frame 118/1824) d:\\HighwayCounter_YOLOv8\\highway.mp4: 384x640 1 car, 1 bus, 2 trucks, 15.6ms\n",
            "video 1/1 (frame 119/1824) d:\\HighwayCounter_YOLOv8\\highway.mp4: 384x640 1 car, 1 bus, 2 trucks, 40.0ms\n",
            "video 1/1 (frame 120/1824) d:\\HighwayCounter_YOLOv8\\highway.mp4: 384x640 1 car, 1 bus, 2 trucks, 15.6ms\n",
            "video 1/1 (frame 121/1824) d:\\HighwayCounter_YOLOv8\\highway.mp4: 384x640 1 car, 1 bus, 2 trucks, 21.7ms\n",
            "video 1/1 (frame 122/1824) d:\\HighwayCounter_YOLOv8\\highway.mp4: 384x640 2 cars, 1 bus, 2 trucks, 20.2ms\n",
            "video 1/1 (frame 123/1824) d:\\HighwayCounter_YOLOv8\\highway.mp4: 384x640 2 cars, 1 bus, 2 trucks, 15.3ms\n",
            "video 1/1 (frame 124/1824) d:\\HighwayCounter_YOLOv8\\highway.mp4: 384x640 2 cars, 1 bus, 2 trucks, 16.5ms\n",
            "video 1/1 (frame 125/1824) d:\\HighwayCounter_YOLOv8\\highway.mp4: 384x640 2 cars, 1 bus, 2 trucks, 32.6ms\n",
            "video 1/1 (frame 126/1824) d:\\HighwayCounter_YOLOv8\\highway.mp4: 384x640 2 cars, 1 bus, 2 trucks, 16.0ms\n",
            "video 1/1 (frame 127/1824) d:\\HighwayCounter_YOLOv8\\highway.mp4: 384x640 2 cars, 1 bus, 2 trucks, 31.2ms\n",
            "video 1/1 (frame 128/1824) d:\\HighwayCounter_YOLOv8\\highway.mp4: 384x640 2 cars, 1 bus, 2 trucks, 31.3ms\n",
            "video 1/1 (frame 129/1824) d:\\HighwayCounter_YOLOv8\\highway.mp4: 384x640 2 cars, 1 bus, 2 trucks, 21.1ms\n",
            "video 1/1 (frame 130/1824) d:\\HighwayCounter_YOLOv8\\highway.mp4: 384x640 2 cars, 1 bus, 1 truck, 26.5ms\n",
            "video 1/1 (frame 131/1824) d:\\HighwayCounter_YOLOv8\\highway.mp4: 384x640 2 cars, 1 bus, 1 truck, 32.8ms\n",
            "video 1/1 (frame 132/1824) d:\\HighwayCounter_YOLOv8\\highway.mp4: 384x640 2 cars, 1 bus, 1 truck, 32.9ms\n",
            "video 1/1 (frame 133/1824) d:\\HighwayCounter_YOLOv8\\highway.mp4: 384x640 2 cars, 1 bus, 1 truck, 15.9ms\n",
            "video 1/1 (frame 134/1824) d:\\HighwayCounter_YOLOv8\\highway.mp4: 384x640 2 cars, 1 bus, 31.8ms\n",
            "video 1/1 (frame 135/1824) d:\\HighwayCounter_YOLOv8\\highway.mp4: 384x640 2 cars, 1 bus, 1 truck, 25.0ms\n",
            "video 1/1 (frame 136/1824) d:\\HighwayCounter_YOLOv8\\highway.mp4: 384x640 2 cars, 1 bus, 15.6ms\n",
            "video 1/1 (frame 137/1824) d:\\HighwayCounter_YOLOv8\\highway.mp4: 384x640 2 cars, 1 bus, 16.5ms\n",
            "video 1/1 (frame 138/1824) d:\\HighwayCounter_YOLOv8\\highway.mp4: 384x640 2 cars, 1 bus, 1 truck, 26.6ms\n",
            "video 1/1 (frame 139/1824) d:\\HighwayCounter_YOLOv8\\highway.mp4: 384x640 2 cars, 1 bus, 1 truck, 32.9ms\n",
            "video 1/1 (frame 140/1824) d:\\HighwayCounter_YOLOv8\\highway.mp4: 384x640 2 cars, 1 bus, 1 truck, 24.0ms\n",
            "video 1/1 (frame 141/1824) d:\\HighwayCounter_YOLOv8\\highway.mp4: 384x640 2 cars, 1 bus, 1 truck, 16.0ms\n",
            "video 1/1 (frame 142/1824) d:\\HighwayCounter_YOLOv8\\highway.mp4: 384x640 2 cars, 1 bus, 32.4ms\n",
            "video 1/1 (frame 143/1824) d:\\HighwayCounter_YOLOv8\\highway.mp4: 384x640 2 cars, 1 bus, 18.8ms\n",
            "video 1/1 (frame 144/1824) d:\\HighwayCounter_YOLOv8\\highway.mp4: 384x640 2 cars, 1 bus, 21.3ms\n",
            "video 1/1 (frame 145/1824) d:\\HighwayCounter_YOLOv8\\highway.mp4: 384x640 2 cars, 1 bus, 16.8ms\n",
            "video 1/1 (frame 146/1824) d:\\HighwayCounter_YOLOv8\\highway.mp4: 384x640 3 cars, 1 bus, 33.2ms\n",
            "video 1/1 (frame 147/1824) d:\\HighwayCounter_YOLOv8\\highway.mp4: 384x640 3 cars, 1 bus, 42.0ms\n",
            "video 1/1 (frame 148/1824) d:\\HighwayCounter_YOLOv8\\highway.mp4: 384x640 3 cars, 1 bus, 16.7ms\n",
            "video 1/1 (frame 149/1824) d:\\HighwayCounter_YOLOv8\\highway.mp4: 384x640 3 cars, 1 bus, 32.9ms\n",
            "video 1/1 (frame 150/1824) d:\\HighwayCounter_YOLOv8\\highway.mp4: 384x640 3 cars, 1 bus, 33.7ms\n",
            "video 1/1 (frame 151/1824) d:\\HighwayCounter_YOLOv8\\highway.mp4: 384x640 3 cars, 1 bus, 35.3ms\n",
            "video 1/1 (frame 152/1824) d:\\HighwayCounter_YOLOv8\\highway.mp4: 384x640 3 cars, 1 bus, 17.8ms\n",
            "video 1/1 (frame 153/1824) d:\\HighwayCounter_YOLOv8\\highway.mp4: 384x640 3 cars, 1 bus, 27.3ms\n",
            "video 1/1 (frame 154/1824) d:\\HighwayCounter_YOLOv8\\highway.mp4: 384x640 3 cars, 1 bus, 33.3ms\n",
            "video 1/1 (frame 155/1824) d:\\HighwayCounter_YOLOv8\\highway.mp4: 384x640 3 cars, 1 bus, 20.9ms\n",
            "video 1/1 (frame 156/1824) d:\\HighwayCounter_YOLOv8\\highway.mp4: 384x640 3 cars, 1 bus, 16.9ms\n",
            "video 1/1 (frame 157/1824) d:\\HighwayCounter_YOLOv8\\highway.mp4: 384x640 3 cars, 1 bus, 25.4ms\n",
            "video 1/1 (frame 158/1824) d:\\HighwayCounter_YOLOv8\\highway.mp4: 384x640 3 cars, 1 bus, 20.1ms\n",
            "video 1/1 (frame 159/1824) d:\\HighwayCounter_YOLOv8\\highway.mp4: 384x640 3 cars, 1 bus, 16.6ms\n",
            "video 1/1 (frame 160/1824) d:\\HighwayCounter_YOLOv8\\highway.mp4: 384x640 3 cars, 1 bus, 16.6ms\n",
            "video 1/1 (frame 161/1824) d:\\HighwayCounter_YOLOv8\\highway.mp4: 384x640 3 cars, 1 bus, 31.2ms\n",
            "video 1/1 (frame 162/1824) d:\\HighwayCounter_YOLOv8\\highway.mp4: 384x640 3 cars, 1 bus, 20.1ms\n",
            "video 1/1 (frame 163/1824) d:\\HighwayCounter_YOLOv8\\highway.mp4: 384x640 3 cars, 1 bus, 20.7ms\n",
            "video 1/1 (frame 164/1824) d:\\HighwayCounter_YOLOv8\\highway.mp4: 384x640 3 cars, 1 bus, 16.6ms\n",
            "video 1/1 (frame 165/1824) d:\\HighwayCounter_YOLOv8\\highway.mp4: 384x640 3 cars, 1 bus, 30.6ms\n",
            "video 1/1 (frame 166/1824) d:\\HighwayCounter_YOLOv8\\highway.mp4: 384x640 3 cars, 1 bus, 32.4ms\n",
            "video 1/1 (frame 167/1824) d:\\HighwayCounter_YOLOv8\\highway.mp4: 384x640 3 cars, 1 bus, 60.5ms\n",
            "video 1/1 (frame 168/1824) d:\\HighwayCounter_YOLOv8\\highway.mp4: 384x640 3 cars, 1 bus, 15.6ms\n",
            "video 1/1 (frame 169/1824) d:\\HighwayCounter_YOLOv8\\highway.mp4: 384x640 3 cars, 1 bus, 16.8ms\n",
            "video 1/1 (frame 170/1824) d:\\HighwayCounter_YOLOv8\\highway.mp4: 384x640 3 cars, 1 bus, 15.6ms\n",
            "video 1/1 (frame 171/1824) d:\\HighwayCounter_YOLOv8\\highway.mp4: 384x640 3 cars, 1 bus, 15.6ms\n",
            "video 1/1 (frame 172/1824) d:\\HighwayCounter_YOLOv8\\highway.mp4: 384x640 3 cars, 1 bus, 23.0ms\n",
            "video 1/1 (frame 173/1824) d:\\HighwayCounter_YOLOv8\\highway.mp4: 384x640 3 cars, 1 bus, 21.0ms\n",
            "video 1/1 (frame 174/1824) d:\\HighwayCounter_YOLOv8\\highway.mp4: 384x640 4 cars, 1 bus, 28.6ms\n",
            "video 1/1 (frame 175/1824) d:\\HighwayCounter_YOLOv8\\highway.mp4: 384x640 4 cars, 1 bus, 28.0ms\n",
            "video 1/1 (frame 176/1824) d:\\HighwayCounter_YOLOv8\\highway.mp4: 384x640 4 cars, 1 bus, 27.0ms\n",
            "video 1/1 (frame 177/1824) d:\\HighwayCounter_YOLOv8\\highway.mp4: 384x640 4 cars, 1 bus, 22.0ms\n",
            "video 1/1 (frame 178/1824) d:\\HighwayCounter_YOLOv8\\highway.mp4: 384x640 4 cars, 1 bus, 19.9ms\n",
            "video 1/1 (frame 179/1824) d:\\HighwayCounter_YOLOv8\\highway.mp4: 384x640 4 cars, 1 bus, 19.9ms\n",
            "video 1/1 (frame 180/1824) d:\\HighwayCounter_YOLOv8\\highway.mp4: 384x640 4 cars, 1 bus, 1 truck, 20.1ms\n",
            "video 1/1 (frame 181/1824) d:\\HighwayCounter_YOLOv8\\highway.mp4: 384x640 4 cars, 1 bus, 1 truck, 24.1ms\n",
            "video 1/1 (frame 182/1824) d:\\HighwayCounter_YOLOv8\\highway.mp4: 384x640 4 cars, 1 bus, 1 truck, 20.7ms\n",
            "video 1/1 (frame 183/1824) d:\\HighwayCounter_YOLOv8\\highway.mp4: 384x640 4 cars, 1 bus, 1 truck, 19.9ms\n",
            "video 1/1 (frame 184/1824) d:\\HighwayCounter_YOLOv8\\highway.mp4: 384x640 4 cars, 1 bus, 19.7ms\n",
            "video 1/1 (frame 185/1824) d:\\HighwayCounter_YOLOv8\\highway.mp4: 384x640 4 cars, 1 bus, 31.2ms\n",
            "video 1/1 (frame 186/1824) d:\\HighwayCounter_YOLOv8\\highway.mp4: 384x640 4 cars, 1 bus, 29.1ms\n",
            "video 1/1 (frame 187/1824) d:\\HighwayCounter_YOLOv8\\highway.mp4: 384x640 5 cars, 1 bus, 15.6ms\n",
            "video 1/1 (frame 188/1824) d:\\HighwayCounter_YOLOv8\\highway.mp4: 384x640 5 cars, 1 bus, 15.6ms\n",
            "video 1/1 (frame 189/1824) d:\\HighwayCounter_YOLOv8\\highway.mp4: 384x640 5 cars, 1 bus, 18.5ms\n",
            "video 1/1 (frame 190/1824) d:\\HighwayCounter_YOLOv8\\highway.mp4: 384x640 5 cars, 1 bus, 30.8ms\n",
            "video 1/1 (frame 191/1824) d:\\HighwayCounter_YOLOv8\\highway.mp4: 384x640 5 cars, 1 bus, 22.5ms\n",
            "video 1/1 (frame 192/1824) d:\\HighwayCounter_YOLOv8\\highway.mp4: 384x640 5 cars, 1 bus, 39.3ms\n",
            "video 1/1 (frame 193/1824) d:\\HighwayCounter_YOLOv8\\highway.mp4: 384x640 5 cars, 1 bus, 31.2ms\n",
            "video 1/1 (frame 194/1824) d:\\HighwayCounter_YOLOv8\\highway.mp4: 384x640 5 cars, 1 bus, 31.3ms\n",
            "video 1/1 (frame 195/1824) d:\\HighwayCounter_YOLOv8\\highway.mp4: 384x640 5 cars, 1 bus, 30.1ms\n",
            "video 1/1 (frame 196/1824) d:\\HighwayCounter_YOLOv8\\highway.mp4: 384x640 5 cars, 1 bus, 31.3ms\n",
            "video 1/1 (frame 197/1824) d:\\HighwayCounter_YOLOv8\\highway.mp4: 384x640 5 cars, 1 bus, 31.2ms\n",
            "video 1/1 (frame 198/1824) d:\\HighwayCounter_YOLOv8\\highway.mp4: 384x640 4 cars, 1 bus, 31.2ms\n",
            "video 1/1 (frame 199/1824) d:\\HighwayCounter_YOLOv8\\highway.mp4: 384x640 4 cars, 1 bus, 15.6ms\n",
            "video 1/1 (frame 200/1824) d:\\HighwayCounter_YOLOv8\\highway.mp4: 384x640 4 cars, 1 bus, 15.6ms\n",
            "video 1/1 (frame 201/1824) d:\\HighwayCounter_YOLOv8\\highway.mp4: 384x640 4 cars, 1 bus, 31.2ms\n",
            "video 1/1 (frame 202/1824) d:\\HighwayCounter_YOLOv8\\highway.mp4: 384x640 4 cars, 1 bus, 31.2ms\n",
            "video 1/1 (frame 203/1824) d:\\HighwayCounter_YOLOv8\\highway.mp4: 384x640 4 cars, 1 bus, 31.2ms\n",
            "video 1/1 (frame 204/1824) d:\\HighwayCounter_YOLOv8\\highway.mp4: 384x640 4 cars, 1 bus, 32.5ms\n",
            "video 1/1 (frame 205/1824) d:\\HighwayCounter_YOLOv8\\highway.mp4: 384x640 4 cars, 1 bus, 15.6ms\n",
            "video 1/1 (frame 206/1824) d:\\HighwayCounter_YOLOv8\\highway.mp4: 384x640 4 cars, 15.6ms\n",
            "video 1/1 (frame 207/1824) d:\\HighwayCounter_YOLOv8\\highway.mp4: 384x640 4 cars, 15.6ms\n",
            "video 1/1 (frame 208/1824) d:\\HighwayCounter_YOLOv8\\highway.mp4: 384x640 4 cars, 1 bus, 31.2ms\n",
            "video 1/1 (frame 209/1824) d:\\HighwayCounter_YOLOv8\\highway.mp4: 384x640 4 cars, 31.3ms\n",
            "video 1/1 (frame 210/1824) d:\\HighwayCounter_YOLOv8\\highway.mp4: 384x640 4 cars, 15.6ms\n",
            "video 1/1 (frame 211/1824) d:\\HighwayCounter_YOLOv8\\highway.mp4: 384x640 4 cars, 15.6ms\n",
            "video 1/1 (frame 212/1824) d:\\HighwayCounter_YOLOv8\\highway.mp4: 384x640 4 cars, 1 bus, 31.2ms\n",
            "video 1/1 (frame 213/1824) d:\\HighwayCounter_YOLOv8\\highway.mp4: 384x640 4 cars, 1 bus, 15.6ms\n",
            "video 1/1 (frame 214/1824) d:\\HighwayCounter_YOLOv8\\highway.mp4: 384x640 4 cars, 1 bus, 15.6ms\n",
            "video 1/1 (frame 215/1824) d:\\HighwayCounter_YOLOv8\\highway.mp4: 384x640 4 cars, 1 bus, 15.6ms\n",
            "video 1/1 (frame 216/1824) d:\\HighwayCounter_YOLOv8\\highway.mp4: 384x640 5 cars, 1 bus, 15.6ms\n",
            "video 1/1 (frame 217/1824) d:\\HighwayCounter_YOLOv8\\highway.mp4: 384x640 5 cars, 31.3ms\n",
            "video 1/1 (frame 218/1824) d:\\HighwayCounter_YOLOv8\\highway.mp4: 384x640 4 cars, 15.6ms\n",
            "video 1/1 (frame 219/1824) d:\\HighwayCounter_YOLOv8\\highway.mp4: 384x640 4 cars, 28.4ms\n",
            "video 1/1 (frame 220/1824) d:\\HighwayCounter_YOLOv8\\highway.mp4: 384x640 4 cars, 1 bus, 31.2ms\n",
            "video 1/1 (frame 221/1824) d:\\HighwayCounter_YOLOv8\\highway.mp4: 384x640 5 cars, 15.6ms\n",
            "video 1/1 (frame 222/1824) d:\\HighwayCounter_YOLOv8\\highway.mp4: 384x640 5 cars, 31.2ms\n",
            "video 1/1 (frame 223/1824) d:\\HighwayCounter_YOLOv8\\highway.mp4: 384x640 5 cars, 15.6ms\n",
            "video 1/1 (frame 224/1824) d:\\HighwayCounter_YOLOv8\\highway.mp4: 384x640 5 cars, 15.6ms\n",
            "video 1/1 (frame 225/1824) d:\\HighwayCounter_YOLOv8\\highway.mp4: 384x640 5 cars, 15.6ms\n",
            "video 1/1 (frame 226/1824) d:\\HighwayCounter_YOLOv8\\highway.mp4: 384x640 5 cars, 15.6ms\n",
            "video 1/1 (frame 227/1824) d:\\HighwayCounter_YOLOv8\\highway.mp4: 384x640 5 cars, 15.0ms\n",
            "video 1/1 (frame 228/1824) d:\\HighwayCounter_YOLOv8\\highway.mp4: 384x640 5 cars, 19.5ms\n",
            "video 1/1 (frame 229/1824) d:\\HighwayCounter_YOLOv8\\highway.mp4: 384x640 5 cars, 32.9ms\n",
            "video 1/1 (frame 230/1824) d:\\HighwayCounter_YOLOv8\\highway.mp4: 384x640 5 cars, 32.9ms\n",
            "video 1/1 (frame 231/1824) d:\\HighwayCounter_YOLOv8\\highway.mp4: 384x640 5 cars, 15.6ms\n",
            "video 1/1 (frame 232/1824) d:\\HighwayCounter_YOLOv8\\highway.mp4: 384x640 5 cars, 27.8ms\n",
            "video 1/1 (frame 233/1824) d:\\HighwayCounter_YOLOv8\\highway.mp4: 384x640 5 cars, 15.6ms\n",
            "video 1/1 (frame 234/1824) d:\\HighwayCounter_YOLOv8\\highway.mp4: 384x640 5 cars, 31.2ms\n",
            "video 1/1 (frame 235/1824) d:\\HighwayCounter_YOLOv8\\highway.mp4: 384x640 5 cars, 15.6ms\n",
            "video 1/1 (frame 236/1824) d:\\HighwayCounter_YOLOv8\\highway.mp4: 384x640 5 cars, 25.0ms\n",
            "video 1/1 (frame 237/1824) d:\\HighwayCounter_YOLOv8\\highway.mp4: 384x640 5 cars, 32.1ms\n",
            "video 1/1 (frame 238/1824) d:\\HighwayCounter_YOLOv8\\highway.mp4: 384x640 5 cars, 31.3ms\n",
            "video 1/1 (frame 239/1824) d:\\HighwayCounter_YOLOv8\\highway.mp4: 384x640 5 cars, 28.9ms\n",
            "video 1/1 (frame 240/1824) d:\\HighwayCounter_YOLOv8\\highway.mp4: 384x640 5 cars, 66.2ms\n",
            "video 1/1 (frame 241/1824) d:\\HighwayCounter_YOLOv8\\highway.mp4: 384x640 5 cars, 15.5ms\n",
            "video 1/1 (frame 242/1824) d:\\HighwayCounter_YOLOv8\\highway.mp4: 384x640 5 cars, 15.6ms\n",
            "video 1/1 (frame 243/1824) d:\\HighwayCounter_YOLOv8\\highway.mp4: 384x640 5 cars, 33.1ms\n",
            "video 1/1 (frame 244/1824) d:\\HighwayCounter_YOLOv8\\highway.mp4: 384x640 5 cars, 24.8ms\n",
            "video 1/1 (frame 245/1824) d:\\HighwayCounter_YOLOv8\\highway.mp4: 384x640 5 cars, 20.2ms\n",
            "video 1/1 (frame 246/1824) d:\\HighwayCounter_YOLOv8\\highway.mp4: 384x640 5 cars, 20.4ms\n",
            "video 1/1 (frame 247/1824) d:\\HighwayCounter_YOLOv8\\highway.mp4: 384x640 5 cars, 21.3ms\n",
            "video 1/1 (frame 248/1824) d:\\HighwayCounter_YOLOv8\\highway.mp4: 384x640 5 cars, 15.6ms\n",
            "video 1/1 (frame 249/1824) d:\\HighwayCounter_YOLOv8\\highway.mp4: 384x640 5 cars, 15.6ms\n",
            "video 1/1 (frame 250/1824) d:\\HighwayCounter_YOLOv8\\highway.mp4: 384x640 5 cars, 15.6ms\n",
            "video 1/1 (frame 251/1824) d:\\HighwayCounter_YOLOv8\\highway.mp4: 384x640 5 cars, 15.6ms\n",
            "video 1/1 (frame 252/1824) d:\\HighwayCounter_YOLOv8\\highway.mp4: 384x640 5 cars, 15.6ms\n",
            "video 1/1 (frame 253/1824) d:\\HighwayCounter_YOLOv8\\highway.mp4: 384x640 5 cars, 25.3ms\n",
            "video 1/1 (frame 254/1824) d:\\HighwayCounter_YOLOv8\\highway.mp4: 384x640 5 cars, 23.9ms\n",
            "video 1/1 (frame 255/1824) d:\\HighwayCounter_YOLOv8\\highway.mp4: 384x640 5 cars, 22.8ms\n",
            "video 1/1 (frame 256/1824) d:\\HighwayCounter_YOLOv8\\highway.mp4: 384x640 5 cars, 38.5ms\n",
            "video 1/1 (frame 257/1824) d:\\HighwayCounter_YOLOv8\\highway.mp4: 384x640 5 cars, 26.8ms\n",
            "video 1/1 (frame 258/1824) d:\\HighwayCounter_YOLOv8\\highway.mp4: 384x640 5 cars, 23.0ms\n",
            "video 1/1 (frame 259/1824) d:\\HighwayCounter_YOLOv8\\highway.mp4: 384x640 5 cars, 24.9ms\n",
            "video 1/1 (frame 260/1824) d:\\HighwayCounter_YOLOv8\\highway.mp4: 384x640 5 cars, 20.1ms\n",
            "video 1/1 (frame 261/1824) d:\\HighwayCounter_YOLOv8\\highway.mp4: 384x640 5 cars, 33.4ms\n",
            "video 1/1 (frame 262/1824) d:\\HighwayCounter_YOLOv8\\highway.mp4: 384x640 5 cars, 15.6ms\n",
            "video 1/1 (frame 263/1824) d:\\HighwayCounter_YOLOv8\\highway.mp4: 384x640 5 cars, 16.3ms\n",
            "video 1/1 (frame 264/1824) d:\\HighwayCounter_YOLOv8\\highway.mp4: 384x640 5 cars, 26.9ms\n",
            "video 1/1 (frame 265/1824) d:\\HighwayCounter_YOLOv8\\highway.mp4: 384x640 5 cars, 25.4ms\n",
            "video 1/1 (frame 266/1824) d:\\HighwayCounter_YOLOv8\\highway.mp4: 384x640 5 cars, 23.2ms\n",
            "video 1/1 (frame 267/1824) d:\\HighwayCounter_YOLOv8\\highway.mp4: 384x640 5 cars, 16.6ms\n",
            "video 1/1 (frame 268/1824) d:\\HighwayCounter_YOLOv8\\highway.mp4: 384x640 5 cars, 29.9ms\n",
            "video 1/1 (frame 269/1824) d:\\HighwayCounter_YOLOv8\\highway.mp4: 384x640 5 cars, 20.2ms\n",
            "video 1/1 (frame 270/1824) d:\\HighwayCounter_YOLOv8\\highway.mp4: 384x640 5 cars, 16.1ms\n",
            "video 1/1 (frame 271/1824) d:\\HighwayCounter_YOLOv8\\highway.mp4: 384x640 5 cars, 16.6ms\n",
            "video 1/1 (frame 272/1824) d:\\HighwayCounter_YOLOv8\\highway.mp4: 384x640 5 cars, 65.7ms\n",
            "video 1/1 (frame 273/1824) d:\\HighwayCounter_YOLOv8\\highway.mp4: 384x640 5 cars, 20.9ms\n",
            "video 1/1 (frame 274/1824) d:\\HighwayCounter_YOLOv8\\highway.mp4: 384x640 5 cars, 33.2ms\n",
            "video 1/1 (frame 275/1824) d:\\HighwayCounter_YOLOv8\\highway.mp4: 384x640 5 cars, 39.5ms\n",
            "video 1/1 (frame 276/1824) d:\\HighwayCounter_YOLOv8\\highway.mp4: 384x640 5 cars, 21.6ms\n",
            "video 1/1 (frame 277/1824) d:\\HighwayCounter_YOLOv8\\highway.mp4: 384x640 5 cars, 16.4ms\n",
            "video 1/1 (frame 278/1824) d:\\HighwayCounter_YOLOv8\\highway.mp4: 384x640 5 cars, 31.3ms\n",
            "video 1/1 (frame 279/1824) d:\\HighwayCounter_YOLOv8\\highway.mp4: 384x640 5 cars, 26.8ms\n",
            "video 1/1 (frame 280/1824) d:\\HighwayCounter_YOLOv8\\highway.mp4: 384x640 4 cars, 31.2ms\n",
            "video 1/1 (frame 281/1824) d:\\HighwayCounter_YOLOv8\\highway.mp4: 384x640 4 cars, 15.6ms\n",
            "video 1/1 (frame 282/1824) d:\\HighwayCounter_YOLOv8\\highway.mp4: 384x640 4 cars, 31.2ms\n",
            "video 1/1 (frame 283/1824) d:\\HighwayCounter_YOLOv8\\highway.mp4: 384x640 4 cars, 15.6ms\n",
            "video 1/1 (frame 284/1824) d:\\HighwayCounter_YOLOv8\\highway.mp4: 384x640 4 cars, 31.2ms\n",
            "video 1/1 (frame 285/1824) d:\\HighwayCounter_YOLOv8\\highway.mp4: 384x640 5 cars, 16.3ms\n",
            "video 1/1 (frame 286/1824) d:\\HighwayCounter_YOLOv8\\highway.mp4: 384x640 5 cars, 18.4ms\n",
            "video 1/1 (frame 287/1824) d:\\HighwayCounter_YOLOv8\\highway.mp4: 384x640 6 cars, 15.1ms\n",
            "video 1/1 (frame 288/1824) d:\\HighwayCounter_YOLOv8\\highway.mp4: 384x640 6 cars, 16.6ms\n",
            "video 1/1 (frame 289/1824) d:\\HighwayCounter_YOLOv8\\highway.mp4: 384x640 4 cars, 39.4ms\n",
            "video 1/1 (frame 290/1824) d:\\HighwayCounter_YOLOv8\\highway.mp4: 384x640 5 cars, 31.0ms\n",
            "video 1/1 (frame 291/1824) d:\\HighwayCounter_YOLOv8\\highway.mp4: 384x640 5 cars, 31.3ms\n",
            "video 1/1 (frame 292/1824) d:\\HighwayCounter_YOLOv8\\highway.mp4: 384x640 4 cars, 31.2ms\n",
            "video 1/1 (frame 293/1824) d:\\HighwayCounter_YOLOv8\\highway.mp4: 384x640 4 cars, 15.6ms\n",
            "video 1/1 (frame 294/1824) d:\\HighwayCounter_YOLOv8\\highway.mp4: 384x640 5 cars, 16.2ms\n",
            "video 1/1 (frame 295/1824) d:\\HighwayCounter_YOLOv8\\highway.mp4: 384x640 3 cars, 30.2ms\n",
            "video 1/1 (frame 296/1824) d:\\HighwayCounter_YOLOv8\\highway.mp4: 384x640 3 cars, 31.5ms\n",
            "video 1/1 (frame 297/1824) d:\\HighwayCounter_YOLOv8\\highway.mp4: 384x640 3 cars, 21.1ms\n",
            "video 1/1 (frame 298/1824) d:\\HighwayCounter_YOLOv8\\highway.mp4: 384x640 3 cars, 16.6ms\n",
            "video 1/1 (frame 299/1824) d:\\HighwayCounter_YOLOv8\\highway.mp4: 384x640 3 cars, 15.6ms\n",
            "video 1/1 (frame 300/1824) d:\\HighwayCounter_YOLOv8\\highway.mp4: 384x640 4 cars, 32.5ms\n",
            "video 1/1 (frame 301/1824) d:\\HighwayCounter_YOLOv8\\highway.mp4: 384x640 4 cars, 15.6ms\n",
            "video 1/1 (frame 302/1824) d:\\HighwayCounter_YOLOv8\\highway.mp4: 384x640 4 cars, 32.5ms\n",
            "video 1/1 (frame 303/1824) d:\\HighwayCounter_YOLOv8\\highway.mp4: 384x640 4 cars, 15.9ms\n",
            "video 1/1 (frame 304/1824) d:\\HighwayCounter_YOLOv8\\highway.mp4: 384x640 4 cars, 15.6ms\n",
            "video 1/1 (frame 305/1824) d:\\HighwayCounter_YOLOv8\\highway.mp4: 384x640 4 cars, 15.6ms\n",
            "video 1/1 (frame 306/1824) d:\\HighwayCounter_YOLOv8\\highway.mp4: 384x640 4 cars, 31.2ms\n",
            "video 1/1 (frame 307/1824) d:\\HighwayCounter_YOLOv8\\highway.mp4: 384x640 4 cars, 15.6ms\n",
            "video 1/1 (frame 308/1824) d:\\HighwayCounter_YOLOv8\\highway.mp4: 384x640 4 cars, 37.5ms\n",
            "video 1/1 (frame 309/1824) d:\\HighwayCounter_YOLOv8\\highway.mp4: 384x640 4 cars, 16.6ms\n",
            "video 1/1 (frame 310/1824) d:\\HighwayCounter_YOLOv8\\highway.mp4: 384x640 4 cars, 31.2ms\n",
            "video 1/1 (frame 311/1824) d:\\HighwayCounter_YOLOv8\\highway.mp4: 384x640 4 cars, 17.2ms\n",
            "video 1/1 (frame 312/1824) d:\\HighwayCounter_YOLOv8\\highway.mp4: 384x640 4 cars, 20.2ms\n",
            "video 1/1 (frame 313/1824) d:\\HighwayCounter_YOLOv8\\highway.mp4: 384x640 4 cars, 31.3ms\n",
            "video 1/1 (frame 314/1824) d:\\HighwayCounter_YOLOv8\\highway.mp4: 384x640 3 cars, 15.6ms\n",
            "video 1/1 (frame 315/1824) d:\\HighwayCounter_YOLOv8\\highway.mp4: 384x640 4 cars, 26.5ms\n",
            "video 1/1 (frame 316/1824) d:\\HighwayCounter_YOLOv8\\highway.mp4: 384x640 3 cars, 15.6ms\n",
            "video 1/1 (frame 317/1824) d:\\HighwayCounter_YOLOv8\\highway.mp4: 384x640 4 cars, 31.2ms\n",
            "video 1/1 (frame 318/1824) d:\\HighwayCounter_YOLOv8\\highway.mp4: 384x640 4 cars, 22.1ms\n",
            "video 1/1 (frame 319/1824) d:\\HighwayCounter_YOLOv8\\highway.mp4: 384x640 4 cars, 31.2ms\n",
            "video 1/1 (frame 320/1824) d:\\HighwayCounter_YOLOv8\\highway.mp4: 384x640 4 cars, 27.8ms\n",
            "video 1/1 (frame 321/1824) d:\\HighwayCounter_YOLOv8\\highway.mp4: 384x640 4 cars, 15.6ms\n",
            "video 1/1 (frame 322/1824) d:\\HighwayCounter_YOLOv8\\highway.mp4: 384x640 4 cars, 31.2ms\n",
            "video 1/1 (frame 323/1824) d:\\HighwayCounter_YOLOv8\\highway.mp4: 384x640 4 cars, 29.2ms\n",
            "video 1/1 (frame 324/1824) d:\\HighwayCounter_YOLOv8\\highway.mp4: 384x640 3 cars, 15.6ms\n",
            "video 1/1 (frame 325/1824) d:\\HighwayCounter_YOLOv8\\highway.mp4: 384x640 4 cars, 36.5ms\n",
            "video 1/1 (frame 326/1824) d:\\HighwayCounter_YOLOv8\\highway.mp4: 384x640 4 cars, 31.3ms\n",
            "video 1/1 (frame 327/1824) d:\\HighwayCounter_YOLOv8\\highway.mp4: 384x640 3 cars, 15.6ms\n",
            "video 1/1 (frame 328/1824) d:\\HighwayCounter_YOLOv8\\highway.mp4: 384x640 3 cars, 22.3ms\n",
            "video 1/1 (frame 329/1824) d:\\HighwayCounter_YOLOv8\\highway.mp4: 384x640 3 cars, 15.6ms\n",
            "video 1/1 (frame 330/1824) d:\\HighwayCounter_YOLOv8\\highway.mp4: 384x640 3 cars, 27.6ms\n",
            "video 1/1 (frame 331/1824) d:\\HighwayCounter_YOLOv8\\highway.mp4: 384x640 3 cars, 9.0ms\n",
            "video 1/1 (frame 332/1824) d:\\HighwayCounter_YOLOv8\\highway.mp4: 384x640 3 cars, 31.2ms\n",
            "video 1/1 (frame 333/1824) d:\\HighwayCounter_YOLOv8\\highway.mp4: 384x640 3 cars, 29.5ms\n",
            "video 1/1 (frame 334/1824) d:\\HighwayCounter_YOLOv8\\highway.mp4: 384x640 3 cars, 15.6ms\n",
            "video 1/1 (frame 335/1824) d:\\HighwayCounter_YOLOv8\\highway.mp4: 384x640 3 cars, 15.6ms\n",
            "video 1/1 (frame 336/1824) d:\\HighwayCounter_YOLOv8\\highway.mp4: 384x640 4 cars, 21.7ms\n",
            "video 1/1 (frame 337/1824) d:\\HighwayCounter_YOLOv8\\highway.mp4: 384x640 4 cars, 31.2ms\n",
            "video 1/1 (frame 338/1824) d:\\HighwayCounter_YOLOv8\\highway.mp4: 384x640 4 cars, 32.6ms\n",
            "video 1/1 (frame 339/1824) d:\\HighwayCounter_YOLOv8\\highway.mp4: 384x640 4 cars, 15.6ms\n",
            "video 1/1 (frame 340/1824) d:\\HighwayCounter_YOLOv8\\highway.mp4: 384x640 3 cars, 35.7ms\n",
            "video 1/1 (frame 341/1824) d:\\HighwayCounter_YOLOv8\\highway.mp4: 384x640 3 cars, 29.0ms\n",
            "video 1/1 (frame 342/1824) d:\\HighwayCounter_YOLOv8\\highway.mp4: 384x640 3 cars, 16.5ms\n",
            "video 1/1 (frame 343/1824) d:\\HighwayCounter_YOLOv8\\highway.mp4: 384x640 3 cars, 44.3ms\n",
            "video 1/1 (frame 344/1824) d:\\HighwayCounter_YOLOv8\\highway.mp4: 384x640 3 cars, 11.5ms\n",
            "video 1/1 (frame 345/1824) d:\\HighwayCounter_YOLOv8\\highway.mp4: 384x640 2 cars, 15.6ms\n",
            "video 1/1 (frame 346/1824) d:\\HighwayCounter_YOLOv8\\highway.mp4: 384x640 2 cars, 31.2ms\n",
            "video 1/1 (frame 347/1824) d:\\HighwayCounter_YOLOv8\\highway.mp4: 384x640 3 cars, 29.2ms\n",
            "video 1/1 (frame 348/1824) d:\\HighwayCounter_YOLOv8\\highway.mp4: 384x640 2 cars, 46.9ms\n",
            "video 1/1 (frame 349/1824) d:\\HighwayCounter_YOLOv8\\highway.mp4: 384x640 2 cars, 48.3ms\n",
            "video 1/1 (frame 350/1824) d:\\HighwayCounter_YOLOv8\\highway.mp4: 384x640 2 cars, 15.6ms\n",
            "video 1/1 (frame 351/1824) d:\\HighwayCounter_YOLOv8\\highway.mp4: 384x640 2 cars, 19.6ms\n",
            "video 1/1 (frame 352/1824) d:\\HighwayCounter_YOLOv8\\highway.mp4: 384x640 2 cars, 20.1ms\n",
            "video 1/1 (frame 353/1824) d:\\HighwayCounter_YOLOv8\\highway.mp4: 384x640 2 cars, 22.8ms\n",
            "video 1/1 (frame 354/1824) d:\\HighwayCounter_YOLOv8\\highway.mp4: 384x640 2 cars, 28.3ms\n",
            "video 1/1 (frame 355/1824) d:\\HighwayCounter_YOLOv8\\highway.mp4: 384x640 2 cars, 19.5ms\n",
            "video 1/1 (frame 356/1824) d:\\HighwayCounter_YOLOv8\\highway.mp4: 384x640 2 cars, 26.9ms\n",
            "video 1/1 (frame 357/1824) d:\\HighwayCounter_YOLOv8\\highway.mp4: 384x640 2 cars, 20.3ms\n",
            "video 1/1 (frame 358/1824) d:\\HighwayCounter_YOLOv8\\highway.mp4: 384x640 3 cars, 15.6ms\n",
            "video 1/1 (frame 359/1824) d:\\HighwayCounter_YOLOv8\\highway.mp4: 384x640 3 cars, 15.6ms\n",
            "video 1/1 (frame 360/1824) d:\\HighwayCounter_YOLOv8\\highway.mp4: 384x640 3 cars, 26.3ms\n",
            "video 1/1 (frame 361/1824) d:\\HighwayCounter_YOLOv8\\highway.mp4: 384x640 3 cars, 15.6ms\n",
            "video 1/1 (frame 362/1824) d:\\HighwayCounter_YOLOv8\\highway.mp4: 384x640 3 cars, 28.8ms\n",
            "video 1/1 (frame 363/1824) d:\\HighwayCounter_YOLOv8\\highway.mp4: 384x640 3 cars, 26.5ms\n",
            "video 1/1 (frame 364/1824) d:\\HighwayCounter_YOLOv8\\highway.mp4: 384x640 3 cars, 15.6ms\n",
            "video 1/1 (frame 365/1824) d:\\HighwayCounter_YOLOv8\\highway.mp4: 384x640 3 cars, 15.6ms\n",
            "video 1/1 (frame 366/1824) d:\\HighwayCounter_YOLOv8\\highway.mp4: 384x640 3 cars, 31.2ms\n",
            "video 1/1 (frame 367/1824) d:\\HighwayCounter_YOLOv8\\highway.mp4: 384x640 3 cars, 33.4ms\n",
            "video 1/1 (frame 368/1824) d:\\HighwayCounter_YOLOv8\\highway.mp4: 384x640 3 cars, 23.0ms\n",
            "video 1/1 (frame 369/1824) d:\\HighwayCounter_YOLOv8\\highway.mp4: 384x640 3 cars, 29.8ms\n",
            "video 1/1 (frame 370/1824) d:\\HighwayCounter_YOLOv8\\highway.mp4: 384x640 3 cars, 28.1ms\n",
            "video 1/1 (frame 371/1824) d:\\HighwayCounter_YOLOv8\\highway.mp4: 384x640 3 cars, 15.6ms\n",
            "video 1/1 (frame 372/1824) d:\\HighwayCounter_YOLOv8\\highway.mp4: 384x640 2 cars, 22.7ms\n",
            "video 1/1 (frame 373/1824) d:\\HighwayCounter_YOLOv8\\highway.mp4: 384x640 2 cars, 31.2ms\n",
            "video 1/1 (frame 374/1824) d:\\HighwayCounter_YOLOv8\\highway.mp4: 384x640 3 cars, 24.1ms\n",
            "video 1/1 (frame 375/1824) d:\\HighwayCounter_YOLOv8\\highway.mp4: 384x640 3 cars, 15.6ms\n",
            "video 1/1 (frame 376/1824) d:\\HighwayCounter_YOLOv8\\highway.mp4: 384x640 3 cars, 27.6ms\n",
            "video 1/1 (frame 377/1824) d:\\HighwayCounter_YOLOv8\\highway.mp4: 384x640 2 cars, 15.6ms\n",
            "video 1/1 (frame 378/1824) d:\\HighwayCounter_YOLOv8\\highway.mp4: 384x640 2 cars, 62.5ms\n",
            "video 1/1 (frame 379/1824) d:\\HighwayCounter_YOLOv8\\highway.mp4: 384x640 2 cars, 58.9ms\n",
            "video 1/1 (frame 380/1824) d:\\HighwayCounter_YOLOv8\\highway.mp4: 384x640 2 cars, 26.1ms\n",
            "video 1/1 (frame 381/1824) d:\\HighwayCounter_YOLOv8\\highway.mp4: 384x640 2 cars, 16.6ms\n",
            "video 1/1 (frame 382/1824) d:\\HighwayCounter_YOLOv8\\highway.mp4: 384x640 2 cars, 28.6ms\n",
            "video 1/1 (frame 383/1824) d:\\HighwayCounter_YOLOv8\\highway.mp4: 384x640 2 cars, 46.9ms\n",
            "video 1/1 (frame 384/1824) d:\\HighwayCounter_YOLOv8\\highway.mp4: 384x640 2 cars, 10.7ms\n",
            "video 1/1 (frame 385/1824) d:\\HighwayCounter_YOLOv8\\highway.mp4: 384x640 2 cars, 15.6ms\n",
            "video 1/1 (frame 386/1824) d:\\HighwayCounter_YOLOv8\\highway.mp4: 384x640 2 cars, 46.9ms\n",
            "video 1/1 (frame 387/1824) d:\\HighwayCounter_YOLOv8\\highway.mp4: 384x640 2 cars, 25.2ms\n",
            "video 1/1 (frame 388/1824) d:\\HighwayCounter_YOLOv8\\highway.mp4: 384x640 2 cars, 24.0ms\n",
            "video 1/1 (frame 389/1824) d:\\HighwayCounter_YOLOv8\\highway.mp4: 384x640 2 cars, 24.9ms\n",
            "video 1/1 (frame 390/1824) d:\\HighwayCounter_YOLOv8\\highway.mp4: 384x640 2 cars, 15.6ms\n",
            "video 1/1 (frame 391/1824) d:\\HighwayCounter_YOLOv8\\highway.mp4: 384x640 2 cars, 31.2ms\n",
            "video 1/1 (frame 392/1824) d:\\HighwayCounter_YOLOv8\\highway.mp4: 384x640 2 cars, 16.2ms\n",
            "video 1/1 (frame 393/1824) d:\\HighwayCounter_YOLOv8\\highway.mp4: 384x640 2 cars, 31.2ms\n",
            "video 1/1 (frame 394/1824) d:\\HighwayCounter_YOLOv8\\highway.mp4: 384x640 2 cars, 31.3ms\n",
            "video 1/1 (frame 395/1824) d:\\HighwayCounter_YOLOv8\\highway.mp4: 384x640 2 cars, 31.2ms\n",
            "video 1/1 (frame 396/1824) d:\\HighwayCounter_YOLOv8\\highway.mp4: 384x640 2 cars, 31.2ms\n",
            "video 1/1 (frame 397/1824) d:\\HighwayCounter_YOLOv8\\highway.mp4: 384x640 2 cars, 15.6ms\n",
            "video 1/1 (frame 398/1824) d:\\HighwayCounter_YOLOv8\\highway.mp4: 384x640 2 cars, 17.1ms\n",
            "video 1/1 (frame 399/1824) d:\\HighwayCounter_YOLOv8\\highway.mp4: 384x640 2 cars, 31.3ms\n",
            "video 1/1 (frame 400/1824) d:\\HighwayCounter_YOLOv8\\highway.mp4: 384x640 2 cars, 31.2ms\n",
            "video 1/1 (frame 401/1824) d:\\HighwayCounter_YOLOv8\\highway.mp4: 384x640 2 cars, 15.6ms\n",
            "video 1/1 (frame 402/1824) d:\\HighwayCounter_YOLOv8\\highway.mp4: 384x640 2 cars, 18.9ms\n",
            "video 1/1 (frame 403/1824) d:\\HighwayCounter_YOLOv8\\highway.mp4: 384x640 2 cars, 15.6ms\n",
            "video 1/1 (frame 404/1824) d:\\HighwayCounter_YOLOv8\\highway.mp4: 384x640 2 cars, 15.6ms\n",
            "video 1/1 (frame 405/1824) d:\\HighwayCounter_YOLOv8\\highway.mp4: 384x640 3 cars, 26.9ms\n",
            "video 1/1 (frame 406/1824) d:\\HighwayCounter_YOLOv8\\highway.mp4: 384x640 3 cars, 34.2ms\n",
            "video 1/1 (frame 407/1824) d:\\HighwayCounter_YOLOv8\\highway.mp4: 384x640 3 cars, 31.2ms\n",
            "video 1/1 (frame 408/1824) d:\\HighwayCounter_YOLOv8\\highway.mp4: 384x640 3 cars, 21.4ms\n",
            "video 1/1 (frame 409/1824) d:\\HighwayCounter_YOLOv8\\highway.mp4: 384x640 3 cars, 31.3ms\n",
            "video 1/1 (frame 410/1824) d:\\HighwayCounter_YOLOv8\\highway.mp4: 384x640 3 cars, 15.6ms\n",
            "video 1/1 (frame 411/1824) d:\\HighwayCounter_YOLOv8\\highway.mp4: 384x640 3 cars, 15.6ms\n",
            "video 1/1 (frame 412/1824) d:\\HighwayCounter_YOLOv8\\highway.mp4: 384x640 3 cars, 15.6ms\n",
            "video 1/1 (frame 413/1824) d:\\HighwayCounter_YOLOv8\\highway.mp4: 384x640 3 cars, 31.3ms\n",
            "video 1/1 (frame 414/1824) d:\\HighwayCounter_YOLOv8\\highway.mp4: 384x640 3 cars, 15.6ms\n",
            "video 1/1 (frame 415/1824) d:\\HighwayCounter_YOLOv8\\highway.mp4: 384x640 3 cars, 15.6ms\n",
            "video 1/1 (frame 416/1824) d:\\HighwayCounter_YOLOv8\\highway.mp4: 384x640 3 cars, 15.6ms\n",
            "video 1/1 (frame 417/1824) d:\\HighwayCounter_YOLOv8\\highway.mp4: 384x640 3 cars, 15.6ms\n",
            "video 1/1 (frame 418/1824) d:\\HighwayCounter_YOLOv8\\highway.mp4: 384x640 3 cars, 15.6ms\n",
            "video 1/1 (frame 419/1824) d:\\HighwayCounter_YOLOv8\\highway.mp4: 384x640 2 cars, 31.2ms\n",
            "video 1/1 (frame 420/1824) d:\\HighwayCounter_YOLOv8\\highway.mp4: 384x640 2 cars, 15.6ms\n",
            "video 1/1 (frame 421/1824) d:\\HighwayCounter_YOLOv8\\highway.mp4: 384x640 2 cars, 15.6ms\n",
            "video 1/1 (frame 422/1824) d:\\HighwayCounter_YOLOv8\\highway.mp4: 384x640 2 cars, 15.6ms\n",
            "video 1/1 (frame 423/1824) d:\\HighwayCounter_YOLOv8\\highway.mp4: 384x640 2 cars, 31.2ms\n",
            "video 1/1 (frame 424/1824) d:\\HighwayCounter_YOLOv8\\highway.mp4: 384x640 2 cars, 31.2ms\n",
            "video 1/1 (frame 425/1824) d:\\HighwayCounter_YOLOv8\\highway.mp4: 384x640 2 cars, 15.6ms\n",
            "video 1/1 (frame 426/1824) d:\\HighwayCounter_YOLOv8\\highway.mp4: 384x640 2 cars, 15.6ms\n",
            "video 1/1 (frame 427/1824) d:\\HighwayCounter_YOLOv8\\highway.mp4: 384x640 2 cars, 24.3ms\n",
            "video 1/1 (frame 428/1824) d:\\HighwayCounter_YOLOv8\\highway.mp4: 384x640 2 cars, 15.6ms\n",
            "video 1/1 (frame 429/1824) d:\\HighwayCounter_YOLOv8\\highway.mp4: 384x640 2 cars, 30.0ms\n",
            "video 1/1 (frame 430/1824) d:\\HighwayCounter_YOLOv8\\highway.mp4: 384x640 2 cars, 31.2ms\n",
            "video 1/1 (frame 431/1824) d:\\HighwayCounter_YOLOv8\\highway.mp4: 384x640 2 cars, 31.3ms\n",
            "video 1/1 (frame 432/1824) d:\\HighwayCounter_YOLOv8\\highway.mp4: 384x640 3 cars, 15.6ms\n",
            "video 1/1 (frame 433/1824) d:\\HighwayCounter_YOLOv8\\highway.mp4: 384x640 3 cars, 15.6ms\n",
            "video 1/1 (frame 434/1824) d:\\HighwayCounter_YOLOv8\\highway.mp4: 384x640 3 cars, 33.3ms\n",
            "video 1/1 (frame 435/1824) d:\\HighwayCounter_YOLOv8\\highway.mp4: 384x640 3 cars, 31.2ms\n",
            "video 1/1 (frame 436/1824) d:\\HighwayCounter_YOLOv8\\highway.mp4: 384x640 2 cars, 1 truck, 20.6ms\n",
            "video 1/1 (frame 437/1824) d:\\HighwayCounter_YOLOv8\\highway.mp4: 384x640 2 cars, 1 truck, 40.6ms\n",
            "video 1/1 (frame 438/1824) d:\\HighwayCounter_YOLOv8\\highway.mp4: 384x640 2 cars, 1 truck, 16.8ms\n",
            "video 1/1 (frame 439/1824) d:\\HighwayCounter_YOLOv8\\highway.mp4: 384x640 2 cars, 1 truck, 34.0ms\n",
            "video 1/1 (frame 440/1824) d:\\HighwayCounter_YOLOv8\\highway.mp4: 384x640 2 cars, 1 truck, 12.3ms\n",
            "video 1/1 (frame 441/1824) d:\\HighwayCounter_YOLOv8\\highway.mp4: 384x640 2 cars, 1 truck, 31.2ms\n",
            "video 1/1 (frame 442/1824) d:\\HighwayCounter_YOLOv8\\highway.mp4: 384x640 2 cars, 1 truck, 18.6ms\n",
            "video 1/1 (frame 443/1824) d:\\HighwayCounter_YOLOv8\\highway.mp4: 384x640 2 cars, 1 truck, 16.6ms\n",
            "video 1/1 (frame 444/1824) d:\\HighwayCounter_YOLOv8\\highway.mp4: 384x640 3 cars, 1 bus, 1 truck, 21.5ms\n",
            "video 1/1 (frame 445/1824) d:\\HighwayCounter_YOLOv8\\highway.mp4: 384x640 3 cars, 1 truck, 31.2ms\n",
            "video 1/1 (frame 446/1824) d:\\HighwayCounter_YOLOv8\\highway.mp4: 384x640 3 cars, 1 truck, 31.2ms\n",
            "video 1/1 (frame 447/1824) d:\\HighwayCounter_YOLOv8\\highway.mp4: 384x640 3 cars, 1 truck, 15.6ms\n",
            "video 1/1 (frame 448/1824) d:\\HighwayCounter_YOLOv8\\highway.mp4: 384x640 3 cars, 1 truck, 30.5ms\n",
            "video 1/1 (frame 449/1824) d:\\HighwayCounter_YOLOv8\\highway.mp4: 384x640 3 cars, 1 truck, 15.6ms\n",
            "video 1/1 (frame 450/1824) d:\\HighwayCounter_YOLOv8\\highway.mp4: 384x640 3 cars, 1 truck, 22.8ms\n",
            "video 1/1 (frame 451/1824) d:\\HighwayCounter_YOLOv8\\highway.mp4: 384x640 3 cars, 1 truck, 24.1ms\n",
            "video 1/1 (frame 452/1824) d:\\HighwayCounter_YOLOv8\\highway.mp4: 384x640 3 cars, 1 truck, 15.6ms\n",
            "video 1/1 (frame 453/1824) d:\\HighwayCounter_YOLOv8\\highway.mp4: 384x640 3 cars, 1 truck, 16.4ms\n",
            "video 1/1 (frame 454/1824) d:\\HighwayCounter_YOLOv8\\highway.mp4: 384x640 3 cars, 1 truck, 16.6ms\n",
            "video 1/1 (frame 455/1824) d:\\HighwayCounter_YOLOv8\\highway.mp4: 384x640 3 cars, 1 truck, 24.1ms\n",
            "video 1/1 (frame 456/1824) d:\\HighwayCounter_YOLOv8\\highway.mp4: 384x640 3 cars, 1 truck, 24.0ms\n",
            "video 1/1 (frame 457/1824) d:\\HighwayCounter_YOLOv8\\highway.mp4: 384x640 3 cars, 1 truck, 45.8ms\n",
            "video 1/1 (frame 458/1824) d:\\HighwayCounter_YOLOv8\\highway.mp4: 384x640 3 cars, 1 truck, 27.0ms\n",
            "video 1/1 (frame 459/1824) d:\\HighwayCounter_YOLOv8\\highway.mp4: 384x640 3 cars, 1 truck, 8.2ms\n",
            "video 1/1 (frame 460/1824) d:\\HighwayCounter_YOLOv8\\highway.mp4: 384x640 3 cars, 1 truck, 28.6ms\n",
            "video 1/1 (frame 461/1824) d:\\HighwayCounter_YOLOv8\\highway.mp4: 384x640 3 cars, 1 truck, 24.6ms\n",
            "video 1/1 (frame 462/1824) d:\\HighwayCounter_YOLOv8\\highway.mp4: 384x640 3 cars, 1 truck, 23.0ms\n",
            "video 1/1 (frame 463/1824) d:\\HighwayCounter_YOLOv8\\highway.mp4: 384x640 3 cars, 1 truck, 25.6ms\n",
            "video 1/1 (frame 464/1824) d:\\HighwayCounter_YOLOv8\\highway.mp4: 384x640 3 cars, 1 truck, 16.7ms\n",
            "video 1/1 (frame 465/1824) d:\\HighwayCounter_YOLOv8\\highway.mp4: 384x640 3 cars, 1 truck, 32.1ms\n",
            "video 1/1 (frame 466/1824) d:\\HighwayCounter_YOLOv8\\highway.mp4: 384x640 3 cars, 1 truck, 16.7ms\n",
            "video 1/1 (frame 467/1824) d:\\HighwayCounter_YOLOv8\\highway.mp4: 384x640 3 cars, 1 truck, 37.1ms\n",
            "video 1/1 (frame 468/1824) d:\\HighwayCounter_YOLOv8\\highway.mp4: 384x640 3 cars, 1 truck, 31.3ms\n",
            "video 1/1 (frame 469/1824) d:\\HighwayCounter_YOLOv8\\highway.mp4: 384x640 3 cars, 1 truck, 7.1ms\n",
            "video 1/1 (frame 470/1824) d:\\HighwayCounter_YOLOv8\\highway.mp4: 384x640 3 cars, 1 truck, 20.3ms\n",
            "video 1/1 (frame 471/1824) d:\\HighwayCounter_YOLOv8\\highway.mp4: 384x640 3 cars, 1 truck, 31.2ms\n",
            "video 1/1 (frame 472/1824) d:\\HighwayCounter_YOLOv8\\highway.mp4: 384x640 3 cars, 1 truck, 31.2ms\n",
            "video 1/1 (frame 473/1824) d:\\HighwayCounter_YOLOv8\\highway.mp4: 384x640 3 cars, 1 truck, 31.4ms\n",
            "video 1/1 (frame 474/1824) d:\\HighwayCounter_YOLOv8\\highway.mp4: 384x640 3 cars, 1 truck, 17.2ms\n",
            "video 1/1 (frame 475/1824) d:\\HighwayCounter_YOLOv8\\highway.mp4: 384x640 3 cars, 1 truck, 17.0ms\n",
            "video 1/1 (frame 476/1824) d:\\HighwayCounter_YOLOv8\\highway.mp4: 384x640 3 cars, 1 truck, 18.7ms\n",
            "video 1/1 (frame 477/1824) d:\\HighwayCounter_YOLOv8\\highway.mp4: 384x640 3 cars, 1 truck, 15.6ms\n",
            "video 1/1 (frame 478/1824) d:\\HighwayCounter_YOLOv8\\highway.mp4: 384x640 3 cars, 1 truck, 31.2ms\n",
            "video 1/1 (frame 479/1824) d:\\HighwayCounter_YOLOv8\\highway.mp4: 384x640 3 cars, 1 truck, 15.6ms\n",
            "video 1/1 (frame 480/1824) d:\\HighwayCounter_YOLOv8\\highway.mp4: 384x640 3 cars, 1 truck, 15.6ms\n",
            "video 1/1 (frame 481/1824) d:\\HighwayCounter_YOLOv8\\highway.mp4: 384x640 3 cars, 1 truck, 30.4ms\n",
            "video 1/1 (frame 482/1824) d:\\HighwayCounter_YOLOv8\\highway.mp4: 384x640 3 cars, 1 truck, 33.3ms\n",
            "video 1/1 (frame 483/1824) d:\\HighwayCounter_YOLOv8\\highway.mp4: 384x640 3 cars, 1 truck, 13.1ms\n",
            "video 1/1 (frame 484/1824) d:\\HighwayCounter_YOLOv8\\highway.mp4: 384x640 3 cars, 1 truck, 15.6ms\n",
            "video 1/1 (frame 485/1824) d:\\HighwayCounter_YOLOv8\\highway.mp4: 384x640 3 cars, 1 truck, 25.1ms\n",
            "video 1/1 (frame 486/1824) d:\\HighwayCounter_YOLOv8\\highway.mp4: 384x640 3 cars, 1 truck, 15.6ms\n",
            "video 1/1 (frame 487/1824) d:\\HighwayCounter_YOLOv8\\highway.mp4: 384x640 3 cars, 1 truck, 32.4ms\n",
            "video 1/1 (frame 488/1824) d:\\HighwayCounter_YOLOv8\\highway.mp4: 384x640 3 cars, 1 truck, 16.8ms\n",
            "video 1/1 (frame 489/1824) d:\\HighwayCounter_YOLOv8\\highway.mp4: 384x640 3 cars, 1 truck, 16.8ms\n",
            "video 1/1 (frame 490/1824) d:\\HighwayCounter_YOLOv8\\highway.mp4: 384x640 3 cars, 1 truck, 18.9ms\n",
            "video 1/1 (frame 491/1824) d:\\HighwayCounter_YOLOv8\\highway.mp4: 384x640 3 cars, 1 truck, 15.6ms\n",
            "video 1/1 (frame 492/1824) d:\\HighwayCounter_YOLOv8\\highway.mp4: 384x640 3 cars, 1 truck, 17.4ms\n",
            "video 1/1 (frame 493/1824) d:\\HighwayCounter_YOLOv8\\highway.mp4: 384x640 3 cars, 1 truck, 17.8ms\n",
            "video 1/1 (frame 494/1824) d:\\HighwayCounter_YOLOv8\\highway.mp4: 384x640 2 cars, 1 truck, 24.4ms\n",
            "video 1/1 (frame 495/1824) d:\\HighwayCounter_YOLOv8\\highway.mp4: 384x640 2 cars, 1 truck, 31.5ms\n",
            "video 1/1 (frame 496/1824) d:\\HighwayCounter_YOLOv8\\highway.mp4: 384x640 2 cars, 1 truck, 17.6ms\n",
            "video 1/1 (frame 497/1824) d:\\HighwayCounter_YOLOv8\\highway.mp4: 384x640 2 cars, 1 truck, 33.3ms\n",
            "video 1/1 (frame 498/1824) d:\\HighwayCounter_YOLOv8\\highway.mp4: 384x640 2 cars, 1 truck, 16.1ms\n",
            "video 1/1 (frame 499/1824) d:\\HighwayCounter_YOLOv8\\highway.mp4: 384x640 2 cars, 1 truck, 16.6ms\n",
            "video 1/1 (frame 500/1824) d:\\HighwayCounter_YOLOv8\\highway.mp4: 384x640 2 cars, 1 truck, 37.2ms\n",
            "video 1/1 (frame 501/1824) d:\\HighwayCounter_YOLOv8\\highway.mp4: 384x640 2 cars, 1 truck, 32.0ms\n",
            "video 1/1 (frame 502/1824) d:\\HighwayCounter_YOLOv8\\highway.mp4: 384x640 2 cars, 1 truck, 15.6ms\n",
            "video 1/1 (frame 503/1824) d:\\HighwayCounter_YOLOv8\\highway.mp4: 384x640 2 cars, 1 truck, 16.5ms\n",
            "video 1/1 (frame 504/1824) d:\\HighwayCounter_YOLOv8\\highway.mp4: 384x640 2 cars, 1 truck, 14.7ms\n",
            "video 1/1 (frame 505/1824) d:\\HighwayCounter_YOLOv8\\highway.mp4: 384x640 2 cars, 1 truck, 17.7ms\n",
            "video 1/1 (frame 506/1824) d:\\HighwayCounter_YOLOv8\\highway.mp4: 384x640 3 cars, 1 truck, 17.8ms\n",
            "video 1/1 (frame 507/1824) d:\\HighwayCounter_YOLOv8\\highway.mp4: 384x640 3 cars, 1 truck, 10.0ms\n",
            "video 1/1 (frame 508/1824) d:\\HighwayCounter_YOLOv8\\highway.mp4: 384x640 3 cars, 1 truck, 15.6ms\n",
            "video 1/1 (frame 509/1824) d:\\HighwayCounter_YOLOv8\\highway.mp4: 384x640 3 cars, 1 truck, 16.6ms\n",
            "video 1/1 (frame 510/1824) d:\\HighwayCounter_YOLOv8\\highway.mp4: 384x640 3 cars, 1 truck, 15.6ms\n",
            "video 1/1 (frame 511/1824) d:\\HighwayCounter_YOLOv8\\highway.mp4: 384x640 3 cars, 1 truck, 15.6ms\n",
            "video 1/1 (frame 512/1824) d:\\HighwayCounter_YOLOv8\\highway.mp4: 384x640 3 cars, 1 truck, 15.6ms\n",
            "video 1/1 (frame 513/1824) d:\\HighwayCounter_YOLOv8\\highway.mp4: 384x640 3 cars, 1 truck, 31.3ms\n",
            "video 1/1 (frame 514/1824) d:\\HighwayCounter_YOLOv8\\highway.mp4: 384x640 3 cars, 1 truck, 15.6ms\n",
            "video 1/1 (frame 515/1824) d:\\HighwayCounter_YOLOv8\\highway.mp4: 384x640 4 cars, 1 truck, 15.6ms\n",
            "video 1/1 (frame 516/1824) d:\\HighwayCounter_YOLOv8\\highway.mp4: 384x640 4 cars, 1 truck, 15.6ms\n",
            "video 1/1 (frame 517/1824) d:\\HighwayCounter_YOLOv8\\highway.mp4: 384x640 4 cars, 1 truck, 31.2ms\n",
            "video 1/1 (frame 518/1824) d:\\HighwayCounter_YOLOv8\\highway.mp4: 384x640 4 cars, 1 truck, 31.2ms\n",
            "video 1/1 (frame 519/1824) d:\\HighwayCounter_YOLOv8\\highway.mp4: 384x640 4 cars, 1 truck, 15.6ms\n",
            "video 1/1 (frame 520/1824) d:\\HighwayCounter_YOLOv8\\highway.mp4: 384x640 4 cars, 1 truck, 15.6ms\n",
            "video 1/1 (frame 521/1824) d:\\HighwayCounter_YOLOv8\\highway.mp4: 384x640 4 cars, 1 truck, 15.6ms\n",
            "video 1/1 (frame 522/1824) d:\\HighwayCounter_YOLOv8\\highway.mp4: 384x640 3 cars, 1 truck, 15.6ms\n",
            "video 1/1 (frame 523/1824) d:\\HighwayCounter_YOLOv8\\highway.mp4: 384x640 4 cars, 1 truck, 16.0ms\n",
            "video 1/1 (frame 524/1824) d:\\HighwayCounter_YOLOv8\\highway.mp4: 384x640 4 cars, 1 truck, 32.2ms\n",
            "video 1/1 (frame 525/1824) d:\\HighwayCounter_YOLOv8\\highway.mp4: 384x640 4 cars, 1 truck, 17.6ms\n",
            "video 1/1 (frame 526/1824) d:\\HighwayCounter_YOLOv8\\highway.mp4: 384x640 4 cars, 1 truck, 30.2ms\n",
            "video 1/1 (frame 527/1824) d:\\HighwayCounter_YOLOv8\\highway.mp4: 384x640 4 cars, 1 truck, 31.2ms\n",
            "video 1/1 (frame 528/1824) d:\\HighwayCounter_YOLOv8\\highway.mp4: 384x640 4 cars, 1 truck, 37.8ms\n",
            "video 1/1 (frame 529/1824) d:\\HighwayCounter_YOLOv8\\highway.mp4: 384x640 4 cars, 1 truck, 31.2ms\n",
            "video 1/1 (frame 530/1824) d:\\HighwayCounter_YOLOv8\\highway.mp4: 384x640 3 cars, 1 truck, 31.2ms\n",
            "video 1/1 (frame 531/1824) d:\\HighwayCounter_YOLOv8\\highway.mp4: 384x640 3 cars, 1 truck, 31.3ms\n",
            "video 1/1 (frame 532/1824) d:\\HighwayCounter_YOLOv8\\highway.mp4: 384x640 3 cars, 1 truck, 31.2ms\n",
            "video 1/1 (frame 533/1824) d:\\HighwayCounter_YOLOv8\\highway.mp4: 384x640 3 cars, 1 truck, 15.6ms\n",
            "video 1/1 (frame 534/1824) d:\\HighwayCounter_YOLOv8\\highway.mp4: 384x640 3 cars, 1 truck, 31.2ms\n",
            "video 1/1 (frame 535/1824) d:\\HighwayCounter_YOLOv8\\highway.mp4: 384x640 3 cars, 1 truck, 32.2ms\n",
            "video 1/1 (frame 536/1824) d:\\HighwayCounter_YOLOv8\\highway.mp4: 384x640 3 cars, 1 truck, 31.3ms\n",
            "video 1/1 (frame 537/1824) d:\\HighwayCounter_YOLOv8\\highway.mp4: 384x640 3 cars, 1 truck, 15.6ms\n",
            "video 1/1 (frame 538/1824) d:\\HighwayCounter_YOLOv8\\highway.mp4: 384x640 4 cars, 1 truck, 15.6ms\n",
            "video 1/1 (frame 539/1824) d:\\HighwayCounter_YOLOv8\\highway.mp4: 384x640 4 cars, 1 truck, 17.6ms\n",
            "video 1/1 (frame 540/1824) d:\\HighwayCounter_YOLOv8\\highway.mp4: 384x640 4 cars, 1 truck, 21.9ms\n",
            "video 1/1 (frame 541/1824) d:\\HighwayCounter_YOLOv8\\highway.mp4: 384x640 4 cars, 1 truck, 35.2ms\n",
            "video 1/1 (frame 542/1824) d:\\HighwayCounter_YOLOv8\\highway.mp4: 384x640 4 cars, 1 truck, 33.3ms\n",
            "video 1/1 (frame 543/1824) d:\\HighwayCounter_YOLOv8\\highway.mp4: 384x640 4 cars, 1 truck, 32.1ms\n",
            "video 1/1 (frame 544/1824) d:\\HighwayCounter_YOLOv8\\highway.mp4: 384x640 3 cars, 1 truck, 15.6ms\n",
            "video 1/1 (frame 545/1824) d:\\HighwayCounter_YOLOv8\\highway.mp4: 384x640 4 cars, 1 truck, 31.3ms\n",
            "video 1/1 (frame 546/1824) d:\\HighwayCounter_YOLOv8\\highway.mp4: 384x640 4 cars, 1 truck, 32.9ms\n",
            "video 1/1 (frame 547/1824) d:\\HighwayCounter_YOLOv8\\highway.mp4: 384x640 4 cars, 1 truck, 36.3ms\n",
            "video 1/1 (frame 548/1824) d:\\HighwayCounter_YOLOv8\\highway.mp4: 384x640 4 cars, 1 truck, 31.2ms\n",
            "video 1/1 (frame 549/1824) d:\\HighwayCounter_YOLOv8\\highway.mp4: 384x640 4 cars, 1 truck, 15.6ms\n",
            "video 1/1 (frame 550/1824) d:\\HighwayCounter_YOLOv8\\highway.mp4: 384x640 4 cars, 1 truck, 28.1ms\n",
            "video 1/1 (frame 551/1824) d:\\HighwayCounter_YOLOv8\\highway.mp4: 384x640 4 cars, 1 truck, 15.6ms\n",
            "video 1/1 (frame 552/1824) d:\\HighwayCounter_YOLOv8\\highway.mp4: 384x640 4 cars, 1 truck, 36.9ms\n",
            "video 1/1 (frame 553/1824) d:\\HighwayCounter_YOLOv8\\highway.mp4: 384x640 4 cars, 1 truck, 22.5ms\n",
            "video 1/1 (frame 554/1824) d:\\HighwayCounter_YOLOv8\\highway.mp4: 384x640 5 cars, 1 truck, 27.0ms\n",
            "video 1/1 (frame 555/1824) d:\\HighwayCounter_YOLOv8\\highway.mp4: 384x640 4 cars, 1 truck, 22.3ms\n",
            "video 1/1 (frame 556/1824) d:\\HighwayCounter_YOLOv8\\highway.mp4: 384x640 4 cars, 1 truck, 15.6ms\n",
            "video 1/1 (frame 557/1824) d:\\HighwayCounter_YOLOv8\\highway.mp4: 384x640 4 cars, 1 truck, 15.6ms\n",
            "video 1/1 (frame 558/1824) d:\\HighwayCounter_YOLOv8\\highway.mp4: 384x640 4 cars, 1 truck, 31.2ms\n",
            "video 1/1 (frame 559/1824) d:\\HighwayCounter_YOLOv8\\highway.mp4: 384x640 4 cars, 1 truck, 31.2ms\n",
            "video 1/1 (frame 560/1824) d:\\HighwayCounter_YOLOv8\\highway.mp4: 384x640 4 cars, 1 truck, 15.6ms\n",
            "video 1/1 (frame 561/1824) d:\\HighwayCounter_YOLOv8\\highway.mp4: 384x640 4 cars, 1 truck, 15.6ms\n",
            "video 1/1 (frame 562/1824) d:\\HighwayCounter_YOLOv8\\highway.mp4: 384x640 4 cars, 1 truck, 15.6ms\n",
            "video 1/1 (frame 563/1824) d:\\HighwayCounter_YOLOv8\\highway.mp4: 384x640 4 cars, 1 truck, 17.8ms\n",
            "video 1/1 (frame 564/1824) d:\\HighwayCounter_YOLOv8\\highway.mp4: 384x640 4 cars, 1 truck, 31.2ms\n",
            "video 1/1 (frame 565/1824) d:\\HighwayCounter_YOLOv8\\highway.mp4: 384x640 3 cars, 1 truck, 31.3ms\n",
            "video 1/1 (frame 566/1824) d:\\HighwayCounter_YOLOv8\\highway.mp4: 384x640 4 cars, 1 truck, 23.9ms\n",
            "video 1/1 (frame 567/1824) d:\\HighwayCounter_YOLOv8\\highway.mp4: 384x640 3 cars, 1 truck, 15.6ms\n",
            "video 1/1 (frame 568/1824) d:\\HighwayCounter_YOLOv8\\highway.mp4: 384x640 4 cars, 1 truck, 15.6ms\n",
            "video 1/1 (frame 569/1824) d:\\HighwayCounter_YOLOv8\\highway.mp4: 384x640 4 cars, 1 truck, 29.8ms\n",
            "video 1/1 (frame 570/1824) d:\\HighwayCounter_YOLOv8\\highway.mp4: 384x640 3 cars, 1 truck, 18.9ms\n",
            "video 1/1 (frame 571/1824) d:\\HighwayCounter_YOLOv8\\highway.mp4: 384x640 3 cars, 1 truck, 42.1ms\n",
            "video 1/1 (frame 572/1824) d:\\HighwayCounter_YOLOv8\\highway.mp4: 384x640 3 cars, 1 truck, 32.5ms\n",
            "video 1/1 (frame 573/1824) d:\\HighwayCounter_YOLOv8\\highway.mp4: 384x640 3 cars, 1 truck, 16.2ms\n",
            "video 1/1 (frame 574/1824) d:\\HighwayCounter_YOLOv8\\highway.mp4: 384x640 3 cars, 1 truck, 31.3ms\n",
            "video 1/1 (frame 575/1824) d:\\HighwayCounter_YOLOv8\\highway.mp4: 384x640 3 cars, 1 truck, 15.9ms\n",
            "video 1/1 (frame 576/1824) d:\\HighwayCounter_YOLOv8\\highway.mp4: 384x640 3 cars, 1 truck, 15.6ms\n",
            "video 1/1 (frame 577/1824) d:\\HighwayCounter_YOLOv8\\highway.mp4: 384x640 3 cars, 1 truck, 15.6ms\n",
            "video 1/1 (frame 578/1824) d:\\HighwayCounter_YOLOv8\\highway.mp4: 384x640 3 cars, 1 truck, 31.2ms\n",
            "video 1/1 (frame 579/1824) d:\\HighwayCounter_YOLOv8\\highway.mp4: 384x640 3 cars, 1 truck, 31.2ms\n",
            "video 1/1 (frame 580/1824) d:\\HighwayCounter_YOLOv8\\highway.mp4: 384x640 3 cars, 1 truck, 62.5ms\n",
            "video 1/1 (frame 581/1824) d:\\HighwayCounter_YOLOv8\\highway.mp4: 384x640 3 cars, 1 truck, 15.6ms\n",
            "video 1/1 (frame 582/1824) d:\\HighwayCounter_YOLOv8\\highway.mp4: 384x640 3 cars, 1 truck, 31.2ms\n",
            "video 1/1 (frame 583/1824) d:\\HighwayCounter_YOLOv8\\highway.mp4: 384x640 3 cars, 1 truck, 22.5ms\n",
            "video 1/1 (frame 584/1824) d:\\HighwayCounter_YOLOv8\\highway.mp4: 384x640 3 cars, 1 truck, 15.6ms\n",
            "video 1/1 (frame 585/1824) d:\\HighwayCounter_YOLOv8\\highway.mp4: 384x640 3 cars, 1 truck, 16.1ms\n",
            "video 1/1 (frame 586/1824) d:\\HighwayCounter_YOLOv8\\highway.mp4: 384x640 3 cars, 1 truck, 32.6ms\n",
            "video 1/1 (frame 587/1824) d:\\HighwayCounter_YOLOv8\\highway.mp4: 384x640 3 cars, 1 truck, 15.6ms\n",
            "video 1/1 (frame 588/1824) d:\\HighwayCounter_YOLOv8\\highway.mp4: 384x640 3 cars, 1 truck, 29.5ms\n",
            "video 1/1 (frame 589/1824) d:\\HighwayCounter_YOLOv8\\highway.mp4: 384x640 3 cars, 1 truck, 15.6ms\n",
            "video 1/1 (frame 590/1824) d:\\HighwayCounter_YOLOv8\\highway.mp4: 384x640 3 cars, 1 truck, 28.1ms\n",
            "video 1/1 (frame 591/1824) d:\\HighwayCounter_YOLOv8\\highway.mp4: 384x640 3 cars, 1 truck, 31.3ms\n",
            "video 1/1 (frame 592/1824) d:\\HighwayCounter_YOLOv8\\highway.mp4: 384x640 3 cars, 1 truck, 31.2ms\n",
            "video 1/1 (frame 593/1824) d:\\HighwayCounter_YOLOv8\\highway.mp4: 384x640 3 cars, 1 truck, 15.6ms\n",
            "video 1/1 (frame 594/1824) d:\\HighwayCounter_YOLOv8\\highway.mp4: 384x640 3 cars, 1 truck, 15.6ms\n",
            "video 1/1 (frame 595/1824) d:\\HighwayCounter_YOLOv8\\highway.mp4: 384x640 3 cars, 1 truck, 23.7ms\n",
            "video 1/1 (frame 596/1824) d:\\HighwayCounter_YOLOv8\\highway.mp4: 384x640 3 cars, 1 truck, 15.6ms\n",
            "video 1/1 (frame 597/1824) d:\\HighwayCounter_YOLOv8\\highway.mp4: 384x640 3 cars, 1 truck, 28.2ms\n",
            "video 1/1 (frame 598/1824) d:\\HighwayCounter_YOLOv8\\highway.mp4: 384x640 3 cars, 1 truck, 16.0ms\n",
            "video 1/1 (frame 599/1824) d:\\HighwayCounter_YOLOv8\\highway.mp4: 384x640 3 cars, 1 truck, 15.6ms\n",
            "video 1/1 (frame 600/1824) d:\\HighwayCounter_YOLOv8\\highway.mp4: 384x640 3 cars, 1 truck, 24.0ms\n",
            "video 1/1 (frame 601/1824) d:\\HighwayCounter_YOLOv8\\highway.mp4: 384x640 3 cars, 1 truck, 18.4ms\n",
            "video 1/1 (frame 602/1824) d:\\HighwayCounter_YOLOv8\\highway.mp4: 384x640 3 cars, 1 truck, 34.3ms\n",
            "video 1/1 (frame 603/1824) d:\\HighwayCounter_YOLOv8\\highway.mp4: 384x640 3 cars, 1 truck, 13.9ms\n",
            "video 1/1 (frame 604/1824) d:\\HighwayCounter_YOLOv8\\highway.mp4: 384x640 3 cars, 1 truck, 17.6ms\n",
            "video 1/1 (frame 605/1824) d:\\HighwayCounter_YOLOv8\\highway.mp4: 384x640 3 cars, 1 truck, 31.2ms\n",
            "video 1/1 (frame 606/1824) d:\\HighwayCounter_YOLOv8\\highway.mp4: 384x640 3 cars, 1 truck, 19.1ms\n",
            "video 1/1 (frame 607/1824) d:\\HighwayCounter_YOLOv8\\highway.mp4: 384x640 3 cars, 1 truck, 16.7ms\n",
            "video 1/1 (frame 608/1824) d:\\HighwayCounter_YOLOv8\\highway.mp4: 384x640 3 cars, 1 truck, 41.8ms\n",
            "video 1/1 (frame 609/1824) d:\\HighwayCounter_YOLOv8\\highway.mp4: 384x640 3 cars, 1 truck, 23.6ms\n",
            "video 1/1 (frame 610/1824) d:\\HighwayCounter_YOLOv8\\highway.mp4: 384x640 3 cars, 1 truck, 31.2ms\n",
            "video 1/1 (frame 611/1824) d:\\HighwayCounter_YOLOv8\\highway.mp4: 384x640 3 cars, 1 truck, 33.2ms\n",
            "video 1/1 (frame 612/1824) d:\\HighwayCounter_YOLOv8\\highway.mp4: 384x640 3 cars, 1 truck, 33.3ms\n",
            "video 1/1 (frame 613/1824) d:\\HighwayCounter_YOLOv8\\highway.mp4: 384x640 3 cars, 1 truck, 17.7ms\n",
            "video 1/1 (frame 614/1824) d:\\HighwayCounter_YOLOv8\\highway.mp4: 384x640 3 cars, 1 truck, 18.7ms\n",
            "video 1/1 (frame 615/1824) d:\\HighwayCounter_YOLOv8\\highway.mp4: 384x640 3 cars, 1 truck, 16.6ms\n",
            "video 1/1 (frame 616/1824) d:\\HighwayCounter_YOLOv8\\highway.mp4: 384x640 3 cars, 1 truck, 24.8ms\n",
            "video 1/1 (frame 617/1824) d:\\HighwayCounter_YOLOv8\\highway.mp4: 384x640 3 cars, 1 truck, 16.5ms\n",
            "video 1/1 (frame 618/1824) d:\\HighwayCounter_YOLOv8\\highway.mp4: 384x640 3 cars, 1 truck, 18.5ms\n",
            "video 1/1 (frame 619/1824) d:\\HighwayCounter_YOLOv8\\highway.mp4: 384x640 3 cars, 1 truck, 7.0ms\n",
            "video 1/1 (frame 620/1824) d:\\HighwayCounter_YOLOv8\\highway.mp4: 384x640 3 cars, 1 truck, 22.5ms\n",
            "video 1/1 (frame 621/1824) d:\\HighwayCounter_YOLOv8\\highway.mp4: 384x640 3 cars, 1 truck, 17.2ms\n",
            "video 1/1 (frame 622/1824) d:\\HighwayCounter_YOLOv8\\highway.mp4: 384x640 3 cars, 1 truck, 28.5ms\n",
            "video 1/1 (frame 623/1824) d:\\HighwayCounter_YOLOv8\\highway.mp4: 384x640 3 cars, 1 truck, 30.5ms\n",
            "video 1/1 (frame 624/1824) d:\\HighwayCounter_YOLOv8\\highway.mp4: 384x640 3 cars, 1 truck, 19.1ms\n",
            "video 1/1 (frame 625/1824) d:\\HighwayCounter_YOLOv8\\highway.mp4: 384x640 3 cars, 1 truck, 13.8ms\n",
            "video 1/1 (frame 626/1824) d:\\HighwayCounter_YOLOv8\\highway.mp4: 384x640 3 cars, 1 truck, 21.6ms\n",
            "video 1/1 (frame 627/1824) d:\\HighwayCounter_YOLOv8\\highway.mp4: 384x640 3 cars, 1 truck, 28.4ms\n",
            "video 1/1 (frame 628/1824) d:\\HighwayCounter_YOLOv8\\highway.mp4: 384x640 3 cars, 1 truck, 31.2ms\n",
            "video 1/1 (frame 629/1824) d:\\HighwayCounter_YOLOv8\\highway.mp4: 384x640 3 cars, 1 truck, 31.2ms\n",
            "video 1/1 (frame 630/1824) d:\\HighwayCounter_YOLOv8\\highway.mp4: 384x640 3 cars, 1 truck, 15.6ms\n",
            "video 1/1 (frame 631/1824) d:\\HighwayCounter_YOLOv8\\highway.mp4: 384x640 3 cars, 1 truck, 31.2ms\n",
            "video 1/1 (frame 632/1824) d:\\HighwayCounter_YOLOv8\\highway.mp4: 384x640 3 cars, 1 truck, 22.4ms\n",
            "video 1/1 (frame 633/1824) d:\\HighwayCounter_YOLOv8\\highway.mp4: 384x640 3 cars, 1 truck, 22.9ms\n",
            "video 1/1 (frame 634/1824) d:\\HighwayCounter_YOLOv8\\highway.mp4: 384x640 3 cars, 1 truck, 33.1ms\n",
            "video 1/1 (frame 635/1824) d:\\HighwayCounter_YOLOv8\\highway.mp4: 384x640 3 cars, 1 truck, 33.3ms\n",
            "video 1/1 (frame 636/1824) d:\\HighwayCounter_YOLOv8\\highway.mp4: 384x640 3 cars, 1 truck, 15.8ms\n",
            "video 1/1 (frame 637/1824) d:\\HighwayCounter_YOLOv8\\highway.mp4: 384x640 3 cars, 1 truck, 20.4ms\n",
            "video 1/1 (frame 638/1824) d:\\HighwayCounter_YOLOv8\\highway.mp4: 384x640 4 cars, 1 truck, 16.5ms\n",
            "video 1/1 (frame 639/1824) d:\\HighwayCounter_YOLOv8\\highway.mp4: 384x640 4 cars, 1 truck, 16.5ms\n",
            "video 1/1 (frame 640/1824) d:\\HighwayCounter_YOLOv8\\highway.mp4: 384x640 4 cars, 1 truck, 16.6ms\n",
            "video 1/1 (frame 641/1824) d:\\HighwayCounter_YOLOv8\\highway.mp4: 384x640 4 cars, 1 truck, 21.0ms\n",
            "video 1/1 (frame 642/1824) d:\\HighwayCounter_YOLOv8\\highway.mp4: 384x640 4 cars, 32.0ms\n",
            "video 1/1 (frame 643/1824) d:\\HighwayCounter_YOLOv8\\highway.mp4: 384x640 5 cars, 9.1ms\n",
            "video 1/1 (frame 644/1824) d:\\HighwayCounter_YOLOv8\\highway.mp4: 384x640 5 cars, 16.4ms\n",
            "video 1/1 (frame 645/1824) d:\\HighwayCounter_YOLOv8\\highway.mp4: 384x640 5 cars, 18.2ms\n",
            "video 1/1 (frame 646/1824) d:\\HighwayCounter_YOLOv8\\highway.mp4: 384x640 5 cars, 1 truck, 27.7ms\n",
            "video 1/1 (frame 647/1824) d:\\HighwayCounter_YOLOv8\\highway.mp4: 384x640 5 cars, 1 truck, 15.6ms\n",
            "video 1/1 (frame 648/1824) d:\\HighwayCounter_YOLOv8\\highway.mp4: 384x640 5 cars, 1 truck, 16.8ms\n",
            "video 1/1 (frame 649/1824) d:\\HighwayCounter_YOLOv8\\highway.mp4: 384x640 4 cars, 1 truck, 32.0ms\n",
            "video 1/1 (frame 650/1824) d:\\HighwayCounter_YOLOv8\\highway.mp4: 384x640 4 cars, 1 truck, 17.7ms\n",
            "video 1/1 (frame 651/1824) d:\\HighwayCounter_YOLOv8\\highway.mp4: 384x640 5 cars, 1 truck, 19.4ms\n",
            "video 1/1 (frame 652/1824) d:\\HighwayCounter_YOLOv8\\highway.mp4: 384x640 5 cars, 16.4ms\n",
            "video 1/1 (frame 653/1824) d:\\HighwayCounter_YOLOv8\\highway.mp4: 384x640 4 cars, 16.7ms\n",
            "video 1/1 (frame 654/1824) d:\\HighwayCounter_YOLOv8\\highway.mp4: 384x640 5 cars, 35.1ms\n",
            "video 1/1 (frame 655/1824) d:\\HighwayCounter_YOLOv8\\highway.mp4: 384x640 5 cars, 30.2ms\n",
            "video 1/1 (frame 656/1824) d:\\HighwayCounter_YOLOv8\\highway.mp4: 384x640 5 cars, 1 truck, 16.6ms\n",
            "video 1/1 (frame 657/1824) d:\\HighwayCounter_YOLOv8\\highway.mp4: 384x640 4 cars, 16.7ms\n",
            "video 1/1 (frame 658/1824) d:\\HighwayCounter_YOLOv8\\highway.mp4: 384x640 4 cars, 28.6ms\n",
            "video 1/1 (frame 659/1824) d:\\HighwayCounter_YOLOv8\\highway.mp4: 384x640 4 cars, 16.6ms\n",
            "video 1/1 (frame 660/1824) d:\\HighwayCounter_YOLOv8\\highway.mp4: 384x640 4 cars, 19.7ms\n",
            "video 1/1 (frame 661/1824) d:\\HighwayCounter_YOLOv8\\highway.mp4: 384x640 4 cars, 30.6ms\n",
            "video 1/1 (frame 662/1824) d:\\HighwayCounter_YOLOv8\\highway.mp4: 384x640 5 cars, 1 truck, 21.7ms\n",
            "video 1/1 (frame 663/1824) d:\\HighwayCounter_YOLOv8\\highway.mp4: 384x640 5 cars, 1 truck, 13.1ms\n",
            "video 1/1 (frame 664/1824) d:\\HighwayCounter_YOLOv8\\highway.mp4: 384x640 5 cars, 1 truck, 13.3ms\n",
            "video 1/1 (frame 665/1824) d:\\HighwayCounter_YOLOv8\\highway.mp4: 384x640 5 cars, 30.1ms\n",
            "video 1/1 (frame 666/1824) d:\\HighwayCounter_YOLOv8\\highway.mp4: 384x640 4 cars, 33.1ms\n",
            "video 1/1 (frame 667/1824) d:\\HighwayCounter_YOLOv8\\highway.mp4: 384x640 4 cars, 16.5ms\n",
            "video 1/1 (frame 668/1824) d:\\HighwayCounter_YOLOv8\\highway.mp4: 384x640 4 cars, 16.7ms\n",
            "video 1/1 (frame 669/1824) d:\\HighwayCounter_YOLOv8\\highway.mp4: 384x640 4 cars, 16.4ms\n",
            "video 1/1 (frame 670/1824) d:\\HighwayCounter_YOLOv8\\highway.mp4: 384x640 4 cars, 33.1ms\n",
            "video 1/1 (frame 671/1824) d:\\HighwayCounter_YOLOv8\\highway.mp4: 384x640 5 cars, 33.1ms\n",
            "video 1/1 (frame 672/1824) d:\\HighwayCounter_YOLOv8\\highway.mp4: 384x640 4 cars, 16.5ms\n",
            "video 1/1 (frame 673/1824) d:\\HighwayCounter_YOLOv8\\highway.mp4: 384x640 4 cars, 25.8ms\n",
            "video 1/1 (frame 674/1824) d:\\HighwayCounter_YOLOv8\\highway.mp4: 384x640 4 cars, 16.4ms\n",
            "video 1/1 (frame 675/1824) d:\\HighwayCounter_YOLOv8\\highway.mp4: 384x640 4 cars, 16.4ms\n",
            "video 1/1 (frame 676/1824) d:\\HighwayCounter_YOLOv8\\highway.mp4: 384x640 4 cars, 16.7ms\n",
            "video 1/1 (frame 677/1824) d:\\HighwayCounter_YOLOv8\\highway.mp4: 384x640 4 cars, 23.4ms\n",
            "video 1/1 (frame 678/1824) d:\\HighwayCounter_YOLOv8\\highway.mp4: 384x640 4 cars, 21.9ms\n",
            "video 1/1 (frame 679/1824) d:\\HighwayCounter_YOLOv8\\highway.mp4: 384x640 4 cars, 21.6ms\n",
            "video 1/1 (frame 680/1824) d:\\HighwayCounter_YOLOv8\\highway.mp4: 384x640 4 cars, 21.9ms\n",
            "video 1/1 (frame 681/1824) d:\\HighwayCounter_YOLOv8\\highway.mp4: 384x640 4 cars, 15.6ms\n",
            "video 1/1 (frame 682/1824) d:\\HighwayCounter_YOLOv8\\highway.mp4: 384x640 4 cars, 15.6ms\n",
            "video 1/1 (frame 683/1824) d:\\HighwayCounter_YOLOv8\\highway.mp4: 384x640 4 cars, 16.8ms\n",
            "video 1/1 (frame 684/1824) d:\\HighwayCounter_YOLOv8\\highway.mp4: 384x640 4 cars, 17.8ms\n",
            "video 1/1 (frame 685/1824) d:\\HighwayCounter_YOLOv8\\highway.mp4: 384x640 4 cars, 16.8ms\n",
            "video 1/1 (frame 686/1824) d:\\HighwayCounter_YOLOv8\\highway.mp4: 384x640 4 cars, 21.9ms\n",
            "video 1/1 (frame 687/1824) d:\\HighwayCounter_YOLOv8\\highway.mp4: 384x640 4 cars, 15.6ms\n",
            "video 1/1 (frame 688/1824) d:\\HighwayCounter_YOLOv8\\highway.mp4: 384x640 4 cars, 16.6ms\n",
            "video 1/1 (frame 689/1824) d:\\HighwayCounter_YOLOv8\\highway.mp4: 384x640 4 cars, 38.5ms\n",
            "video 1/1 (frame 690/1824) d:\\HighwayCounter_YOLOv8\\highway.mp4: 384x640 5 cars, 21.9ms\n",
            "video 1/1 (frame 691/1824) d:\\HighwayCounter_YOLOv8\\highway.mp4: 384x640 5 cars, 16.8ms\n",
            "video 1/1 (frame 692/1824) d:\\HighwayCounter_YOLOv8\\highway.mp4: 384x640 4 cars, 20.7ms\n",
            "video 1/1 (frame 693/1824) d:\\HighwayCounter_YOLOv8\\highway.mp4: 384x640 5 cars, 17.4ms\n",
            "video 1/1 (frame 694/1824) d:\\HighwayCounter_YOLOv8\\highway.mp4: 384x640 5 cars, 16.5ms\n",
            "video 1/1 (frame 695/1824) d:\\HighwayCounter_YOLOv8\\highway.mp4: 384x640 5 cars, 16.5ms\n",
            "video 1/1 (frame 696/1824) d:\\HighwayCounter_YOLOv8\\highway.mp4: 384x640 5 cars, 16.4ms\n",
            "video 1/1 (frame 697/1824) d:\\HighwayCounter_YOLOv8\\highway.mp4: 384x640 5 cars, 33.2ms\n",
            "video 1/1 (frame 698/1824) d:\\HighwayCounter_YOLOv8\\highway.mp4: 384x640 5 cars, 16.5ms\n",
            "video 1/1 (frame 699/1824) d:\\HighwayCounter_YOLOv8\\highway.mp4: 384x640 5 cars, 17.3ms\n",
            "video 1/1 (frame 700/1824) d:\\HighwayCounter_YOLOv8\\highway.mp4: 384x640 5 cars, 14.0ms\n",
            "video 1/1 (frame 701/1824) d:\\HighwayCounter_YOLOv8\\highway.mp4: 384x640 4 cars, 16.6ms\n",
            "video 1/1 (frame 702/1824) d:\\HighwayCounter_YOLOv8\\highway.mp4: 384x640 4 cars, 23.0ms\n",
            "video 1/1 (frame 703/1824) d:\\HighwayCounter_YOLOv8\\highway.mp4: 384x640 4 cars, 16.5ms\n",
            "video 1/1 (frame 704/1824) d:\\HighwayCounter_YOLOv8\\highway.mp4: 384x640 5 cars, 16.5ms\n",
            "video 1/1 (frame 705/1824) d:\\HighwayCounter_YOLOv8\\highway.mp4: 384x640 5 cars, 16.5ms\n",
            "video 1/1 (frame 706/1824) d:\\HighwayCounter_YOLOv8\\highway.mp4: 384x640 4 cars, 13.4ms\n",
            "video 1/1 (frame 707/1824) d:\\HighwayCounter_YOLOv8\\highway.mp4: 384x640 4 cars, 15.3ms\n",
            "video 1/1 (frame 708/1824) d:\\HighwayCounter_YOLOv8\\highway.mp4: 384x640 4 cars, 33.0ms\n",
            "video 1/1 (frame 709/1824) d:\\HighwayCounter_YOLOv8\\highway.mp4: 384x640 4 cars, 16.6ms\n",
            "video 1/1 (frame 710/1824) d:\\HighwayCounter_YOLOv8\\highway.mp4: 384x640 4 cars, 14.1ms\n",
            "video 1/1 (frame 711/1824) d:\\HighwayCounter_YOLOv8\\highway.mp4: 384x640 4 cars, 16.2ms\n",
            "video 1/1 (frame 712/1824) d:\\HighwayCounter_YOLOv8\\highway.mp4: 384x640 4 cars, 16.5ms\n",
            "video 1/1 (frame 713/1824) d:\\HighwayCounter_YOLOv8\\highway.mp4: 384x640 4 cars, 23.9ms\n",
            "video 1/1 (frame 714/1824) d:\\HighwayCounter_YOLOv8\\highway.mp4: 384x640 4 cars, 33.2ms\n",
            "video 1/1 (frame 715/1824) d:\\HighwayCounter_YOLOv8\\highway.mp4: 384x640 4 cars, 16.1ms\n",
            "video 1/1 (frame 716/1824) d:\\HighwayCounter_YOLOv8\\highway.mp4: 384x640 4 cars, 11.7ms\n",
            "video 1/1 (frame 717/1824) d:\\HighwayCounter_YOLOv8\\highway.mp4: 384x640 4 cars, 17.7ms\n",
            "video 1/1 (frame 718/1824) d:\\HighwayCounter_YOLOv8\\highway.mp4: 384x640 4 cars, 33.0ms\n",
            "video 1/1 (frame 719/1824) d:\\HighwayCounter_YOLOv8\\highway.mp4: 384x640 5 cars, 33.0ms\n",
            "video 1/1 (frame 720/1824) d:\\HighwayCounter_YOLOv8\\highway.mp4: 384x640 4 cars, 16.2ms\n",
            "video 1/1 (frame 721/1824) d:\\HighwayCounter_YOLOv8\\highway.mp4: 384x640 4 cars, 16.8ms\n",
            "video 1/1 (frame 722/1824) d:\\HighwayCounter_YOLOv8\\highway.mp4: 384x640 4 cars, 31.8ms\n",
            "video 1/1 (frame 723/1824) d:\\HighwayCounter_YOLOv8\\highway.mp4: 384x640 4 cars, 29.8ms\n",
            "video 1/1 (frame 724/1824) d:\\HighwayCounter_YOLOv8\\highway.mp4: 384x640 4 cars, 16.3ms\n",
            "video 1/1 (frame 725/1824) d:\\HighwayCounter_YOLOv8\\highway.mp4: 384x640 4 cars, 27.6ms\n",
            "video 1/1 (frame 726/1824) d:\\HighwayCounter_YOLOv8\\highway.mp4: 384x640 4 cars, 22.2ms\n",
            "video 1/1 (frame 727/1824) d:\\HighwayCounter_YOLOv8\\highway.mp4: 384x640 4 cars, 16.7ms\n",
            "video 1/1 (frame 728/1824) d:\\HighwayCounter_YOLOv8\\highway.mp4: 384x640 4 cars, 16.7ms\n",
            "video 1/1 (frame 729/1824) d:\\HighwayCounter_YOLOv8\\highway.mp4: 384x640 4 cars, 15.6ms\n",
            "video 1/1 (frame 730/1824) d:\\HighwayCounter_YOLOv8\\highway.mp4: 384x640 4 cars, 29.7ms\n",
            "video 1/1 (frame 731/1824) d:\\HighwayCounter_YOLOv8\\highway.mp4: 384x640 4 cars, 15.6ms\n",
            "video 1/1 (frame 732/1824) d:\\HighwayCounter_YOLOv8\\highway.mp4: 384x640 4 cars, 16.3ms\n",
            "video 1/1 (frame 733/1824) d:\\HighwayCounter_YOLOv8\\highway.mp4: 384x640 4 cars, 15.6ms\n",
            "video 1/1 (frame 734/1824) d:\\HighwayCounter_YOLOv8\\highway.mp4: 384x640 4 cars, 20.7ms\n",
            "video 1/1 (frame 735/1824) d:\\HighwayCounter_YOLOv8\\highway.mp4: 384x640 4 cars, 29.5ms\n",
            "video 1/1 (frame 736/1824) d:\\HighwayCounter_YOLOv8\\highway.mp4: 384x640 4 cars, 16.5ms\n",
            "video 1/1 (frame 737/1824) d:\\HighwayCounter_YOLOv8\\highway.mp4: 384x640 4 cars, 17.5ms\n",
            "video 1/1 (frame 738/1824) d:\\HighwayCounter_YOLOv8\\highway.mp4: 384x640 4 cars, 16.7ms\n",
            "video 1/1 (frame 739/1824) d:\\HighwayCounter_YOLOv8\\highway.mp4: 384x640 4 cars, 33.2ms\n",
            "video 1/1 (frame 740/1824) d:\\HighwayCounter_YOLOv8\\highway.mp4: 384x640 4 cars, 19.0ms\n",
            "video 1/1 (frame 741/1824) d:\\HighwayCounter_YOLOv8\\highway.mp4: 384x640 4 cars, 16.8ms\n",
            "video 1/1 (frame 742/1824) d:\\HighwayCounter_YOLOv8\\highway.mp4: 384x640 3 cars, 16.4ms\n",
            "video 1/1 (frame 743/1824) d:\\HighwayCounter_YOLOv8\\highway.mp4: 384x640 4 cars, 14.5ms\n",
            "video 1/1 (frame 744/1824) d:\\HighwayCounter_YOLOv8\\highway.mp4: 384x640 4 cars, 33.3ms\n",
            "video 1/1 (frame 745/1824) d:\\HighwayCounter_YOLOv8\\highway.mp4: 384x640 4 cars, 17.5ms\n",
            "video 1/1 (frame 746/1824) d:\\HighwayCounter_YOLOv8\\highway.mp4: 384x640 4 cars, 19.3ms\n",
            "video 1/1 (frame 747/1824) d:\\HighwayCounter_YOLOv8\\highway.mp4: 384x640 4 cars, 21.4ms\n",
            "video 1/1 (frame 748/1824) d:\\HighwayCounter_YOLOv8\\highway.mp4: 384x640 4 cars, 28.9ms\n",
            "video 1/1 (frame 749/1824) d:\\HighwayCounter_YOLOv8\\highway.mp4: 384x640 4 cars, 31.2ms\n",
            "video 1/1 (frame 750/1824) d:\\HighwayCounter_YOLOv8\\highway.mp4: 384x640 4 cars, 17.2ms\n",
            "video 1/1 (frame 751/1824) d:\\HighwayCounter_YOLOv8\\highway.mp4: 384x640 4 cars, 31.2ms\n",
            "video 1/1 (frame 752/1824) d:\\HighwayCounter_YOLOv8\\highway.mp4: 384x640 4 cars, 15.6ms\n",
            "video 1/1 (frame 753/1824) d:\\HighwayCounter_YOLOv8\\highway.mp4: 384x640 4 cars, 15.6ms\n",
            "video 1/1 (frame 754/1824) d:\\HighwayCounter_YOLOv8\\highway.mp4: 384x640 4 cars, 31.2ms\n",
            "video 1/1 (frame 755/1824) d:\\HighwayCounter_YOLOv8\\highway.mp4: 384x640 4 cars, 26.8ms\n",
            "video 1/1 (frame 756/1824) d:\\HighwayCounter_YOLOv8\\highway.mp4: 384x640 4 cars, 16.5ms\n",
            "video 1/1 (frame 757/1824) d:\\HighwayCounter_YOLOv8\\highway.mp4: 384x640 3 cars, 16.7ms\n",
            "video 1/1 (frame 758/1824) d:\\HighwayCounter_YOLOv8\\highway.mp4: 384x640 3 cars, 23.9ms\n",
            "video 1/1 (frame 759/1824) d:\\HighwayCounter_YOLOv8\\highway.mp4: 384x640 4 cars, 33.0ms\n",
            "video 1/1 (frame 760/1824) d:\\HighwayCounter_YOLOv8\\highway.mp4: 384x640 4 cars, 16.5ms\n",
            "video 1/1 (frame 761/1824) d:\\HighwayCounter_YOLOv8\\highway.mp4: 384x640 4 cars, 16.4ms\n",
            "video 1/1 (frame 762/1824) d:\\HighwayCounter_YOLOv8\\highway.mp4: 384x640 4 cars, 33.1ms\n",
            "video 1/1 (frame 763/1824) d:\\HighwayCounter_YOLOv8\\highway.mp4: 384x640 4 cars, 16.6ms\n",
            "video 1/1 (frame 764/1824) d:\\HighwayCounter_YOLOv8\\highway.mp4: 384x640 4 cars, 33.1ms\n",
            "video 1/1 (frame 765/1824) d:\\HighwayCounter_YOLOv8\\highway.mp4: 384x640 4 cars, 36.4ms\n",
            "video 1/1 (frame 766/1824) d:\\HighwayCounter_YOLOv8\\highway.mp4: 384x640 4 cars, 16.0ms\n",
            "video 1/1 (frame 767/1824) d:\\HighwayCounter_YOLOv8\\highway.mp4: 384x640 4 cars, 9.1ms\n",
            "video 1/1 (frame 768/1824) d:\\HighwayCounter_YOLOv8\\highway.mp4: 384x640 4 cars, 12.7ms\n",
            "video 1/1 (frame 769/1824) d:\\HighwayCounter_YOLOv8\\highway.mp4: 384x640 4 cars, 33.1ms\n",
            "video 1/1 (frame 770/1824) d:\\HighwayCounter_YOLOv8\\highway.mp4: 384x640 4 cars, 16.5ms\n",
            "video 1/1 (frame 771/1824) d:\\HighwayCounter_YOLOv8\\highway.mp4: 384x640 4 cars, 33.1ms\n",
            "video 1/1 (frame 772/1824) d:\\HighwayCounter_YOLOv8\\highway.mp4: 384x640 4 cars, 33.5ms\n",
            "video 1/1 (frame 773/1824) d:\\HighwayCounter_YOLOv8\\highway.mp4: 384x640 4 cars, 16.5ms\n",
            "video 1/1 (frame 774/1824) d:\\HighwayCounter_YOLOv8\\highway.mp4: 384x640 5 cars, 12.6ms\n",
            "video 1/1 (frame 775/1824) d:\\HighwayCounter_YOLOv8\\highway.mp4: 384x640 4 cars, 22.0ms\n",
            "video 1/1 (frame 776/1824) d:\\HighwayCounter_YOLOv8\\highway.mp4: 384x640 5 cars, 20.6ms\n",
            "video 1/1 (frame 777/1824) d:\\HighwayCounter_YOLOv8\\highway.mp4: 384x640 5 cars, 16.5ms\n",
            "video 1/1 (frame 778/1824) d:\\HighwayCounter_YOLOv8\\highway.mp4: 384x640 3 cars, 33.1ms\n",
            "video 1/1 (frame 779/1824) d:\\HighwayCounter_YOLOv8\\highway.mp4: 384x640 3 cars, 16.7ms\n",
            "video 1/1 (frame 780/1824) d:\\HighwayCounter_YOLOv8\\highway.mp4: 384x640 3 cars, 33.1ms\n",
            "video 1/1 (frame 781/1824) d:\\HighwayCounter_YOLOv8\\highway.mp4: 384x640 3 cars, 20.9ms\n",
            "video 1/1 (frame 782/1824) d:\\HighwayCounter_YOLOv8\\highway.mp4: 384x640 3 cars, 31.2ms\n",
            "video 1/1 (frame 783/1824) d:\\HighwayCounter_YOLOv8\\highway.mp4: 384x640 3 cars, 31.2ms\n",
            "video 1/1 (frame 784/1824) d:\\HighwayCounter_YOLOv8\\highway.mp4: 384x640 3 cars, 31.3ms\n",
            "video 1/1 (frame 785/1824) d:\\HighwayCounter_YOLOv8\\highway.mp4: 384x640 3 cars, 31.2ms\n",
            "video 1/1 (frame 786/1824) d:\\HighwayCounter_YOLOv8\\highway.mp4: 384x640 3 cars, 15.6ms\n",
            "video 1/1 (frame 787/1824) d:\\HighwayCounter_YOLOv8\\highway.mp4: 384x640 3 cars, 31.6ms\n",
            "video 1/1 (frame 788/1824) d:\\HighwayCounter_YOLOv8\\highway.mp4: 384x640 3 cars, 33.2ms\n",
            "video 1/1 (frame 789/1824) d:\\HighwayCounter_YOLOv8\\highway.mp4: 384x640 3 cars, 33.4ms\n",
            "video 1/1 (frame 790/1824) d:\\HighwayCounter_YOLOv8\\highway.mp4: 384x640 3 cars, 18.5ms\n",
            "video 1/1 (frame 791/1824) d:\\HighwayCounter_YOLOv8\\highway.mp4: 384x640 3 cars, 38.2ms\n",
            "video 1/1 (frame 792/1824) d:\\HighwayCounter_YOLOv8\\highway.mp4: 384x640 3 cars, 17.7ms\n",
            "video 1/1 (frame 793/1824) d:\\HighwayCounter_YOLOv8\\highway.mp4: 384x640 3 cars, 16.5ms\n",
            "video 1/1 (frame 794/1824) d:\\HighwayCounter_YOLOv8\\highway.mp4: 384x640 3 cars, 21.8ms\n",
            "video 1/1 (frame 795/1824) d:\\HighwayCounter_YOLOv8\\highway.mp4: 384x640 3 cars, 36.1ms\n",
            "video 1/1 (frame 796/1824) d:\\HighwayCounter_YOLOv8\\highway.mp4: 384x640 3 cars, 9.5ms\n",
            "video 1/1 (frame 797/1824) d:\\HighwayCounter_YOLOv8\\highway.mp4: 384x640 3 cars, 24.4ms\n",
            "video 1/1 (frame 798/1824) d:\\HighwayCounter_YOLOv8\\highway.mp4: 384x640 3 cars, 15.6ms\n",
            "video 1/1 (frame 799/1824) d:\\HighwayCounter_YOLOv8\\highway.mp4: 384x640 3 cars, 31.2ms\n",
            "video 1/1 (frame 800/1824) d:\\HighwayCounter_YOLOv8\\highway.mp4: 384x640 3 cars, 16.7ms\n",
            "video 1/1 (frame 801/1824) d:\\HighwayCounter_YOLOv8\\highway.mp4: 384x640 3 cars, 16.8ms\n",
            "video 1/1 (frame 802/1824) d:\\HighwayCounter_YOLOv8\\highway.mp4: 384x640 3 cars, 16.5ms\n",
            "video 1/1 (frame 803/1824) d:\\HighwayCounter_YOLOv8\\highway.mp4: 384x640 3 cars, 16.5ms\n",
            "video 1/1 (frame 804/1824) d:\\HighwayCounter_YOLOv8\\highway.mp4: 384x640 3 cars, 33.4ms\n",
            "video 1/1 (frame 805/1824) d:\\HighwayCounter_YOLOv8\\highway.mp4: 384x640 3 cars, 16.4ms\n",
            "video 1/1 (frame 806/1824) d:\\HighwayCounter_YOLOv8\\highway.mp4: 384x640 3 cars, 39.1ms\n",
            "video 1/1 (frame 807/1824) d:\\HighwayCounter_YOLOv8\\highway.mp4: 384x640 3 cars, 16.4ms\n",
            "video 1/1 (frame 808/1824) d:\\HighwayCounter_YOLOv8\\highway.mp4: 384x640 3 cars, 16.5ms\n",
            "video 1/1 (frame 809/1824) d:\\HighwayCounter_YOLOv8\\highway.mp4: 384x640 3 cars, 16.5ms\n",
            "video 1/1 (frame 810/1824) d:\\HighwayCounter_YOLOv8\\highway.mp4: 384x640 3 cars, 16.5ms\n",
            "video 1/1 (frame 811/1824) d:\\HighwayCounter_YOLOv8\\highway.mp4: 384x640 3 cars, 16.5ms\n",
            "video 1/1 (frame 812/1824) d:\\HighwayCounter_YOLOv8\\highway.mp4: 384x640 3 cars, 16.7ms\n",
            "video 1/1 (frame 813/1824) d:\\HighwayCounter_YOLOv8\\highway.mp4: 384x640 3 cars, 16.6ms\n",
            "video 1/1 (frame 814/1824) d:\\HighwayCounter_YOLOv8\\highway.mp4: 384x640 3 cars, 16.8ms\n",
            "video 1/1 (frame 815/1824) d:\\HighwayCounter_YOLOv8\\highway.mp4: 384x640 3 cars, 34.0ms\n",
            "video 1/1 (frame 816/1824) d:\\HighwayCounter_YOLOv8\\highway.mp4: 384x640 3 cars, 15.6ms\n",
            "video 1/1 (frame 817/1824) d:\\HighwayCounter_YOLOv8\\highway.mp4: 384x640 3 cars, 29.4ms\n",
            "video 1/1 (frame 818/1824) d:\\HighwayCounter_YOLOv8\\highway.mp4: 384x640 3 cars, 31.2ms\n",
            "video 1/1 (frame 819/1824) d:\\HighwayCounter_YOLOv8\\highway.mp4: 384x640 3 cars, 31.2ms\n",
            "video 1/1 (frame 820/1824) d:\\HighwayCounter_YOLOv8\\highway.mp4: 384x640 3 cars, 31.9ms\n",
            "video 1/1 (frame 821/1824) d:\\HighwayCounter_YOLOv8\\highway.mp4: 384x640 3 cars, 31.3ms\n",
            "video 1/1 (frame 822/1824) d:\\HighwayCounter_YOLOv8\\highway.mp4: 384x640 3 cars, 31.2ms\n",
            "video 1/1 (frame 823/1824) d:\\HighwayCounter_YOLOv8\\highway.mp4: 384x640 3 cars, 26.0ms\n",
            "video 1/1 (frame 824/1824) d:\\HighwayCounter_YOLOv8\\highway.mp4: 384x640 3 cars, 35.5ms\n",
            "video 1/1 (frame 825/1824) d:\\HighwayCounter_YOLOv8\\highway.mp4: 384x640 3 cars, 31.2ms\n",
            "video 1/1 (frame 826/1824) d:\\HighwayCounter_YOLOv8\\highway.mp4: 384x640 3 cars, 39.2ms\n",
            "video 1/1 (frame 827/1824) d:\\HighwayCounter_YOLOv8\\highway.mp4: 384x640 3 cars, 62.5ms\n",
            "video 1/1 (frame 828/1824) d:\\HighwayCounter_YOLOv8\\highway.mp4: 384x640 3 cars, 15.6ms\n",
            "video 1/1 (frame 829/1824) d:\\HighwayCounter_YOLOv8\\highway.mp4: 384x640 3 cars, 31.2ms\n",
            "video 1/1 (frame 830/1824) d:\\HighwayCounter_YOLOv8\\highway.mp4: 384x640 3 cars, 15.6ms\n",
            "video 1/1 (frame 831/1824) d:\\HighwayCounter_YOLOv8\\highway.mp4: 384x640 3 cars, 24.4ms\n",
            "video 1/1 (frame 832/1824) d:\\HighwayCounter_YOLOv8\\highway.mp4: 384x640 3 cars, 27.9ms\n",
            "video 1/1 (frame 833/1824) d:\\HighwayCounter_YOLOv8\\highway.mp4: 384x640 3 cars, 16.6ms\n",
            "video 1/1 (frame 834/1824) d:\\HighwayCounter_YOLOv8\\highway.mp4: 384x640 3 cars, 33.4ms\n",
            "video 1/1 (frame 835/1824) d:\\HighwayCounter_YOLOv8\\highway.mp4: 384x640 3 cars, 15.6ms\n",
            "video 1/1 (frame 836/1824) d:\\HighwayCounter_YOLOv8\\highway.mp4: 384x640 3 cars, 31.2ms\n",
            "video 1/1 (frame 837/1824) d:\\HighwayCounter_YOLOv8\\highway.mp4: 384x640 3 cars, 28.2ms\n",
            "video 1/1 (frame 838/1824) d:\\HighwayCounter_YOLOv8\\highway.mp4: 384x640 3 cars, 33.3ms\n",
            "video 1/1 (frame 839/1824) d:\\HighwayCounter_YOLOv8\\highway.mp4: 384x640 3 cars, 15.6ms\n",
            "video 1/1 (frame 840/1824) d:\\HighwayCounter_YOLOv8\\highway.mp4: 384x640 3 cars, 15.6ms\n",
            "video 1/1 (frame 841/1824) d:\\HighwayCounter_YOLOv8\\highway.mp4: 384x640 3 cars, 31.2ms\n",
            "video 1/1 (frame 842/1824) d:\\HighwayCounter_YOLOv8\\highway.mp4: 384x640 3 cars, 17.6ms\n",
            "video 1/1 (frame 843/1824) d:\\HighwayCounter_YOLOv8\\highway.mp4: 384x640 3 cars, 15.6ms\n",
            "video 1/1 (frame 844/1824) d:\\HighwayCounter_YOLOv8\\highway.mp4: 384x640 3 cars, 15.6ms\n",
            "video 1/1 (frame 845/1824) d:\\HighwayCounter_YOLOv8\\highway.mp4: 384x640 4 cars, 15.6ms\n",
            "video 1/1 (frame 846/1824) d:\\HighwayCounter_YOLOv8\\highway.mp4: 384x640 3 cars, 27.9ms\n",
            "video 1/1 (frame 847/1824) d:\\HighwayCounter_YOLOv8\\highway.mp4: 384x640 3 cars, 15.6ms\n",
            "video 1/1 (frame 848/1824) d:\\HighwayCounter_YOLOv8\\highway.mp4: 384x640 3 cars, 31.3ms\n",
            "video 1/1 (frame 849/1824) d:\\HighwayCounter_YOLOv8\\highway.mp4: 384x640 3 cars, 15.6ms\n",
            "video 1/1 (frame 850/1824) d:\\HighwayCounter_YOLOv8\\highway.mp4: 384x640 3 cars, 15.6ms\n",
            "video 1/1 (frame 851/1824) d:\\HighwayCounter_YOLOv8\\highway.mp4: 384x640 3 cars, 15.6ms\n",
            "video 1/1 (frame 852/1824) d:\\HighwayCounter_YOLOv8\\highway.mp4: 384x640 2 cars, 15.6ms\n",
            "video 1/1 (frame 853/1824) d:\\HighwayCounter_YOLOv8\\highway.mp4: 384x640 2 cars, 31.2ms\n",
            "video 1/1 (frame 854/1824) d:\\HighwayCounter_YOLOv8\\highway.mp4: 384x640 2 cars, 31.2ms\n",
            "video 1/1 (frame 855/1824) d:\\HighwayCounter_YOLOv8\\highway.mp4: 384x640 2 cars, 19.0ms\n",
            "video 1/1 (frame 856/1824) d:\\HighwayCounter_YOLOv8\\highway.mp4: 384x640 2 cars, 16.3ms\n",
            "video 1/1 (frame 857/1824) d:\\HighwayCounter_YOLOv8\\highway.mp4: 384x640 3 cars, 15.6ms\n",
            "video 1/1 (frame 858/1824) d:\\HighwayCounter_YOLOv8\\highway.mp4: 384x640 4 cars, 24.7ms\n",
            "video 1/1 (frame 859/1824) d:\\HighwayCounter_YOLOv8\\highway.mp4: 384x640 4 cars, 19.5ms\n",
            "video 1/1 (frame 860/1824) d:\\HighwayCounter_YOLOv8\\highway.mp4: 384x640 4 cars, 15.6ms\n",
            "video 1/1 (frame 861/1824) d:\\HighwayCounter_YOLOv8\\highway.mp4: 384x640 3 cars, 15.6ms\n",
            "video 1/1 (frame 862/1824) d:\\HighwayCounter_YOLOv8\\highway.mp4: 384x640 4 cars, 31.3ms\n",
            "video 1/1 (frame 863/1824) d:\\HighwayCounter_YOLOv8\\highway.mp4: 384x640 4 cars, 13.1ms\n",
            "video 1/1 (frame 864/1824) d:\\HighwayCounter_YOLOv8\\highway.mp4: 384x640 3 cars, 15.6ms\n",
            "video 1/1 (frame 865/1824) d:\\HighwayCounter_YOLOv8\\highway.mp4: 384x640 3 cars, 31.2ms\n",
            "video 1/1 (frame 866/1824) d:\\HighwayCounter_YOLOv8\\highway.mp4: 384x640 4 cars, 20.3ms\n",
            "video 1/1 (frame 867/1824) d:\\HighwayCounter_YOLOv8\\highway.mp4: 384x640 5 cars, 31.2ms\n",
            "video 1/1 (frame 868/1824) d:\\HighwayCounter_YOLOv8\\highway.mp4: 384x640 4 cars, 27.2ms\n",
            "video 1/1 (frame 869/1824) d:\\HighwayCounter_YOLOv8\\highway.mp4: 384x640 4 cars, 31.3ms\n",
            "video 1/1 (frame 870/1824) d:\\HighwayCounter_YOLOv8\\highway.mp4: 384x640 4 cars, 31.2ms\n",
            "video 1/1 (frame 871/1824) d:\\HighwayCounter_YOLOv8\\highway.mp4: 384x640 4 cars, 16.4ms\n",
            "video 1/1 (frame 872/1824) d:\\HighwayCounter_YOLOv8\\highway.mp4: 384x640 4 cars, 31.2ms\n",
            "video 1/1 (frame 873/1824) d:\\HighwayCounter_YOLOv8\\highway.mp4: 384x640 3 cars, 34.7ms\n",
            "video 1/1 (frame 874/1824) d:\\HighwayCounter_YOLOv8\\highway.mp4: 384x640 3 cars, 16.6ms\n",
            "video 1/1 (frame 875/1824) d:\\HighwayCounter_YOLOv8\\highway.mp4: 384x640 3 cars, 1 truck, 31.3ms\n",
            "video 1/1 (frame 876/1824) d:\\HighwayCounter_YOLOv8\\highway.mp4: 384x640 3 cars, 1 truck, 28.0ms\n",
            "video 1/1 (frame 877/1824) d:\\HighwayCounter_YOLOv8\\highway.mp4: 384x640 3 cars, 1 truck, 15.6ms\n",
            "video 1/1 (frame 878/1824) d:\\HighwayCounter_YOLOv8\\highway.mp4: 384x640 3 cars, 15.6ms\n",
            "video 1/1 (frame 879/1824) d:\\HighwayCounter_YOLOv8\\highway.mp4: 384x640 3 cars, 1 truck, 15.6ms\n",
            "video 1/1 (frame 880/1824) d:\\HighwayCounter_YOLOv8\\highway.mp4: 384x640 3 cars, 1 truck, 26.1ms\n",
            "video 1/1 (frame 881/1824) d:\\HighwayCounter_YOLOv8\\highway.mp4: 384x640 2 cars, 1 truck, 15.6ms\n",
            "video 1/1 (frame 882/1824) d:\\HighwayCounter_YOLOv8\\highway.mp4: 384x640 2 cars, 1 truck, 28.2ms\n",
            "video 1/1 (frame 883/1824) d:\\HighwayCounter_YOLOv8\\highway.mp4: 384x640 3 cars, 1 truck, 16.7ms\n",
            "video 1/1 (frame 884/1824) d:\\HighwayCounter_YOLOv8\\highway.mp4: 384x640 3 cars, 1 truck, 31.3ms\n",
            "video 1/1 (frame 885/1824) d:\\HighwayCounter_YOLOv8\\highway.mp4: 384x640 2 cars, 1 truck, 27.9ms\n",
            "video 1/1 (frame 886/1824) d:\\HighwayCounter_YOLOv8\\highway.mp4: 384x640 3 cars, 1 truck, 31.2ms\n",
            "video 1/1 (frame 887/1824) d:\\HighwayCounter_YOLOv8\\highway.mp4: 384x640 3 cars, 1 truck, 15.6ms\n",
            "video 1/1 (frame 888/1824) d:\\HighwayCounter_YOLOv8\\highway.mp4: 384x640 3 cars, 1 truck, 15.6ms\n",
            "video 1/1 (frame 889/1824) d:\\HighwayCounter_YOLOv8\\highway.mp4: 384x640 3 cars, 1 truck, 22.3ms\n",
            "video 1/1 (frame 890/1824) d:\\HighwayCounter_YOLOv8\\highway.mp4: 384x640 3 cars, 1 truck, 23.4ms\n",
            "video 1/1 (frame 891/1824) d:\\HighwayCounter_YOLOv8\\highway.mp4: 384x640 3 cars, 2 trucks, 30.7ms\n",
            "video 1/1 (frame 892/1824) d:\\HighwayCounter_YOLOv8\\highway.mp4: 384x640 3 cars, 1 truck, 31.2ms\n",
            "video 1/1 (frame 893/1824) d:\\HighwayCounter_YOLOv8\\highway.mp4: 384x640 3 cars, 1 truck, 15.6ms\n",
            "video 1/1 (frame 894/1824) d:\\HighwayCounter_YOLOv8\\highway.mp4: 384x640 3 cars, 1 truck, 28.4ms\n",
            "video 1/1 (frame 895/1824) d:\\HighwayCounter_YOLOv8\\highway.mp4: 384x640 3 cars, 1 truck, 23.0ms\n",
            "video 1/1 (frame 896/1824) d:\\HighwayCounter_YOLOv8\\highway.mp4: 384x640 3 cars, 1 bus, 1 truck, 19.7ms\n",
            "video 1/1 (frame 897/1824) d:\\HighwayCounter_YOLOv8\\highway.mp4: 384x640 3 cars, 1 truck, 10.0ms\n",
            "video 1/1 (frame 898/1824) d:\\HighwayCounter_YOLOv8\\highway.mp4: 384x640 4 cars, 1 truck, 7.8ms\n",
            "video 1/1 (frame 899/1824) d:\\HighwayCounter_YOLOv8\\highway.mp4: 384x640 4 cars, 1 truck, 23.6ms\n",
            "video 1/1 (frame 900/1824) d:\\HighwayCounter_YOLOv8\\highway.mp4: 384x640 4 cars, 1 truck, 15.6ms\n",
            "video 1/1 (frame 901/1824) d:\\HighwayCounter_YOLOv8\\highway.mp4: 384x640 4 cars, 1 truck, 18.4ms\n",
            "video 1/1 (frame 902/1824) d:\\HighwayCounter_YOLOv8\\highway.mp4: 384x640 4 cars, 1 truck, 15.6ms\n",
            "video 1/1 (frame 903/1824) d:\\HighwayCounter_YOLOv8\\highway.mp4: 384x640 3 cars, 1 truck, 31.2ms\n",
            "video 1/1 (frame 904/1824) d:\\HighwayCounter_YOLOv8\\highway.mp4: 384x640 3 cars, 1 truck, 30.8ms\n",
            "video 1/1 (frame 905/1824) d:\\HighwayCounter_YOLOv8\\highway.mp4: 384x640 4 cars, 1 truck, 15.6ms\n",
            "video 1/1 (frame 906/1824) d:\\HighwayCounter_YOLOv8\\highway.mp4: 384x640 4 cars, 1 truck, 32.3ms\n",
            "video 1/1 (frame 907/1824) d:\\HighwayCounter_YOLOv8\\highway.mp4: 384x640 4 cars, 1 truck, 16.3ms\n",
            "video 1/1 (frame 908/1824) d:\\HighwayCounter_YOLOv8\\highway.mp4: 384x640 4 cars, 1 truck, 30.6ms\n",
            "video 1/1 (frame 909/1824) d:\\HighwayCounter_YOLOv8\\highway.mp4: 384x640 4 cars, 1 truck, 23.1ms\n",
            "video 1/1 (frame 910/1824) d:\\HighwayCounter_YOLOv8\\highway.mp4: 384x640 4 cars, 1 truck, 28.3ms\n",
            "video 1/1 (frame 911/1824) d:\\HighwayCounter_YOLOv8\\highway.mp4: 384x640 4 cars, 1 truck, 19.4ms\n",
            "video 1/1 (frame 912/1824) d:\\HighwayCounter_YOLOv8\\highway.mp4: 384x640 4 cars, 1 truck, 22.6ms\n",
            "video 1/1 (frame 913/1824) d:\\HighwayCounter_YOLOv8\\highway.mp4: 384x640 4 cars, 1 truck, 31.3ms\n",
            "video 1/1 (frame 914/1824) d:\\HighwayCounter_YOLOv8\\highway.mp4: 384x640 4 cars, 1 truck, 64.6ms\n",
            "video 1/1 (frame 915/1824) d:\\HighwayCounter_YOLOv8\\highway.mp4: 384x640 3 cars, 1 truck, 22.9ms\n",
            "video 1/1 (frame 916/1824) d:\\HighwayCounter_YOLOv8\\highway.mp4: 384x640 3 cars, 2 trucks, 42.4ms\n",
            "video 1/1 (frame 917/1824) d:\\HighwayCounter_YOLOv8\\highway.mp4: 384x640 3 cars, 2 trucks, 23.8ms\n",
            "video 1/1 (frame 918/1824) d:\\HighwayCounter_YOLOv8\\highway.mp4: 384x640 3 cars, 2 trucks, 16.2ms\n",
            "video 1/1 (frame 919/1824) d:\\HighwayCounter_YOLOv8\\highway.mp4: 384x640 3 cars, 2 trucks, 15.6ms\n",
            "video 1/1 (frame 920/1824) d:\\HighwayCounter_YOLOv8\\highway.mp4: 384x640 3 cars, 2 trucks, 25.9ms\n",
            "video 1/1 (frame 921/1824) d:\\HighwayCounter_YOLOv8\\highway.mp4: 384x640 3 cars, 2 trucks, 31.2ms\n",
            "video 1/1 (frame 922/1824) d:\\HighwayCounter_YOLOv8\\highway.mp4: 384x640 3 cars, 2 trucks, 28.8ms\n",
            "video 1/1 (frame 923/1824) d:\\HighwayCounter_YOLOv8\\highway.mp4: 384x640 3 cars, 2 trucks, 22.2ms\n",
            "video 1/1 (frame 924/1824) d:\\HighwayCounter_YOLOv8\\highway.mp4: 384x640 3 cars, 2 trucks, 29.4ms\n",
            "video 1/1 (frame 925/1824) d:\\HighwayCounter_YOLOv8\\highway.mp4: 384x640 3 cars, 2 trucks, 15.6ms\n",
            "video 1/1 (frame 926/1824) d:\\HighwayCounter_YOLOv8\\highway.mp4: 384x640 3 cars, 2 trucks, 22.7ms\n",
            "video 1/1 (frame 927/1824) d:\\HighwayCounter_YOLOv8\\highway.mp4: 384x640 3 cars, 2 trucks, 15.6ms\n",
            "video 1/1 (frame 928/1824) d:\\HighwayCounter_YOLOv8\\highway.mp4: 384x640 3 cars, 2 trucks, 29.8ms\n",
            "video 1/1 (frame 929/1824) d:\\HighwayCounter_YOLOv8\\highway.mp4: 384x640 3 cars, 2 trucks, 66.5ms\n",
            "video 1/1 (frame 930/1824) d:\\HighwayCounter_YOLOv8\\highway.mp4: 384x640 3 cars, 2 trucks, 20.9ms\n",
            "video 1/1 (frame 931/1824) d:\\HighwayCounter_YOLOv8\\highway.mp4: 384x640 3 cars, 2 trucks, 15.6ms\n",
            "video 1/1 (frame 932/1824) d:\\HighwayCounter_YOLOv8\\highway.mp4: 384x640 3 cars, 2 trucks, 22.2ms\n",
            "video 1/1 (frame 933/1824) d:\\HighwayCounter_YOLOv8\\highway.mp4: 384x640 3 cars, 2 trucks, 31.2ms\n",
            "video 1/1 (frame 934/1824) d:\\HighwayCounter_YOLOv8\\highway.mp4: 384x640 3 cars, 2 trucks, 23.7ms\n",
            "video 1/1 (frame 935/1824) d:\\HighwayCounter_YOLOv8\\highway.mp4: 384x640 3 cars, 2 trucks, 15.6ms\n",
            "video 1/1 (frame 936/1824) d:\\HighwayCounter_YOLOv8\\highway.mp4: 384x640 3 cars, 2 trucks, 15.6ms\n",
            "video 1/1 (frame 937/1824) d:\\HighwayCounter_YOLOv8\\highway.mp4: 384x640 3 cars, 2 trucks, 24.7ms\n",
            "video 1/1 (frame 938/1824) d:\\HighwayCounter_YOLOv8\\highway.mp4: 384x640 3 cars, 2 trucks, 15.6ms\n",
            "video 1/1 (frame 939/1824) d:\\HighwayCounter_YOLOv8\\highway.mp4: 384x640 3 cars, 2 trucks, 29.0ms\n",
            "video 1/1 (frame 940/1824) d:\\HighwayCounter_YOLOv8\\highway.mp4: 384x640 3 cars, 2 trucks, 31.2ms\n",
            "video 1/1 (frame 941/1824) d:\\HighwayCounter_YOLOv8\\highway.mp4: 384x640 3 cars, 2 trucks, 24.5ms\n",
            "video 1/1 (frame 942/1824) d:\\HighwayCounter_YOLOv8\\highway.mp4: 384x640 3 cars, 2 trucks, 16.8ms\n",
            "video 1/1 (frame 943/1824) d:\\HighwayCounter_YOLOv8\\highway.mp4: 384x640 3 cars, 2 trucks, 15.6ms\n",
            "video 1/1 (frame 944/1824) d:\\HighwayCounter_YOLOv8\\highway.mp4: 384x640 3 cars, 2 trucks, 31.8ms\n",
            "video 1/1 (frame 945/1824) d:\\HighwayCounter_YOLOv8\\highway.mp4: 384x640 3 cars, 2 trucks, 15.6ms\n",
            "video 1/1 (frame 946/1824) d:\\HighwayCounter_YOLOv8\\highway.mp4: 384x640 3 cars, 2 trucks, 26.7ms\n",
            "video 1/1 (frame 947/1824) d:\\HighwayCounter_YOLOv8\\highway.mp4: 384x640 3 cars, 2 trucks, 32.1ms\n",
            "video 1/1 (frame 948/1824) d:\\HighwayCounter_YOLOv8\\highway.mp4: 384x640 3 cars, 2 trucks, 31.3ms\n",
            "video 1/1 (frame 949/1824) d:\\HighwayCounter_YOLOv8\\highway.mp4: 384x640 3 cars, 2 trucks, 23.3ms\n",
            "video 1/1 (frame 950/1824) d:\\HighwayCounter_YOLOv8\\highway.mp4: 384x640 3 cars, 2 trucks, 31.3ms\n",
            "video 1/1 (frame 951/1824) d:\\HighwayCounter_YOLOv8\\highway.mp4: 384x640 3 cars, 2 trucks, 17.9ms\n",
            "video 1/1 (frame 952/1824) d:\\HighwayCounter_YOLOv8\\highway.mp4: 384x640 3 cars, 2 trucks, 11.6ms\n",
            "video 1/1 (frame 953/1824) d:\\HighwayCounter_YOLOv8\\highway.mp4: 384x640 3 cars, 2 trucks, 31.3ms\n",
            "video 1/1 (frame 954/1824) d:\\HighwayCounter_YOLOv8\\highway.mp4: 384x640 3 cars, 2 trucks, 31.2ms\n",
            "video 1/1 (frame 955/1824) d:\\HighwayCounter_YOLOv8\\highway.mp4: 384x640 2 cars, 2 trucks, 32.0ms\n",
            "video 1/1 (frame 956/1824) d:\\HighwayCounter_YOLOv8\\highway.mp4: 384x640 2 cars, 2 trucks, 15.6ms\n",
            "video 1/1 (frame 957/1824) d:\\HighwayCounter_YOLOv8\\highway.mp4: 384x640 2 cars, 2 trucks, 15.6ms\n",
            "video 1/1 (frame 958/1824) d:\\HighwayCounter_YOLOv8\\highway.mp4: 384x640 2 cars, 2 trucks, 27.2ms\n",
            "video 1/1 (frame 959/1824) d:\\HighwayCounter_YOLOv8\\highway.mp4: 384x640 2 cars, 2 trucks, 37.7ms\n",
            "video 1/1 (frame 960/1824) d:\\HighwayCounter_YOLOv8\\highway.mp4: 384x640 2 cars, 2 trucks, 17.0ms\n",
            "video 1/1 (frame 961/1824) d:\\HighwayCounter_YOLOv8\\highway.mp4: 384x640 2 cars, 2 trucks, 31.8ms\n",
            "video 1/1 (frame 962/1824) d:\\HighwayCounter_YOLOv8\\highway.mp4: 384x640 2 cars, 2 trucks, 15.6ms\n",
            "video 1/1 (frame 963/1824) d:\\HighwayCounter_YOLOv8\\highway.mp4: 384x640 2 cars, 2 trucks, 30.9ms\n",
            "video 1/1 (frame 964/1824) d:\\HighwayCounter_YOLOv8\\highway.mp4: 384x640 2 cars, 2 trucks, 32.0ms\n",
            "video 1/1 (frame 965/1824) d:\\HighwayCounter_YOLOv8\\highway.mp4: 384x640 2 cars, 1 bus, 2 trucks, 31.3ms\n",
            "video 1/1 (frame 966/1824) d:\\HighwayCounter_YOLOv8\\highway.mp4: 384x640 2 cars, 2 trucks, 31.2ms\n",
            "video 1/1 (frame 967/1824) d:\\HighwayCounter_YOLOv8\\highway.mp4: 384x640 2 cars, 2 trucks, 25.4ms\n",
            "video 1/1 (frame 968/1824) d:\\HighwayCounter_YOLOv8\\highway.mp4: 384x640 2 cars, 2 trucks, 27.1ms\n",
            "video 1/1 (frame 969/1824) d:\\HighwayCounter_YOLOv8\\highway.mp4: 384x640 2 cars, 2 trucks, 46.9ms\n",
            "video 1/1 (frame 970/1824) d:\\HighwayCounter_YOLOv8\\highway.mp4: 384x640 2 cars, 2 trucks, 31.2ms\n",
            "video 1/1 (frame 971/1824) d:\\HighwayCounter_YOLOv8\\highway.mp4: 384x640 2 cars, 2 trucks, 15.6ms\n",
            "video 1/1 (frame 972/1824) d:\\HighwayCounter_YOLOv8\\highway.mp4: 384x640 2 cars, 2 trucks, 34.0ms\n",
            "video 1/1 (frame 973/1824) d:\\HighwayCounter_YOLOv8\\highway.mp4: 384x640 2 cars, 2 trucks, 27.2ms\n",
            "video 1/1 (frame 974/1824) d:\\HighwayCounter_YOLOv8\\highway.mp4: 384x640 2 cars, 2 trucks, 15.6ms\n",
            "video 1/1 (frame 975/1824) d:\\HighwayCounter_YOLOv8\\highway.mp4: 384x640 2 cars, 2 trucks, 27.6ms\n",
            "video 1/1 (frame 976/1824) d:\\HighwayCounter_YOLOv8\\highway.mp4: 384x640 2 cars, 2 trucks, 24.9ms\n",
            "video 1/1 (frame 977/1824) d:\\HighwayCounter_YOLOv8\\highway.mp4: 384x640 2 cars, 2 trucks, 32.5ms\n",
            "video 1/1 (frame 978/1824) d:\\HighwayCounter_YOLOv8\\highway.mp4: 384x640 2 cars, 2 trucks, 23.3ms\n",
            "video 1/1 (frame 979/1824) d:\\HighwayCounter_YOLOv8\\highway.mp4: 384x640 2 cars, 2 trucks, 22.6ms\n",
            "video 1/1 (frame 980/1824) d:\\HighwayCounter_YOLOv8\\highway.mp4: 384x640 2 cars, 2 trucks, 31.3ms\n",
            "video 1/1 (frame 981/1824) d:\\HighwayCounter_YOLOv8\\highway.mp4: 384x640 2 cars, 2 trucks, 15.6ms\n",
            "video 1/1 (frame 982/1824) d:\\HighwayCounter_YOLOv8\\highway.mp4: 384x640 2 cars, 2 trucks, 15.6ms\n",
            "video 1/1 (frame 983/1824) d:\\HighwayCounter_YOLOv8\\highway.mp4: 384x640 2 cars, 2 trucks, 15.6ms\n",
            "video 1/1 (frame 984/1824) d:\\HighwayCounter_YOLOv8\\highway.mp4: 384x640 2 cars, 2 trucks, 31.2ms\n",
            "video 1/1 (frame 985/1824) d:\\HighwayCounter_YOLOv8\\highway.mp4: 384x640 2 cars, 2 trucks, 15.6ms\n",
            "video 1/1 (frame 986/1824) d:\\HighwayCounter_YOLOv8\\highway.mp4: 384x640 2 cars, 2 trucks, 31.2ms\n",
            "video 1/1 (frame 987/1824) d:\\HighwayCounter_YOLOv8\\highway.mp4: 384x640 2 cars, 2 trucks, 15.6ms\n",
            "video 1/1 (frame 988/1824) d:\\HighwayCounter_YOLOv8\\highway.mp4: 384x640 2 cars, 2 trucks, 16.8ms\n",
            "video 1/1 (frame 989/1824) d:\\HighwayCounter_YOLOv8\\highway.mp4: 384x640 2 cars, 2 trucks, 26.0ms\n",
            "video 1/1 (frame 990/1824) d:\\HighwayCounter_YOLOv8\\highway.mp4: 384x640 2 cars, 2 trucks, 24.8ms\n",
            "video 1/1 (frame 991/1824) d:\\HighwayCounter_YOLOv8\\highway.mp4: 384x640 2 cars, 2 trucks, 15.6ms\n",
            "video 1/1 (frame 992/1824) d:\\HighwayCounter_YOLOv8\\highway.mp4: 384x640 2 cars, 2 trucks, 27.8ms\n",
            "video 1/1 (frame 993/1824) d:\\HighwayCounter_YOLOv8\\highway.mp4: 384x640 2 cars, 2 trucks, 12.4ms\n",
            "video 1/1 (frame 994/1824) d:\\HighwayCounter_YOLOv8\\highway.mp4: 384x640 2 cars, 2 trucks, 32.2ms\n",
            "video 1/1 (frame 995/1824) d:\\HighwayCounter_YOLOv8\\highway.mp4: 384x640 2 cars, 2 trucks, 14.5ms\n",
            "video 1/1 (frame 996/1824) d:\\HighwayCounter_YOLOv8\\highway.mp4: 384x640 2 cars, 2 trucks, 29.7ms\n",
            "video 1/1 (frame 997/1824) d:\\HighwayCounter_YOLOv8\\highway.mp4: 384x640 2 cars, 2 trucks, 22.7ms\n",
            "video 1/1 (frame 998/1824) d:\\HighwayCounter_YOLOv8\\highway.mp4: 384x640 2 cars, 2 trucks, 16.5ms\n",
            "video 1/1 (frame 999/1824) d:\\HighwayCounter_YOLOv8\\highway.mp4: 384x640 2 cars, 2 trucks, 15.6ms\n",
            "video 1/1 (frame 1000/1824) d:\\HighwayCounter_YOLOv8\\highway.mp4: 384x640 2 cars, 2 trucks, 15.6ms\n",
            "video 1/1 (frame 1001/1824) d:\\HighwayCounter_YOLOv8\\highway.mp4: 384x640 1 car, 2 trucks, 15.6ms\n",
            "video 1/1 (frame 1002/1824) d:\\HighwayCounter_YOLOv8\\highway.mp4: 384x640 1 car, 2 trucks, 33.6ms\n",
            "video 1/1 (frame 1003/1824) d:\\HighwayCounter_YOLOv8\\highway.mp4: 384x640 1 car, 2 trucks, 31.3ms\n",
            "video 1/1 (frame 1004/1824) d:\\HighwayCounter_YOLOv8\\highway.mp4: 384x640 1 car, 2 trucks, 26.4ms\n",
            "video 1/1 (frame 1005/1824) d:\\HighwayCounter_YOLOv8\\highway.mp4: 384x640 1 car, 2 trucks, 15.6ms\n",
            "video 1/1 (frame 1006/1824) d:\\HighwayCounter_YOLOv8\\highway.mp4: 384x640 1 car, 2 trucks, 15.6ms\n",
            "video 1/1 (frame 1007/1824) d:\\HighwayCounter_YOLOv8\\highway.mp4: 384x640 1 car, 2 trucks, 15.6ms\n",
            "video 1/1 (frame 1008/1824) d:\\HighwayCounter_YOLOv8\\highway.mp4: 384x640 1 car, 2 trucks, 31.3ms\n",
            "video 1/1 (frame 1009/1824) d:\\HighwayCounter_YOLOv8\\highway.mp4: 384x640 1 car, 2 trucks, 25.6ms\n",
            "video 1/1 (frame 1010/1824) d:\\HighwayCounter_YOLOv8\\highway.mp4: 384x640 1 car, 2 trucks, 30.2ms\n",
            "video 1/1 (frame 1011/1824) d:\\HighwayCounter_YOLOv8\\highway.mp4: 384x640 1 car, 2 trucks, 19.7ms\n",
            "video 1/1 (frame 1012/1824) d:\\HighwayCounter_YOLOv8\\highway.mp4: 384x640 1 car, 2 trucks, 15.6ms\n",
            "video 1/1 (frame 1013/1824) d:\\HighwayCounter_YOLOv8\\highway.mp4: 384x640 1 car, 2 trucks, 15.6ms\n",
            "video 1/1 (frame 1014/1824) d:\\HighwayCounter_YOLOv8\\highway.mp4: 384x640 1 car, 2 trucks, 31.2ms\n",
            "video 1/1 (frame 1015/1824) d:\\HighwayCounter_YOLOv8\\highway.mp4: 384x640 1 car, 2 trucks, 33.0ms\n",
            "video 1/1 (frame 1016/1824) d:\\HighwayCounter_YOLOv8\\highway.mp4: 384x640 1 car, 2 trucks, 31.2ms\n",
            "video 1/1 (frame 1017/1824) d:\\HighwayCounter_YOLOv8\\highway.mp4: 384x640 1 car, 2 trucks, 15.6ms\n",
            "video 1/1 (frame 1018/1824) d:\\HighwayCounter_YOLOv8\\highway.mp4: 384x640 1 car, 2 trucks, 15.6ms\n",
            "video 1/1 (frame 1019/1824) d:\\HighwayCounter_YOLOv8\\highway.mp4: 384x640 1 car, 2 trucks, 31.2ms\n",
            "video 1/1 (frame 1020/1824) d:\\HighwayCounter_YOLOv8\\highway.mp4: 384x640 1 car, 2 trucks, 15.6ms\n",
            "video 1/1 (frame 1021/1824) d:\\HighwayCounter_YOLOv8\\highway.mp4: 384x640 1 car, 2 trucks, 15.6ms\n",
            "video 1/1 (frame 1022/1824) d:\\HighwayCounter_YOLOv8\\highway.mp4: 384x640 1 car, 2 trucks, 15.6ms\n",
            "video 1/1 (frame 1023/1824) d:\\HighwayCounter_YOLOv8\\highway.mp4: 384x640 1 car, 2 trucks, 15.6ms\n",
            "video 1/1 (frame 1024/1824) d:\\HighwayCounter_YOLOv8\\highway.mp4: 384x640 1 car, 2 trucks, 31.2ms\n",
            "video 1/1 (frame 1025/1824) d:\\HighwayCounter_YOLOv8\\highway.mp4: 384x640 1 car, 2 trucks, 15.6ms\n",
            "video 1/1 (frame 1026/1824) d:\\HighwayCounter_YOLOv8\\highway.mp4: 384x640 1 car, 2 trucks, 31.2ms\n",
            "video 1/1 (frame 1027/1824) d:\\HighwayCounter_YOLOv8\\highway.mp4: 384x640 1 car, 2 trucks, 31.3ms\n",
            "video 1/1 (frame 1028/1824) d:\\HighwayCounter_YOLOv8\\highway.mp4: 384x640 1 car, 2 trucks, 15.6ms\n",
            "video 1/1 (frame 1029/1824) d:\\HighwayCounter_YOLOv8\\highway.mp4: 384x640 1 car, 2 trucks, 15.6ms\n",
            "video 1/1 (frame 1030/1824) d:\\HighwayCounter_YOLOv8\\highway.mp4: 384x640 1 car, 2 trucks, 15.6ms\n",
            "video 1/1 (frame 1031/1824) d:\\HighwayCounter_YOLOv8\\highway.mp4: 384x640 1 car, 2 trucks, 15.6ms\n",
            "video 1/1 (frame 1032/1824) d:\\HighwayCounter_YOLOv8\\highway.mp4: 384x640 1 car, 2 trucks, 24.8ms\n",
            "video 1/1 (frame 1033/1824) d:\\HighwayCounter_YOLOv8\\highway.mp4: 384x640 1 car, 2 trucks, 22.5ms\n",
            "video 1/1 (frame 1034/1824) d:\\HighwayCounter_YOLOv8\\highway.mp4: 384x640 1 car, 2 trucks, 22.4ms\n",
            "video 1/1 (frame 1035/1824) d:\\HighwayCounter_YOLOv8\\highway.mp4: 384x640 1 car, 1 truck, 24.3ms\n",
            "video 1/1 (frame 1036/1824) d:\\HighwayCounter_YOLOv8\\highway.mp4: 384x640 1 car, 2 trucks, 28.0ms\n",
            "video 1/1 (frame 1037/1824) d:\\HighwayCounter_YOLOv8\\highway.mp4: 384x640 1 car, 2 trucks, 12.6ms\n",
            "video 1/1 (frame 1038/1824) d:\\HighwayCounter_YOLOv8\\highway.mp4: 384x640 1 car, 2 trucks, 19.3ms\n",
            "video 1/1 (frame 1039/1824) d:\\HighwayCounter_YOLOv8\\highway.mp4: 384x640 1 car, 2 trucks, 15.6ms\n",
            "video 1/1 (frame 1040/1824) d:\\HighwayCounter_YOLOv8\\highway.mp4: 384x640 1 car, 3 trucks, 15.6ms\n",
            "video 1/1 (frame 1041/1824) d:\\HighwayCounter_YOLOv8\\highway.mp4: 384x640 1 car, 2 trucks, 31.3ms\n",
            "video 1/1 (frame 1042/1824) d:\\HighwayCounter_YOLOv8\\highway.mp4: 384x640 1 car, 2 trucks, 31.2ms\n",
            "video 1/1 (frame 1043/1824) d:\\HighwayCounter_YOLOv8\\highway.mp4: 384x640 1 car, 2 trucks, 31.3ms\n",
            "video 1/1 (frame 1044/1824) d:\\HighwayCounter_YOLOv8\\highway.mp4: 384x640 1 car, 3 trucks, 31.3ms\n",
            "video 1/1 (frame 1045/1824) d:\\HighwayCounter_YOLOv8\\highway.mp4: 384x640 1 car, 3 trucks, 15.6ms\n",
            "video 1/1 (frame 1046/1824) d:\\HighwayCounter_YOLOv8\\highway.mp4: 384x640 2 trucks, 15.6ms\n",
            "video 1/1 (frame 1047/1824) d:\\HighwayCounter_YOLOv8\\highway.mp4: 384x640 3 trucks, 36.4ms\n",
            "video 1/1 (frame 1048/1824) d:\\HighwayCounter_YOLOv8\\highway.mp4: 384x640 3 trucks, 24.9ms\n",
            "video 1/1 (frame 1049/1824) d:\\HighwayCounter_YOLOv8\\highway.mp4: 384x640 3 trucks, 17.3ms\n",
            "video 1/1 (frame 1050/1824) d:\\HighwayCounter_YOLOv8\\highway.mp4: 384x640 3 trucks, 15.6ms\n",
            "video 1/1 (frame 1051/1824) d:\\HighwayCounter_YOLOv8\\highway.mp4: 384x640 3 trucks, 31.2ms\n",
            "video 1/1 (frame 1052/1824) d:\\HighwayCounter_YOLOv8\\highway.mp4: 384x640 1 car, 3 trucks, 31.2ms\n",
            "video 1/1 (frame 1053/1824) d:\\HighwayCounter_YOLOv8\\highway.mp4: 384x640 1 car, 3 trucks, 15.6ms\n",
            "video 1/1 (frame 1054/1824) d:\\HighwayCounter_YOLOv8\\highway.mp4: 384x640 1 car, 3 trucks, 33.7ms\n",
            "video 1/1 (frame 1055/1824) d:\\HighwayCounter_YOLOv8\\highway.mp4: 384x640 1 car, 3 trucks, 17.7ms\n",
            "video 1/1 (frame 1056/1824) d:\\HighwayCounter_YOLOv8\\highway.mp4: 384x640 1 car, 3 trucks, 33.0ms\n",
            "video 1/1 (frame 1057/1824) d:\\HighwayCounter_YOLOv8\\highway.mp4: 384x640 3 trucks, 32.1ms\n",
            "video 1/1 (frame 1058/1824) d:\\HighwayCounter_YOLOv8\\highway.mp4: 384x640 3 trucks, 16.2ms\n",
            "video 1/1 (frame 1059/1824) d:\\HighwayCounter_YOLOv8\\highway.mp4: 384x640 3 trucks, 25.5ms\n",
            "video 1/1 (frame 1060/1824) d:\\HighwayCounter_YOLOv8\\highway.mp4: 384x640 3 trucks, 9.0ms\n",
            "video 1/1 (frame 1061/1824) d:\\HighwayCounter_YOLOv8\\highway.mp4: 384x640 3 trucks, 31.3ms\n",
            "video 1/1 (frame 1062/1824) d:\\HighwayCounter_YOLOv8\\highway.mp4: 384x640 3 trucks, 15.6ms\n",
            "video 1/1 (frame 1063/1824) d:\\HighwayCounter_YOLOv8\\highway.mp4: 384x640 1 car, 3 trucks, 61.4ms\n",
            "video 1/1 (frame 1064/1824) d:\\HighwayCounter_YOLOv8\\highway.mp4: 384x640 3 trucks, 16.7ms\n",
            "video 1/1 (frame 1065/1824) d:\\HighwayCounter_YOLOv8\\highway.mp4: 384x640 3 trucks, 15.6ms\n",
            "video 1/1 (frame 1066/1824) d:\\HighwayCounter_YOLOv8\\highway.mp4: 384x640 3 trucks, 15.4ms\n",
            "video 1/1 (frame 1067/1824) d:\\HighwayCounter_YOLOv8\\highway.mp4: 384x640 3 trucks, 15.6ms\n",
            "video 1/1 (frame 1068/1824) d:\\HighwayCounter_YOLOv8\\highway.mp4: 384x640 3 trucks, 29.7ms\n",
            "video 1/1 (frame 1069/1824) d:\\HighwayCounter_YOLOv8\\highway.mp4: 384x640 3 trucks, 22.0ms\n",
            "video 1/1 (frame 1070/1824) d:\\HighwayCounter_YOLOv8\\highway.mp4: 384x640 3 trucks, 46.9ms\n",
            "video 1/1 (frame 1071/1824) d:\\HighwayCounter_YOLOv8\\highway.mp4: 384x640 3 trucks, 52.0ms\n",
            "video 1/1 (frame 1072/1824) d:\\HighwayCounter_YOLOv8\\highway.mp4: 384x640 3 trucks, 31.2ms\n",
            "video 1/1 (frame 1073/1824) d:\\HighwayCounter_YOLOv8\\highway.mp4: 384x640 3 trucks, 31.2ms\n",
            "video 1/1 (frame 1074/1824) d:\\HighwayCounter_YOLOv8\\highway.mp4: 384x640 1 car, 3 trucks, 14.3ms\n",
            "video 1/1 (frame 1075/1824) d:\\HighwayCounter_YOLOv8\\highway.mp4: 384x640 1 car, 3 trucks, 16.3ms\n",
            "video 1/1 (frame 1076/1824) d:\\HighwayCounter_YOLOv8\\highway.mp4: 384x640 1 car, 3 trucks, 20.9ms\n",
            "video 1/1 (frame 1077/1824) d:\\HighwayCounter_YOLOv8\\highway.mp4: 384x640 1 car, 3 trucks, 32.1ms\n",
            "video 1/1 (frame 1078/1824) d:\\HighwayCounter_YOLOv8\\highway.mp4: 384x640 1 car, 3 trucks, 29.9ms\n",
            "video 1/1 (frame 1079/1824) d:\\HighwayCounter_YOLOv8\\highway.mp4: 384x640 1 car, 2 trucks, 30.3ms\n",
            "video 1/1 (frame 1080/1824) d:\\HighwayCounter_YOLOv8\\highway.mp4: 384x640 1 car, 2 trucks, 15.8ms\n",
            "video 1/1 (frame 1081/1824) d:\\HighwayCounter_YOLOv8\\highway.mp4: 384x640 1 car, 2 trucks, 24.3ms\n",
            "video 1/1 (frame 1082/1824) d:\\HighwayCounter_YOLOv8\\highway.mp4: 384x640 1 car, 2 trucks, 24.9ms\n",
            "video 1/1 (frame 1083/1824) d:\\HighwayCounter_YOLOv8\\highway.mp4: 384x640 1 car, 2 trucks, 59.2ms\n",
            "video 1/1 (frame 1084/1824) d:\\HighwayCounter_YOLOv8\\highway.mp4: 384x640 1 car, 2 trucks, 31.2ms\n",
            "video 1/1 (frame 1085/1824) d:\\HighwayCounter_YOLOv8\\highway.mp4: 384x640 1 car, 2 trucks, 31.2ms\n",
            "video 1/1 (frame 1086/1824) d:\\HighwayCounter_YOLOv8\\highway.mp4: 384x640 1 car, 2 trucks, 25.7ms\n",
            "video 1/1 (frame 1087/1824) d:\\HighwayCounter_YOLOv8\\highway.mp4: 384x640 1 car, 1 truck, 28.5ms\n",
            "video 1/1 (frame 1088/1824) d:\\HighwayCounter_YOLOv8\\highway.mp4: 384x640 1 car, 2 trucks, 31.2ms\n",
            "video 1/1 (frame 1089/1824) d:\\HighwayCounter_YOLOv8\\highway.mp4: 384x640 1 car, 2 trucks, 40.9ms\n",
            "video 1/1 (frame 1090/1824) d:\\HighwayCounter_YOLOv8\\highway.mp4: 384x640 1 car, 1 truck, 15.6ms\n",
            "video 1/1 (frame 1091/1824) d:\\HighwayCounter_YOLOv8\\highway.mp4: 384x640 1 car, 1 truck, 30.6ms\n",
            "video 1/1 (frame 1092/1824) d:\\HighwayCounter_YOLOv8\\highway.mp4: 384x640 1 car, 2 trucks, 15.6ms\n",
            "video 1/1 (frame 1093/1824) d:\\HighwayCounter_YOLOv8\\highway.mp4: 384x640 1 car, 2 trucks, 22.0ms\n",
            "video 1/1 (frame 1094/1824) d:\\HighwayCounter_YOLOv8\\highway.mp4: 384x640 1 car, 1 truck, 31.2ms\n",
            "video 1/1 (frame 1095/1824) d:\\HighwayCounter_YOLOv8\\highway.mp4: 384x640 1 car, 1 truck, 29.0ms\n",
            "video 1/1 (frame 1096/1824) d:\\HighwayCounter_YOLOv8\\highway.mp4: 384x640 1 car, 1 truck, 19.5ms\n",
            "video 1/1 (frame 1097/1824) d:\\HighwayCounter_YOLOv8\\highway.mp4: 384x640 1 car, 1 truck, 36.6ms\n",
            "video 1/1 (frame 1098/1824) d:\\HighwayCounter_YOLOv8\\highway.mp4: 384x640 1 car, 1 truck, 62.1ms\n",
            "video 1/1 (frame 1099/1824) d:\\HighwayCounter_YOLOv8\\highway.mp4: 384x640 1 car, 2 trucks, 8.0ms\n",
            "video 1/1 (frame 1100/1824) d:\\HighwayCounter_YOLOv8\\highway.mp4: 384x640 1 car, 1 truck, 32.2ms\n",
            "video 1/1 (frame 1101/1824) d:\\HighwayCounter_YOLOv8\\highway.mp4: 384x640 1 car, 1 truck, 15.6ms\n",
            "video 1/1 (frame 1102/1824) d:\\HighwayCounter_YOLOv8\\highway.mp4: 384x640 1 car, 1 truck, 17.3ms\n",
            "video 1/1 (frame 1103/1824) d:\\HighwayCounter_YOLOv8\\highway.mp4: 384x640 1 car, 1 truck, 31.3ms\n",
            "video 1/1 (frame 1104/1824) d:\\HighwayCounter_YOLOv8\\highway.mp4: 384x640 1 car, 1 truck, 38.0ms\n",
            "video 1/1 (frame 1105/1824) d:\\HighwayCounter_YOLOv8\\highway.mp4: 384x640 1 car, 1 truck, 18.6ms\n",
            "video 1/1 (frame 1106/1824) d:\\HighwayCounter_YOLOv8\\highway.mp4: 384x640 1 car, 1 truck, 15.6ms\n",
            "video 1/1 (frame 1107/1824) d:\\HighwayCounter_YOLOv8\\highway.mp4: 384x640 1 car, 1 truck, 15.6ms\n",
            "video 1/1 (frame 1108/1824) d:\\HighwayCounter_YOLOv8\\highway.mp4: 384x640 1 car, 1 truck, 19.9ms\n",
            "video 1/1 (frame 1109/1824) d:\\HighwayCounter_YOLOv8\\highway.mp4: 384x640 1 car, 1 truck, 8.4ms\n",
            "video 1/1 (frame 1110/1824) d:\\HighwayCounter_YOLOv8\\highway.mp4: 384x640 1 car, 1 truck, 17.7ms\n",
            "video 1/1 (frame 1111/1824) d:\\HighwayCounter_YOLOv8\\highway.mp4: 384x640 1 car, 1 truck, 22.4ms\n",
            "video 1/1 (frame 1112/1824) d:\\HighwayCounter_YOLOv8\\highway.mp4: 384x640 1 car, 1 truck, 36.6ms\n",
            "video 1/1 (frame 1113/1824) d:\\HighwayCounter_YOLOv8\\highway.mp4: 384x640 1 car, 1 truck, 15.6ms\n",
            "video 1/1 (frame 1114/1824) d:\\HighwayCounter_YOLOv8\\highway.mp4: 384x640 1 car, 1 truck, 15.6ms\n",
            "video 1/1 (frame 1115/1824) d:\\HighwayCounter_YOLOv8\\highway.mp4: 384x640 1 car, 1 truck, 31.2ms\n",
            "video 1/1 (frame 1116/1824) d:\\HighwayCounter_YOLOv8\\highway.mp4: 384x640 1 car, 1 truck, 15.6ms\n",
            "video 1/1 (frame 1117/1824) d:\\HighwayCounter_YOLOv8\\highway.mp4: 384x640 1 car, 1 truck, 31.3ms\n",
            "video 1/1 (frame 1118/1824) d:\\HighwayCounter_YOLOv8\\highway.mp4: 384x640 1 car, 1 truck, 31.3ms\n",
            "video 1/1 (frame 1119/1824) d:\\HighwayCounter_YOLOv8\\highway.mp4: 384x640 1 car, 1 truck, 21.9ms\n",
            "video 1/1 (frame 1120/1824) d:\\HighwayCounter_YOLOv8\\highway.mp4: 384x640 1 car, 1 truck, 31.2ms\n",
            "video 1/1 (frame 1121/1824) d:\\HighwayCounter_YOLOv8\\highway.mp4: 384x640 1 car, 1 truck, 31.2ms\n",
            "video 1/1 (frame 1122/1824) d:\\HighwayCounter_YOLOv8\\highway.mp4: 384x640 1 car, 1 truck, 15.6ms\n",
            "video 1/1 (frame 1123/1824) d:\\HighwayCounter_YOLOv8\\highway.mp4: 384x640 1 car, 1 truck, 15.6ms\n",
            "video 1/1 (frame 1124/1824) d:\\HighwayCounter_YOLOv8\\highway.mp4: 384x640 1 car, 1 truck, 31.3ms\n",
            "video 1/1 (frame 1125/1824) d:\\HighwayCounter_YOLOv8\\highway.mp4: 384x640 1 car, 1 truck, 31.2ms\n",
            "video 1/1 (frame 1126/1824) d:\\HighwayCounter_YOLOv8\\highway.mp4: 384x640 1 car, 1 truck, 15.6ms\n",
            "video 1/1 (frame 1127/1824) d:\\HighwayCounter_YOLOv8\\highway.mp4: 384x640 1 car, 1 truck, 34.3ms\n",
            "video 1/1 (frame 1128/1824) d:\\HighwayCounter_YOLOv8\\highway.mp4: 384x640 1 car, 1 truck, 15.6ms\n",
            "video 1/1 (frame 1129/1824) d:\\HighwayCounter_YOLOv8\\highway.mp4: 384x640 1 car, 1 truck, 31.3ms\n",
            "video 1/1 (frame 1130/1824) d:\\HighwayCounter_YOLOv8\\highway.mp4: 384x640 1 car, 1 truck, 31.3ms\n",
            "video 1/1 (frame 1131/1824) d:\\HighwayCounter_YOLOv8\\highway.mp4: 384x640 1 car, 1 truck, 23.8ms\n",
            "video 1/1 (frame 1132/1824) d:\\HighwayCounter_YOLOv8\\highway.mp4: 384x640 1 car, 1 truck, 15.6ms\n",
            "video 1/1 (frame 1133/1824) d:\\HighwayCounter_YOLOv8\\highway.mp4: 384x640 1 car, 1 truck, 15.6ms\n",
            "video 1/1 (frame 1134/1824) d:\\HighwayCounter_YOLOv8\\highway.mp4: 384x640 1 car, 1 truck, 13.6ms\n",
            "video 1/1 (frame 1135/1824) d:\\HighwayCounter_YOLOv8\\highway.mp4: 384x640 1 car, 1 truck, 25.0ms\n",
            "video 1/1 (frame 1136/1824) d:\\HighwayCounter_YOLOv8\\highway.mp4: 384x640 1 car, 1 truck, 23.7ms\n",
            "video 1/1 (frame 1137/1824) d:\\HighwayCounter_YOLOv8\\highway.mp4: 384x640 1 car, 1 truck, 21.5ms\n",
            "video 1/1 (frame 1138/1824) d:\\HighwayCounter_YOLOv8\\highway.mp4: 384x640 1 car, 1 truck, 31.2ms\n",
            "video 1/1 (frame 1139/1824) d:\\HighwayCounter_YOLOv8\\highway.mp4: 384x640 1 car, 1 truck, 31.3ms\n",
            "video 1/1 (frame 1140/1824) d:\\HighwayCounter_YOLOv8\\highway.mp4: 384x640 1 car, 1 truck, 29.2ms\n",
            "video 1/1 (frame 1141/1824) d:\\HighwayCounter_YOLOv8\\highway.mp4: 384x640 1 car, 1 truck, 31.3ms\n",
            "video 1/1 (frame 1142/1824) d:\\HighwayCounter_YOLOv8\\highway.mp4: 384x640 2 cars, 1 truck, 15.6ms\n",
            "video 1/1 (frame 1143/1824) d:\\HighwayCounter_YOLOv8\\highway.mp4: 384x640 2 cars, 1 truck, 31.0ms\n",
            "video 1/1 (frame 1144/1824) d:\\HighwayCounter_YOLOv8\\highway.mp4: 384x640 2 cars, 1 truck, 35.5ms\n",
            "video 1/1 (frame 1145/1824) d:\\HighwayCounter_YOLOv8\\highway.mp4: 384x640 2 cars, 1 truck, 31.3ms\n",
            "video 1/1 (frame 1146/1824) d:\\HighwayCounter_YOLOv8\\highway.mp4: 384x640 2 cars, 1 truck, 15.6ms\n",
            "video 1/1 (frame 1147/1824) d:\\HighwayCounter_YOLOv8\\highway.mp4: 384x640 2 cars, 1 truck, 15.6ms\n",
            "video 1/1 (frame 1148/1824) d:\\HighwayCounter_YOLOv8\\highway.mp4: 384x640 2 cars, 1 truck, 31.3ms\n",
            "video 1/1 (frame 1149/1824) d:\\HighwayCounter_YOLOv8\\highway.mp4: 384x640 3 cars, 1 truck, 34.4ms\n",
            "video 1/1 (frame 1150/1824) d:\\HighwayCounter_YOLOv8\\highway.mp4: 384x640 3 cars, 1 truck, 23.6ms\n",
            "video 1/1 (frame 1151/1824) d:\\HighwayCounter_YOLOv8\\highway.mp4: 384x640 3 cars, 1 truck, 18.1ms\n",
            "video 1/1 (frame 1152/1824) d:\\HighwayCounter_YOLOv8\\highway.mp4: 384x640 3 cars, 1 truck, 15.6ms\n",
            "video 1/1 (frame 1153/1824) d:\\HighwayCounter_YOLOv8\\highway.mp4: 384x640 3 cars, 1 truck, 18.3ms\n",
            "video 1/1 (frame 1154/1824) d:\\HighwayCounter_YOLOv8\\highway.mp4: 384x640 3 cars, 1 truck, 15.4ms\n",
            "video 1/1 (frame 1155/1824) d:\\HighwayCounter_YOLOv8\\highway.mp4: 384x640 3 cars, 1 truck, 25.6ms\n",
            "video 1/1 (frame 1156/1824) d:\\HighwayCounter_YOLOv8\\highway.mp4: 384x640 3 cars, 1 truck, 26.5ms\n",
            "video 1/1 (frame 1157/1824) d:\\HighwayCounter_YOLOv8\\highway.mp4: 384x640 3 cars, 1 truck, 26.1ms\n",
            "video 1/1 (frame 1158/1824) d:\\HighwayCounter_YOLOv8\\highway.mp4: 384x640 3 cars, 1 truck, 15.6ms\n",
            "video 1/1 (frame 1159/1824) d:\\HighwayCounter_YOLOv8\\highway.mp4: 384x640 3 cars, 1 truck, 31.3ms\n",
            "video 1/1 (frame 1160/1824) d:\\HighwayCounter_YOLOv8\\highway.mp4: 384x640 3 cars, 1 truck, 27.1ms\n",
            "video 1/1 (frame 1161/1824) d:\\HighwayCounter_YOLOv8\\highway.mp4: 384x640 3 cars, 1 truck, 36.6ms\n",
            "video 1/1 (frame 1162/1824) d:\\HighwayCounter_YOLOv8\\highway.mp4: 384x640 3 cars, 1 truck, 22.8ms\n",
            "video 1/1 (frame 1163/1824) d:\\HighwayCounter_YOLOv8\\highway.mp4: 384x640 3 cars, 1 truck, 24.0ms\n",
            "video 1/1 (frame 1164/1824) d:\\HighwayCounter_YOLOv8\\highway.mp4: 384x640 3 cars, 1 truck, 15.6ms\n",
            "video 1/1 (frame 1165/1824) d:\\HighwayCounter_YOLOv8\\highway.mp4: 384x640 3 cars, 1 truck, 31.3ms\n",
            "video 1/1 (frame 1166/1824) d:\\HighwayCounter_YOLOv8\\highway.mp4: 384x640 3 cars, 1 truck, 15.6ms\n",
            "video 1/1 (frame 1167/1824) d:\\HighwayCounter_YOLOv8\\highway.mp4: 384x640 3 cars, 1 truck, 29.7ms\n",
            "video 1/1 (frame 1168/1824) d:\\HighwayCounter_YOLOv8\\highway.mp4: 384x640 3 cars, 1 truck, 35.2ms\n",
            "video 1/1 (frame 1169/1824) d:\\HighwayCounter_YOLOv8\\highway.mp4: 384x640 3 cars, 1 truck, 31.2ms\n",
            "video 1/1 (frame 1170/1824) d:\\HighwayCounter_YOLOv8\\highway.mp4: 384x640 3 cars, 1 truck, 21.4ms\n",
            "video 1/1 (frame 1171/1824) d:\\HighwayCounter_YOLOv8\\highway.mp4: 384x640 3 cars, 1 truck, 33.0ms\n",
            "video 1/1 (frame 1172/1824) d:\\HighwayCounter_YOLOv8\\highway.mp4: 384x640 3 cars, 1 truck, 15.6ms\n",
            "video 1/1 (frame 1173/1824) d:\\HighwayCounter_YOLOv8\\highway.mp4: 384x640 3 cars, 1 truck, 31.3ms\n",
            "video 1/1 (frame 1174/1824) d:\\HighwayCounter_YOLOv8\\highway.mp4: 384x640 4 cars, 1 truck, 15.6ms\n",
            "video 1/1 (frame 1175/1824) d:\\HighwayCounter_YOLOv8\\highway.mp4: 384x640 4 cars, 1 truck, 15.6ms\n",
            "video 1/1 (frame 1176/1824) d:\\HighwayCounter_YOLOv8\\highway.mp4: 384x640 4 cars, 1 truck, 15.6ms\n",
            "video 1/1 (frame 1177/1824) d:\\HighwayCounter_YOLOv8\\highway.mp4: 384x640 4 cars, 1 truck, 31.2ms\n",
            "video 1/1 (frame 1178/1824) d:\\HighwayCounter_YOLOv8\\highway.mp4: 384x640 4 cars, 1 truck, 31.3ms\n",
            "video 1/1 (frame 1179/1824) d:\\HighwayCounter_YOLOv8\\highway.mp4: 384x640 3 cars, 1 truck, 35.5ms\n",
            "video 1/1 (frame 1180/1824) d:\\HighwayCounter_YOLOv8\\highway.mp4: 384x640 3 cars, 1 truck, 15.6ms\n",
            "video 1/1 (frame 1181/1824) d:\\HighwayCounter_YOLOv8\\highway.mp4: 384x640 4 cars, 1 truck, 32.8ms\n",
            "video 1/1 (frame 1182/1824) d:\\HighwayCounter_YOLOv8\\highway.mp4: 384x640 4 cars, 1 truck, 23.7ms\n",
            "video 1/1 (frame 1183/1824) d:\\HighwayCounter_YOLOv8\\highway.mp4: 384x640 4 cars, 1 truck, 22.8ms\n",
            "video 1/1 (frame 1184/1824) d:\\HighwayCounter_YOLOv8\\highway.mp4: 384x640 4 cars, 1 truck, 30.7ms\n",
            "video 1/1 (frame 1185/1824) d:\\HighwayCounter_YOLOv8\\highway.mp4: 384x640 4 cars, 1 truck, 35.2ms\n",
            "video 1/1 (frame 1186/1824) d:\\HighwayCounter_YOLOv8\\highway.mp4: 384x640 4 cars, 1 truck, 31.2ms\n",
            "video 1/1 (frame 1187/1824) d:\\HighwayCounter_YOLOv8\\highway.mp4: 384x640 4 cars, 1 truck, 68.4ms\n",
            "video 1/1 (frame 1188/1824) d:\\HighwayCounter_YOLOv8\\highway.mp4: 384x640 4 cars, 1 truck, 15.6ms\n",
            "video 1/1 (frame 1189/1824) d:\\HighwayCounter_YOLOv8\\highway.mp4: 384x640 4 cars, 1 truck, 37.6ms\n",
            "video 1/1 (frame 1190/1824) d:\\HighwayCounter_YOLOv8\\highway.mp4: 384x640 4 cars, 1 truck, 15.5ms\n",
            "video 1/1 (frame 1191/1824) d:\\HighwayCounter_YOLOv8\\highway.mp4: 384x640 4 cars, 1 truck, 46.9ms\n",
            "video 1/1 (frame 1192/1824) d:\\HighwayCounter_YOLOv8\\highway.mp4: 384x640 4 cars, 1 truck, 20.1ms\n",
            "video 1/1 (frame 1193/1824) d:\\HighwayCounter_YOLOv8\\highway.mp4: 384x640 4 cars, 1 truck, 19.1ms\n",
            "video 1/1 (frame 1194/1824) d:\\HighwayCounter_YOLOv8\\highway.mp4: 384x640 4 cars, 1 truck, 21.2ms\n",
            "video 1/1 (frame 1195/1824) d:\\HighwayCounter_YOLOv8\\highway.mp4: 384x640 4 cars, 1 truck, 21.9ms\n",
            "video 1/1 (frame 1196/1824) d:\\HighwayCounter_YOLOv8\\highway.mp4: 384x640 4 cars, 1 truck, 31.3ms\n",
            "video 1/1 (frame 1197/1824) d:\\HighwayCounter_YOLOv8\\highway.mp4: 384x640 4 cars, 1 truck, 15.6ms\n",
            "video 1/1 (frame 1198/1824) d:\\HighwayCounter_YOLOv8\\highway.mp4: 384x640 4 cars, 1 truck, 32.5ms\n",
            "video 1/1 (frame 1199/1824) d:\\HighwayCounter_YOLOv8\\highway.mp4: 384x640 4 cars, 1 truck, 28.7ms\n",
            "video 1/1 (frame 1200/1824) d:\\HighwayCounter_YOLOv8\\highway.mp4: 384x640 4 cars, 1 truck, 31.2ms\n",
            "video 1/1 (frame 1201/1824) d:\\HighwayCounter_YOLOv8\\highway.mp4: 384x640 4 cars, 1 truck, 31.3ms\n",
            "video 1/1 (frame 1202/1824) d:\\HighwayCounter_YOLOv8\\highway.mp4: 384x640 4 cars, 1 truck, 15.6ms\n",
            "video 1/1 (frame 1203/1824) d:\\HighwayCounter_YOLOv8\\highway.mp4: 384x640 4 cars, 1 truck, 15.6ms\n",
            "video 1/1 (frame 1204/1824) d:\\HighwayCounter_YOLOv8\\highway.mp4: 384x640 4 cars, 1 truck, 15.6ms\n",
            "video 1/1 (frame 1205/1824) d:\\HighwayCounter_YOLOv8\\highway.mp4: 384x640 4 cars, 1 truck, 31.2ms\n",
            "video 1/1 (frame 1206/1824) d:\\HighwayCounter_YOLOv8\\highway.mp4: 384x640 4 cars, 1 truck, 15.6ms\n",
            "video 1/1 (frame 1207/1824) d:\\HighwayCounter_YOLOv8\\highway.mp4: 384x640 4 cars, 1 truck, 15.6ms\n",
            "video 1/1 (frame 1208/1824) d:\\HighwayCounter_YOLOv8\\highway.mp4: 384x640 4 cars, 1 truck, 15.6ms\n",
            "video 1/1 (frame 1209/1824) d:\\HighwayCounter_YOLOv8\\highway.mp4: 384x640 4 cars, 1 truck, 15.6ms\n",
            "video 1/1 (frame 1210/1824) d:\\HighwayCounter_YOLOv8\\highway.mp4: 384x640 4 cars, 1 truck, 23.4ms\n",
            "video 1/1 (frame 1211/1824) d:\\HighwayCounter_YOLOv8\\highway.mp4: 384x640 4 cars, 1 truck, 23.1ms\n",
            "video 1/1 (frame 1212/1824) d:\\HighwayCounter_YOLOv8\\highway.mp4: 384x640 4 cars, 1 truck, 44.5ms\n",
            "video 1/1 (frame 1213/1824) d:\\HighwayCounter_YOLOv8\\highway.mp4: 384x640 4 cars, 1 truck, 15.6ms\n",
            "video 1/1 (frame 1214/1824) d:\\HighwayCounter_YOLOv8\\highway.mp4: 384x640 4 cars, 1 truck, 25.0ms\n",
            "video 1/1 (frame 1215/1824) d:\\HighwayCounter_YOLOv8\\highway.mp4: 384x640 4 cars, 1 truck, 16.8ms\n",
            "video 1/1 (frame 1216/1824) d:\\HighwayCounter_YOLOv8\\highway.mp4: 384x640 4 cars, 1 truck, 24.2ms\n",
            "video 1/1 (frame 1217/1824) d:\\HighwayCounter_YOLOv8\\highway.mp4: 384x640 4 cars, 1 truck, 31.3ms\n",
            "video 1/1 (frame 1218/1824) d:\\HighwayCounter_YOLOv8\\highway.mp4: 384x640 4 cars, 1 truck, 36.5ms\n",
            "video 1/1 (frame 1219/1824) d:\\HighwayCounter_YOLOv8\\highway.mp4: 384x640 4 cars, 1 truck, 15.6ms\n",
            "video 1/1 (frame 1220/1824) d:\\HighwayCounter_YOLOv8\\highway.mp4: 384x640 4 cars, 1 truck, 31.3ms\n",
            "video 1/1 (frame 1221/1824) d:\\HighwayCounter_YOLOv8\\highway.mp4: 384x640 4 cars, 1 truck, 19.2ms\n",
            "video 1/1 (frame 1222/1824) d:\\HighwayCounter_YOLOv8\\highway.mp4: 384x640 4 cars, 1 truck, 15.6ms\n",
            "video 1/1 (frame 1223/1824) d:\\HighwayCounter_YOLOv8\\highway.mp4: 384x640 4 cars, 1 truck, 45.8ms\n",
            "video 1/1 (frame 1224/1824) d:\\HighwayCounter_YOLOv8\\highway.mp4: 384x640 4 cars, 1 truck, 31.2ms\n",
            "video 1/1 (frame 1225/1824) d:\\HighwayCounter_YOLOv8\\highway.mp4: 384x640 4 cars, 1 truck, 36.2ms\n",
            "video 1/1 (frame 1226/1824) d:\\HighwayCounter_YOLOv8\\highway.mp4: 384x640 4 cars, 1 truck, 23.6ms\n",
            "video 1/1 (frame 1227/1824) d:\\HighwayCounter_YOLOv8\\highway.mp4: 384x640 4 cars, 1 truck, 31.3ms\n",
            "video 1/1 (frame 1228/1824) d:\\HighwayCounter_YOLOv8\\highway.mp4: 384x640 4 cars, 1 truck, 22.6ms\n",
            "video 1/1 (frame 1229/1824) d:\\HighwayCounter_YOLOv8\\highway.mp4: 384x640 4 cars, 1 truck, 20.4ms\n",
            "video 1/1 (frame 1230/1824) d:\\HighwayCounter_YOLOv8\\highway.mp4: 384x640 4 cars, 1 truck, 35.7ms\n",
            "video 1/1 (frame 1231/1824) d:\\HighwayCounter_YOLOv8\\highway.mp4: 384x640 4 cars, 1 truck, 17.3ms\n",
            "video 1/1 (frame 1232/1824) d:\\HighwayCounter_YOLOv8\\highway.mp4: 384x640 4 cars, 1 truck, 29.2ms\n",
            "video 1/1 (frame 1233/1824) d:\\HighwayCounter_YOLOv8\\highway.mp4: 384x640 4 cars, 1 truck, 15.6ms\n",
            "video 1/1 (frame 1234/1824) d:\\HighwayCounter_YOLOv8\\highway.mp4: 384x640 4 cars, 1 truck, 29.0ms\n",
            "video 1/1 (frame 1235/1824) d:\\HighwayCounter_YOLOv8\\highway.mp4: 384x640 4 cars, 1 truck, 31.2ms\n",
            "video 1/1 (frame 1236/1824) d:\\HighwayCounter_YOLOv8\\highway.mp4: 384x640 5 cars, 1 truck, 26.2ms\n",
            "video 1/1 (frame 1237/1824) d:\\HighwayCounter_YOLOv8\\highway.mp4: 384x640 4 cars, 1 truck, 17.3ms\n",
            "video 1/1 (frame 1238/1824) d:\\HighwayCounter_YOLOv8\\highway.mp4: 384x640 4 cars, 1 truck, 30.4ms\n",
            "video 1/1 (frame 1239/1824) d:\\HighwayCounter_YOLOv8\\highway.mp4: 384x640 4 cars, 1 truck, 22.1ms\n",
            "video 1/1 (frame 1240/1824) d:\\HighwayCounter_YOLOv8\\highway.mp4: 384x640 4 cars, 1 truck, 30.0ms\n",
            "video 1/1 (frame 1241/1824) d:\\HighwayCounter_YOLOv8\\highway.mp4: 384x640 4 cars, 1 truck, 15.6ms\n",
            "video 1/1 (frame 1242/1824) d:\\HighwayCounter_YOLOv8\\highway.mp4: 384x640 4 cars, 23.2ms\n",
            "video 1/1 (frame 1243/1824) d:\\HighwayCounter_YOLOv8\\highway.mp4: 384x640 4 cars, 36.9ms\n",
            "video 1/1 (frame 1244/1824) d:\\HighwayCounter_YOLOv8\\highway.mp4: 384x640 4 cars, 1 truck, 27.8ms\n",
            "video 1/1 (frame 1245/1824) d:\\HighwayCounter_YOLOv8\\highway.mp4: 384x640 4 cars, 36.8ms\n",
            "video 1/1 (frame 1246/1824) d:\\HighwayCounter_YOLOv8\\highway.mp4: 384x640 4 cars, 35.7ms\n",
            "video 1/1 (frame 1247/1824) d:\\HighwayCounter_YOLOv8\\highway.mp4: 384x640 4 cars, 16.0ms\n",
            "video 1/1 (frame 1248/1824) d:\\HighwayCounter_YOLOv8\\highway.mp4: 384x640 4 cars, 15.9ms\n",
            "video 1/1 (frame 1249/1824) d:\\HighwayCounter_YOLOv8\\highway.mp4: 384x640 4 cars, 32.3ms\n",
            "video 1/1 (frame 1250/1824) d:\\HighwayCounter_YOLOv8\\highway.mp4: 384x640 4 cars, 13.1ms\n",
            "video 1/1 (frame 1251/1824) d:\\HighwayCounter_YOLOv8\\highway.mp4: 384x640 4 cars, 1 truck, 15.6ms\n",
            "video 1/1 (frame 1252/1824) d:\\HighwayCounter_YOLOv8\\highway.mp4: 384x640 4 cars, 33.9ms\n",
            "video 1/1 (frame 1253/1824) d:\\HighwayCounter_YOLOv8\\highway.mp4: 384x640 4 cars, 1 bus, 33.0ms\n",
            "video 1/1 (frame 1254/1824) d:\\HighwayCounter_YOLOv8\\highway.mp4: 384x640 4 cars, 22.0ms\n",
            "video 1/1 (frame 1255/1824) d:\\HighwayCounter_YOLOv8\\highway.mp4: 384x640 4 cars, 23.6ms\n",
            "video 1/1 (frame 1256/1824) d:\\HighwayCounter_YOLOv8\\highway.mp4: 384x640 4 cars, 2 buss, 39.1ms\n",
            "video 1/1 (frame 1257/1824) d:\\HighwayCounter_YOLOv8\\highway.mp4: 384x640 4 cars, 15.6ms\n",
            "video 1/1 (frame 1258/1824) d:\\HighwayCounter_YOLOv8\\highway.mp4: 384x640 4 cars, 1 bus, 35.6ms\n",
            "video 1/1 (frame 1259/1824) d:\\HighwayCounter_YOLOv8\\highway.mp4: 384x640 4 cars, 31.2ms\n",
            "video 1/1 (frame 1260/1824) d:\\HighwayCounter_YOLOv8\\highway.mp4: 384x640 4 cars, 15.6ms\n",
            "video 1/1 (frame 1261/1824) d:\\HighwayCounter_YOLOv8\\highway.mp4: 384x640 4 cars, 31.2ms\n",
            "video 1/1 (frame 1262/1824) d:\\HighwayCounter_YOLOv8\\highway.mp4: 384x640 5 cars, 31.2ms\n",
            "video 1/1 (frame 1263/1824) d:\\HighwayCounter_YOLOv8\\highway.mp4: 384x640 4 cars, 15.6ms\n",
            "video 1/1 (frame 1264/1824) d:\\HighwayCounter_YOLOv8\\highway.mp4: 384x640 4 cars, 11.2ms\n",
            "video 1/1 (frame 1265/1824) d:\\HighwayCounter_YOLOv8\\highway.mp4: 384x640 4 cars, 26.8ms\n",
            "video 1/1 (frame 1266/1824) d:\\HighwayCounter_YOLOv8\\highway.mp4: 384x640 4 cars, 31.3ms\n",
            "video 1/1 (frame 1267/1824) d:\\HighwayCounter_YOLOv8\\highway.mp4: 384x640 4 cars, 15.6ms\n",
            "video 1/1 (frame 1268/1824) d:\\HighwayCounter_YOLOv8\\highway.mp4: 384x640 4 cars, 15.6ms\n",
            "video 1/1 (frame 1269/1824) d:\\HighwayCounter_YOLOv8\\highway.mp4: 384x640 4 cars, 15.6ms\n",
            "video 1/1 (frame 1270/1824) d:\\HighwayCounter_YOLOv8\\highway.mp4: 384x640 4 cars, 15.6ms\n",
            "video 1/1 (frame 1271/1824) d:\\HighwayCounter_YOLOv8\\highway.mp4: 384x640 4 cars, 31.2ms\n",
            "video 1/1 (frame 1272/1824) d:\\HighwayCounter_YOLOv8\\highway.mp4: 384x640 4 cars, 34.8ms\n",
            "video 1/1 (frame 1273/1824) d:\\HighwayCounter_YOLOv8\\highway.mp4: 384x640 3 cars, 31.2ms\n",
            "video 1/1 (frame 1274/1824) d:\\HighwayCounter_YOLOv8\\highway.mp4: 384x640 3 cars, 19.5ms\n",
            "video 1/1 (frame 1275/1824) d:\\HighwayCounter_YOLOv8\\highway.mp4: 384x640 3 cars, 33.9ms\n",
            "video 1/1 (frame 1276/1824) d:\\HighwayCounter_YOLOv8\\highway.mp4: 384x640 3 cars, 24.8ms\n",
            "video 1/1 (frame 1277/1824) d:\\HighwayCounter_YOLOv8\\highway.mp4: 384x640 3 cars, 15.6ms\n",
            "video 1/1 (frame 1278/1824) d:\\HighwayCounter_YOLOv8\\highway.mp4: 384x640 4 cars, 14.2ms\n",
            "video 1/1 (frame 1279/1824) d:\\HighwayCounter_YOLOv8\\highway.mp4: 384x640 4 cars, 20.0ms\n",
            "video 1/1 (frame 1280/1824) d:\\HighwayCounter_YOLOv8\\highway.mp4: 384x640 4 cars, 19.6ms\n",
            "video 1/1 (frame 1281/1824) d:\\HighwayCounter_YOLOv8\\highway.mp4: 384x640 4 cars, 15.6ms\n",
            "video 1/1 (frame 1282/1824) d:\\HighwayCounter_YOLOv8\\highway.mp4: 384x640 4 cars, 22.4ms\n",
            "video 1/1 (frame 1283/1824) d:\\HighwayCounter_YOLOv8\\highway.mp4: 384x640 4 cars, 15.6ms\n",
            "video 1/1 (frame 1284/1824) d:\\HighwayCounter_YOLOv8\\highway.mp4: 384x640 4 cars, 20.9ms\n",
            "video 1/1 (frame 1285/1824) d:\\HighwayCounter_YOLOv8\\highway.mp4: 384x640 4 cars, 20.9ms\n",
            "video 1/1 (frame 1286/1824) d:\\HighwayCounter_YOLOv8\\highway.mp4: 384x640 4 cars, 31.2ms\n",
            "video 1/1 (frame 1287/1824) d:\\HighwayCounter_YOLOv8\\highway.mp4: 384x640 4 cars, 10.5ms\n",
            "video 1/1 (frame 1288/1824) d:\\HighwayCounter_YOLOv8\\highway.mp4: 384x640 4 cars, 21.3ms\n",
            "video 1/1 (frame 1289/1824) d:\\HighwayCounter_YOLOv8\\highway.mp4: 384x640 4 cars, 15.6ms\n",
            "video 1/1 (frame 1290/1824) d:\\HighwayCounter_YOLOv8\\highway.mp4: 384x640 4 cars, 15.6ms\n",
            "video 1/1 (frame 1291/1824) d:\\HighwayCounter_YOLOv8\\highway.mp4: 384x640 4 cars, 31.2ms\n",
            "video 1/1 (frame 1292/1824) d:\\HighwayCounter_YOLOv8\\highway.mp4: 384x640 4 cars, 15.6ms\n",
            "video 1/1 (frame 1293/1824) d:\\HighwayCounter_YOLOv8\\highway.mp4: 384x640 4 cars, 31.2ms\n",
            "video 1/1 (frame 1294/1824) d:\\HighwayCounter_YOLOv8\\highway.mp4: 384x640 4 cars, 15.6ms\n",
            "video 1/1 (frame 1295/1824) d:\\HighwayCounter_YOLOv8\\highway.mp4: 384x640 4 cars, 31.2ms\n",
            "video 1/1 (frame 1296/1824) d:\\HighwayCounter_YOLOv8\\highway.mp4: 384x640 4 cars, 15.6ms\n",
            "video 1/1 (frame 1297/1824) d:\\HighwayCounter_YOLOv8\\highway.mp4: 384x640 4 cars, 31.2ms\n",
            "video 1/1 (frame 1298/1824) d:\\HighwayCounter_YOLOv8\\highway.mp4: 384x640 4 cars, 31.3ms\n",
            "video 1/1 (frame 1299/1824) d:\\HighwayCounter_YOLOv8\\highway.mp4: 384x640 4 cars, 15.6ms\n",
            "video 1/1 (frame 1300/1824) d:\\HighwayCounter_YOLOv8\\highway.mp4: 384x640 4 cars, 18.0ms\n",
            "video 1/1 (frame 1301/1824) d:\\HighwayCounter_YOLOv8\\highway.mp4: 384x640 3 cars, 30.1ms\n",
            "video 1/1 (frame 1302/1824) d:\\HighwayCounter_YOLOv8\\highway.mp4: 384x640 3 cars, 25.2ms\n",
            "video 1/1 (frame 1303/1824) d:\\HighwayCounter_YOLOv8\\highway.mp4: 384x640 3 cars, 26.3ms\n",
            "video 1/1 (frame 1304/1824) d:\\HighwayCounter_YOLOv8\\highway.mp4: 384x640 3 cars, 11.8ms\n",
            "video 1/1 (frame 1305/1824) d:\\HighwayCounter_YOLOv8\\highway.mp4: 384x640 3 cars, 21.0ms\n",
            "video 1/1 (frame 1306/1824) d:\\HighwayCounter_YOLOv8\\highway.mp4: 384x640 3 cars, 15.6ms\n",
            "video 1/1 (frame 1307/1824) d:\\HighwayCounter_YOLOv8\\highway.mp4: 384x640 3 cars, 15.6ms\n",
            "video 1/1 (frame 1308/1824) d:\\HighwayCounter_YOLOv8\\highway.mp4: 384x640 3 cars, 9.3ms\n",
            "video 1/1 (frame 1309/1824) d:\\HighwayCounter_YOLOv8\\highway.mp4: 384x640 3 cars, 27.6ms\n",
            "video 1/1 (frame 1310/1824) d:\\HighwayCounter_YOLOv8\\highway.mp4: 384x640 3 cars, 18.2ms\n",
            "video 1/1 (frame 1311/1824) d:\\HighwayCounter_YOLOv8\\highway.mp4: 384x640 3 cars, 26.6ms\n",
            "video 1/1 (frame 1312/1824) d:\\HighwayCounter_YOLOv8\\highway.mp4: 384x640 3 cars, 33.5ms\n",
            "video 1/1 (frame 1313/1824) d:\\HighwayCounter_YOLOv8\\highway.mp4: 384x640 3 cars, 30.8ms\n",
            "video 1/1 (frame 1314/1824) d:\\HighwayCounter_YOLOv8\\highway.mp4: 384x640 3 cars, 23.8ms\n",
            "video 1/1 (frame 1315/1824) d:\\HighwayCounter_YOLOv8\\highway.mp4: 384x640 3 cars, 21.5ms\n",
            "video 1/1 (frame 1316/1824) d:\\HighwayCounter_YOLOv8\\highway.mp4: 384x640 3 cars, 23.0ms\n",
            "video 1/1 (frame 1317/1824) d:\\HighwayCounter_YOLOv8\\highway.mp4: 384x640 3 cars, 15.4ms\n",
            "video 1/1 (frame 1318/1824) d:\\HighwayCounter_YOLOv8\\highway.mp4: 384x640 3 cars, 20.0ms\n",
            "video 1/1 (frame 1319/1824) d:\\HighwayCounter_YOLOv8\\highway.mp4: 384x640 3 cars, 19.3ms\n",
            "video 1/1 (frame 1320/1824) d:\\HighwayCounter_YOLOv8\\highway.mp4: 384x640 3 cars, 24.7ms\n",
            "video 1/1 (frame 1321/1824) d:\\HighwayCounter_YOLOv8\\highway.mp4: 384x640 3 cars, 22.4ms\n",
            "video 1/1 (frame 1322/1824) d:\\HighwayCounter_YOLOv8\\highway.mp4: 384x640 3 cars, 15.6ms\n",
            "video 1/1 (frame 1323/1824) d:\\HighwayCounter_YOLOv8\\highway.mp4: 384x640 3 cars, 19.4ms\n",
            "video 1/1 (frame 1324/1824) d:\\HighwayCounter_YOLOv8\\highway.mp4: 384x640 3 cars, 13.6ms\n",
            "video 1/1 (frame 1325/1824) d:\\HighwayCounter_YOLOv8\\highway.mp4: 384x640 3 cars, 32.7ms\n",
            "video 1/1 (frame 1326/1824) d:\\HighwayCounter_YOLOv8\\highway.mp4: 384x640 3 cars, 46.9ms\n",
            "video 1/1 (frame 1327/1824) d:\\HighwayCounter_YOLOv8\\highway.mp4: 384x640 3 cars, 15.6ms\n",
            "video 1/1 (frame 1328/1824) d:\\HighwayCounter_YOLOv8\\highway.mp4: 384x640 3 cars, 15.6ms\n",
            "video 1/1 (frame 1329/1824) d:\\HighwayCounter_YOLOv8\\highway.mp4: 384x640 3 cars, 15.6ms\n",
            "video 1/1 (frame 1330/1824) d:\\HighwayCounter_YOLOv8\\highway.mp4: 384x640 3 cars, 31.2ms\n",
            "video 1/1 (frame 1331/1824) d:\\HighwayCounter_YOLOv8\\highway.mp4: 384x640 3 cars, 31.2ms\n",
            "video 1/1 (frame 1332/1824) d:\\HighwayCounter_YOLOv8\\highway.mp4: 384x640 3 cars, 41.9ms\n",
            "video 1/1 (frame 1333/1824) d:\\HighwayCounter_YOLOv8\\highway.mp4: 384x640 3 cars, 20.8ms\n",
            "video 1/1 (frame 1334/1824) d:\\HighwayCounter_YOLOv8\\highway.mp4: 384x640 3 cars, 17.6ms\n",
            "video 1/1 (frame 1335/1824) d:\\HighwayCounter_YOLOv8\\highway.mp4: 384x640 3 cars, 15.8ms\n",
            "video 1/1 (frame 1336/1824) d:\\HighwayCounter_YOLOv8\\highway.mp4: 384x640 3 cars, 15.6ms\n",
            "video 1/1 (frame 1337/1824) d:\\HighwayCounter_YOLOv8\\highway.mp4: 384x640 3 cars, 21.8ms\n",
            "video 1/1 (frame 1338/1824) d:\\HighwayCounter_YOLOv8\\highway.mp4: 384x640 3 cars, 15.6ms\n",
            "video 1/1 (frame 1339/1824) d:\\HighwayCounter_YOLOv8\\highway.mp4: 384x640 3 cars, 15.6ms\n",
            "video 1/1 (frame 1340/1824) d:\\HighwayCounter_YOLOv8\\highway.mp4: 384x640 3 cars, 19.2ms\n",
            "video 1/1 (frame 1341/1824) d:\\HighwayCounter_YOLOv8\\highway.mp4: 384x640 3 cars, 23.9ms\n",
            "video 1/1 (frame 1342/1824) d:\\HighwayCounter_YOLOv8\\highway.mp4: 384x640 3 cars, 15.6ms\n",
            "video 1/1 (frame 1343/1824) d:\\HighwayCounter_YOLOv8\\highway.mp4: 384x640 3 cars, 17.8ms\n",
            "video 1/1 (frame 1344/1824) d:\\HighwayCounter_YOLOv8\\highway.mp4: 384x640 3 cars, 14.0ms\n",
            "video 1/1 (frame 1345/1824) d:\\HighwayCounter_YOLOv8\\highway.mp4: 384x640 3 cars, 31.2ms\n",
            "video 1/1 (frame 1346/1824) d:\\HighwayCounter_YOLOv8\\highway.mp4: 384x640 3 cars, 37.5ms\n",
            "video 1/1 (frame 1347/1824) d:\\HighwayCounter_YOLOv8\\highway.mp4: 384x640 3 cars, 19.2ms\n",
            "video 1/1 (frame 1348/1824) d:\\HighwayCounter_YOLOv8\\highway.mp4: 384x640 4 cars, 21.0ms\n",
            "video 1/1 (frame 1349/1824) d:\\HighwayCounter_YOLOv8\\highway.mp4: 384x640 4 cars, 22.2ms\n",
            "video 1/1 (frame 1350/1824) d:\\HighwayCounter_YOLOv8\\highway.mp4: 384x640 3 cars, 1 truck, 23.5ms\n",
            "video 1/1 (frame 1351/1824) d:\\HighwayCounter_YOLOv8\\highway.mp4: 384x640 3 cars, 1 truck, 20.8ms\n",
            "video 1/1 (frame 1352/1824) d:\\HighwayCounter_YOLOv8\\highway.mp4: 384x640 3 cars, 1 truck, 15.6ms\n",
            "video 1/1 (frame 1353/1824) d:\\HighwayCounter_YOLOv8\\highway.mp4: 384x640 3 cars, 1 truck, 15.6ms\n",
            "video 1/1 (frame 1354/1824) d:\\HighwayCounter_YOLOv8\\highway.mp4: 384x640 3 cars, 2 trucks, 20.9ms\n",
            "video 1/1 (frame 1355/1824) d:\\HighwayCounter_YOLOv8\\highway.mp4: 384x640 3 cars, 1 truck, 31.2ms\n",
            "video 1/1 (frame 1356/1824) d:\\HighwayCounter_YOLOv8\\highway.mp4: 384x640 3 cars, 1 truck, 15.6ms\n",
            "video 1/1 (frame 1357/1824) d:\\HighwayCounter_YOLOv8\\highway.mp4: 384x640 3 cars, 1 truck, 15.6ms\n",
            "video 1/1 (frame 1358/1824) d:\\HighwayCounter_YOLOv8\\highway.mp4: 384x640 3 cars, 1 truck, 18.9ms\n",
            "video 1/1 (frame 1359/1824) d:\\HighwayCounter_YOLOv8\\highway.mp4: 384x640 3 cars, 1 truck, 31.3ms\n",
            "video 1/1 (frame 1360/1824) d:\\HighwayCounter_YOLOv8\\highway.mp4: 384x640 3 cars, 1 truck, 31.3ms\n",
            "video 1/1 (frame 1361/1824) d:\\HighwayCounter_YOLOv8\\highway.mp4: 384x640 3 cars, 1 truck, 33.3ms\n",
            "video 1/1 (frame 1362/1824) d:\\HighwayCounter_YOLOv8\\highway.mp4: 384x640 3 cars, 1 truck, 15.6ms\n",
            "video 1/1 (frame 1363/1824) d:\\HighwayCounter_YOLOv8\\highway.mp4: 384x640 3 cars, 1 truck, 31.2ms\n",
            "video 1/1 (frame 1364/1824) d:\\HighwayCounter_YOLOv8\\highway.mp4: 384x640 2 cars, 1 truck, 31.2ms\n",
            "video 1/1 (frame 1365/1824) d:\\HighwayCounter_YOLOv8\\highway.mp4: 384x640 2 cars, 1 truck, 18.3ms\n",
            "video 1/1 (frame 1366/1824) d:\\HighwayCounter_YOLOv8\\highway.mp4: 384x640 2 cars, 1 truck, 13.6ms\n",
            "video 1/1 (frame 1367/1824) d:\\HighwayCounter_YOLOv8\\highway.mp4: 384x640 2 cars, 1 truck, 33.4ms\n",
            "video 1/1 (frame 1368/1824) d:\\HighwayCounter_YOLOv8\\highway.mp4: 384x640 2 cars, 1 truck, 23.0ms\n",
            "video 1/1 (frame 1369/1824) d:\\HighwayCounter_YOLOv8\\highway.mp4: 384x640 2 cars, 1 truck, 16.7ms\n",
            "video 1/1 (frame 1370/1824) d:\\HighwayCounter_YOLOv8\\highway.mp4: 384x640 2 cars, 1 truck, 24.2ms\n",
            "video 1/1 (frame 1371/1824) d:\\HighwayCounter_YOLOv8\\highway.mp4: 384x640 2 cars, 1 truck, 22.6ms\n",
            "video 1/1 (frame 1372/1824) d:\\HighwayCounter_YOLOv8\\highway.mp4: 384x640 2 cars, 1 truck, 22.0ms\n",
            "video 1/1 (frame 1373/1824) d:\\HighwayCounter_YOLOv8\\highway.mp4: 384x640 2 cars, 1 truck, 20.1ms\n",
            "video 1/1 (frame 1374/1824) d:\\HighwayCounter_YOLOv8\\highway.mp4: 384x640 3 cars, 1 truck, 23.8ms\n",
            "video 1/1 (frame 1375/1824) d:\\HighwayCounter_YOLOv8\\highway.mp4: 384x640 3 cars, 1 truck, 16.5ms\n",
            "video 1/1 (frame 1376/1824) d:\\HighwayCounter_YOLOv8\\highway.mp4: 384x640 3 cars, 1 truck, 27.3ms\n",
            "video 1/1 (frame 1377/1824) d:\\HighwayCounter_YOLOv8\\highway.mp4: 384x640 3 cars, 1 truck, 29.9ms\n",
            "video 1/1 (frame 1378/1824) d:\\HighwayCounter_YOLOv8\\highway.mp4: 384x640 3 cars, 1 truck, 33.0ms\n",
            "video 1/1 (frame 1379/1824) d:\\HighwayCounter_YOLOv8\\highway.mp4: 384x640 3 cars, 1 truck, 20.5ms\n",
            "video 1/1 (frame 1380/1824) d:\\HighwayCounter_YOLOv8\\highway.mp4: 384x640 3 cars, 1 truck, 13.7ms\n",
            "video 1/1 (frame 1381/1824) d:\\HighwayCounter_YOLOv8\\highway.mp4: 384x640 3 cars, 1 truck, 29.2ms\n",
            "video 1/1 (frame 1382/1824) d:\\HighwayCounter_YOLOv8\\highway.mp4: 384x640 2 cars, 1 truck, 16.6ms\n",
            "video 1/1 (frame 1383/1824) d:\\HighwayCounter_YOLOv8\\highway.mp4: 384x640 2 cars, 1 truck, 25.1ms\n",
            "video 1/1 (frame 1384/1824) d:\\HighwayCounter_YOLOv8\\highway.mp4: 384x640 2 cars, 1 truck, 25.3ms\n",
            "video 1/1 (frame 1385/1824) d:\\HighwayCounter_YOLOv8\\highway.mp4: 384x640 2 cars, 1 truck, 29.2ms\n",
            "video 1/1 (frame 1386/1824) d:\\HighwayCounter_YOLOv8\\highway.mp4: 384x640 2 cars, 1 truck, 21.6ms\n",
            "video 1/1 (frame 1387/1824) d:\\HighwayCounter_YOLOv8\\highway.mp4: 384x640 2 cars, 1 truck, 24.4ms\n",
            "video 1/1 (frame 1388/1824) d:\\HighwayCounter_YOLOv8\\highway.mp4: 384x640 1 car, 1 truck, 20.4ms\n",
            "video 1/1 (frame 1389/1824) d:\\HighwayCounter_YOLOv8\\highway.mp4: 384x640 1 car, 1 truck, 16.5ms\n",
            "video 1/1 (frame 1390/1824) d:\\HighwayCounter_YOLOv8\\highway.mp4: 384x640 1 car, 1 truck, 26.8ms\n",
            "video 1/1 (frame 1391/1824) d:\\HighwayCounter_YOLOv8\\highway.mp4: 384x640 1 car, 1 truck, 24.3ms\n",
            "video 1/1 (frame 1392/1824) d:\\HighwayCounter_YOLOv8\\highway.mp4: 384x640 2 cars, 1 truck, 16.9ms\n",
            "video 1/1 (frame 1393/1824) d:\\HighwayCounter_YOLOv8\\highway.mp4: 384x640 2 cars, 1 truck, 31.3ms\n",
            "video 1/1 (frame 1394/1824) d:\\HighwayCounter_YOLOv8\\highway.mp4: 384x640 2 cars, 1 truck, 24.8ms\n",
            "video 1/1 (frame 1395/1824) d:\\HighwayCounter_YOLOv8\\highway.mp4: 384x640 2 cars, 1 truck, 17.8ms\n",
            "video 1/1 (frame 1396/1824) d:\\HighwayCounter_YOLOv8\\highway.mp4: 384x640 2 cars, 1 truck, 22.2ms\n",
            "video 1/1 (frame 1397/1824) d:\\HighwayCounter_YOLOv8\\highway.mp4: 384x640 2 cars, 1 truck, 21.3ms\n",
            "video 1/1 (frame 1398/1824) d:\\HighwayCounter_YOLOv8\\highway.mp4: 384x640 1 car, 1 truck, 11.5ms\n",
            "video 1/1 (frame 1399/1824) d:\\HighwayCounter_YOLOv8\\highway.mp4: 384x640 1 car, 1 truck, 16.5ms\n",
            "video 1/1 (frame 1400/1824) d:\\HighwayCounter_YOLOv8\\highway.mp4: 384x640 1 car, 1 truck, 23.3ms\n",
            "video 1/1 (frame 1401/1824) d:\\HighwayCounter_YOLOv8\\highway.mp4: 384x640 1 car, 1 truck, 26.3ms\n",
            "video 1/1 (frame 1402/1824) d:\\HighwayCounter_YOLOv8\\highway.mp4: 384x640 1 car, 1 truck, 31.3ms\n",
            "video 1/1 (frame 1403/1824) d:\\HighwayCounter_YOLOv8\\highway.mp4: 384x640 1 car, 1 truck, 34.5ms\n",
            "video 1/1 (frame 1404/1824) d:\\HighwayCounter_YOLOv8\\highway.mp4: 384x640 1 car, 1 truck, 31.7ms\n",
            "video 1/1 (frame 1405/1824) d:\\HighwayCounter_YOLOv8\\highway.mp4: 384x640 1 car, 1 truck, 15.6ms\n",
            "video 1/1 (frame 1406/1824) d:\\HighwayCounter_YOLOv8\\highway.mp4: 384x640 1 car, 1 truck, 22.1ms\n",
            "video 1/1 (frame 1407/1824) d:\\HighwayCounter_YOLOv8\\highway.mp4: 384x640 1 car, 1 truck, 22.9ms\n",
            "video 1/1 (frame 1408/1824) d:\\HighwayCounter_YOLOv8\\highway.mp4: 384x640 1 car, 1 truck, 22.1ms\n",
            "video 1/1 (frame 1409/1824) d:\\HighwayCounter_YOLOv8\\highway.mp4: 384x640 1 car, 1 truck, 33.0ms\n",
            "video 1/1 (frame 1410/1824) d:\\HighwayCounter_YOLOv8\\highway.mp4: 384x640 1 car, 1 truck, 33.1ms\n",
            "video 1/1 (frame 1411/1824) d:\\HighwayCounter_YOLOv8\\highway.mp4: 384x640 1 car, 1 truck, 21.2ms\n",
            "video 1/1 (frame 1412/1824) d:\\HighwayCounter_YOLOv8\\highway.mp4: 384x640 1 car, 1 truck, 17.1ms\n",
            "video 1/1 (frame 1413/1824) d:\\HighwayCounter_YOLOv8\\highway.mp4: 384x640 1 car, 1 truck, 11.3ms\n",
            "video 1/1 (frame 1414/1824) d:\\HighwayCounter_YOLOv8\\highway.mp4: 384x640 1 car, 1 truck, 8.4ms\n",
            "video 1/1 (frame 1415/1824) d:\\HighwayCounter_YOLOv8\\highway.mp4: 384x640 1 car, 1 truck, 17.9ms\n",
            "video 1/1 (frame 1416/1824) d:\\HighwayCounter_YOLOv8\\highway.mp4: 384x640 1 car, 1 truck, 32.8ms\n",
            "video 1/1 (frame 1417/1824) d:\\HighwayCounter_YOLOv8\\highway.mp4: 384x640 1 car, 2 trucks, 16.5ms\n",
            "video 1/1 (frame 1418/1824) d:\\HighwayCounter_YOLOv8\\highway.mp4: 384x640 1 car, 1 truck, 10.8ms\n",
            "video 1/1 (frame 1419/1824) d:\\HighwayCounter_YOLOv8\\highway.mp4: 384x640 1 car, 1 truck, 21.9ms\n",
            "video 1/1 (frame 1420/1824) d:\\HighwayCounter_YOLOv8\\highway.mp4: 384x640 1 car, 1 truck, 27.4ms\n",
            "video 1/1 (frame 1421/1824) d:\\HighwayCounter_YOLOv8\\highway.mp4: 384x640 1 car, 1 truck, 11.4ms\n",
            "video 1/1 (frame 1422/1824) d:\\HighwayCounter_YOLOv8\\highway.mp4: 384x640 1 car, 1 truck, 16.7ms\n",
            "video 1/1 (frame 1423/1824) d:\\HighwayCounter_YOLOv8\\highway.mp4: 384x640 1 car, 1 truck, 26.8ms\n",
            "video 1/1 (frame 1424/1824) d:\\HighwayCounter_YOLOv8\\highway.mp4: 384x640 1 car, 2 trucks, 14.3ms\n",
            "video 1/1 (frame 1425/1824) d:\\HighwayCounter_YOLOv8\\highway.mp4: 384x640 2 trucks, 16.7ms\n",
            "video 1/1 (frame 1426/1824) d:\\HighwayCounter_YOLOv8\\highway.mp4: 384x640 2 trucks, 11.0ms\n",
            "video 1/1 (frame 1427/1824) d:\\HighwayCounter_YOLOv8\\highway.mp4: 384x640 1 truck, 16.6ms\n",
            "video 1/1 (frame 1428/1824) d:\\HighwayCounter_YOLOv8\\highway.mp4: 384x640 2 trucks, 31.1ms\n",
            "video 1/1 (frame 1429/1824) d:\\HighwayCounter_YOLOv8\\highway.mp4: 384x640 2 trucks, 32.4ms\n",
            "video 1/1 (frame 1430/1824) d:\\HighwayCounter_YOLOv8\\highway.mp4: 384x640 2 trucks, 20.7ms\n",
            "video 1/1 (frame 1431/1824) d:\\HighwayCounter_YOLOv8\\highway.mp4: 384x640 2 trucks, 16.3ms\n",
            "video 1/1 (frame 1432/1824) d:\\HighwayCounter_YOLOv8\\highway.mp4: 384x640 1 car, 2 trucks, 16.4ms\n",
            "video 1/1 (frame 1433/1824) d:\\HighwayCounter_YOLOv8\\highway.mp4: 384x640 2 trucks, 33.2ms\n",
            "video 1/1 (frame 1434/1824) d:\\HighwayCounter_YOLOv8\\highway.mp4: 384x640 2 trucks, 16.7ms\n",
            "video 1/1 (frame 1435/1824) d:\\HighwayCounter_YOLOv8\\highway.mp4: 384x640 1 car, 2 trucks, 33.3ms\n",
            "video 1/1 (frame 1436/1824) d:\\HighwayCounter_YOLOv8\\highway.mp4: 384x640 1 car, 2 trucks, 16.6ms\n",
            "video 1/1 (frame 1437/1824) d:\\HighwayCounter_YOLOv8\\highway.mp4: 384x640 2 trucks, 16.5ms\n",
            "video 1/1 (frame 1438/1824) d:\\HighwayCounter_YOLOv8\\highway.mp4: 384x640 2 trucks, 33.2ms\n",
            "video 1/1 (frame 1439/1824) d:\\HighwayCounter_YOLOv8\\highway.mp4: 384x640 2 trucks, 33.2ms\n",
            "video 1/1 (frame 1440/1824) d:\\HighwayCounter_YOLOv8\\highway.mp4: 384x640 2 trucks, 16.6ms\n",
            "video 1/1 (frame 1441/1824) d:\\HighwayCounter_YOLOv8\\highway.mp4: 384x640 1 car, 2 trucks, 16.5ms\n",
            "video 1/1 (frame 1442/1824) d:\\HighwayCounter_YOLOv8\\highway.mp4: 384x640 1 car, 2 trucks, 13.3ms\n",
            "video 1/1 (frame 1443/1824) d:\\HighwayCounter_YOLOv8\\highway.mp4: 384x640 1 car, 2 trucks, 19.8ms\n",
            "video 1/1 (frame 1444/1824) d:\\HighwayCounter_YOLOv8\\highway.mp4: 384x640 1 car, 2 trucks, 16.4ms\n",
            "video 1/1 (frame 1445/1824) d:\\HighwayCounter_YOLOv8\\highway.mp4: 384x640 2 trucks, 16.4ms\n",
            "video 1/1 (frame 1446/1824) d:\\HighwayCounter_YOLOv8\\highway.mp4: 384x640 1 car, 2 trucks, 31.1ms\n",
            "video 1/1 (frame 1447/1824) d:\\HighwayCounter_YOLOv8\\highway.mp4: 384x640 2 trucks, 24.4ms\n",
            "video 1/1 (frame 1448/1824) d:\\HighwayCounter_YOLOv8\\highway.mp4: 384x640 2 trucks, 30.8ms\n",
            "video 1/1 (frame 1449/1824) d:\\HighwayCounter_YOLOv8\\highway.mp4: 384x640 2 trucks, 29.6ms\n",
            "video 1/1 (frame 1450/1824) d:\\HighwayCounter_YOLOv8\\highway.mp4: 384x640 2 trucks, 15.0ms\n",
            "video 1/1 (frame 1451/1824) d:\\HighwayCounter_YOLOv8\\highway.mp4: 384x640 1 car, 2 trucks, 14.3ms\n",
            "video 1/1 (frame 1452/1824) d:\\HighwayCounter_YOLOv8\\highway.mp4: 384x640 2 trucks, 33.6ms\n",
            "video 1/1 (frame 1453/1824) d:\\HighwayCounter_YOLOv8\\highway.mp4: 384x640 2 trucks, 16.7ms\n",
            "video 1/1 (frame 1454/1824) d:\\HighwayCounter_YOLOv8\\highway.mp4: 384x640 2 trucks, 9.2ms\n",
            "video 1/1 (frame 1455/1824) d:\\HighwayCounter_YOLOv8\\highway.mp4: 384x640 2 trucks, 8.2ms\n",
            "video 1/1 (frame 1456/1824) d:\\HighwayCounter_YOLOv8\\highway.mp4: 384x640 2 trucks, 9.1ms\n",
            "video 1/1 (frame 1457/1824) d:\\HighwayCounter_YOLOv8\\highway.mp4: 384x640 2 trucks, 22.7ms\n",
            "video 1/1 (frame 1458/1824) d:\\HighwayCounter_YOLOv8\\highway.mp4: 384x640 2 trucks, 19.2ms\n",
            "video 1/1 (frame 1459/1824) d:\\HighwayCounter_YOLOv8\\highway.mp4: 384x640 2 trucks, 21.6ms\n",
            "video 1/1 (frame 1460/1824) d:\\HighwayCounter_YOLOv8\\highway.mp4: 384x640 2 trucks, 16.3ms\n",
            "video 1/1 (frame 1461/1824) d:\\HighwayCounter_YOLOv8\\highway.mp4: 384x640 2 trucks, 30.0ms\n",
            "video 1/1 (frame 1462/1824) d:\\HighwayCounter_YOLOv8\\highway.mp4: 384x640 2 trucks, 16.6ms\n",
            "video 1/1 (frame 1463/1824) d:\\HighwayCounter_YOLOv8\\highway.mp4: 384x640 2 trucks, 35.2ms\n",
            "video 1/1 (frame 1464/1824) d:\\HighwayCounter_YOLOv8\\highway.mp4: 384x640 2 trucks, 16.6ms\n",
            "video 1/1 (frame 1465/1824) d:\\HighwayCounter_YOLOv8\\highway.mp4: 384x640 2 trucks, 16.6ms\n",
            "video 1/1 (frame 1466/1824) d:\\HighwayCounter_YOLOv8\\highway.mp4: 384x640 2 trucks, 27.4ms\n",
            "video 1/1 (frame 1467/1824) d:\\HighwayCounter_YOLOv8\\highway.mp4: 384x640 2 trucks, 23.1ms\n",
            "video 1/1 (frame 1468/1824) d:\\HighwayCounter_YOLOv8\\highway.mp4: 384x640 2 trucks, 18.3ms\n",
            "video 1/1 (frame 1469/1824) d:\\HighwayCounter_YOLOv8\\highway.mp4: 384x640 2 trucks, 21.4ms\n",
            "video 1/1 (frame 1470/1824) d:\\HighwayCounter_YOLOv8\\highway.mp4: 384x640 2 trucks, 13.5ms\n",
            "video 1/1 (frame 1471/1824) d:\\HighwayCounter_YOLOv8\\highway.mp4: 384x640 2 trucks, 21.5ms\n",
            "video 1/1 (frame 1472/1824) d:\\HighwayCounter_YOLOv8\\highway.mp4: 384x640 2 trucks, 21.5ms\n",
            "video 1/1 (frame 1473/1824) d:\\HighwayCounter_YOLOv8\\highway.mp4: 384x640 2 trucks, 41.4ms\n",
            "video 1/1 (frame 1474/1824) d:\\HighwayCounter_YOLOv8\\highway.mp4: 384x640 2 trucks, 16.4ms\n",
            "video 1/1 (frame 1475/1824) d:\\HighwayCounter_YOLOv8\\highway.mp4: 384x640 2 trucks, 28.9ms\n",
            "video 1/1 (frame 1476/1824) d:\\HighwayCounter_YOLOv8\\highway.mp4: 384x640 2 trucks, 35.1ms\n",
            "video 1/1 (frame 1477/1824) d:\\HighwayCounter_YOLOv8\\highway.mp4: 384x640 2 trucks, 25.9ms\n",
            "video 1/1 (frame 1478/1824) d:\\HighwayCounter_YOLOv8\\highway.mp4: 384x640 2 trucks, 18.8ms\n",
            "video 1/1 (frame 1479/1824) d:\\HighwayCounter_YOLOv8\\highway.mp4: 384x640 2 trucks, 20.6ms\n",
            "video 1/1 (frame 1480/1824) d:\\HighwayCounter_YOLOv8\\highway.mp4: 384x640 2 trucks, 32.7ms\n",
            "video 1/1 (frame 1481/1824) d:\\HighwayCounter_YOLOv8\\highway.mp4: 384x640 2 trucks, 18.5ms\n",
            "video 1/1 (frame 1482/1824) d:\\HighwayCounter_YOLOv8\\highway.mp4: 384x640 2 trucks, 14.4ms\n",
            "video 1/1 (frame 1483/1824) d:\\HighwayCounter_YOLOv8\\highway.mp4: 384x640 2 trucks, 31.4ms\n",
            "video 1/1 (frame 1484/1824) d:\\HighwayCounter_YOLOv8\\highway.mp4: 384x640 2 trucks, 32.0ms\n",
            "video 1/1 (frame 1485/1824) d:\\HighwayCounter_YOLOv8\\highway.mp4: 384x640 2 trucks, 56.0ms\n",
            "video 1/1 (frame 1486/1824) d:\\HighwayCounter_YOLOv8\\highway.mp4: 384x640 2 trucks, 16.8ms\n",
            "video 1/1 (frame 1487/1824) d:\\HighwayCounter_YOLOv8\\highway.mp4: 384x640 2 trucks, 16.6ms\n",
            "video 1/1 (frame 1488/1824) d:\\HighwayCounter_YOLOv8\\highway.mp4: 384x640 2 trucks, 10.2ms\n",
            "video 1/1 (frame 1489/1824) d:\\HighwayCounter_YOLOv8\\highway.mp4: 384x640 2 trucks, 22.1ms\n",
            "video 1/1 (frame 1490/1824) d:\\HighwayCounter_YOLOv8\\highway.mp4: 384x640 2 trucks, 10.3ms\n",
            "video 1/1 (frame 1491/1824) d:\\HighwayCounter_YOLOv8\\highway.mp4: 384x640 1 car, 2 trucks, 27.4ms\n",
            "video 1/1 (frame 1492/1824) d:\\HighwayCounter_YOLOv8\\highway.mp4: 384x640 1 car, 2 trucks, 16.6ms\n",
            "video 1/1 (frame 1493/1824) d:\\HighwayCounter_YOLOv8\\highway.mp4: 384x640 1 car, 2 trucks, 17.8ms\n",
            "video 1/1 (frame 1494/1824) d:\\HighwayCounter_YOLOv8\\highway.mp4: 384x640 1 car, 2 trucks, 17.8ms\n",
            "video 1/1 (frame 1495/1824) d:\\HighwayCounter_YOLOv8\\highway.mp4: 384x640 1 car, 2 trucks, 33.2ms\n",
            "video 1/1 (frame 1496/1824) d:\\HighwayCounter_YOLOv8\\highway.mp4: 384x640 1 car, 2 trucks, 18.8ms\n",
            "video 1/1 (frame 1497/1824) d:\\HighwayCounter_YOLOv8\\highway.mp4: 384x640 1 car, 2 trucks, 14.2ms\n",
            "video 1/1 (frame 1498/1824) d:\\HighwayCounter_YOLOv8\\highway.mp4: 384x640 1 car, 2 trucks, 16.1ms\n",
            "video 1/1 (frame 1499/1824) d:\\HighwayCounter_YOLOv8\\highway.mp4: 384x640 1 car, 2 trucks, 16.8ms\n",
            "video 1/1 (frame 1500/1824) d:\\HighwayCounter_YOLOv8\\highway.mp4: 384x640 1 car, 2 trucks, 37.0ms\n",
            "video 1/1 (frame 1501/1824) d:\\HighwayCounter_YOLOv8\\highway.mp4: 384x640 1 car, 2 trucks, 16.5ms\n",
            "video 1/1 (frame 1502/1824) d:\\HighwayCounter_YOLOv8\\highway.mp4: 384x640 1 car, 2 trucks, 23.0ms\n",
            "video 1/1 (frame 1503/1824) d:\\HighwayCounter_YOLOv8\\highway.mp4: 384x640 1 car, 2 trucks, 33.1ms\n",
            "video 1/1 (frame 1504/1824) d:\\HighwayCounter_YOLOv8\\highway.mp4: 384x640 1 car, 2 trucks, 11.1ms\n",
            "video 1/1 (frame 1505/1824) d:\\HighwayCounter_YOLOv8\\highway.mp4: 384x640 1 car, 2 trucks, 19.8ms\n",
            "video 1/1 (frame 1506/1824) d:\\HighwayCounter_YOLOv8\\highway.mp4: 384x640 1 car, 2 trucks, 14.7ms\n",
            "video 1/1 (frame 1507/1824) d:\\HighwayCounter_YOLOv8\\highway.mp4: 384x640 1 car, 2 trucks, 32.8ms\n",
            "video 1/1 (frame 1508/1824) d:\\HighwayCounter_YOLOv8\\highway.mp4: 384x640 1 car, 2 trucks, 31.9ms\n",
            "video 1/1 (frame 1509/1824) d:\\HighwayCounter_YOLOv8\\highway.mp4: 384x640 1 car, 2 trucks, 16.6ms\n",
            "video 1/1 (frame 1510/1824) d:\\HighwayCounter_YOLOv8\\highway.mp4: 384x640 1 car, 2 trucks, 33.4ms\n",
            "video 1/1 (frame 1511/1824) d:\\HighwayCounter_YOLOv8\\highway.mp4: 384x640 1 car, 2 trucks, 33.7ms\n",
            "video 1/1 (frame 1512/1824) d:\\HighwayCounter_YOLOv8\\highway.mp4: 384x640 1 car, 2 trucks, 31.2ms\n",
            "video 1/1 (frame 1513/1824) d:\\HighwayCounter_YOLOv8\\highway.mp4: 384x640 1 car, 2 trucks, 33.7ms\n",
            "video 1/1 (frame 1514/1824) d:\\HighwayCounter_YOLOv8\\highway.mp4: 384x640 1 car, 2 trucks, 28.9ms\n",
            "video 1/1 (frame 1515/1824) d:\\HighwayCounter_YOLOv8\\highway.mp4: 384x640 2 cars, 2 trucks, 35.9ms\n",
            "video 1/1 (frame 1516/1824) d:\\HighwayCounter_YOLOv8\\highway.mp4: 384x640 1 car, 2 trucks, 15.7ms\n",
            "video 1/1 (frame 1517/1824) d:\\HighwayCounter_YOLOv8\\highway.mp4: 384x640 1 car, 3 trucks, 16.7ms\n",
            "video 1/1 (frame 1518/1824) d:\\HighwayCounter_YOLOv8\\highway.mp4: 384x640 1 car, 3 trucks, 18.9ms\n",
            "video 1/1 (frame 1519/1824) d:\\HighwayCounter_YOLOv8\\highway.mp4: 384x640 1 car, 3 trucks, 68.5ms\n",
            "video 1/1 (frame 1520/1824) d:\\HighwayCounter_YOLOv8\\highway.mp4: 384x640 1 car, 3 trucks, 15.3ms\n",
            "video 1/1 (frame 1521/1824) d:\\HighwayCounter_YOLOv8\\highway.mp4: 384x640 1 car, 3 trucks, 33.0ms\n",
            "video 1/1 (frame 1522/1824) d:\\HighwayCounter_YOLOv8\\highway.mp4: 384x640 1 car, 3 trucks, 27.3ms\n",
            "video 1/1 (frame 1523/1824) d:\\HighwayCounter_YOLOv8\\highway.mp4: 384x640 1 car, 2 trucks, 16.3ms\n",
            "video 1/1 (frame 1524/1824) d:\\HighwayCounter_YOLOv8\\highway.mp4: 384x640 2 cars, 2 trucks, 24.9ms\n",
            "video 1/1 (frame 1525/1824) d:\\HighwayCounter_YOLOv8\\highway.mp4: 384x640 1 car, 2 trucks, 11.5ms\n",
            "video 1/1 (frame 1526/1824) d:\\HighwayCounter_YOLOv8\\highway.mp4: 384x640 1 car, 2 trucks, 33.2ms\n",
            "video 1/1 (frame 1527/1824) d:\\HighwayCounter_YOLOv8\\highway.mp4: 384x640 1 car, 2 trucks, 14.6ms\n",
            "video 1/1 (frame 1528/1824) d:\\HighwayCounter_YOLOv8\\highway.mp4: 384x640 1 car, 2 trucks, 16.8ms\n",
            "video 1/1 (frame 1529/1824) d:\\HighwayCounter_YOLOv8\\highway.mp4: 384x640 2 cars, 2 trucks, 21.7ms\n",
            "video 1/1 (frame 1530/1824) d:\\HighwayCounter_YOLOv8\\highway.mp4: 384x640 2 cars, 2 trucks, 33.2ms\n",
            "video 1/1 (frame 1531/1824) d:\\HighwayCounter_YOLOv8\\highway.mp4: 384x640 1 car, 3 trucks, 16.7ms\n",
            "video 1/1 (frame 1532/1824) d:\\HighwayCounter_YOLOv8\\highway.mp4: 384x640 1 car, 3 trucks, 12.6ms\n",
            "video 1/1 (frame 1533/1824) d:\\HighwayCounter_YOLOv8\\highway.mp4: 384x640 1 car, 3 trucks, 16.6ms\n",
            "video 1/1 (frame 1534/1824) d:\\HighwayCounter_YOLOv8\\highway.mp4: 384x640 1 car, 3 trucks, 28.8ms\n",
            "video 1/1 (frame 1535/1824) d:\\HighwayCounter_YOLOv8\\highway.mp4: 384x640 1 car, 3 trucks, 23.9ms\n",
            "video 1/1 (frame 1536/1824) d:\\HighwayCounter_YOLOv8\\highway.mp4: 384x640 1 car, 3 trucks, 17.2ms\n",
            "video 1/1 (frame 1537/1824) d:\\HighwayCounter_YOLOv8\\highway.mp4: 384x640 2 cars, 3 trucks, 22.6ms\n",
            "video 1/1 (frame 1538/1824) d:\\HighwayCounter_YOLOv8\\highway.mp4: 384x640 2 cars, 3 trucks, 20.7ms\n",
            "video 1/1 (frame 1539/1824) d:\\HighwayCounter_YOLOv8\\highway.mp4: 384x640 2 cars, 3 trucks, 18.0ms\n",
            "video 1/1 (frame 1540/1824) d:\\HighwayCounter_YOLOv8\\highway.mp4: 384x640 2 cars, 3 trucks, 16.4ms\n",
            "video 1/1 (frame 1541/1824) d:\\HighwayCounter_YOLOv8\\highway.mp4: 384x640 2 cars, 3 trucks, 16.5ms\n",
            "video 1/1 (frame 1542/1824) d:\\HighwayCounter_YOLOv8\\highway.mp4: 384x640 2 cars, 3 trucks, 24.0ms\n",
            "video 1/1 (frame 1543/1824) d:\\HighwayCounter_YOLOv8\\highway.mp4: 384x640 2 cars, 2 trucks, 33.1ms\n",
            "video 1/1 (frame 1544/1824) d:\\HighwayCounter_YOLOv8\\highway.mp4: 384x640 2 cars, 2 trucks, 16.5ms\n",
            "video 1/1 (frame 1545/1824) d:\\HighwayCounter_YOLOv8\\highway.mp4: 384x640 2 cars, 2 trucks, 16.6ms\n",
            "video 1/1 (frame 1546/1824) d:\\HighwayCounter_YOLOv8\\highway.mp4: 384x640 2 cars, 2 trucks, 33.4ms\n",
            "video 1/1 (frame 1547/1824) d:\\HighwayCounter_YOLOv8\\highway.mp4: 384x640 2 cars, 3 trucks, 30.9ms\n",
            "video 1/1 (frame 1548/1824) d:\\HighwayCounter_YOLOv8\\highway.mp4: 384x640 2 cars, 3 trucks, 20.7ms\n",
            "video 1/1 (frame 1549/1824) d:\\HighwayCounter_YOLOv8\\highway.mp4: 384x640 2 cars, 2 trucks, 17.6ms\n",
            "video 1/1 (frame 1550/1824) d:\\HighwayCounter_YOLOv8\\highway.mp4: 384x640 2 cars, 2 trucks, 10.9ms\n",
            "video 1/1 (frame 1551/1824) d:\\HighwayCounter_YOLOv8\\highway.mp4: 384x640 2 cars, 2 trucks, 27.0ms\n",
            "video 1/1 (frame 1552/1824) d:\\HighwayCounter_YOLOv8\\highway.mp4: 384x640 2 cars, 2 trucks, 11.1ms\n",
            "video 1/1 (frame 1553/1824) d:\\HighwayCounter_YOLOv8\\highway.mp4: 384x640 2 cars, 3 trucks, 33.1ms\n",
            "video 1/1 (frame 1554/1824) d:\\HighwayCounter_YOLOv8\\highway.mp4: 384x640 2 cars, 3 trucks, 16.6ms\n",
            "video 1/1 (frame 1555/1824) d:\\HighwayCounter_YOLOv8\\highway.mp4: 384x640 2 cars, 3 trucks, 35.3ms\n",
            "video 1/1 (frame 1556/1824) d:\\HighwayCounter_YOLOv8\\highway.mp4: 384x640 2 cars, 2 trucks, 19.5ms\n",
            "video 1/1 (frame 1557/1824) d:\\HighwayCounter_YOLOv8\\highway.mp4: 384x640 2 cars, 2 trucks, 11.1ms\n",
            "video 1/1 (frame 1558/1824) d:\\HighwayCounter_YOLOv8\\highway.mp4: 384x640 2 cars, 3 trucks, 32.9ms\n",
            "video 1/1 (frame 1559/1824) d:\\HighwayCounter_YOLOv8\\highway.mp4: 384x640 2 cars, 2 trucks, 33.2ms\n",
            "video 1/1 (frame 1560/1824) d:\\HighwayCounter_YOLOv8\\highway.mp4: 384x640 2 cars, 2 trucks, 21.7ms\n",
            "video 1/1 (frame 1561/1824) d:\\HighwayCounter_YOLOv8\\highway.mp4: 384x640 2 cars, 2 trucks, 17.3ms\n",
            "video 1/1 (frame 1562/1824) d:\\HighwayCounter_YOLOv8\\highway.mp4: 384x640 3 cars, 1 truck, 16.6ms\n",
            "video 1/1 (frame 1563/1824) d:\\HighwayCounter_YOLOv8\\highway.mp4: 384x640 3 cars, 1 truck, 36.9ms\n",
            "video 1/1 (frame 1564/1824) d:\\HighwayCounter_YOLOv8\\highway.mp4: 384x640 3 cars, 2 trucks, 33.2ms\n",
            "video 1/1 (frame 1565/1824) d:\\HighwayCounter_YOLOv8\\highway.mp4: 384x640 3 cars, 1 truck, 32.4ms\n",
            "video 1/1 (frame 1566/1824) d:\\HighwayCounter_YOLOv8\\highway.mp4: 384x640 3 cars, 1 truck, 25.7ms\n",
            "video 1/1 (frame 1567/1824) d:\\HighwayCounter_YOLOv8\\highway.mp4: 384x640 3 cars, 1 truck, 11.1ms\n",
            "video 1/1 (frame 1568/1824) d:\\HighwayCounter_YOLOv8\\highway.mp4: 384x640 3 cars, 1 truck, 16.5ms\n",
            "video 1/1 (frame 1569/1824) d:\\HighwayCounter_YOLOv8\\highway.mp4: 384x640 3 cars, 2 trucks, 16.7ms\n",
            "video 1/1 (frame 1570/1824) d:\\HighwayCounter_YOLOv8\\highway.mp4: 384x640 3 cars, 1 truck, 16.6ms\n",
            "video 1/1 (frame 1571/1824) d:\\HighwayCounter_YOLOv8\\highway.mp4: 384x640 3 cars, 1 truck, 16.6ms\n",
            "video 1/1 (frame 1572/1824) d:\\HighwayCounter_YOLOv8\\highway.mp4: 384x640 3 cars, 1 truck, 15.0ms\n",
            "video 1/1 (frame 1573/1824) d:\\HighwayCounter_YOLOv8\\highway.mp4: 384x640 3 cars, 1 truck, 34.5ms\n",
            "video 1/1 (frame 1574/1824) d:\\HighwayCounter_YOLOv8\\highway.mp4: 384x640 3 cars, 1 truck, 26.8ms\n",
            "video 1/1 (frame 1575/1824) d:\\HighwayCounter_YOLOv8\\highway.mp4: 384x640 3 cars, 2 trucks, 8.6ms\n",
            "video 1/1 (frame 1576/1824) d:\\HighwayCounter_YOLOv8\\highway.mp4: 384x640 3 cars, 1 truck, 29.8ms\n",
            "video 1/1 (frame 1577/1824) d:\\HighwayCounter_YOLOv8\\highway.mp4: 384x640 3 cars, 2 trucks, 8.2ms\n",
            "video 1/1 (frame 1578/1824) d:\\HighwayCounter_YOLOv8\\highway.mp4: 384x640 3 cars, 2 trucks, 33.0ms\n",
            "video 1/1 (frame 1579/1824) d:\\HighwayCounter_YOLOv8\\highway.mp4: 384x640 3 cars, 2 trucks, 33.6ms\n",
            "video 1/1 (frame 1580/1824) d:\\HighwayCounter_YOLOv8\\highway.mp4: 384x640 3 cars, 2 trucks, 25.3ms\n",
            "video 1/1 (frame 1581/1824) d:\\HighwayCounter_YOLOv8\\highway.mp4: 384x640 3 cars, 2 trucks, 23.6ms\n",
            "video 1/1 (frame 1582/1824) d:\\HighwayCounter_YOLOv8\\highway.mp4: 384x640 3 cars, 2 trucks, 30.9ms\n",
            "video 1/1 (frame 1583/1824) d:\\HighwayCounter_YOLOv8\\highway.mp4: 384x640 3 cars, 2 trucks, 16.6ms\n",
            "video 1/1 (frame 1584/1824) d:\\HighwayCounter_YOLOv8\\highway.mp4: 384x640 3 cars, 1 bus, 2 trucks, 28.3ms\n",
            "video 1/1 (frame 1585/1824) d:\\HighwayCounter_YOLOv8\\highway.mp4: 384x640 3 cars, 2 trucks, 15.9ms\n",
            "video 1/1 (frame 1586/1824) d:\\HighwayCounter_YOLOv8\\highway.mp4: 384x640 3 cars, 2 trucks, 26.7ms\n",
            "video 1/1 (frame 1587/1824) d:\\HighwayCounter_YOLOv8\\highway.mp4: 384x640 3 cars, 2 trucks, 14.6ms\n",
            "video 1/1 (frame 1588/1824) d:\\HighwayCounter_YOLOv8\\highway.mp4: 384x640 3 cars, 2 trucks, 16.6ms\n",
            "video 1/1 (frame 1589/1824) d:\\HighwayCounter_YOLOv8\\highway.mp4: 384x640 3 cars, 2 trucks, 16.5ms\n",
            "video 1/1 (frame 1590/1824) d:\\HighwayCounter_YOLOv8\\highway.mp4: 384x640 3 cars, 2 trucks, 17.4ms\n",
            "video 1/1 (frame 1591/1824) d:\\HighwayCounter_YOLOv8\\highway.mp4: 384x640 3 cars, 1 bus, 11.5ms\n",
            "video 1/1 (frame 1592/1824) d:\\HighwayCounter_YOLOv8\\highway.mp4: 384x640 3 cars, 2 trucks, 25.0ms\n",
            "video 1/1 (frame 1593/1824) d:\\HighwayCounter_YOLOv8\\highway.mp4: 384x640 3 cars, 1 truck, 16.1ms\n",
            "video 1/1 (frame 1594/1824) d:\\HighwayCounter_YOLOv8\\highway.mp4: 384x640 3 cars, 1 truck, 10.9ms\n",
            "video 1/1 (frame 1595/1824) d:\\HighwayCounter_YOLOv8\\highway.mp4: 384x640 3 cars, 1 truck, 24.4ms\n",
            "video 1/1 (frame 1596/1824) d:\\HighwayCounter_YOLOv8\\highway.mp4: 384x640 3 cars, 1 truck, 27.7ms\n",
            "video 1/1 (frame 1597/1824) d:\\HighwayCounter_YOLOv8\\highway.mp4: 384x640 3 cars, 1 truck, 16.6ms\n",
            "video 1/1 (frame 1598/1824) d:\\HighwayCounter_YOLOv8\\highway.mp4: 384x640 3 cars, 1 truck, 32.6ms\n",
            "video 1/1 (frame 1599/1824) d:\\HighwayCounter_YOLOv8\\highway.mp4: 384x640 3 cars, 1 truck, 24.2ms\n",
            "video 1/1 (frame 1600/1824) d:\\HighwayCounter_YOLOv8\\highway.mp4: 384x640 3 cars, 1 truck, 31.7ms\n",
            "video 1/1 (frame 1601/1824) d:\\HighwayCounter_YOLOv8\\highway.mp4: 384x640 3 cars, 1 truck, 34.2ms\n",
            "video 1/1 (frame 1602/1824) d:\\HighwayCounter_YOLOv8\\highway.mp4: 384x640 3 cars, 1 truck, 16.1ms\n",
            "video 1/1 (frame 1603/1824) d:\\HighwayCounter_YOLOv8\\highway.mp4: 384x640 3 cars, 1 truck, 15.6ms\n",
            "video 1/1 (frame 1604/1824) d:\\HighwayCounter_YOLOv8\\highway.mp4: 384x640 3 cars, 1 truck, 21.1ms\n",
            "video 1/1 (frame 1605/1824) d:\\HighwayCounter_YOLOv8\\highway.mp4: 384x640 3 cars, 1 truck, 25.8ms\n",
            "video 1/1 (frame 1606/1824) d:\\HighwayCounter_YOLOv8\\highway.mp4: 384x640 3 cars, 1 truck, 33.2ms\n",
            "video 1/1 (frame 1607/1824) d:\\HighwayCounter_YOLOv8\\highway.mp4: 384x640 3 cars, 1 truck, 10.4ms\n",
            "video 1/1 (frame 1608/1824) d:\\HighwayCounter_YOLOv8\\highway.mp4: 384x640 3 cars, 1 truck, 17.7ms\n",
            "video 1/1 (frame 1609/1824) d:\\HighwayCounter_YOLOv8\\highway.mp4: 384x640 3 cars, 1 truck, 33.1ms\n",
            "video 1/1 (frame 1610/1824) d:\\HighwayCounter_YOLOv8\\highway.mp4: 384x640 3 cars, 1 truck, 38.0ms\n",
            "video 1/1 (frame 1611/1824) d:\\HighwayCounter_YOLOv8\\highway.mp4: 384x640 3 cars, 1 truck, 37.0ms\n",
            "video 1/1 (frame 1612/1824) d:\\HighwayCounter_YOLOv8\\highway.mp4: 384x640 3 cars, 1 truck, 31.8ms\n",
            "video 1/1 (frame 1613/1824) d:\\HighwayCounter_YOLOv8\\highway.mp4: 384x640 3 cars, 1 truck, 10.5ms\n",
            "video 1/1 (frame 1614/1824) d:\\HighwayCounter_YOLOv8\\highway.mp4: 384x640 3 cars, 1 truck, 15.6ms\n",
            "video 1/1 (frame 1615/1824) d:\\HighwayCounter_YOLOv8\\highway.mp4: 384x640 3 cars, 1 truck, 16.6ms\n",
            "video 1/1 (frame 1616/1824) d:\\HighwayCounter_YOLOv8\\highway.mp4: 384x640 4 cars, 1 truck, 16.4ms\n",
            "video 1/1 (frame 1617/1824) d:\\HighwayCounter_YOLOv8\\highway.mp4: 384x640 4 cars, 1 truck, 16.6ms\n",
            "video 1/1 (frame 1618/1824) d:\\HighwayCounter_YOLOv8\\highway.mp4: 384x640 4 cars, 1 truck, 25.8ms\n",
            "video 1/1 (frame 1619/1824) d:\\HighwayCounter_YOLOv8\\highway.mp4: 384x640 4 cars, 1 truck, 33.1ms\n",
            "video 1/1 (frame 1620/1824) d:\\HighwayCounter_YOLOv8\\highway.mp4: 384x640 4 cars, 1 truck, 20.7ms\n",
            "video 1/1 (frame 1621/1824) d:\\HighwayCounter_YOLOv8\\highway.mp4: 384x640 4 cars, 1 truck, 23.4ms\n",
            "video 1/1 (frame 1622/1824) d:\\HighwayCounter_YOLOv8\\highway.mp4: 384x640 4 cars, 1 truck, 30.2ms\n",
            "video 1/1 (frame 1623/1824) d:\\HighwayCounter_YOLOv8\\highway.mp4: 384x640 4 cars, 1 truck, 16.0ms\n",
            "video 1/1 (frame 1624/1824) d:\\HighwayCounter_YOLOv8\\highway.mp4: 384x640 4 cars, 1 truck, 16.1ms\n",
            "video 1/1 (frame 1625/1824) d:\\HighwayCounter_YOLOv8\\highway.mp4: 384x640 4 cars, 1 truck, 12.9ms\n",
            "video 1/1 (frame 1626/1824) d:\\HighwayCounter_YOLOv8\\highway.mp4: 384x640 4 cars, 1 truck, 16.6ms\n",
            "video 1/1 (frame 1627/1824) d:\\HighwayCounter_YOLOv8\\highway.mp4: 384x640 4 cars, 1 truck, 15.9ms\n",
            "video 1/1 (frame 1628/1824) d:\\HighwayCounter_YOLOv8\\highway.mp4: 384x640 4 cars, 1 truck, 33.2ms\n",
            "video 1/1 (frame 1629/1824) d:\\HighwayCounter_YOLOv8\\highway.mp4: 384x640 4 cars, 1 truck, 22.9ms\n",
            "video 1/1 (frame 1630/1824) d:\\HighwayCounter_YOLOv8\\highway.mp4: 384x640 4 cars, 1 truck, 54.0ms\n",
            "video 1/1 (frame 1631/1824) d:\\HighwayCounter_YOLOv8\\highway.mp4: 384x640 4 cars, 1 truck, 31.2ms\n",
            "video 1/1 (frame 1632/1824) d:\\HighwayCounter_YOLOv8\\highway.mp4: 384x640 4 cars, 1 truck, 15.6ms\n",
            "video 1/1 (frame 1633/1824) d:\\HighwayCounter_YOLOv8\\highway.mp4: 384x640 4 cars, 1 truck, 15.6ms\n",
            "video 1/1 (frame 1634/1824) d:\\HighwayCounter_YOLOv8\\highway.mp4: 384x640 4 cars, 1 truck, 31.2ms\n",
            "video 1/1 (frame 1635/1824) d:\\HighwayCounter_YOLOv8\\highway.mp4: 384x640 4 cars, 1 truck, 15.6ms\n",
            "video 1/1 (frame 1636/1824) d:\\HighwayCounter_YOLOv8\\highway.mp4: 384x640 4 cars, 1 bus, 1 truck, 24.4ms\n",
            "video 1/1 (frame 1637/1824) d:\\HighwayCounter_YOLOv8\\highway.mp4: 384x640 4 cars, 1 truck, 15.6ms\n",
            "video 1/1 (frame 1638/1824) d:\\HighwayCounter_YOLOv8\\highway.mp4: 384x640 4 cars, 1 bus, 1 truck, 15.6ms\n",
            "video 1/1 (frame 1639/1824) d:\\HighwayCounter_YOLOv8\\highway.mp4: 384x640 4 cars, 1 bus, 23.6ms\n",
            "video 1/1 (frame 1640/1824) d:\\HighwayCounter_YOLOv8\\highway.mp4: 384x640 4 cars, 1 bus, 31.0ms\n",
            "video 1/1 (frame 1641/1824) d:\\HighwayCounter_YOLOv8\\highway.mp4: 384x640 4 cars, 1 bus, 35.1ms\n",
            "video 1/1 (frame 1642/1824) d:\\HighwayCounter_YOLOv8\\highway.mp4: 384x640 4 cars, 1 bus, 16.3ms\n",
            "video 1/1 (frame 1643/1824) d:\\HighwayCounter_YOLOv8\\highway.mp4: 384x640 4 cars, 1 bus, 16.5ms\n",
            "video 1/1 (frame 1644/1824) d:\\HighwayCounter_YOLOv8\\highway.mp4: 384x640 4 cars, 2 buss, 18.1ms\n",
            "video 1/1 (frame 1645/1824) d:\\HighwayCounter_YOLOv8\\highway.mp4: 384x640 4 cars, 1 bus, 22.6ms\n",
            "video 1/1 (frame 1646/1824) d:\\HighwayCounter_YOLOv8\\highway.mp4: 384x640 4 cars, 2 buss, 26.9ms\n",
            "video 1/1 (frame 1647/1824) d:\\HighwayCounter_YOLOv8\\highway.mp4: 384x640 4 cars, 1 bus, 33.3ms\n",
            "video 1/1 (frame 1648/1824) d:\\HighwayCounter_YOLOv8\\highway.mp4: 384x640 4 cars, 1 bus, 20.8ms\n",
            "video 1/1 (frame 1649/1824) d:\\HighwayCounter_YOLOv8\\highway.mp4: 384x640 4 cars, 1 bus, 115.7ms\n",
            "video 1/1 (frame 1650/1824) d:\\HighwayCounter_YOLOv8\\highway.mp4: 384x640 4 cars, 1 bus, 11.7ms\n",
            "video 1/1 (frame 1651/1824) d:\\HighwayCounter_YOLOv8\\highway.mp4: 384x640 4 cars, 1 bus, 30.1ms\n",
            "video 1/1 (frame 1652/1824) d:\\HighwayCounter_YOLOv8\\highway.mp4: 384x640 4 cars, 1 bus, 16.3ms\n",
            "video 1/1 (frame 1653/1824) d:\\HighwayCounter_YOLOv8\\highway.mp4: 384x640 4 cars, 43.2ms\n",
            "video 1/1 (frame 1654/1824) d:\\HighwayCounter_YOLOv8\\highway.mp4: 384x640 4 cars, 60.3ms\n",
            "video 1/1 (frame 1655/1824) d:\\HighwayCounter_YOLOv8\\highway.mp4: 384x640 4 cars, 30.8ms\n",
            "video 1/1 (frame 1656/1824) d:\\HighwayCounter_YOLOv8\\highway.mp4: 384x640 4 cars, 15.6ms\n",
            "video 1/1 (frame 1657/1824) d:\\HighwayCounter_YOLOv8\\highway.mp4: 384x640 4 cars, 26.8ms\n",
            "video 1/1 (frame 1658/1824) d:\\HighwayCounter_YOLOv8\\highway.mp4: 384x640 4 cars, 15.6ms\n",
            "video 1/1 (frame 1659/1824) d:\\HighwayCounter_YOLOv8\\highway.mp4: 384x640 4 cars, 31.2ms\n",
            "video 1/1 (frame 1660/1824) d:\\HighwayCounter_YOLOv8\\highway.mp4: 384x640 4 cars, 31.3ms\n",
            "video 1/1 (frame 1661/1824) d:\\HighwayCounter_YOLOv8\\highway.mp4: 384x640 3 cars, 31.2ms\n",
            "video 1/1 (frame 1662/1824) d:\\HighwayCounter_YOLOv8\\highway.mp4: 384x640 3 cars, 35.3ms\n",
            "video 1/1 (frame 1663/1824) d:\\HighwayCounter_YOLOv8\\highway.mp4: 384x640 3 cars, 39.3ms\n",
            "video 1/1 (frame 1664/1824) d:\\HighwayCounter_YOLOv8\\highway.mp4: 384x640 3 cars, 53.3ms\n",
            "video 1/1 (frame 1665/1824) d:\\HighwayCounter_YOLOv8\\highway.mp4: 384x640 3 cars, 31.2ms\n",
            "video 1/1 (frame 1666/1824) d:\\HighwayCounter_YOLOv8\\highway.mp4: 384x640 3 cars, 78.1ms\n",
            "video 1/1 (frame 1667/1824) d:\\HighwayCounter_YOLOv8\\highway.mp4: 384x640 3 cars, 22.0ms\n",
            "video 1/1 (frame 1668/1824) d:\\HighwayCounter_YOLOv8\\highway.mp4: 384x640 3 cars, 36.7ms\n",
            "video 1/1 (frame 1669/1824) d:\\HighwayCounter_YOLOv8\\highway.mp4: 384x640 3 cars, 23.5ms\n",
            "video 1/1 (frame 1670/1824) d:\\HighwayCounter_YOLOv8\\highway.mp4: 384x640 3 cars, 30.5ms\n",
            "video 1/1 (frame 1671/1824) d:\\HighwayCounter_YOLOv8\\highway.mp4: 384x640 3 cars, 31.2ms\n",
            "video 1/1 (frame 1672/1824) d:\\HighwayCounter_YOLOv8\\highway.mp4: 384x640 3 cars, 15.6ms\n",
            "video 1/1 (frame 1673/1824) d:\\HighwayCounter_YOLOv8\\highway.mp4: 384x640 3 cars, 21.8ms\n",
            "video 1/1 (frame 1674/1824) d:\\HighwayCounter_YOLOv8\\highway.mp4: 384x640 3 cars, 23.2ms\n",
            "video 1/1 (frame 1675/1824) d:\\HighwayCounter_YOLOv8\\highway.mp4: 384x640 3 cars, 34.2ms\n",
            "video 1/1 (frame 1676/1824) d:\\HighwayCounter_YOLOv8\\highway.mp4: 384x640 3 cars, 26.4ms\n",
            "video 1/1 (frame 1677/1824) d:\\HighwayCounter_YOLOv8\\highway.mp4: 384x640 3 cars, 15.6ms\n",
            "video 1/1 (frame 1678/1824) d:\\HighwayCounter_YOLOv8\\highway.mp4: 384x640 3 cars, 24.0ms\n",
            "video 1/1 (frame 1679/1824) d:\\HighwayCounter_YOLOv8\\highway.mp4: 384x640 3 cars, 15.6ms\n",
            "video 1/1 (frame 1680/1824) d:\\HighwayCounter_YOLOv8\\highway.mp4: 384x640 3 cars, 46.9ms\n",
            "video 1/1 (frame 1681/1824) d:\\HighwayCounter_YOLOv8\\highway.mp4: 384x640 3 cars, 15.6ms\n",
            "video 1/1 (frame 1682/1824) d:\\HighwayCounter_YOLOv8\\highway.mp4: 384x640 3 cars, 15.6ms\n",
            "video 1/1 (frame 1683/1824) d:\\HighwayCounter_YOLOv8\\highway.mp4: 384x640 3 cars, 15.6ms\n",
            "video 1/1 (frame 1684/1824) d:\\HighwayCounter_YOLOv8\\highway.mp4: 384x640 3 cars, 31.2ms\n",
            "video 1/1 (frame 1685/1824) d:\\HighwayCounter_YOLOv8\\highway.mp4: 384x640 3 cars, 31.2ms\n",
            "video 1/1 (frame 1686/1824) d:\\HighwayCounter_YOLOv8\\highway.mp4: 384x640 3 cars, 31.3ms\n",
            "video 1/1 (frame 1687/1824) d:\\HighwayCounter_YOLOv8\\highway.mp4: 384x640 2 cars, 31.2ms\n",
            "video 1/1 (frame 1688/1824) d:\\HighwayCounter_YOLOv8\\highway.mp4: 384x640 2 cars, 15.6ms\n",
            "video 1/1 (frame 1689/1824) d:\\HighwayCounter_YOLOv8\\highway.mp4: 384x640 2 cars, 31.9ms\n",
            "video 1/1 (frame 1690/1824) d:\\HighwayCounter_YOLOv8\\highway.mp4: 384x640 2 cars, 15.6ms\n",
            "video 1/1 (frame 1691/1824) d:\\HighwayCounter_YOLOv8\\highway.mp4: 384x640 2 cars, 15.6ms\n",
            "video 1/1 (frame 1692/1824) d:\\HighwayCounter_YOLOv8\\highway.mp4: 384x640 2 cars, 15.6ms\n",
            "video 1/1 (frame 1693/1824) d:\\HighwayCounter_YOLOv8\\highway.mp4: 384x640 2 cars, 31.2ms\n",
            "video 1/1 (frame 1694/1824) d:\\HighwayCounter_YOLOv8\\highway.mp4: 384x640 2 cars, 31.3ms\n",
            "video 1/1 (frame 1695/1824) d:\\HighwayCounter_YOLOv8\\highway.mp4: 384x640 2 cars, 31.2ms\n",
            "video 1/1 (frame 1696/1824) d:\\HighwayCounter_YOLOv8\\highway.mp4: 384x640 2 cars, 31.2ms\n",
            "video 1/1 (frame 1697/1824) d:\\HighwayCounter_YOLOv8\\highway.mp4: 384x640 2 cars, 31.3ms\n",
            "video 1/1 (frame 1698/1824) d:\\HighwayCounter_YOLOv8\\highway.mp4: 384x640 2 cars, 13.5ms\n",
            "video 1/1 (frame 1699/1824) d:\\HighwayCounter_YOLOv8\\highway.mp4: 384x640 2 cars, 31.3ms\n",
            "video 1/1 (frame 1700/1824) d:\\HighwayCounter_YOLOv8\\highway.mp4: 384x640 2 cars, 31.3ms\n",
            "video 1/1 (frame 1701/1824) d:\\HighwayCounter_YOLOv8\\highway.mp4: 384x640 2 cars, 17.7ms\n",
            "video 1/1 (frame 1702/1824) d:\\HighwayCounter_YOLOv8\\highway.mp4: 384x640 2 cars, 15.6ms\n",
            "video 1/1 (frame 1703/1824) d:\\HighwayCounter_YOLOv8\\highway.mp4: 384x640 2 cars, 31.3ms\n",
            "video 1/1 (frame 1704/1824) d:\\HighwayCounter_YOLOv8\\highway.mp4: 384x640 2 cars, 18.7ms\n",
            "video 1/1 (frame 1705/1824) d:\\HighwayCounter_YOLOv8\\highway.mp4: 384x640 2 cars, 34.2ms\n",
            "video 1/1 (frame 1706/1824) d:\\HighwayCounter_YOLOv8\\highway.mp4: 384x640 2 cars, 21.9ms\n",
            "video 1/1 (frame 1707/1824) d:\\HighwayCounter_YOLOv8\\highway.mp4: 384x640 2 cars, 31.3ms\n",
            "video 1/1 (frame 1708/1824) d:\\HighwayCounter_YOLOv8\\highway.mp4: 384x640 2 cars, 36.9ms\n",
            "video 1/1 (frame 1709/1824) d:\\HighwayCounter_YOLOv8\\highway.mp4: 384x640 2 cars, 31.2ms\n",
            "video 1/1 (frame 1710/1824) d:\\HighwayCounter_YOLOv8\\highway.mp4: 384x640 2 cars, 36.5ms\n",
            "video 1/1 (frame 1711/1824) d:\\HighwayCounter_YOLOv8\\highway.mp4: 384x640 2 cars, 33.8ms\n",
            "video 1/1 (frame 1712/1824) d:\\HighwayCounter_YOLOv8\\highway.mp4: 384x640 2 cars, 31.3ms\n",
            "video 1/1 (frame 1713/1824) d:\\HighwayCounter_YOLOv8\\highway.mp4: 384x640 2 cars, 31.3ms\n",
            "video 1/1 (frame 1714/1824) d:\\HighwayCounter_YOLOv8\\highway.mp4: 384x640 2 cars, 31.3ms\n",
            "video 1/1 (frame 1715/1824) d:\\HighwayCounter_YOLOv8\\highway.mp4: 384x640 2 cars, 15.6ms\n",
            "video 1/1 (frame 1716/1824) d:\\HighwayCounter_YOLOv8\\highway.mp4: 384x640 2 cars, 31.3ms\n",
            "video 1/1 (frame 1717/1824) d:\\HighwayCounter_YOLOv8\\highway.mp4: 384x640 2 cars, 31.3ms\n",
            "video 1/1 (frame 1718/1824) d:\\HighwayCounter_YOLOv8\\highway.mp4: 384x640 2 cars, 15.6ms\n",
            "video 1/1 (frame 1719/1824) d:\\HighwayCounter_YOLOv8\\highway.mp4: 384x640 2 cars, 15.6ms\n",
            "video 1/1 (frame 1720/1824) d:\\HighwayCounter_YOLOv8\\highway.mp4: 384x640 2 cars, 16.0ms\n",
            "video 1/1 (frame 1721/1824) d:\\HighwayCounter_YOLOv8\\highway.mp4: 384x640 2 cars, 15.6ms\n",
            "video 1/1 (frame 1722/1824) d:\\HighwayCounter_YOLOv8\\highway.mp4: 384x640 2 cars, 15.6ms\n",
            "video 1/1 (frame 1723/1824) d:\\HighwayCounter_YOLOv8\\highway.mp4: 384x640 2 cars, 15.6ms\n",
            "video 1/1 (frame 1724/1824) d:\\HighwayCounter_YOLOv8\\highway.mp4: 384x640 2 cars, 31.2ms\n",
            "video 1/1 (frame 1725/1824) d:\\HighwayCounter_YOLOv8\\highway.mp4: 384x640 3 cars, 15.6ms\n",
            "video 1/1 (frame 1726/1824) d:\\HighwayCounter_YOLOv8\\highway.mp4: 384x640 3 cars, 15.6ms\n",
            "video 1/1 (frame 1727/1824) d:\\HighwayCounter_YOLOv8\\highway.mp4: 384x640 3 cars, 15.6ms\n",
            "video 1/1 (frame 1728/1824) d:\\HighwayCounter_YOLOv8\\highway.mp4: 384x640 3 cars, 31.3ms\n",
            "video 1/1 (frame 1729/1824) d:\\HighwayCounter_YOLOv8\\highway.mp4: 384x640 3 cars, 33.1ms\n",
            "video 1/1 (frame 1730/1824) d:\\HighwayCounter_YOLOv8\\highway.mp4: 384x640 3 cars, 35.1ms\n",
            "video 1/1 (frame 1731/1824) d:\\HighwayCounter_YOLOv8\\highway.mp4: 384x640 3 cars, 16.7ms\n",
            "video 1/1 (frame 1732/1824) d:\\HighwayCounter_YOLOv8\\highway.mp4: 384x640 3 cars, 41.5ms\n",
            "video 1/1 (frame 1733/1824) d:\\HighwayCounter_YOLOv8\\highway.mp4: 384x640 3 cars, 15.7ms\n",
            "video 1/1 (frame 1734/1824) d:\\HighwayCounter_YOLOv8\\highway.mp4: 384x640 3 cars, 33.2ms\n",
            "video 1/1 (frame 1735/1824) d:\\HighwayCounter_YOLOv8\\highway.mp4: 384x640 3 cars, 11.8ms\n",
            "video 1/1 (frame 1736/1824) d:\\HighwayCounter_YOLOv8\\highway.mp4: 384x640 3 cars, 21.1ms\n",
            "video 1/1 (frame 1737/1824) d:\\HighwayCounter_YOLOv8\\highway.mp4: 384x640 3 cars, 21.1ms\n",
            "video 1/1 (frame 1738/1824) d:\\HighwayCounter_YOLOv8\\highway.mp4: 384x640 3 cars, 33.1ms\n",
            "video 1/1 (frame 1739/1824) d:\\HighwayCounter_YOLOv8\\highway.mp4: 384x640 3 cars, 21.8ms\n",
            "video 1/1 (frame 1740/1824) d:\\HighwayCounter_YOLOv8\\highway.mp4: 384x640 3 cars, 17.7ms\n",
            "video 1/1 (frame 1741/1824) d:\\HighwayCounter_YOLOv8\\highway.mp4: 384x640 3 cars, 20.9ms\n",
            "video 1/1 (frame 1742/1824) d:\\HighwayCounter_YOLOv8\\highway.mp4: 384x640 3 cars, 20.9ms\n",
            "video 1/1 (frame 1743/1824) d:\\HighwayCounter_YOLOv8\\highway.mp4: 384x640 3 cars, 37.1ms\n",
            "video 1/1 (frame 1744/1824) d:\\HighwayCounter_YOLOv8\\highway.mp4: 384x640 3 cars, 21.1ms\n",
            "video 1/1 (frame 1745/1824) d:\\HighwayCounter_YOLOv8\\highway.mp4: 384x640 3 cars, 21.5ms\n",
            "video 1/1 (frame 1746/1824) d:\\HighwayCounter_YOLOv8\\highway.mp4: 384x640 3 cars, 38.2ms\n",
            "video 1/1 (frame 1747/1824) d:\\HighwayCounter_YOLOv8\\highway.mp4: 384x640 3 cars, 33.0ms\n",
            "video 1/1 (frame 1748/1824) d:\\HighwayCounter_YOLOv8\\highway.mp4: 384x640 3 cars, 15.5ms\n",
            "video 1/1 (frame 1749/1824) d:\\HighwayCounter_YOLOv8\\highway.mp4: 384x640 3 cars, 21.0ms\n",
            "video 1/1 (frame 1750/1824) d:\\HighwayCounter_YOLOv8\\highway.mp4: 384x640 3 cars, 33.8ms\n",
            "video 1/1 (frame 1751/1824) d:\\HighwayCounter_YOLOv8\\highway.mp4: 384x640 3 cars, 33.1ms\n",
            "video 1/1 (frame 1752/1824) d:\\HighwayCounter_YOLOv8\\highway.mp4: 384x640 3 cars, 15.5ms\n",
            "video 1/1 (frame 1753/1824) d:\\HighwayCounter_YOLOv8\\highway.mp4: 384x640 3 cars, 16.7ms\n",
            "video 1/1 (frame 1754/1824) d:\\HighwayCounter_YOLOv8\\highway.mp4: 384x640 3 cars, 33.5ms\n",
            "video 1/1 (frame 1755/1824) d:\\HighwayCounter_YOLOv8\\highway.mp4: 384x640 3 cars, 28.3ms\n",
            "video 1/1 (frame 1756/1824) d:\\HighwayCounter_YOLOv8\\highway.mp4: 384x640 3 cars, 14.7ms\n",
            "video 1/1 (frame 1757/1824) d:\\HighwayCounter_YOLOv8\\highway.mp4: 384x640 3 cars, 27.6ms\n",
            "video 1/1 (frame 1758/1824) d:\\HighwayCounter_YOLOv8\\highway.mp4: 384x640 3 cars, 15.1ms\n",
            "video 1/1 (frame 1759/1824) d:\\HighwayCounter_YOLOv8\\highway.mp4: 384x640 4 cars, 16.5ms\n",
            "video 1/1 (frame 1760/1824) d:\\HighwayCounter_YOLOv8\\highway.mp4: 384x640 4 cars, 1 bus, 16.7ms\n",
            "video 1/1 (frame 1761/1824) d:\\HighwayCounter_YOLOv8\\highway.mp4: 384x640 3 cars, 1 bus, 16.6ms\n",
            "video 1/1 (frame 1762/1824) d:\\HighwayCounter_YOLOv8\\highway.mp4: 384x640 3 cars, 1 bus, 26.9ms\n",
            "video 1/1 (frame 1763/1824) d:\\HighwayCounter_YOLOv8\\highway.mp4: 384x640 3 cars, 1 bus, 16.5ms\n",
            "video 1/1 (frame 1764/1824) d:\\HighwayCounter_YOLOv8\\highway.mp4: 384x640 3 cars, 1 bus, 16.5ms\n",
            "video 1/1 (frame 1765/1824) d:\\HighwayCounter_YOLOv8\\highway.mp4: 384x640 3 cars, 1 bus, 16.5ms\n",
            "video 1/1 (frame 1766/1824) d:\\HighwayCounter_YOLOv8\\highway.mp4: 384x640 3 cars, 1 bus, 21.8ms\n",
            "video 1/1 (frame 1767/1824) d:\\HighwayCounter_YOLOv8\\highway.mp4: 384x640 3 cars, 1 bus, 33.0ms\n",
            "video 1/1 (frame 1768/1824) d:\\HighwayCounter_YOLOv8\\highway.mp4: 384x640 3 cars, 1 bus, 33.3ms\n",
            "video 1/1 (frame 1769/1824) d:\\HighwayCounter_YOLOv8\\highway.mp4: 384x640 3 cars, 1 bus, 33.6ms\n",
            "video 1/1 (frame 1770/1824) d:\\HighwayCounter_YOLOv8\\highway.mp4: 384x640 3 cars, 1 bus, 33.6ms\n",
            "video 1/1 (frame 1771/1824) d:\\HighwayCounter_YOLOv8\\highway.mp4: 384x640 3 cars, 1 bus, 28.7ms\n",
            "video 1/1 (frame 1772/1824) d:\\HighwayCounter_YOLOv8\\highway.mp4: 384x640 3 cars, 1 bus, 41.6ms\n",
            "video 1/1 (frame 1773/1824) d:\\HighwayCounter_YOLOv8\\highway.mp4: 384x640 3 cars, 1 bus, 16.6ms\n",
            "video 1/1 (frame 1774/1824) d:\\HighwayCounter_YOLOv8\\highway.mp4: 384x640 3 cars, 1 bus, 33.1ms\n",
            "video 1/1 (frame 1775/1824) d:\\HighwayCounter_YOLOv8\\highway.mp4: 384x640 2 cars, 1 bus, 35.0ms\n",
            "video 1/1 (frame 1776/1824) d:\\HighwayCounter_YOLOv8\\highway.mp4: 384x640 2 cars, 1 bus, 35.0ms\n",
            "video 1/1 (frame 1777/1824) d:\\HighwayCounter_YOLOv8\\highway.mp4: 384x640 2 cars, 1 bus, 23.0ms\n",
            "video 1/1 (frame 1778/1824) d:\\HighwayCounter_YOLOv8\\highway.mp4: 384x640 2 cars, 1 bus, 35.0ms\n",
            "video 1/1 (frame 1779/1824) d:\\HighwayCounter_YOLOv8\\highway.mp4: 384x640 2 cars, 1 bus, 34.9ms\n",
            "video 1/1 (frame 1780/1824) d:\\HighwayCounter_YOLOv8\\highway.mp4: 384x640 2 cars, 1 bus, 16.6ms\n",
            "video 1/1 (frame 1781/1824) d:\\HighwayCounter_YOLOv8\\highway.mp4: 384x640 2 cars, 1 bus, 16.5ms\n",
            "video 1/1 (frame 1782/1824) d:\\HighwayCounter_YOLOv8\\highway.mp4: 384x640 2 cars, 1 bus, 16.5ms\n",
            "video 1/1 (frame 1783/1824) d:\\HighwayCounter_YOLOv8\\highway.mp4: 384x640 2 cars, 1 bus, 25.8ms\n",
            "video 1/1 (frame 1784/1824) d:\\HighwayCounter_YOLOv8\\highway.mp4: 384x640 2 cars, 1 bus, 16.5ms\n",
            "video 1/1 (frame 1785/1824) d:\\HighwayCounter_YOLOv8\\highway.mp4: 384x640 2 cars, 1 bus, 17.0ms\n",
            "video 1/1 (frame 1786/1824) d:\\HighwayCounter_YOLOv8\\highway.mp4: 384x640 2 cars, 1 bus, 16.4ms\n",
            "video 1/1 (frame 1787/1824) d:\\HighwayCounter_YOLOv8\\highway.mp4: 384x640 2 cars, 1 bus, 33.2ms\n",
            "video 1/1 (frame 1788/1824) d:\\HighwayCounter_YOLOv8\\highway.mp4: 384x640 3 cars, 1 bus, 34.5ms\n",
            "video 1/1 (frame 1789/1824) d:\\HighwayCounter_YOLOv8\\highway.mp4: 384x640 3 cars, 1 bus, 28.5ms\n",
            "video 1/1 (frame 1790/1824) d:\\HighwayCounter_YOLOv8\\highway.mp4: 384x640 3 cars, 1 bus, 48.6ms\n",
            "video 1/1 (frame 1791/1824) d:\\HighwayCounter_YOLOv8\\highway.mp4: 384x640 3 cars, 1 bus, 17.7ms\n",
            "video 1/1 (frame 1792/1824) d:\\HighwayCounter_YOLOv8\\highway.mp4: 384x640 3 cars, 1 bus, 28.0ms\n",
            "video 1/1 (frame 1793/1824) d:\\HighwayCounter_YOLOv8\\highway.mp4: 384x640 3 cars, 1 bus, 12.1ms\n",
            "video 1/1 (frame 1794/1824) d:\\HighwayCounter_YOLOv8\\highway.mp4: 384x640 3 cars, 1 bus, 17.2ms\n",
            "video 1/1 (frame 1795/1824) d:\\HighwayCounter_YOLOv8\\highway.mp4: 384x640 3 cars, 1 bus, 16.6ms\n",
            "video 1/1 (frame 1796/1824) d:\\HighwayCounter_YOLOv8\\highway.mp4: 384x640 3 cars, 1 bus, 25.0ms\n",
            "video 1/1 (frame 1797/1824) d:\\HighwayCounter_YOLOv8\\highway.mp4: 384x640 3 cars, 1 bus, 33.1ms\n",
            "video 1/1 (frame 1798/1824) d:\\HighwayCounter_YOLOv8\\highway.mp4: 384x640 3 cars, 1 bus, 16.5ms\n",
            "video 1/1 (frame 1799/1824) d:\\HighwayCounter_YOLOv8\\highway.mp4: 384x640 3 cars, 1 bus, 17.1ms\n",
            "video 1/1 (frame 1800/1824) d:\\HighwayCounter_YOLOv8\\highway.mp4: 384x640 2 cars, 1 bus, 16.3ms\n",
            "video 1/1 (frame 1801/1824) d:\\HighwayCounter_YOLOv8\\highway.mp4: 384x640 2 cars, 1 bus, 33.1ms\n",
            "video 1/1 (frame 1802/1824) d:\\HighwayCounter_YOLOv8\\highway.mp4: 384x640 2 cars, 1 bus, 21.1ms\n",
            "video 1/1 (frame 1803/1824) d:\\HighwayCounter_YOLOv8\\highway.mp4: 384x640 3 cars, 1 bus, 33.1ms\n",
            "video 1/1 (frame 1804/1824) d:\\HighwayCounter_YOLOv8\\highway.mp4: 384x640 3 cars, 1 bus, 21.5ms\n",
            "video 1/1 (frame 1805/1824) d:\\HighwayCounter_YOLOv8\\highway.mp4: 384x640 3 cars, 1 bus, 28.1ms\n",
            "video 1/1 (frame 1806/1824) d:\\HighwayCounter_YOLOv8\\highway.mp4: 384x640 2 cars, 1 bus, 28.3ms\n",
            "video 1/1 (frame 1807/1824) d:\\HighwayCounter_YOLOv8\\highway.mp4: 384x640 2 cars, 1 bus, 33.1ms\n",
            "video 1/1 (frame 1808/1824) d:\\HighwayCounter_YOLOv8\\highway.mp4: 384x640 2 cars, 1 bus, 1 truck, 38.6ms\n",
            "video 1/1 (frame 1809/1824) d:\\HighwayCounter_YOLOv8\\highway.mp4: 384x640 2 cars, 1 bus, 1 truck, 16.5ms\n",
            "video 1/1 (frame 1810/1824) d:\\HighwayCounter_YOLOv8\\highway.mp4: 384x640 2 cars, 1 bus, 1 truck, 16.9ms\n",
            "video 1/1 (frame 1811/1824) d:\\HighwayCounter_YOLOv8\\highway.mp4: 384x640 2 cars, 1 bus, 1 truck, 33.1ms\n",
            "video 1/1 (frame 1812/1824) d:\\HighwayCounter_YOLOv8\\highway.mp4: 384x640 2 cars, 1 bus, 1 truck, 35.1ms\n",
            "video 1/1 (frame 1813/1824) d:\\HighwayCounter_YOLOv8\\highway.mp4: 384x640 2 cars, 1 bus, 1 truck, 36.6ms\n",
            "video 1/1 (frame 1814/1824) d:\\HighwayCounter_YOLOv8\\highway.mp4: 384x640 2 cars, 1 bus, 1 truck, 16.8ms\n",
            "video 1/1 (frame 1815/1824) d:\\HighwayCounter_YOLOv8\\highway.mp4: 384x640 2 cars, 1 bus, 1 truck, 33.5ms\n",
            "video 1/1 (frame 1816/1824) d:\\HighwayCounter_YOLOv8\\highway.mp4: 384x640 2 cars, 1 bus, 1 truck, 16.3ms\n",
            "video 1/1 (frame 1817/1824) d:\\HighwayCounter_YOLOv8\\highway.mp4: 384x640 2 cars, 1 bus, 1 truck, 16.6ms\n",
            "video 1/1 (frame 1818/1824) d:\\HighwayCounter_YOLOv8\\highway.mp4: 384x640 2 cars, 1 bus, 1 truck, 27.9ms\n",
            "video 1/1 (frame 1819/1824) d:\\HighwayCounter_YOLOv8\\highway.mp4: 384x640 2 cars, 1 bus, 1 truck, 16.6ms\n",
            "video 1/1 (frame 1820/1824) d:\\HighwayCounter_YOLOv8\\highway.mp4: 384x640 2 cars, 1 bus, 1 truck, 33.0ms\n",
            "video 1/1 (frame 1821/1824) d:\\HighwayCounter_YOLOv8\\highway.mp4: 384x640 3 cars, 1 bus, 1 truck, 14.6ms\n",
            "video 1/1 (frame 1822/1824) d:\\HighwayCounter_YOLOv8\\highway.mp4: 384x640 3 cars, 1 bus, 1 truck, 16.6ms\n",
            "video 1/1 (frame 1823/1824) d:\\HighwayCounter_YOLOv8\\highway.mp4: 384x640 3 cars, 1 bus, 1 truck, 29.6ms\n",
            "video 1/1 (frame 1824/1824) d:\\HighwayCounter_YOLOv8\\highway.mp4: 384x640 3 cars, 1 bus, 1 truck, 16.5ms\n",
            "Speed: 7.1ms preprocess, 23.9ms inference, 7.4ms postprocess per image at shape (1, 3, 384, 640)\n",
            "Results saved to \u001b[1mruns\\detect\\predict\u001b[0m\n",
            "💡 Learn more at https://docs.ultralytics.com/modes/predict\n"
          ]
        }
      ],
      "source": [
        "!yolo predict model='./runs/detect/train/weights/best.pt' source='highway.mp4' device=0"
      ]
    },
    {
      "cell_type": "markdown",
      "metadata": {
        "id": "nPZZeNrLCQG6"
      },
      "source": [
        "# 4. Export\n",
        "\n",
        "Export a YOLOv8 model to any supported format below with the `format` argument, i.e. `format=onnx`. See [YOLOv8 Export Docs](https://docs.ultralytics.com/modes/export/) for more information.\n",
        "\n",
        "- 💡 ProTip: Export to [ONNX](https://docs.ultralytics.com/integrations/onnx/) or [OpenVINO](https://docs.ultralytics.com/integrations/openvino/) for up to 3x CPU speedup.  \n",
        "- 💡 ProTip: Export to [TensorRT](https://docs.ultralytics.com/integrations/tensorrt/) for up to 5x GPU speedup.\n",
        "\n",
        "| Format                                                                   | `format` Argument | Model                     | Metadata | Arguments                                                            |\n",
        "|--------------------------------------------------------------------------|-------------------|---------------------------|----------|----------------------------------------------------------------------|\n",
        "| [PyTorch](https://pytorch.org/)                                          | -                 | `yolov8n.pt`              | ✅        | -                                                                    |\n",
        "| [TorchScript](https://docs.ultralytics.com/integrations/torchscript)     | `torchscript`     | `yolov8n.torchscript`     | ✅        | `imgsz`, `optimize`, `batch`                                         |\n",
        "| [ONNX](https://docs.ultralytics.com/integrations/onnx)                   | `onnx`            | `yolov8n.onnx`            | ✅        | `imgsz`, `half`, `dynamic`, `simplify`, `opset`, `batch`             |\n",
        "| [OpenVINO](https://docs.ultralytics.com/integrations/openvino)           | `openvino`        | `yolov8n_openvino_model/` | ✅        | `imgsz`, `half`, `int8`, `batch`                                     |\n",
        "| [TensorRT](https://docs.ultralytics.com/integrations/tensorrt)           | `engine`          | `yolov8n.engine`          | ✅        | `imgsz`, `half`, `dynamic`, `simplify`, `workspace`, `int8`, `batch` |\n",
        "| [CoreML](https://docs.ultralytics.com/integrations/coreml)               | `coreml`          | `yolov8n.mlpackage`       | ✅        | `imgsz`, `half`, `int8`, `nms`, `batch`                              |\n",
        "| [TF SavedModel](https://docs.ultralytics.com/integrations/tf-savedmodel) | `saved_model`     | `yolov8n_saved_model/`    | ✅        | `imgsz`, `keras`, `int8`, `batch`                                    |\n",
        "| [TF GraphDef](https://docs.ultralytics.com/integrations/tf-graphdef)     | `pb`              | `yolov8n.pb`              | ❌        | `imgsz`, `batch`                                                     |\n",
        "| [TF Lite](https://docs.ultralytics.com/integrations/tflite)              | `tflite`          | `yolov8n.tflite`          | ✅        | `imgsz`, `half`, `int8`, `batch`                                     |\n",
        "| [TF Edge TPU](https://docs.ultralytics.com/integrations/edge-tpu)        | `edgetpu`         | `yolov8n_edgetpu.tflite`  | ✅        | `imgsz`, `batch`                                                     |\n",
        "| [TF.js](https://docs.ultralytics.com/integrations/tfjs)                  | `tfjs`            | `yolov8n_web_model/`      | ✅        | `imgsz`, `half`, `int8`, `batch`                                     |\n",
        "| [PaddlePaddle](https://docs.ultralytics.com/integrations/paddlepaddle)   | `paddle`          | `yolov8n_paddle_model/`   | ✅        | `imgsz`, `batch`                                                     |\n",
        "| [NCNN](https://docs.ultralytics.com/integrations/ncnn)                   | `ncnn`            | `yolov8n_ncnn_model/`     | ✅        | `imgsz`, `half`, `batch`                                             |"
      ]
    },
    {
      "cell_type": "code",
      "execution_count": 6,
      "metadata": {
        "colab": {
          "base_uri": "https://localhost:8080/"
        },
        "id": "CYIjW4igCjqD",
        "outputId": "947e65cc-79c8-4713-bfd4-3139903ac05a"
      },
      "outputs": [
        {
          "name": "stdout",
          "output_type": "stream",
          "text": [
            "Ultralytics YOLOv8.2.78 🚀 Python-3.8.10 torch-2.4.0+cu121 CPU (Intel Core(TM) i5-2500 3.30GHz)\n",
            "Model summary (fused): 168 layers, 3,007,208 parameters, 0 gradients, 8.1 GFLOPs\n",
            "\n",
            "\u001b[34m\u001b[1mPyTorch:\u001b[0m starting from 'runs\\detect\\train2\\weights\\best.pt' with input shape (1, 3, 640, 640) BCHW and output shape(s) (1, 12, 8400) (5.9 MB)\n",
            "\n",
            "\u001b[34m\u001b[1mONNX:\u001b[0m starting export with onnx 1.16.2 opset 12...\n",
            "\u001b[34m\u001b[1mONNX:\u001b[0m slimming with onnxslim 0.1.32...\n",
            "\u001b[34m\u001b[1mONNX:\u001b[0m export success ✅ 3.4s, saved as 'runs\\detect\\train2\\weights\\best.onnx' (11.7 MB)\n",
            "\n",
            "Export complete (7.6s)\n",
            "Results saved to \u001b[1mD:\\HighwayCounter_YOLOv8\\runs\\detect\\train2\\weights\u001b[0m\n",
            "Predict:         yolo predict task=detect model=runs\\detect\\train2\\weights\\best.onnx imgsz=640  \n",
            "Validate:        yolo val task=detect model=runs\\detect\\train2\\weights\\best.onnx imgsz=640 data=./datasets/data.yaml  \n",
            "Visualize:       https://netron.app\n",
            "💡 Learn more at https://docs.ultralytics.com/modes/export\n"
          ]
        }
      ],
      "source": [
        "!yolo export model='./runs/detect/train/weights/best.pt' imgsz=640,640 format=onnx opset=12 simplify=True dynamic=False"
      ]
    }
  ],
  "metadata": {
    "accelerator": "GPU",
    "colab": {
      "name": "YOLOv8 Tutorial",
      "provenance": [],
      "toc_visible": true
    },
    "kernelspec": {
      "display_name": "Python 3",
      "name": "python3"
    },
    "language_info": {
      "codemirror_mode": {
        "name": "ipython",
        "version": 3
      },
      "file_extension": ".py",
      "mimetype": "text/x-python",
      "name": "python",
      "nbconvert_exporter": "python",
      "pygments_lexer": "ipython3",
      "version": "3.8.10"
    }
  },
  "nbformat": 4,
  "nbformat_minor": 0
}
